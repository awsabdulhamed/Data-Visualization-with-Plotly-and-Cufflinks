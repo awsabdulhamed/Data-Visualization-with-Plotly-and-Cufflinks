{
 "cells": [
  {
   "cell_type": "markdown",
   "metadata": {},
   "source": [
    "\n",
    "# Plotly and Cufflinks"
   ]
  },
  {
   "cell_type": "markdown",
   "metadata": {},
   "source": [
    "Plotly is a library that allows you to create interactive plots that you can use in dashboards or websites (you can save them as html files or static images).\n",
    "\n",
    "## Installation\n",
    "\n",
    "In order for this all to work, you'll need to install plotly and cufflinks to call plots directly off of a pandas dataframe. These libraries are not currently available through **conda** but are available through **pip**. Install the libraries at your command line/terminal using:\n",
    "\n",
    "    pip install plotly\n",
    "    pip install cufflinks\n",
    "\n",
    "** NOTE: Make sure you only have one installation of Python on your computer when you do this, otherwise the installation may not work. **\n",
    "\n",
    "## Imports and Set-up"
   ]
  },
  {
   "cell_type": "code",
   "execution_count": 1,
   "metadata": {
    "collapsed": true
   },
   "outputs": [],
   "source": [
    "import pandas as pd\n",
    "import numpy as np\n",
    "%matplotlib inline"
   ]
  },
  {
   "cell_type": "code",
   "execution_count": 2,
   "metadata": {
    "collapsed": false
   },
   "outputs": [
    {
     "name": "stdout",
     "output_type": "stream",
     "text": [
      "5.9.0\n"
     ]
    }
   ],
   "source": [
    "from plotly import __version__\n",
    "from plotly.offline import download_plotlyjs, init_notebook_mode, plot, iplot\n",
    "\n",
    "print(__version__) # requires version >= 1.9.0"
   ]
  },
  {
   "cell_type": "code",
   "execution_count": 3,
   "metadata": {
    "collapsed": true
   },
   "outputs": [],
   "source": [
    "import cufflinks as cf"
   ]
  },
  {
   "cell_type": "code",
   "execution_count": 4,
   "metadata": {
    "collapsed": false
   },
   "outputs": [
    {
     "data": {
      "text/html": [
       "        <script type=\"text/javascript\">\n",
       "        window.PlotlyConfig = {MathJaxConfig: 'local'};\n",
       "        if (window.MathJax && window.MathJax.Hub && window.MathJax.Hub.Config) {window.MathJax.Hub.Config({SVG: {font: \"STIX-Web\"}});}\n",
       "        if (typeof require !== 'undefined') {\n",
       "        require.undef(\"plotly\");\n",
       "        requirejs.config({\n",
       "            paths: {\n",
       "                'plotly': ['https://cdn.plot.ly/plotly-2.12.1.min']\n",
       "            }\n",
       "        });\n",
       "        require(['plotly'], function(Plotly) {\n",
       "            window._Plotly = Plotly;\n",
       "        });\n",
       "        }\n",
       "        </script>\n",
       "        "
      ]
     },
     "metadata": {},
     "output_type": "display_data"
    }
   ],
   "source": [
    "# For Notebooks\n",
    "init_notebook_mode(connected=True)"
   ]
  },
  {
   "cell_type": "code",
   "execution_count": 5,
   "metadata": {
    "collapsed": false
   },
   "outputs": [
    {
     "data": {
      "text/html": [
       "        <script type=\"text/javascript\">\n",
       "        window.PlotlyConfig = {MathJaxConfig: 'local'};\n",
       "        if (window.MathJax && window.MathJax.Hub && window.MathJax.Hub.Config) {window.MathJax.Hub.Config({SVG: {font: \"STIX-Web\"}});}\n",
       "        if (typeof require !== 'undefined') {\n",
       "        require.undef(\"plotly\");\n",
       "        requirejs.config({\n",
       "            paths: {\n",
       "                'plotly': ['https://cdn.plot.ly/plotly-2.12.1.min']\n",
       "            }\n",
       "        });\n",
       "        require(['plotly'], function(Plotly) {\n",
       "            window._Plotly = Plotly;\n",
       "        });\n",
       "        }\n",
       "        </script>\n",
       "        "
      ]
     },
     "metadata": {},
     "output_type": "display_data"
    }
   ],
   "source": [
    "# For offline use\n",
    "cf.go_offline()"
   ]
  },
  {
   "cell_type": "markdown",
   "metadata": {},
   "source": [
    "### Fake Data"
   ]
  },
  {
   "cell_type": "code",
   "execution_count": 6,
   "metadata": {
    "collapsed": false
   },
   "outputs": [],
   "source": [
    "df = pd.DataFrame(np.random.randn(100,4),columns='A B C D'.split())"
   ]
  },
  {
   "cell_type": "code",
   "execution_count": 7,
   "metadata": {
    "collapsed": false
   },
   "outputs": [
    {
     "data": {
      "text/html": [
       "<div>\n",
       "<style scoped>\n",
       "    .dataframe tbody tr th:only-of-type {\n",
       "        vertical-align: middle;\n",
       "    }\n",
       "\n",
       "    .dataframe tbody tr th {\n",
       "        vertical-align: top;\n",
       "    }\n",
       "\n",
       "    .dataframe thead th {\n",
       "        text-align: right;\n",
       "    }\n",
       "</style>\n",
       "<table border=\"1\" class=\"dataframe\">\n",
       "  <thead>\n",
       "    <tr style=\"text-align: right;\">\n",
       "      <th></th>\n",
       "      <th>A</th>\n",
       "      <th>B</th>\n",
       "      <th>C</th>\n",
       "      <th>D</th>\n",
       "    </tr>\n",
       "  </thead>\n",
       "  <tbody>\n",
       "    <tr>\n",
       "      <th>0</th>\n",
       "      <td>0.911474</td>\n",
       "      <td>0.235418</td>\n",
       "      <td>0.331594</td>\n",
       "      <td>0.395324</td>\n",
       "    </tr>\n",
       "    <tr>\n",
       "      <th>1</th>\n",
       "      <td>0.757899</td>\n",
       "      <td>0.548222</td>\n",
       "      <td>1.447809</td>\n",
       "      <td>0.265556</td>\n",
       "    </tr>\n",
       "    <tr>\n",
       "      <th>2</th>\n",
       "      <td>-0.987436</td>\n",
       "      <td>-0.676229</td>\n",
       "      <td>-3.057898</td>\n",
       "      <td>0.209778</td>\n",
       "    </tr>\n",
       "    <tr>\n",
       "      <th>3</th>\n",
       "      <td>0.220164</td>\n",
       "      <td>-0.297534</td>\n",
       "      <td>1.072154</td>\n",
       "      <td>1.469092</td>\n",
       "    </tr>\n",
       "    <tr>\n",
       "      <th>4</th>\n",
       "      <td>0.607793</td>\n",
       "      <td>-1.653765</td>\n",
       "      <td>0.044688</td>\n",
       "      <td>-0.147081</td>\n",
       "    </tr>\n",
       "  </tbody>\n",
       "</table>\n",
       "</div>"
      ],
      "text/plain": [
       "          A         B         C         D\n",
       "0  0.911474  0.235418  0.331594  0.395324\n",
       "1  0.757899  0.548222  1.447809  0.265556\n",
       "2 -0.987436 -0.676229 -3.057898  0.209778\n",
       "3  0.220164 -0.297534  1.072154  1.469092\n",
       "4  0.607793 -1.653765  0.044688 -0.147081"
      ]
     },
     "execution_count": 7,
     "metadata": {},
     "output_type": "execute_result"
    }
   ],
   "source": [
    "df.head()"
   ]
  },
  {
   "cell_type": "code",
   "execution_count": 8,
   "metadata": {
    "collapsed": true
   },
   "outputs": [],
   "source": [
    "df2 = pd.DataFrame({'Category':['A','B','C'],'Values':[32,43,50]})"
   ]
  },
  {
   "cell_type": "code",
   "execution_count": 9,
   "metadata": {
    "collapsed": false
   },
   "outputs": [
    {
     "data": {
      "text/html": [
       "<div>\n",
       "<style scoped>\n",
       "    .dataframe tbody tr th:only-of-type {\n",
       "        vertical-align: middle;\n",
       "    }\n",
       "\n",
       "    .dataframe tbody tr th {\n",
       "        vertical-align: top;\n",
       "    }\n",
       "\n",
       "    .dataframe thead th {\n",
       "        text-align: right;\n",
       "    }\n",
       "</style>\n",
       "<table border=\"1\" class=\"dataframe\">\n",
       "  <thead>\n",
       "    <tr style=\"text-align: right;\">\n",
       "      <th></th>\n",
       "      <th>Category</th>\n",
       "      <th>Values</th>\n",
       "    </tr>\n",
       "  </thead>\n",
       "  <tbody>\n",
       "    <tr>\n",
       "      <th>0</th>\n",
       "      <td>A</td>\n",
       "      <td>32</td>\n",
       "    </tr>\n",
       "    <tr>\n",
       "      <th>1</th>\n",
       "      <td>B</td>\n",
       "      <td>43</td>\n",
       "    </tr>\n",
       "    <tr>\n",
       "      <th>2</th>\n",
       "      <td>C</td>\n",
       "      <td>50</td>\n",
       "    </tr>\n",
       "  </tbody>\n",
       "</table>\n",
       "</div>"
      ],
      "text/plain": [
       "  Category  Values\n",
       "0        A      32\n",
       "1        B      43\n",
       "2        C      50"
      ]
     },
     "execution_count": 9,
     "metadata": {},
     "output_type": "execute_result"
    }
   ],
   "source": [
    "df2.head()"
   ]
  },
  {
   "cell_type": "markdown",
   "metadata": {},
   "source": [
    "## Using Cufflinks and iplot()\n",
    "\n",
    "* scatter\n",
    "* bar\n",
    "* box\n",
    "* spread\n",
    "* ratio\n",
    "* heatmap\n",
    "* surface\n",
    "* histogram\n",
    "* bubble"
   ]
  },
  {
   "cell_type": "markdown",
   "metadata": {},
   "source": [
    "## Scatter"
   ]
  },
  {
   "cell_type": "code",
   "execution_count": 10,
   "metadata": {
    "collapsed": false
   },
   "outputs": [
    {
     "data": {
      "application/vnd.plotly.v1+json": {
       "config": {
        "linkText": "Export to plot.ly",
        "plotlyServerURL": "https://plot.ly",
        "showLink": true
       },
       "data": [
        {
         "line": {
          "color": "rgba(255, 153, 51, 1.0)",
          "dash": "solid",
          "shape": "linear",
          "width": 1.3
         },
         "marker": {
          "size": 10,
          "symbol": "circle"
         },
         "mode": "markers",
         "name": "B",
         "text": "",
         "type": "scatter",
         "x": [
          0.9114742326787507,
          0.7578989467691609,
          -0.9874361968395297,
          0.22016382884816021,
          0.6077927569514273,
          0.7778834736810324,
          2.1131546813030457,
          -2.4490055660620578,
          -1.264753726599821,
          -1.113114717122689,
          0.7074598991253688,
          0.3011365498644992,
          1.3797717647512153,
          1.5678709953685082,
          -0.03622282412839025,
          1.2667918863642251,
          0.8749252774931616,
          -2.197805732647536,
          -1.0240395875458463,
          -2.142707972857464,
          -0.0736101364574777,
          -1.259255676470749,
          1.6015375948381252,
          1.112229978501615,
          -1.5622053971911025,
          1.8572790226404727,
          -0.4209177347085691,
          -0.912160726081105,
          -0.3037386021712285,
          0.8579623354976309,
          0.3565208302820152,
          0.6841429396840425,
          -0.7523937277325553,
          1.375620044215106,
          -1.2948947618372475,
          0.7226409299521954,
          -1.1545687528768627,
          0.4176384992573318,
          -0.0059278543542167945,
          -0.22869332071406231,
          -1.6746987522308645,
          0.9663733925438459,
          1.0763862190031617,
          -1.225551651184113,
          -0.7535643384107886,
          0.8096955120069954,
          -0.8670064279036938,
          -0.9680677241848497,
          1.1292477205253124,
          0.46947556948741576,
          -0.09447969379657634,
          0.5565096888594847,
          1.8403079260220252,
          0.3376051227254956,
          -0.9379486899192527,
          0.46813068099759814,
          0.09257732214048982,
          -1.6309760263885982,
          -0.11937821507956069,
          0.8475001411207256,
          -0.7150944067883627,
          1.1448948639850358,
          -1.0744821048971902,
          0.3924196833219243,
          0.9272154179010863,
          0.5026276413448757,
          0.8212503499671454,
          -0.8233919536733769,
          -0.2502667292808195,
          0.7236673354783757,
          0.18632609274324735,
          -1.9348967416153815,
          -0.3771390803791452,
          -0.9591907442850565,
          0.8657796666189373,
          0.28402206877817504,
          -0.23103203676238043,
          -1.6954591216753985,
          0.948904930684949,
          1.3203011128906776,
          1.3454169153034552,
          -0.2450999941893388,
          1.4276505694773265,
          0.9916419977998683,
          -0.46044944463704407,
          0.44416392997387194,
          0.24525133842413147,
          -0.09927401569069812,
          1.9148941613315424,
          0.8864805636561247,
          0.46370607184899737,
          -2.224352308256751,
          -1.0654022942267856,
          -0.2607577292767755,
          1.2242612562912998,
          -0.30021774043427785,
          -0.021938802648024933,
          0.038053496199222846,
          -0.08528024315010026,
          -1.5801736763077543
         ],
         "y": [
          0.23541819233456246,
          0.5482224871344553,
          -0.6762289676794175,
          -0.29753389009341696,
          -1.6537645838455806,
          0.8304428942574472,
          -0.4408669209013495,
          -0.27435782294007777,
          -2.173375085890643,
          0.20695320388106786,
          -1.0993754893406398,
          -1.2579231680566736,
          -1.4442829489057019,
          0.11632297708104956,
          0.6225013721856922,
          0.4944394057517207,
          -0.549574433268328,
          -1.2070224915495484,
          1.1077365446492404,
          0.3767494463443737,
          -0.048808423374183826,
          0.00400584390178196,
          0.7597092760009614,
          -0.34791100636292516,
          0.23580016658069564,
          -1.050013416154085,
          0.39421190996753597,
          0.035283337196053005,
          0.494369633848719,
          -1.4410894003445818,
          -0.34759793246896226,
          0.31297072926656766,
          0.883043623213389,
          -1.309452016254821,
          -0.494268560748715,
          1.051270007897888,
          -0.9400845241081949,
          1.0062190989079038,
          -0.2299281540729599,
          1.1205820384556222,
          0.3401911629876612,
          0.37978093151711045,
          -1.612791942328893,
          1.099243459502892,
          -1.8305676394507513,
          0.3570138753485757,
          0.31951510178702425,
          0.25094716578977916,
          1.228620982901242,
          -0.6601164535624199,
          0.12442024935454234,
          -0.7786844570120308,
          -0.7945273805880833,
          -1.5218876699649064,
          -0.9973007205172868,
          0.942982191799194,
          -0.5481870611417685,
          -1.711267025816037,
          0.6863576806719326,
          -0.2728391456421554,
          -0.6960216221354287,
          1.083291241894601,
          -0.23410333746971343,
          0.14876058960735514,
          -0.9504526268294847,
          -1.2684548505074855,
          -0.970167356029588,
          0.16555895612980628,
          0.7982318400260477,
          0.3502567389757603,
          0.5106487860872726,
          1.7167365629146856,
          -0.17515656694386475,
          0.2510405169637239,
          1.067048180128776,
          0.08249294970519207,
          1.8817184628314625,
          -0.2925444339019961,
          0.4982443469520614,
          0.7579274298666225,
          0.4513504840483056,
          0.18293533511137006,
          0.2074313555949219,
          1.0830362728623577,
          -1.3640558765781092,
          0.6695669304242179,
          -0.7917332091991889,
          0.9611564033860209,
          -0.6748198117284865,
          -0.4294317859327062,
          -0.44003438666389727,
          -0.7834587412866575,
          -0.6052898884146282,
          -0.5273756713097408,
          0.036473522701766556,
          -1.0318261997633305,
          0.4874952484513759,
          0.2303280257982348,
          -1.4352230408514677,
          0.8365986862717942
         ]
        }
       ],
       "layout": {
        "legend": {
         "bgcolor": "#F5F6F9",
         "font": {
          "color": "#4D5663"
         }
        },
        "paper_bgcolor": "#F5F6F9",
        "plot_bgcolor": "#F5F6F9",
        "template": {
         "data": {
          "bar": [
           {
            "error_x": {
             "color": "#2a3f5f"
            },
            "error_y": {
             "color": "#2a3f5f"
            },
            "marker": {
             "line": {
              "color": "#E5ECF6",
              "width": 0.5
             },
             "pattern": {
              "fillmode": "overlay",
              "size": 10,
              "solidity": 0.2
             }
            },
            "type": "bar"
           }
          ],
          "barpolar": [
           {
            "marker": {
             "line": {
              "color": "#E5ECF6",
              "width": 0.5
             },
             "pattern": {
              "fillmode": "overlay",
              "size": 10,
              "solidity": 0.2
             }
            },
            "type": "barpolar"
           }
          ],
          "carpet": [
           {
            "aaxis": {
             "endlinecolor": "#2a3f5f",
             "gridcolor": "white",
             "linecolor": "white",
             "minorgridcolor": "white",
             "startlinecolor": "#2a3f5f"
            },
            "baxis": {
             "endlinecolor": "#2a3f5f",
             "gridcolor": "white",
             "linecolor": "white",
             "minorgridcolor": "white",
             "startlinecolor": "#2a3f5f"
            },
            "type": "carpet"
           }
          ],
          "choropleth": [
           {
            "colorbar": {
             "outlinewidth": 0,
             "ticks": ""
            },
            "type": "choropleth"
           }
          ],
          "contour": [
           {
            "colorbar": {
             "outlinewidth": 0,
             "ticks": ""
            },
            "colorscale": [
             [
              0,
              "#0d0887"
             ],
             [
              0.1111111111111111,
              "#46039f"
             ],
             [
              0.2222222222222222,
              "#7201a8"
             ],
             [
              0.3333333333333333,
              "#9c179e"
             ],
             [
              0.4444444444444444,
              "#bd3786"
             ],
             [
              0.5555555555555556,
              "#d8576b"
             ],
             [
              0.6666666666666666,
              "#ed7953"
             ],
             [
              0.7777777777777778,
              "#fb9f3a"
             ],
             [
              0.8888888888888888,
              "#fdca26"
             ],
             [
              1,
              "#f0f921"
             ]
            ],
            "type": "contour"
           }
          ],
          "contourcarpet": [
           {
            "colorbar": {
             "outlinewidth": 0,
             "ticks": ""
            },
            "type": "contourcarpet"
           }
          ],
          "heatmap": [
           {
            "colorbar": {
             "outlinewidth": 0,
             "ticks": ""
            },
            "colorscale": [
             [
              0,
              "#0d0887"
             ],
             [
              0.1111111111111111,
              "#46039f"
             ],
             [
              0.2222222222222222,
              "#7201a8"
             ],
             [
              0.3333333333333333,
              "#9c179e"
             ],
             [
              0.4444444444444444,
              "#bd3786"
             ],
             [
              0.5555555555555556,
              "#d8576b"
             ],
             [
              0.6666666666666666,
              "#ed7953"
             ],
             [
              0.7777777777777778,
              "#fb9f3a"
             ],
             [
              0.8888888888888888,
              "#fdca26"
             ],
             [
              1,
              "#f0f921"
             ]
            ],
            "type": "heatmap"
           }
          ],
          "heatmapgl": [
           {
            "colorbar": {
             "outlinewidth": 0,
             "ticks": ""
            },
            "colorscale": [
             [
              0,
              "#0d0887"
             ],
             [
              0.1111111111111111,
              "#46039f"
             ],
             [
              0.2222222222222222,
              "#7201a8"
             ],
             [
              0.3333333333333333,
              "#9c179e"
             ],
             [
              0.4444444444444444,
              "#bd3786"
             ],
             [
              0.5555555555555556,
              "#d8576b"
             ],
             [
              0.6666666666666666,
              "#ed7953"
             ],
             [
              0.7777777777777778,
              "#fb9f3a"
             ],
             [
              0.8888888888888888,
              "#fdca26"
             ],
             [
              1,
              "#f0f921"
             ]
            ],
            "type": "heatmapgl"
           }
          ],
          "histogram": [
           {
            "marker": {
             "pattern": {
              "fillmode": "overlay",
              "size": 10,
              "solidity": 0.2
             }
            },
            "type": "histogram"
           }
          ],
          "histogram2d": [
           {
            "colorbar": {
             "outlinewidth": 0,
             "ticks": ""
            },
            "colorscale": [
             [
              0,
              "#0d0887"
             ],
             [
              0.1111111111111111,
              "#46039f"
             ],
             [
              0.2222222222222222,
              "#7201a8"
             ],
             [
              0.3333333333333333,
              "#9c179e"
             ],
             [
              0.4444444444444444,
              "#bd3786"
             ],
             [
              0.5555555555555556,
              "#d8576b"
             ],
             [
              0.6666666666666666,
              "#ed7953"
             ],
             [
              0.7777777777777778,
              "#fb9f3a"
             ],
             [
              0.8888888888888888,
              "#fdca26"
             ],
             [
              1,
              "#f0f921"
             ]
            ],
            "type": "histogram2d"
           }
          ],
          "histogram2dcontour": [
           {
            "colorbar": {
             "outlinewidth": 0,
             "ticks": ""
            },
            "colorscale": [
             [
              0,
              "#0d0887"
             ],
             [
              0.1111111111111111,
              "#46039f"
             ],
             [
              0.2222222222222222,
              "#7201a8"
             ],
             [
              0.3333333333333333,
              "#9c179e"
             ],
             [
              0.4444444444444444,
              "#bd3786"
             ],
             [
              0.5555555555555556,
              "#d8576b"
             ],
             [
              0.6666666666666666,
              "#ed7953"
             ],
             [
              0.7777777777777778,
              "#fb9f3a"
             ],
             [
              0.8888888888888888,
              "#fdca26"
             ],
             [
              1,
              "#f0f921"
             ]
            ],
            "type": "histogram2dcontour"
           }
          ],
          "mesh3d": [
           {
            "colorbar": {
             "outlinewidth": 0,
             "ticks": ""
            },
            "type": "mesh3d"
           }
          ],
          "parcoords": [
           {
            "line": {
             "colorbar": {
              "outlinewidth": 0,
              "ticks": ""
             }
            },
            "type": "parcoords"
           }
          ],
          "pie": [
           {
            "automargin": true,
            "type": "pie"
           }
          ],
          "scatter": [
           {
            "fillpattern": {
             "fillmode": "overlay",
             "size": 10,
             "solidity": 0.2
            },
            "type": "scatter"
           }
          ],
          "scatter3d": [
           {
            "line": {
             "colorbar": {
              "outlinewidth": 0,
              "ticks": ""
             }
            },
            "marker": {
             "colorbar": {
              "outlinewidth": 0,
              "ticks": ""
             }
            },
            "type": "scatter3d"
           }
          ],
          "scattercarpet": [
           {
            "marker": {
             "colorbar": {
              "outlinewidth": 0,
              "ticks": ""
             }
            },
            "type": "scattercarpet"
           }
          ],
          "scattergeo": [
           {
            "marker": {
             "colorbar": {
              "outlinewidth": 0,
              "ticks": ""
             }
            },
            "type": "scattergeo"
           }
          ],
          "scattergl": [
           {
            "marker": {
             "colorbar": {
              "outlinewidth": 0,
              "ticks": ""
             }
            },
            "type": "scattergl"
           }
          ],
          "scattermapbox": [
           {
            "marker": {
             "colorbar": {
              "outlinewidth": 0,
              "ticks": ""
             }
            },
            "type": "scattermapbox"
           }
          ],
          "scatterpolar": [
           {
            "marker": {
             "colorbar": {
              "outlinewidth": 0,
              "ticks": ""
             }
            },
            "type": "scatterpolar"
           }
          ],
          "scatterpolargl": [
           {
            "marker": {
             "colorbar": {
              "outlinewidth": 0,
              "ticks": ""
             }
            },
            "type": "scatterpolargl"
           }
          ],
          "scatterternary": [
           {
            "marker": {
             "colorbar": {
              "outlinewidth": 0,
              "ticks": ""
             }
            },
            "type": "scatterternary"
           }
          ],
          "surface": [
           {
            "colorbar": {
             "outlinewidth": 0,
             "ticks": ""
            },
            "colorscale": [
             [
              0,
              "#0d0887"
             ],
             [
              0.1111111111111111,
              "#46039f"
             ],
             [
              0.2222222222222222,
              "#7201a8"
             ],
             [
              0.3333333333333333,
              "#9c179e"
             ],
             [
              0.4444444444444444,
              "#bd3786"
             ],
             [
              0.5555555555555556,
              "#d8576b"
             ],
             [
              0.6666666666666666,
              "#ed7953"
             ],
             [
              0.7777777777777778,
              "#fb9f3a"
             ],
             [
              0.8888888888888888,
              "#fdca26"
             ],
             [
              1,
              "#f0f921"
             ]
            ],
            "type": "surface"
           }
          ],
          "table": [
           {
            "cells": {
             "fill": {
              "color": "#EBF0F8"
             },
             "line": {
              "color": "white"
             }
            },
            "header": {
             "fill": {
              "color": "#C8D4E3"
             },
             "line": {
              "color": "white"
             }
            },
            "type": "table"
           }
          ]
         },
         "layout": {
          "annotationdefaults": {
           "arrowcolor": "#2a3f5f",
           "arrowhead": 0,
           "arrowwidth": 1
          },
          "autotypenumbers": "strict",
          "coloraxis": {
           "colorbar": {
            "outlinewidth": 0,
            "ticks": ""
           }
          },
          "colorscale": {
           "diverging": [
            [
             0,
             "#8e0152"
            ],
            [
             0.1,
             "#c51b7d"
            ],
            [
             0.2,
             "#de77ae"
            ],
            [
             0.3,
             "#f1b6da"
            ],
            [
             0.4,
             "#fde0ef"
            ],
            [
             0.5,
             "#f7f7f7"
            ],
            [
             0.6,
             "#e6f5d0"
            ],
            [
             0.7,
             "#b8e186"
            ],
            [
             0.8,
             "#7fbc41"
            ],
            [
             0.9,
             "#4d9221"
            ],
            [
             1,
             "#276419"
            ]
           ],
           "sequential": [
            [
             0,
             "#0d0887"
            ],
            [
             0.1111111111111111,
             "#46039f"
            ],
            [
             0.2222222222222222,
             "#7201a8"
            ],
            [
             0.3333333333333333,
             "#9c179e"
            ],
            [
             0.4444444444444444,
             "#bd3786"
            ],
            [
             0.5555555555555556,
             "#d8576b"
            ],
            [
             0.6666666666666666,
             "#ed7953"
            ],
            [
             0.7777777777777778,
             "#fb9f3a"
            ],
            [
             0.8888888888888888,
             "#fdca26"
            ],
            [
             1,
             "#f0f921"
            ]
           ],
           "sequentialminus": [
            [
             0,
             "#0d0887"
            ],
            [
             0.1111111111111111,
             "#46039f"
            ],
            [
             0.2222222222222222,
             "#7201a8"
            ],
            [
             0.3333333333333333,
             "#9c179e"
            ],
            [
             0.4444444444444444,
             "#bd3786"
            ],
            [
             0.5555555555555556,
             "#d8576b"
            ],
            [
             0.6666666666666666,
             "#ed7953"
            ],
            [
             0.7777777777777778,
             "#fb9f3a"
            ],
            [
             0.8888888888888888,
             "#fdca26"
            ],
            [
             1,
             "#f0f921"
            ]
           ]
          },
          "colorway": [
           "#636efa",
           "#EF553B",
           "#00cc96",
           "#ab63fa",
           "#FFA15A",
           "#19d3f3",
           "#FF6692",
           "#B6E880",
           "#FF97FF",
           "#FECB52"
          ],
          "font": {
           "color": "#2a3f5f"
          },
          "geo": {
           "bgcolor": "white",
           "lakecolor": "white",
           "landcolor": "#E5ECF6",
           "showlakes": true,
           "showland": true,
           "subunitcolor": "white"
          },
          "hoverlabel": {
           "align": "left"
          },
          "hovermode": "closest",
          "mapbox": {
           "style": "light"
          },
          "paper_bgcolor": "white",
          "plot_bgcolor": "#E5ECF6",
          "polar": {
           "angularaxis": {
            "gridcolor": "white",
            "linecolor": "white",
            "ticks": ""
           },
           "bgcolor": "#E5ECF6",
           "radialaxis": {
            "gridcolor": "white",
            "linecolor": "white",
            "ticks": ""
           }
          },
          "scene": {
           "xaxis": {
            "backgroundcolor": "#E5ECF6",
            "gridcolor": "white",
            "gridwidth": 2,
            "linecolor": "white",
            "showbackground": true,
            "ticks": "",
            "zerolinecolor": "white"
           },
           "yaxis": {
            "backgroundcolor": "#E5ECF6",
            "gridcolor": "white",
            "gridwidth": 2,
            "linecolor": "white",
            "showbackground": true,
            "ticks": "",
            "zerolinecolor": "white"
           },
           "zaxis": {
            "backgroundcolor": "#E5ECF6",
            "gridcolor": "white",
            "gridwidth": 2,
            "linecolor": "white",
            "showbackground": true,
            "ticks": "",
            "zerolinecolor": "white"
           }
          },
          "shapedefaults": {
           "line": {
            "color": "#2a3f5f"
           }
          },
          "ternary": {
           "aaxis": {
            "gridcolor": "white",
            "linecolor": "white",
            "ticks": ""
           },
           "baxis": {
            "gridcolor": "white",
            "linecolor": "white",
            "ticks": ""
           },
           "bgcolor": "#E5ECF6",
           "caxis": {
            "gridcolor": "white",
            "linecolor": "white",
            "ticks": ""
           }
          },
          "title": {
           "x": 0.05
          },
          "xaxis": {
           "automargin": true,
           "gridcolor": "white",
           "linecolor": "white",
           "ticks": "",
           "title": {
            "standoff": 15
           },
           "zerolinecolor": "white",
           "zerolinewidth": 2
          },
          "yaxis": {
           "automargin": true,
           "gridcolor": "white",
           "linecolor": "white",
           "ticks": "",
           "title": {
            "standoff": 15
           },
           "zerolinecolor": "white",
           "zerolinewidth": 2
          }
         }
        },
        "title": {
         "font": {
          "color": "#4D5663"
         }
        },
        "xaxis": {
         "gridcolor": "#E1E5ED",
         "showgrid": true,
         "tickfont": {
          "color": "#4D5663"
         },
         "title": {
          "font": {
           "color": "#4D5663"
          },
          "text": ""
         },
         "zerolinecolor": "#E1E5ED"
        },
        "yaxis": {
         "gridcolor": "#E1E5ED",
         "showgrid": true,
         "tickfont": {
          "color": "#4D5663"
         },
         "title": {
          "font": {
           "color": "#4D5663"
          },
          "text": ""
         },
         "zerolinecolor": "#E1E5ED"
        }
       }
      },
      "text/html": [
       "<div>                            <div id=\"10d122bd-1a49-4d67-bacb-46b055e75818\" class=\"plotly-graph-div\" style=\"height:525px; width:100%;\"></div>            <script type=\"text/javascript\">                require([\"plotly\"], function(Plotly) {                    window.PLOTLYENV=window.PLOTLYENV || {};\n",
       "                    window.PLOTLYENV.BASE_URL='https://plot.ly';                                    if (document.getElementById(\"10d122bd-1a49-4d67-bacb-46b055e75818\")) {                    Plotly.newPlot(                        \"10d122bd-1a49-4d67-bacb-46b055e75818\",                        [{\"line\":{\"color\":\"rgba(255, 153, 51, 1.0)\",\"dash\":\"solid\",\"shape\":\"linear\",\"width\":1.3},\"marker\":{\"size\":10,\"symbol\":\"circle\"},\"mode\":\"markers\",\"name\":\"B\",\"text\":\"\",\"x\":[0.9114742326787507,0.7578989467691609,-0.9874361968395297,0.22016382884816021,0.6077927569514273,0.7778834736810324,2.1131546813030457,-2.4490055660620578,-1.264753726599821,-1.113114717122689,0.7074598991253688,0.3011365498644992,1.3797717647512153,1.5678709953685082,-0.03622282412839025,1.2667918863642251,0.8749252774931616,-2.197805732647536,-1.0240395875458463,-2.142707972857464,-0.0736101364574777,-1.259255676470749,1.6015375948381252,1.112229978501615,-1.5622053971911025,1.8572790226404727,-0.4209177347085691,-0.912160726081105,-0.3037386021712285,0.8579623354976309,0.3565208302820152,0.6841429396840425,-0.7523937277325553,1.375620044215106,-1.2948947618372475,0.7226409299521954,-1.1545687528768627,0.4176384992573318,-0.0059278543542167945,-0.22869332071406231,-1.6746987522308645,0.9663733925438459,1.0763862190031617,-1.225551651184113,-0.7535643384107886,0.8096955120069954,-0.8670064279036938,-0.9680677241848497,1.1292477205253124,0.46947556948741576,-0.09447969379657634,0.5565096888594847,1.8403079260220252,0.3376051227254956,-0.9379486899192527,0.46813068099759814,0.09257732214048982,-1.6309760263885982,-0.11937821507956069,0.8475001411207256,-0.7150944067883627,1.1448948639850358,-1.0744821048971902,0.3924196833219243,0.9272154179010863,0.5026276413448757,0.8212503499671454,-0.8233919536733769,-0.2502667292808195,0.7236673354783757,0.18632609274324735,-1.9348967416153815,-0.3771390803791452,-0.9591907442850565,0.8657796666189373,0.28402206877817504,-0.23103203676238043,-1.6954591216753985,0.948904930684949,1.3203011128906776,1.3454169153034552,-0.2450999941893388,1.4276505694773265,0.9916419977998683,-0.46044944463704407,0.44416392997387194,0.24525133842413147,-0.09927401569069812,1.9148941613315424,0.8864805636561247,0.46370607184899737,-2.224352308256751,-1.0654022942267856,-0.2607577292767755,1.2242612562912998,-0.30021774043427785,-0.021938802648024933,0.038053496199222846,-0.08528024315010026,-1.5801736763077543],\"y\":[0.23541819233456246,0.5482224871344553,-0.6762289676794175,-0.29753389009341696,-1.6537645838455806,0.8304428942574472,-0.4408669209013495,-0.27435782294007777,-2.173375085890643,0.20695320388106786,-1.0993754893406398,-1.2579231680566736,-1.4442829489057019,0.11632297708104956,0.6225013721856922,0.4944394057517207,-0.549574433268328,-1.2070224915495484,1.1077365446492404,0.3767494463443737,-0.048808423374183826,0.00400584390178196,0.7597092760009614,-0.34791100636292516,0.23580016658069564,-1.050013416154085,0.39421190996753597,0.035283337196053005,0.494369633848719,-1.4410894003445818,-0.34759793246896226,0.31297072926656766,0.883043623213389,-1.309452016254821,-0.494268560748715,1.051270007897888,-0.9400845241081949,1.0062190989079038,-0.2299281540729599,1.1205820384556222,0.3401911629876612,0.37978093151711045,-1.612791942328893,1.099243459502892,-1.8305676394507513,0.3570138753485757,0.31951510178702425,0.25094716578977916,1.228620982901242,-0.6601164535624199,0.12442024935454234,-0.7786844570120308,-0.7945273805880833,-1.5218876699649064,-0.9973007205172868,0.942982191799194,-0.5481870611417685,-1.711267025816037,0.6863576806719326,-0.2728391456421554,-0.6960216221354287,1.083291241894601,-0.23410333746971343,0.14876058960735514,-0.9504526268294847,-1.2684548505074855,-0.970167356029588,0.16555895612980628,0.7982318400260477,0.3502567389757603,0.5106487860872726,1.7167365629146856,-0.17515656694386475,0.2510405169637239,1.067048180128776,0.08249294970519207,1.8817184628314625,-0.2925444339019961,0.4982443469520614,0.7579274298666225,0.4513504840483056,0.18293533511137006,0.2074313555949219,1.0830362728623577,-1.3640558765781092,0.6695669304242179,-0.7917332091991889,0.9611564033860209,-0.6748198117284865,-0.4294317859327062,-0.44003438666389727,-0.7834587412866575,-0.6052898884146282,-0.5273756713097408,0.036473522701766556,-1.0318261997633305,0.4874952484513759,0.2303280257982348,-1.4352230408514677,0.8365986862717942],\"type\":\"scatter\"}],                        {\"legend\":{\"bgcolor\":\"#F5F6F9\",\"font\":{\"color\":\"#4D5663\"}},\"paper_bgcolor\":\"#F5F6F9\",\"plot_bgcolor\":\"#F5F6F9\",\"template\":{\"data\":{\"barpolar\":[{\"marker\":{\"line\":{\"color\":\"#E5ECF6\",\"width\":0.5},\"pattern\":{\"fillmode\":\"overlay\",\"size\":10,\"solidity\":0.2}},\"type\":\"barpolar\"}],\"bar\":[{\"error_x\":{\"color\":\"#2a3f5f\"},\"error_y\":{\"color\":\"#2a3f5f\"},\"marker\":{\"line\":{\"color\":\"#E5ECF6\",\"width\":0.5},\"pattern\":{\"fillmode\":\"overlay\",\"size\":10,\"solidity\":0.2}},\"type\":\"bar\"}],\"carpet\":[{\"aaxis\":{\"endlinecolor\":\"#2a3f5f\",\"gridcolor\":\"white\",\"linecolor\":\"white\",\"minorgridcolor\":\"white\",\"startlinecolor\":\"#2a3f5f\"},\"baxis\":{\"endlinecolor\":\"#2a3f5f\",\"gridcolor\":\"white\",\"linecolor\":\"white\",\"minorgridcolor\":\"white\",\"startlinecolor\":\"#2a3f5f\"},\"type\":\"carpet\"}],\"choropleth\":[{\"colorbar\":{\"outlinewidth\":0,\"ticks\":\"\"},\"type\":\"choropleth\"}],\"contourcarpet\":[{\"colorbar\":{\"outlinewidth\":0,\"ticks\":\"\"},\"type\":\"contourcarpet\"}],\"contour\":[{\"colorbar\":{\"outlinewidth\":0,\"ticks\":\"\"},\"colorscale\":[[0.0,\"#0d0887\"],[0.1111111111111111,\"#46039f\"],[0.2222222222222222,\"#7201a8\"],[0.3333333333333333,\"#9c179e\"],[0.4444444444444444,\"#bd3786\"],[0.5555555555555556,\"#d8576b\"],[0.6666666666666666,\"#ed7953\"],[0.7777777777777778,\"#fb9f3a\"],[0.8888888888888888,\"#fdca26\"],[1.0,\"#f0f921\"]],\"type\":\"contour\"}],\"heatmapgl\":[{\"colorbar\":{\"outlinewidth\":0,\"ticks\":\"\"},\"colorscale\":[[0.0,\"#0d0887\"],[0.1111111111111111,\"#46039f\"],[0.2222222222222222,\"#7201a8\"],[0.3333333333333333,\"#9c179e\"],[0.4444444444444444,\"#bd3786\"],[0.5555555555555556,\"#d8576b\"],[0.6666666666666666,\"#ed7953\"],[0.7777777777777778,\"#fb9f3a\"],[0.8888888888888888,\"#fdca26\"],[1.0,\"#f0f921\"]],\"type\":\"heatmapgl\"}],\"heatmap\":[{\"colorbar\":{\"outlinewidth\":0,\"ticks\":\"\"},\"colorscale\":[[0.0,\"#0d0887\"],[0.1111111111111111,\"#46039f\"],[0.2222222222222222,\"#7201a8\"],[0.3333333333333333,\"#9c179e\"],[0.4444444444444444,\"#bd3786\"],[0.5555555555555556,\"#d8576b\"],[0.6666666666666666,\"#ed7953\"],[0.7777777777777778,\"#fb9f3a\"],[0.8888888888888888,\"#fdca26\"],[1.0,\"#f0f921\"]],\"type\":\"heatmap\"}],\"histogram2dcontour\":[{\"colorbar\":{\"outlinewidth\":0,\"ticks\":\"\"},\"colorscale\":[[0.0,\"#0d0887\"],[0.1111111111111111,\"#46039f\"],[0.2222222222222222,\"#7201a8\"],[0.3333333333333333,\"#9c179e\"],[0.4444444444444444,\"#bd3786\"],[0.5555555555555556,\"#d8576b\"],[0.6666666666666666,\"#ed7953\"],[0.7777777777777778,\"#fb9f3a\"],[0.8888888888888888,\"#fdca26\"],[1.0,\"#f0f921\"]],\"type\":\"histogram2dcontour\"}],\"histogram2d\":[{\"colorbar\":{\"outlinewidth\":0,\"ticks\":\"\"},\"colorscale\":[[0.0,\"#0d0887\"],[0.1111111111111111,\"#46039f\"],[0.2222222222222222,\"#7201a8\"],[0.3333333333333333,\"#9c179e\"],[0.4444444444444444,\"#bd3786\"],[0.5555555555555556,\"#d8576b\"],[0.6666666666666666,\"#ed7953\"],[0.7777777777777778,\"#fb9f3a\"],[0.8888888888888888,\"#fdca26\"],[1.0,\"#f0f921\"]],\"type\":\"histogram2d\"}],\"histogram\":[{\"marker\":{\"pattern\":{\"fillmode\":\"overlay\",\"size\":10,\"solidity\":0.2}},\"type\":\"histogram\"}],\"mesh3d\":[{\"colorbar\":{\"outlinewidth\":0,\"ticks\":\"\"},\"type\":\"mesh3d\"}],\"parcoords\":[{\"line\":{\"colorbar\":{\"outlinewidth\":0,\"ticks\":\"\"}},\"type\":\"parcoords\"}],\"pie\":[{\"automargin\":true,\"type\":\"pie\"}],\"scatter3d\":[{\"line\":{\"colorbar\":{\"outlinewidth\":0,\"ticks\":\"\"}},\"marker\":{\"colorbar\":{\"outlinewidth\":0,\"ticks\":\"\"}},\"type\":\"scatter3d\"}],\"scattercarpet\":[{\"marker\":{\"colorbar\":{\"outlinewidth\":0,\"ticks\":\"\"}},\"type\":\"scattercarpet\"}],\"scattergeo\":[{\"marker\":{\"colorbar\":{\"outlinewidth\":0,\"ticks\":\"\"}},\"type\":\"scattergeo\"}],\"scattergl\":[{\"marker\":{\"colorbar\":{\"outlinewidth\":0,\"ticks\":\"\"}},\"type\":\"scattergl\"}],\"scattermapbox\":[{\"marker\":{\"colorbar\":{\"outlinewidth\":0,\"ticks\":\"\"}},\"type\":\"scattermapbox\"}],\"scatterpolargl\":[{\"marker\":{\"colorbar\":{\"outlinewidth\":0,\"ticks\":\"\"}},\"type\":\"scatterpolargl\"}],\"scatterpolar\":[{\"marker\":{\"colorbar\":{\"outlinewidth\":0,\"ticks\":\"\"}},\"type\":\"scatterpolar\"}],\"scatter\":[{\"fillpattern\":{\"fillmode\":\"overlay\",\"size\":10,\"solidity\":0.2},\"type\":\"scatter\"}],\"scatterternary\":[{\"marker\":{\"colorbar\":{\"outlinewidth\":0,\"ticks\":\"\"}},\"type\":\"scatterternary\"}],\"surface\":[{\"colorbar\":{\"outlinewidth\":0,\"ticks\":\"\"},\"colorscale\":[[0.0,\"#0d0887\"],[0.1111111111111111,\"#46039f\"],[0.2222222222222222,\"#7201a8\"],[0.3333333333333333,\"#9c179e\"],[0.4444444444444444,\"#bd3786\"],[0.5555555555555556,\"#d8576b\"],[0.6666666666666666,\"#ed7953\"],[0.7777777777777778,\"#fb9f3a\"],[0.8888888888888888,\"#fdca26\"],[1.0,\"#f0f921\"]],\"type\":\"surface\"}],\"table\":[{\"cells\":{\"fill\":{\"color\":\"#EBF0F8\"},\"line\":{\"color\":\"white\"}},\"header\":{\"fill\":{\"color\":\"#C8D4E3\"},\"line\":{\"color\":\"white\"}},\"type\":\"table\"}]},\"layout\":{\"annotationdefaults\":{\"arrowcolor\":\"#2a3f5f\",\"arrowhead\":0,\"arrowwidth\":1},\"autotypenumbers\":\"strict\",\"coloraxis\":{\"colorbar\":{\"outlinewidth\":0,\"ticks\":\"\"}},\"colorscale\":{\"diverging\":[[0,\"#8e0152\"],[0.1,\"#c51b7d\"],[0.2,\"#de77ae\"],[0.3,\"#f1b6da\"],[0.4,\"#fde0ef\"],[0.5,\"#f7f7f7\"],[0.6,\"#e6f5d0\"],[0.7,\"#b8e186\"],[0.8,\"#7fbc41\"],[0.9,\"#4d9221\"],[1,\"#276419\"]],\"sequential\":[[0.0,\"#0d0887\"],[0.1111111111111111,\"#46039f\"],[0.2222222222222222,\"#7201a8\"],[0.3333333333333333,\"#9c179e\"],[0.4444444444444444,\"#bd3786\"],[0.5555555555555556,\"#d8576b\"],[0.6666666666666666,\"#ed7953\"],[0.7777777777777778,\"#fb9f3a\"],[0.8888888888888888,\"#fdca26\"],[1.0,\"#f0f921\"]],\"sequentialminus\":[[0.0,\"#0d0887\"],[0.1111111111111111,\"#46039f\"],[0.2222222222222222,\"#7201a8\"],[0.3333333333333333,\"#9c179e\"],[0.4444444444444444,\"#bd3786\"],[0.5555555555555556,\"#d8576b\"],[0.6666666666666666,\"#ed7953\"],[0.7777777777777778,\"#fb9f3a\"],[0.8888888888888888,\"#fdca26\"],[1.0,\"#f0f921\"]]},\"colorway\":[\"#636efa\",\"#EF553B\",\"#00cc96\",\"#ab63fa\",\"#FFA15A\",\"#19d3f3\",\"#FF6692\",\"#B6E880\",\"#FF97FF\",\"#FECB52\"],\"font\":{\"color\":\"#2a3f5f\"},\"geo\":{\"bgcolor\":\"white\",\"lakecolor\":\"white\",\"landcolor\":\"#E5ECF6\",\"showlakes\":true,\"showland\":true,\"subunitcolor\":\"white\"},\"hoverlabel\":{\"align\":\"left\"},\"hovermode\":\"closest\",\"mapbox\":{\"style\":\"light\"},\"paper_bgcolor\":\"white\",\"plot_bgcolor\":\"#E5ECF6\",\"polar\":{\"angularaxis\":{\"gridcolor\":\"white\",\"linecolor\":\"white\",\"ticks\":\"\"},\"bgcolor\":\"#E5ECF6\",\"radialaxis\":{\"gridcolor\":\"white\",\"linecolor\":\"white\",\"ticks\":\"\"}},\"scene\":{\"xaxis\":{\"backgroundcolor\":\"#E5ECF6\",\"gridcolor\":\"white\",\"gridwidth\":2,\"linecolor\":\"white\",\"showbackground\":true,\"ticks\":\"\",\"zerolinecolor\":\"white\"},\"yaxis\":{\"backgroundcolor\":\"#E5ECF6\",\"gridcolor\":\"white\",\"gridwidth\":2,\"linecolor\":\"white\",\"showbackground\":true,\"ticks\":\"\",\"zerolinecolor\":\"white\"},\"zaxis\":{\"backgroundcolor\":\"#E5ECF6\",\"gridcolor\":\"white\",\"gridwidth\":2,\"linecolor\":\"white\",\"showbackground\":true,\"ticks\":\"\",\"zerolinecolor\":\"white\"}},\"shapedefaults\":{\"line\":{\"color\":\"#2a3f5f\"}},\"ternary\":{\"aaxis\":{\"gridcolor\":\"white\",\"linecolor\":\"white\",\"ticks\":\"\"},\"baxis\":{\"gridcolor\":\"white\",\"linecolor\":\"white\",\"ticks\":\"\"},\"bgcolor\":\"#E5ECF6\",\"caxis\":{\"gridcolor\":\"white\",\"linecolor\":\"white\",\"ticks\":\"\"}},\"title\":{\"x\":0.05},\"xaxis\":{\"automargin\":true,\"gridcolor\":\"white\",\"linecolor\":\"white\",\"ticks\":\"\",\"title\":{\"standoff\":15},\"zerolinecolor\":\"white\",\"zerolinewidth\":2},\"yaxis\":{\"automargin\":true,\"gridcolor\":\"white\",\"linecolor\":\"white\",\"ticks\":\"\",\"title\":{\"standoff\":15},\"zerolinecolor\":\"white\",\"zerolinewidth\":2}}},\"title\":{\"font\":{\"color\":\"#4D5663\"}},\"xaxis\":{\"gridcolor\":\"#E1E5ED\",\"showgrid\":true,\"tickfont\":{\"color\":\"#4D5663\"},\"title\":{\"font\":{\"color\":\"#4D5663\"},\"text\":\"\"},\"zerolinecolor\":\"#E1E5ED\"},\"yaxis\":{\"gridcolor\":\"#E1E5ED\",\"showgrid\":true,\"tickfont\":{\"color\":\"#4D5663\"},\"title\":{\"font\":{\"color\":\"#4D5663\"},\"text\":\"\"},\"zerolinecolor\":\"#E1E5ED\"}},                        {\"showLink\": true, \"linkText\": \"Export to plot.ly\", \"plotlyServerURL\": \"https://plot.ly\", \"responsive\": true}                    ).then(function(){\n",
       "                            \n",
       "var gd = document.getElementById('10d122bd-1a49-4d67-bacb-46b055e75818');\n",
       "var x = new MutationObserver(function (mutations, observer) {{\n",
       "        var display = window.getComputedStyle(gd).display;\n",
       "        if (!display || display === 'none') {{\n",
       "            console.log([gd, 'removed!']);\n",
       "            Plotly.purge(gd);\n",
       "            observer.disconnect();\n",
       "        }}\n",
       "}});\n",
       "\n",
       "// Listen for the removal of the full notebook cells\n",
       "var notebookContainer = gd.closest('#notebook-container');\n",
       "if (notebookContainer) {{\n",
       "    x.observe(notebookContainer, {childList: true});\n",
       "}}\n",
       "\n",
       "// Listen for the clearing of the current output cell\n",
       "var outputEl = gd.closest('.output');\n",
       "if (outputEl) {{\n",
       "    x.observe(outputEl, {childList: true});\n",
       "}}\n",
       "\n",
       "                        })                };                });            </script>        </div>"
      ]
     },
     "metadata": {},
     "output_type": "display_data"
    }
   ],
   "source": [
    "df.iplot(kind='scatter',x='A',y='B',mode='markers',size=10)"
   ]
  },
  {
   "cell_type": "markdown",
   "metadata": {},
   "source": [
    "## Bar Plots"
   ]
  },
  {
   "cell_type": "code",
   "execution_count": 11,
   "metadata": {
    "collapsed": false
   },
   "outputs": [
    {
     "data": {
      "application/vnd.plotly.v1+json": {
       "config": {
        "linkText": "Export to plot.ly",
        "plotlyServerURL": "https://plot.ly",
        "showLink": true
       },
       "data": [
        {
         "marker": {
          "color": "rgba(255, 153, 51, 0.6)",
          "line": {
           "color": "rgba(255, 153, 51, 1.0)",
           "width": 1
          }
         },
         "name": "Values",
         "orientation": "v",
         "text": "",
         "type": "bar",
         "x": [
          "A",
          "B",
          "C"
         ],
         "y": [
          32,
          43,
          50
         ]
        }
       ],
       "layout": {
        "legend": {
         "bgcolor": "#F5F6F9",
         "font": {
          "color": "#4D5663"
         }
        },
        "paper_bgcolor": "#F5F6F9",
        "plot_bgcolor": "#F5F6F9",
        "template": {
         "data": {
          "bar": [
           {
            "error_x": {
             "color": "#2a3f5f"
            },
            "error_y": {
             "color": "#2a3f5f"
            },
            "marker": {
             "line": {
              "color": "#E5ECF6",
              "width": 0.5
             },
             "pattern": {
              "fillmode": "overlay",
              "size": 10,
              "solidity": 0.2
             }
            },
            "type": "bar"
           }
          ],
          "barpolar": [
           {
            "marker": {
             "line": {
              "color": "#E5ECF6",
              "width": 0.5
             },
             "pattern": {
              "fillmode": "overlay",
              "size": 10,
              "solidity": 0.2
             }
            },
            "type": "barpolar"
           }
          ],
          "carpet": [
           {
            "aaxis": {
             "endlinecolor": "#2a3f5f",
             "gridcolor": "white",
             "linecolor": "white",
             "minorgridcolor": "white",
             "startlinecolor": "#2a3f5f"
            },
            "baxis": {
             "endlinecolor": "#2a3f5f",
             "gridcolor": "white",
             "linecolor": "white",
             "minorgridcolor": "white",
             "startlinecolor": "#2a3f5f"
            },
            "type": "carpet"
           }
          ],
          "choropleth": [
           {
            "colorbar": {
             "outlinewidth": 0,
             "ticks": ""
            },
            "type": "choropleth"
           }
          ],
          "contour": [
           {
            "colorbar": {
             "outlinewidth": 0,
             "ticks": ""
            },
            "colorscale": [
             [
              0,
              "#0d0887"
             ],
             [
              0.1111111111111111,
              "#46039f"
             ],
             [
              0.2222222222222222,
              "#7201a8"
             ],
             [
              0.3333333333333333,
              "#9c179e"
             ],
             [
              0.4444444444444444,
              "#bd3786"
             ],
             [
              0.5555555555555556,
              "#d8576b"
             ],
             [
              0.6666666666666666,
              "#ed7953"
             ],
             [
              0.7777777777777778,
              "#fb9f3a"
             ],
             [
              0.8888888888888888,
              "#fdca26"
             ],
             [
              1,
              "#f0f921"
             ]
            ],
            "type": "contour"
           }
          ],
          "contourcarpet": [
           {
            "colorbar": {
             "outlinewidth": 0,
             "ticks": ""
            },
            "type": "contourcarpet"
           }
          ],
          "heatmap": [
           {
            "colorbar": {
             "outlinewidth": 0,
             "ticks": ""
            },
            "colorscale": [
             [
              0,
              "#0d0887"
             ],
             [
              0.1111111111111111,
              "#46039f"
             ],
             [
              0.2222222222222222,
              "#7201a8"
             ],
             [
              0.3333333333333333,
              "#9c179e"
             ],
             [
              0.4444444444444444,
              "#bd3786"
             ],
             [
              0.5555555555555556,
              "#d8576b"
             ],
             [
              0.6666666666666666,
              "#ed7953"
             ],
             [
              0.7777777777777778,
              "#fb9f3a"
             ],
             [
              0.8888888888888888,
              "#fdca26"
             ],
             [
              1,
              "#f0f921"
             ]
            ],
            "type": "heatmap"
           }
          ],
          "heatmapgl": [
           {
            "colorbar": {
             "outlinewidth": 0,
             "ticks": ""
            },
            "colorscale": [
             [
              0,
              "#0d0887"
             ],
             [
              0.1111111111111111,
              "#46039f"
             ],
             [
              0.2222222222222222,
              "#7201a8"
             ],
             [
              0.3333333333333333,
              "#9c179e"
             ],
             [
              0.4444444444444444,
              "#bd3786"
             ],
             [
              0.5555555555555556,
              "#d8576b"
             ],
             [
              0.6666666666666666,
              "#ed7953"
             ],
             [
              0.7777777777777778,
              "#fb9f3a"
             ],
             [
              0.8888888888888888,
              "#fdca26"
             ],
             [
              1,
              "#f0f921"
             ]
            ],
            "type": "heatmapgl"
           }
          ],
          "histogram": [
           {
            "marker": {
             "pattern": {
              "fillmode": "overlay",
              "size": 10,
              "solidity": 0.2
             }
            },
            "type": "histogram"
           }
          ],
          "histogram2d": [
           {
            "colorbar": {
             "outlinewidth": 0,
             "ticks": ""
            },
            "colorscale": [
             [
              0,
              "#0d0887"
             ],
             [
              0.1111111111111111,
              "#46039f"
             ],
             [
              0.2222222222222222,
              "#7201a8"
             ],
             [
              0.3333333333333333,
              "#9c179e"
             ],
             [
              0.4444444444444444,
              "#bd3786"
             ],
             [
              0.5555555555555556,
              "#d8576b"
             ],
             [
              0.6666666666666666,
              "#ed7953"
             ],
             [
              0.7777777777777778,
              "#fb9f3a"
             ],
             [
              0.8888888888888888,
              "#fdca26"
             ],
             [
              1,
              "#f0f921"
             ]
            ],
            "type": "histogram2d"
           }
          ],
          "histogram2dcontour": [
           {
            "colorbar": {
             "outlinewidth": 0,
             "ticks": ""
            },
            "colorscale": [
             [
              0,
              "#0d0887"
             ],
             [
              0.1111111111111111,
              "#46039f"
             ],
             [
              0.2222222222222222,
              "#7201a8"
             ],
             [
              0.3333333333333333,
              "#9c179e"
             ],
             [
              0.4444444444444444,
              "#bd3786"
             ],
             [
              0.5555555555555556,
              "#d8576b"
             ],
             [
              0.6666666666666666,
              "#ed7953"
             ],
             [
              0.7777777777777778,
              "#fb9f3a"
             ],
             [
              0.8888888888888888,
              "#fdca26"
             ],
             [
              1,
              "#f0f921"
             ]
            ],
            "type": "histogram2dcontour"
           }
          ],
          "mesh3d": [
           {
            "colorbar": {
             "outlinewidth": 0,
             "ticks": ""
            },
            "type": "mesh3d"
           }
          ],
          "parcoords": [
           {
            "line": {
             "colorbar": {
              "outlinewidth": 0,
              "ticks": ""
             }
            },
            "type": "parcoords"
           }
          ],
          "pie": [
           {
            "automargin": true,
            "type": "pie"
           }
          ],
          "scatter": [
           {
            "fillpattern": {
             "fillmode": "overlay",
             "size": 10,
             "solidity": 0.2
            },
            "type": "scatter"
           }
          ],
          "scatter3d": [
           {
            "line": {
             "colorbar": {
              "outlinewidth": 0,
              "ticks": ""
             }
            },
            "marker": {
             "colorbar": {
              "outlinewidth": 0,
              "ticks": ""
             }
            },
            "type": "scatter3d"
           }
          ],
          "scattercarpet": [
           {
            "marker": {
             "colorbar": {
              "outlinewidth": 0,
              "ticks": ""
             }
            },
            "type": "scattercarpet"
           }
          ],
          "scattergeo": [
           {
            "marker": {
             "colorbar": {
              "outlinewidth": 0,
              "ticks": ""
             }
            },
            "type": "scattergeo"
           }
          ],
          "scattergl": [
           {
            "marker": {
             "colorbar": {
              "outlinewidth": 0,
              "ticks": ""
             }
            },
            "type": "scattergl"
           }
          ],
          "scattermapbox": [
           {
            "marker": {
             "colorbar": {
              "outlinewidth": 0,
              "ticks": ""
             }
            },
            "type": "scattermapbox"
           }
          ],
          "scatterpolar": [
           {
            "marker": {
             "colorbar": {
              "outlinewidth": 0,
              "ticks": ""
             }
            },
            "type": "scatterpolar"
           }
          ],
          "scatterpolargl": [
           {
            "marker": {
             "colorbar": {
              "outlinewidth": 0,
              "ticks": ""
             }
            },
            "type": "scatterpolargl"
           }
          ],
          "scatterternary": [
           {
            "marker": {
             "colorbar": {
              "outlinewidth": 0,
              "ticks": ""
             }
            },
            "type": "scatterternary"
           }
          ],
          "surface": [
           {
            "colorbar": {
             "outlinewidth": 0,
             "ticks": ""
            },
            "colorscale": [
             [
              0,
              "#0d0887"
             ],
             [
              0.1111111111111111,
              "#46039f"
             ],
             [
              0.2222222222222222,
              "#7201a8"
             ],
             [
              0.3333333333333333,
              "#9c179e"
             ],
             [
              0.4444444444444444,
              "#bd3786"
             ],
             [
              0.5555555555555556,
              "#d8576b"
             ],
             [
              0.6666666666666666,
              "#ed7953"
             ],
             [
              0.7777777777777778,
              "#fb9f3a"
             ],
             [
              0.8888888888888888,
              "#fdca26"
             ],
             [
              1,
              "#f0f921"
             ]
            ],
            "type": "surface"
           }
          ],
          "table": [
           {
            "cells": {
             "fill": {
              "color": "#EBF0F8"
             },
             "line": {
              "color": "white"
             }
            },
            "header": {
             "fill": {
              "color": "#C8D4E3"
             },
             "line": {
              "color": "white"
             }
            },
            "type": "table"
           }
          ]
         },
         "layout": {
          "annotationdefaults": {
           "arrowcolor": "#2a3f5f",
           "arrowhead": 0,
           "arrowwidth": 1
          },
          "autotypenumbers": "strict",
          "coloraxis": {
           "colorbar": {
            "outlinewidth": 0,
            "ticks": ""
           }
          },
          "colorscale": {
           "diverging": [
            [
             0,
             "#8e0152"
            ],
            [
             0.1,
             "#c51b7d"
            ],
            [
             0.2,
             "#de77ae"
            ],
            [
             0.3,
             "#f1b6da"
            ],
            [
             0.4,
             "#fde0ef"
            ],
            [
             0.5,
             "#f7f7f7"
            ],
            [
             0.6,
             "#e6f5d0"
            ],
            [
             0.7,
             "#b8e186"
            ],
            [
             0.8,
             "#7fbc41"
            ],
            [
             0.9,
             "#4d9221"
            ],
            [
             1,
             "#276419"
            ]
           ],
           "sequential": [
            [
             0,
             "#0d0887"
            ],
            [
             0.1111111111111111,
             "#46039f"
            ],
            [
             0.2222222222222222,
             "#7201a8"
            ],
            [
             0.3333333333333333,
             "#9c179e"
            ],
            [
             0.4444444444444444,
             "#bd3786"
            ],
            [
             0.5555555555555556,
             "#d8576b"
            ],
            [
             0.6666666666666666,
             "#ed7953"
            ],
            [
             0.7777777777777778,
             "#fb9f3a"
            ],
            [
             0.8888888888888888,
             "#fdca26"
            ],
            [
             1,
             "#f0f921"
            ]
           ],
           "sequentialminus": [
            [
             0,
             "#0d0887"
            ],
            [
             0.1111111111111111,
             "#46039f"
            ],
            [
             0.2222222222222222,
             "#7201a8"
            ],
            [
             0.3333333333333333,
             "#9c179e"
            ],
            [
             0.4444444444444444,
             "#bd3786"
            ],
            [
             0.5555555555555556,
             "#d8576b"
            ],
            [
             0.6666666666666666,
             "#ed7953"
            ],
            [
             0.7777777777777778,
             "#fb9f3a"
            ],
            [
             0.8888888888888888,
             "#fdca26"
            ],
            [
             1,
             "#f0f921"
            ]
           ]
          },
          "colorway": [
           "#636efa",
           "#EF553B",
           "#00cc96",
           "#ab63fa",
           "#FFA15A",
           "#19d3f3",
           "#FF6692",
           "#B6E880",
           "#FF97FF",
           "#FECB52"
          ],
          "font": {
           "color": "#2a3f5f"
          },
          "geo": {
           "bgcolor": "white",
           "lakecolor": "white",
           "landcolor": "#E5ECF6",
           "showlakes": true,
           "showland": true,
           "subunitcolor": "white"
          },
          "hoverlabel": {
           "align": "left"
          },
          "hovermode": "closest",
          "mapbox": {
           "style": "light"
          },
          "paper_bgcolor": "white",
          "plot_bgcolor": "#E5ECF6",
          "polar": {
           "angularaxis": {
            "gridcolor": "white",
            "linecolor": "white",
            "ticks": ""
           },
           "bgcolor": "#E5ECF6",
           "radialaxis": {
            "gridcolor": "white",
            "linecolor": "white",
            "ticks": ""
           }
          },
          "scene": {
           "xaxis": {
            "backgroundcolor": "#E5ECF6",
            "gridcolor": "white",
            "gridwidth": 2,
            "linecolor": "white",
            "showbackground": true,
            "ticks": "",
            "zerolinecolor": "white"
           },
           "yaxis": {
            "backgroundcolor": "#E5ECF6",
            "gridcolor": "white",
            "gridwidth": 2,
            "linecolor": "white",
            "showbackground": true,
            "ticks": "",
            "zerolinecolor": "white"
           },
           "zaxis": {
            "backgroundcolor": "#E5ECF6",
            "gridcolor": "white",
            "gridwidth": 2,
            "linecolor": "white",
            "showbackground": true,
            "ticks": "",
            "zerolinecolor": "white"
           }
          },
          "shapedefaults": {
           "line": {
            "color": "#2a3f5f"
           }
          },
          "ternary": {
           "aaxis": {
            "gridcolor": "white",
            "linecolor": "white",
            "ticks": ""
           },
           "baxis": {
            "gridcolor": "white",
            "linecolor": "white",
            "ticks": ""
           },
           "bgcolor": "#E5ECF6",
           "caxis": {
            "gridcolor": "white",
            "linecolor": "white",
            "ticks": ""
           }
          },
          "title": {
           "x": 0.05
          },
          "xaxis": {
           "automargin": true,
           "gridcolor": "white",
           "linecolor": "white",
           "ticks": "",
           "title": {
            "standoff": 15
           },
           "zerolinecolor": "white",
           "zerolinewidth": 2
          },
          "yaxis": {
           "automargin": true,
           "gridcolor": "white",
           "linecolor": "white",
           "ticks": "",
           "title": {
            "standoff": 15
           },
           "zerolinecolor": "white",
           "zerolinewidth": 2
          }
         }
        },
        "title": {
         "font": {
          "color": "#4D5663"
         }
        },
        "xaxis": {
         "gridcolor": "#E1E5ED",
         "showgrid": true,
         "tickfont": {
          "color": "#4D5663"
         },
         "title": {
          "font": {
           "color": "#4D5663"
          },
          "text": ""
         },
         "zerolinecolor": "#E1E5ED"
        },
        "yaxis": {
         "gridcolor": "#E1E5ED",
         "showgrid": true,
         "tickfont": {
          "color": "#4D5663"
         },
         "title": {
          "font": {
           "color": "#4D5663"
          },
          "text": ""
         },
         "zerolinecolor": "#E1E5ED"
        }
       }
      },
      "text/html": [
       "<div>                            <div id=\"23904a25-de8f-42d5-8bbf-3e25f4b42cde\" class=\"plotly-graph-div\" style=\"height:525px; width:100%;\"></div>            <script type=\"text/javascript\">                require([\"plotly\"], function(Plotly) {                    window.PLOTLYENV=window.PLOTLYENV || {};\n",
       "                    window.PLOTLYENV.BASE_URL='https://plot.ly';                                    if (document.getElementById(\"23904a25-de8f-42d5-8bbf-3e25f4b42cde\")) {                    Plotly.newPlot(                        \"23904a25-de8f-42d5-8bbf-3e25f4b42cde\",                        [{\"marker\":{\"color\":\"rgba(255, 153, 51, 0.6)\",\"line\":{\"color\":\"rgba(255, 153, 51, 1.0)\",\"width\":1}},\"name\":\"Values\",\"orientation\":\"v\",\"text\":\"\",\"x\":[\"A\",\"B\",\"C\"],\"y\":[32,43,50],\"type\":\"bar\"}],                        {\"legend\":{\"bgcolor\":\"#F5F6F9\",\"font\":{\"color\":\"#4D5663\"}},\"paper_bgcolor\":\"#F5F6F9\",\"plot_bgcolor\":\"#F5F6F9\",\"template\":{\"data\":{\"barpolar\":[{\"marker\":{\"line\":{\"color\":\"#E5ECF6\",\"width\":0.5},\"pattern\":{\"fillmode\":\"overlay\",\"size\":10,\"solidity\":0.2}},\"type\":\"barpolar\"}],\"bar\":[{\"error_x\":{\"color\":\"#2a3f5f\"},\"error_y\":{\"color\":\"#2a3f5f\"},\"marker\":{\"line\":{\"color\":\"#E5ECF6\",\"width\":0.5},\"pattern\":{\"fillmode\":\"overlay\",\"size\":10,\"solidity\":0.2}},\"type\":\"bar\"}],\"carpet\":[{\"aaxis\":{\"endlinecolor\":\"#2a3f5f\",\"gridcolor\":\"white\",\"linecolor\":\"white\",\"minorgridcolor\":\"white\",\"startlinecolor\":\"#2a3f5f\"},\"baxis\":{\"endlinecolor\":\"#2a3f5f\",\"gridcolor\":\"white\",\"linecolor\":\"white\",\"minorgridcolor\":\"white\",\"startlinecolor\":\"#2a3f5f\"},\"type\":\"carpet\"}],\"choropleth\":[{\"colorbar\":{\"outlinewidth\":0,\"ticks\":\"\"},\"type\":\"choropleth\"}],\"contourcarpet\":[{\"colorbar\":{\"outlinewidth\":0,\"ticks\":\"\"},\"type\":\"contourcarpet\"}],\"contour\":[{\"colorbar\":{\"outlinewidth\":0,\"ticks\":\"\"},\"colorscale\":[[0.0,\"#0d0887\"],[0.1111111111111111,\"#46039f\"],[0.2222222222222222,\"#7201a8\"],[0.3333333333333333,\"#9c179e\"],[0.4444444444444444,\"#bd3786\"],[0.5555555555555556,\"#d8576b\"],[0.6666666666666666,\"#ed7953\"],[0.7777777777777778,\"#fb9f3a\"],[0.8888888888888888,\"#fdca26\"],[1.0,\"#f0f921\"]],\"type\":\"contour\"}],\"heatmapgl\":[{\"colorbar\":{\"outlinewidth\":0,\"ticks\":\"\"},\"colorscale\":[[0.0,\"#0d0887\"],[0.1111111111111111,\"#46039f\"],[0.2222222222222222,\"#7201a8\"],[0.3333333333333333,\"#9c179e\"],[0.4444444444444444,\"#bd3786\"],[0.5555555555555556,\"#d8576b\"],[0.6666666666666666,\"#ed7953\"],[0.7777777777777778,\"#fb9f3a\"],[0.8888888888888888,\"#fdca26\"],[1.0,\"#f0f921\"]],\"type\":\"heatmapgl\"}],\"heatmap\":[{\"colorbar\":{\"outlinewidth\":0,\"ticks\":\"\"},\"colorscale\":[[0.0,\"#0d0887\"],[0.1111111111111111,\"#46039f\"],[0.2222222222222222,\"#7201a8\"],[0.3333333333333333,\"#9c179e\"],[0.4444444444444444,\"#bd3786\"],[0.5555555555555556,\"#d8576b\"],[0.6666666666666666,\"#ed7953\"],[0.7777777777777778,\"#fb9f3a\"],[0.8888888888888888,\"#fdca26\"],[1.0,\"#f0f921\"]],\"type\":\"heatmap\"}],\"histogram2dcontour\":[{\"colorbar\":{\"outlinewidth\":0,\"ticks\":\"\"},\"colorscale\":[[0.0,\"#0d0887\"],[0.1111111111111111,\"#46039f\"],[0.2222222222222222,\"#7201a8\"],[0.3333333333333333,\"#9c179e\"],[0.4444444444444444,\"#bd3786\"],[0.5555555555555556,\"#d8576b\"],[0.6666666666666666,\"#ed7953\"],[0.7777777777777778,\"#fb9f3a\"],[0.8888888888888888,\"#fdca26\"],[1.0,\"#f0f921\"]],\"type\":\"histogram2dcontour\"}],\"histogram2d\":[{\"colorbar\":{\"outlinewidth\":0,\"ticks\":\"\"},\"colorscale\":[[0.0,\"#0d0887\"],[0.1111111111111111,\"#46039f\"],[0.2222222222222222,\"#7201a8\"],[0.3333333333333333,\"#9c179e\"],[0.4444444444444444,\"#bd3786\"],[0.5555555555555556,\"#d8576b\"],[0.6666666666666666,\"#ed7953\"],[0.7777777777777778,\"#fb9f3a\"],[0.8888888888888888,\"#fdca26\"],[1.0,\"#f0f921\"]],\"type\":\"histogram2d\"}],\"histogram\":[{\"marker\":{\"pattern\":{\"fillmode\":\"overlay\",\"size\":10,\"solidity\":0.2}},\"type\":\"histogram\"}],\"mesh3d\":[{\"colorbar\":{\"outlinewidth\":0,\"ticks\":\"\"},\"type\":\"mesh3d\"}],\"parcoords\":[{\"line\":{\"colorbar\":{\"outlinewidth\":0,\"ticks\":\"\"}},\"type\":\"parcoords\"}],\"pie\":[{\"automargin\":true,\"type\":\"pie\"}],\"scatter3d\":[{\"line\":{\"colorbar\":{\"outlinewidth\":0,\"ticks\":\"\"}},\"marker\":{\"colorbar\":{\"outlinewidth\":0,\"ticks\":\"\"}},\"type\":\"scatter3d\"}],\"scattercarpet\":[{\"marker\":{\"colorbar\":{\"outlinewidth\":0,\"ticks\":\"\"}},\"type\":\"scattercarpet\"}],\"scattergeo\":[{\"marker\":{\"colorbar\":{\"outlinewidth\":0,\"ticks\":\"\"}},\"type\":\"scattergeo\"}],\"scattergl\":[{\"marker\":{\"colorbar\":{\"outlinewidth\":0,\"ticks\":\"\"}},\"type\":\"scattergl\"}],\"scattermapbox\":[{\"marker\":{\"colorbar\":{\"outlinewidth\":0,\"ticks\":\"\"}},\"type\":\"scattermapbox\"}],\"scatterpolargl\":[{\"marker\":{\"colorbar\":{\"outlinewidth\":0,\"ticks\":\"\"}},\"type\":\"scatterpolargl\"}],\"scatterpolar\":[{\"marker\":{\"colorbar\":{\"outlinewidth\":0,\"ticks\":\"\"}},\"type\":\"scatterpolar\"}],\"scatter\":[{\"fillpattern\":{\"fillmode\":\"overlay\",\"size\":10,\"solidity\":0.2},\"type\":\"scatter\"}],\"scatterternary\":[{\"marker\":{\"colorbar\":{\"outlinewidth\":0,\"ticks\":\"\"}},\"type\":\"scatterternary\"}],\"surface\":[{\"colorbar\":{\"outlinewidth\":0,\"ticks\":\"\"},\"colorscale\":[[0.0,\"#0d0887\"],[0.1111111111111111,\"#46039f\"],[0.2222222222222222,\"#7201a8\"],[0.3333333333333333,\"#9c179e\"],[0.4444444444444444,\"#bd3786\"],[0.5555555555555556,\"#d8576b\"],[0.6666666666666666,\"#ed7953\"],[0.7777777777777778,\"#fb9f3a\"],[0.8888888888888888,\"#fdca26\"],[1.0,\"#f0f921\"]],\"type\":\"surface\"}],\"table\":[{\"cells\":{\"fill\":{\"color\":\"#EBF0F8\"},\"line\":{\"color\":\"white\"}},\"header\":{\"fill\":{\"color\":\"#C8D4E3\"},\"line\":{\"color\":\"white\"}},\"type\":\"table\"}]},\"layout\":{\"annotationdefaults\":{\"arrowcolor\":\"#2a3f5f\",\"arrowhead\":0,\"arrowwidth\":1},\"autotypenumbers\":\"strict\",\"coloraxis\":{\"colorbar\":{\"outlinewidth\":0,\"ticks\":\"\"}},\"colorscale\":{\"diverging\":[[0,\"#8e0152\"],[0.1,\"#c51b7d\"],[0.2,\"#de77ae\"],[0.3,\"#f1b6da\"],[0.4,\"#fde0ef\"],[0.5,\"#f7f7f7\"],[0.6,\"#e6f5d0\"],[0.7,\"#b8e186\"],[0.8,\"#7fbc41\"],[0.9,\"#4d9221\"],[1,\"#276419\"]],\"sequential\":[[0.0,\"#0d0887\"],[0.1111111111111111,\"#46039f\"],[0.2222222222222222,\"#7201a8\"],[0.3333333333333333,\"#9c179e\"],[0.4444444444444444,\"#bd3786\"],[0.5555555555555556,\"#d8576b\"],[0.6666666666666666,\"#ed7953\"],[0.7777777777777778,\"#fb9f3a\"],[0.8888888888888888,\"#fdca26\"],[1.0,\"#f0f921\"]],\"sequentialminus\":[[0.0,\"#0d0887\"],[0.1111111111111111,\"#46039f\"],[0.2222222222222222,\"#7201a8\"],[0.3333333333333333,\"#9c179e\"],[0.4444444444444444,\"#bd3786\"],[0.5555555555555556,\"#d8576b\"],[0.6666666666666666,\"#ed7953\"],[0.7777777777777778,\"#fb9f3a\"],[0.8888888888888888,\"#fdca26\"],[1.0,\"#f0f921\"]]},\"colorway\":[\"#636efa\",\"#EF553B\",\"#00cc96\",\"#ab63fa\",\"#FFA15A\",\"#19d3f3\",\"#FF6692\",\"#B6E880\",\"#FF97FF\",\"#FECB52\"],\"font\":{\"color\":\"#2a3f5f\"},\"geo\":{\"bgcolor\":\"white\",\"lakecolor\":\"white\",\"landcolor\":\"#E5ECF6\",\"showlakes\":true,\"showland\":true,\"subunitcolor\":\"white\"},\"hoverlabel\":{\"align\":\"left\"},\"hovermode\":\"closest\",\"mapbox\":{\"style\":\"light\"},\"paper_bgcolor\":\"white\",\"plot_bgcolor\":\"#E5ECF6\",\"polar\":{\"angularaxis\":{\"gridcolor\":\"white\",\"linecolor\":\"white\",\"ticks\":\"\"},\"bgcolor\":\"#E5ECF6\",\"radialaxis\":{\"gridcolor\":\"white\",\"linecolor\":\"white\",\"ticks\":\"\"}},\"scene\":{\"xaxis\":{\"backgroundcolor\":\"#E5ECF6\",\"gridcolor\":\"white\",\"gridwidth\":2,\"linecolor\":\"white\",\"showbackground\":true,\"ticks\":\"\",\"zerolinecolor\":\"white\"},\"yaxis\":{\"backgroundcolor\":\"#E5ECF6\",\"gridcolor\":\"white\",\"gridwidth\":2,\"linecolor\":\"white\",\"showbackground\":true,\"ticks\":\"\",\"zerolinecolor\":\"white\"},\"zaxis\":{\"backgroundcolor\":\"#E5ECF6\",\"gridcolor\":\"white\",\"gridwidth\":2,\"linecolor\":\"white\",\"showbackground\":true,\"ticks\":\"\",\"zerolinecolor\":\"white\"}},\"shapedefaults\":{\"line\":{\"color\":\"#2a3f5f\"}},\"ternary\":{\"aaxis\":{\"gridcolor\":\"white\",\"linecolor\":\"white\",\"ticks\":\"\"},\"baxis\":{\"gridcolor\":\"white\",\"linecolor\":\"white\",\"ticks\":\"\"},\"bgcolor\":\"#E5ECF6\",\"caxis\":{\"gridcolor\":\"white\",\"linecolor\":\"white\",\"ticks\":\"\"}},\"title\":{\"x\":0.05},\"xaxis\":{\"automargin\":true,\"gridcolor\":\"white\",\"linecolor\":\"white\",\"ticks\":\"\",\"title\":{\"standoff\":15},\"zerolinecolor\":\"white\",\"zerolinewidth\":2},\"yaxis\":{\"automargin\":true,\"gridcolor\":\"white\",\"linecolor\":\"white\",\"ticks\":\"\",\"title\":{\"standoff\":15},\"zerolinecolor\":\"white\",\"zerolinewidth\":2}}},\"title\":{\"font\":{\"color\":\"#4D5663\"}},\"xaxis\":{\"gridcolor\":\"#E1E5ED\",\"showgrid\":true,\"tickfont\":{\"color\":\"#4D5663\"},\"title\":{\"font\":{\"color\":\"#4D5663\"},\"text\":\"\"},\"zerolinecolor\":\"#E1E5ED\"},\"yaxis\":{\"gridcolor\":\"#E1E5ED\",\"showgrid\":true,\"tickfont\":{\"color\":\"#4D5663\"},\"title\":{\"font\":{\"color\":\"#4D5663\"},\"text\":\"\"},\"zerolinecolor\":\"#E1E5ED\"}},                        {\"showLink\": true, \"linkText\": \"Export to plot.ly\", \"plotlyServerURL\": \"https://plot.ly\", \"responsive\": true}                    ).then(function(){\n",
       "                            \n",
       "var gd = document.getElementById('23904a25-de8f-42d5-8bbf-3e25f4b42cde');\n",
       "var x = new MutationObserver(function (mutations, observer) {{\n",
       "        var display = window.getComputedStyle(gd).display;\n",
       "        if (!display || display === 'none') {{\n",
       "            console.log([gd, 'removed!']);\n",
       "            Plotly.purge(gd);\n",
       "            observer.disconnect();\n",
       "        }}\n",
       "}});\n",
       "\n",
       "// Listen for the removal of the full notebook cells\n",
       "var notebookContainer = gd.closest('#notebook-container');\n",
       "if (notebookContainer) {{\n",
       "    x.observe(notebookContainer, {childList: true});\n",
       "}}\n",
       "\n",
       "// Listen for the clearing of the current output cell\n",
       "var outputEl = gd.closest('.output');\n",
       "if (outputEl) {{\n",
       "    x.observe(outputEl, {childList: true});\n",
       "}}\n",
       "\n",
       "                        })                };                });            </script>        </div>"
      ]
     },
     "metadata": {},
     "output_type": "display_data"
    }
   ],
   "source": [
    "df2.iplot(kind='bar',x='Category',y='Values')"
   ]
  },
  {
   "cell_type": "code",
   "execution_count": 12,
   "metadata": {
    "collapsed": false
   },
   "outputs": [
    {
     "data": {
      "application/vnd.plotly.v1+json": {
       "config": {
        "linkText": "Export to plot.ly",
        "plotlyServerURL": "https://plot.ly",
        "showLink": true
       },
       "data": [
        {
         "marker": {
          "color": "rgba(255, 153, 51, 0.6)",
          "line": {
           "color": "rgba(255, 153, 51, 1.0)",
           "width": 1
          }
         },
         "name": "None",
         "orientation": "v",
         "text": "",
         "type": "bar",
         "x": [
          "A",
          "B",
          "C",
          "D"
         ],
         "y": [
          100,
          100,
          100,
          100
         ]
        }
       ],
       "layout": {
        "legend": {
         "bgcolor": "#F5F6F9",
         "font": {
          "color": "#4D5663"
         }
        },
        "paper_bgcolor": "#F5F6F9",
        "plot_bgcolor": "#F5F6F9",
        "template": {
         "data": {
          "bar": [
           {
            "error_x": {
             "color": "#2a3f5f"
            },
            "error_y": {
             "color": "#2a3f5f"
            },
            "marker": {
             "line": {
              "color": "#E5ECF6",
              "width": 0.5
             },
             "pattern": {
              "fillmode": "overlay",
              "size": 10,
              "solidity": 0.2
             }
            },
            "type": "bar"
           }
          ],
          "barpolar": [
           {
            "marker": {
             "line": {
              "color": "#E5ECF6",
              "width": 0.5
             },
             "pattern": {
              "fillmode": "overlay",
              "size": 10,
              "solidity": 0.2
             }
            },
            "type": "barpolar"
           }
          ],
          "carpet": [
           {
            "aaxis": {
             "endlinecolor": "#2a3f5f",
             "gridcolor": "white",
             "linecolor": "white",
             "minorgridcolor": "white",
             "startlinecolor": "#2a3f5f"
            },
            "baxis": {
             "endlinecolor": "#2a3f5f",
             "gridcolor": "white",
             "linecolor": "white",
             "minorgridcolor": "white",
             "startlinecolor": "#2a3f5f"
            },
            "type": "carpet"
           }
          ],
          "choropleth": [
           {
            "colorbar": {
             "outlinewidth": 0,
             "ticks": ""
            },
            "type": "choropleth"
           }
          ],
          "contour": [
           {
            "colorbar": {
             "outlinewidth": 0,
             "ticks": ""
            },
            "colorscale": [
             [
              0,
              "#0d0887"
             ],
             [
              0.1111111111111111,
              "#46039f"
             ],
             [
              0.2222222222222222,
              "#7201a8"
             ],
             [
              0.3333333333333333,
              "#9c179e"
             ],
             [
              0.4444444444444444,
              "#bd3786"
             ],
             [
              0.5555555555555556,
              "#d8576b"
             ],
             [
              0.6666666666666666,
              "#ed7953"
             ],
             [
              0.7777777777777778,
              "#fb9f3a"
             ],
             [
              0.8888888888888888,
              "#fdca26"
             ],
             [
              1,
              "#f0f921"
             ]
            ],
            "type": "contour"
           }
          ],
          "contourcarpet": [
           {
            "colorbar": {
             "outlinewidth": 0,
             "ticks": ""
            },
            "type": "contourcarpet"
           }
          ],
          "heatmap": [
           {
            "colorbar": {
             "outlinewidth": 0,
             "ticks": ""
            },
            "colorscale": [
             [
              0,
              "#0d0887"
             ],
             [
              0.1111111111111111,
              "#46039f"
             ],
             [
              0.2222222222222222,
              "#7201a8"
             ],
             [
              0.3333333333333333,
              "#9c179e"
             ],
             [
              0.4444444444444444,
              "#bd3786"
             ],
             [
              0.5555555555555556,
              "#d8576b"
             ],
             [
              0.6666666666666666,
              "#ed7953"
             ],
             [
              0.7777777777777778,
              "#fb9f3a"
             ],
             [
              0.8888888888888888,
              "#fdca26"
             ],
             [
              1,
              "#f0f921"
             ]
            ],
            "type": "heatmap"
           }
          ],
          "heatmapgl": [
           {
            "colorbar": {
             "outlinewidth": 0,
             "ticks": ""
            },
            "colorscale": [
             [
              0,
              "#0d0887"
             ],
             [
              0.1111111111111111,
              "#46039f"
             ],
             [
              0.2222222222222222,
              "#7201a8"
             ],
             [
              0.3333333333333333,
              "#9c179e"
             ],
             [
              0.4444444444444444,
              "#bd3786"
             ],
             [
              0.5555555555555556,
              "#d8576b"
             ],
             [
              0.6666666666666666,
              "#ed7953"
             ],
             [
              0.7777777777777778,
              "#fb9f3a"
             ],
             [
              0.8888888888888888,
              "#fdca26"
             ],
             [
              1,
              "#f0f921"
             ]
            ],
            "type": "heatmapgl"
           }
          ],
          "histogram": [
           {
            "marker": {
             "pattern": {
              "fillmode": "overlay",
              "size": 10,
              "solidity": 0.2
             }
            },
            "type": "histogram"
           }
          ],
          "histogram2d": [
           {
            "colorbar": {
             "outlinewidth": 0,
             "ticks": ""
            },
            "colorscale": [
             [
              0,
              "#0d0887"
             ],
             [
              0.1111111111111111,
              "#46039f"
             ],
             [
              0.2222222222222222,
              "#7201a8"
             ],
             [
              0.3333333333333333,
              "#9c179e"
             ],
             [
              0.4444444444444444,
              "#bd3786"
             ],
             [
              0.5555555555555556,
              "#d8576b"
             ],
             [
              0.6666666666666666,
              "#ed7953"
             ],
             [
              0.7777777777777778,
              "#fb9f3a"
             ],
             [
              0.8888888888888888,
              "#fdca26"
             ],
             [
              1,
              "#f0f921"
             ]
            ],
            "type": "histogram2d"
           }
          ],
          "histogram2dcontour": [
           {
            "colorbar": {
             "outlinewidth": 0,
             "ticks": ""
            },
            "colorscale": [
             [
              0,
              "#0d0887"
             ],
             [
              0.1111111111111111,
              "#46039f"
             ],
             [
              0.2222222222222222,
              "#7201a8"
             ],
             [
              0.3333333333333333,
              "#9c179e"
             ],
             [
              0.4444444444444444,
              "#bd3786"
             ],
             [
              0.5555555555555556,
              "#d8576b"
             ],
             [
              0.6666666666666666,
              "#ed7953"
             ],
             [
              0.7777777777777778,
              "#fb9f3a"
             ],
             [
              0.8888888888888888,
              "#fdca26"
             ],
             [
              1,
              "#f0f921"
             ]
            ],
            "type": "histogram2dcontour"
           }
          ],
          "mesh3d": [
           {
            "colorbar": {
             "outlinewidth": 0,
             "ticks": ""
            },
            "type": "mesh3d"
           }
          ],
          "parcoords": [
           {
            "line": {
             "colorbar": {
              "outlinewidth": 0,
              "ticks": ""
             }
            },
            "type": "parcoords"
           }
          ],
          "pie": [
           {
            "automargin": true,
            "type": "pie"
           }
          ],
          "scatter": [
           {
            "fillpattern": {
             "fillmode": "overlay",
             "size": 10,
             "solidity": 0.2
            },
            "type": "scatter"
           }
          ],
          "scatter3d": [
           {
            "line": {
             "colorbar": {
              "outlinewidth": 0,
              "ticks": ""
             }
            },
            "marker": {
             "colorbar": {
              "outlinewidth": 0,
              "ticks": ""
             }
            },
            "type": "scatter3d"
           }
          ],
          "scattercarpet": [
           {
            "marker": {
             "colorbar": {
              "outlinewidth": 0,
              "ticks": ""
             }
            },
            "type": "scattercarpet"
           }
          ],
          "scattergeo": [
           {
            "marker": {
             "colorbar": {
              "outlinewidth": 0,
              "ticks": ""
             }
            },
            "type": "scattergeo"
           }
          ],
          "scattergl": [
           {
            "marker": {
             "colorbar": {
              "outlinewidth": 0,
              "ticks": ""
             }
            },
            "type": "scattergl"
           }
          ],
          "scattermapbox": [
           {
            "marker": {
             "colorbar": {
              "outlinewidth": 0,
              "ticks": ""
             }
            },
            "type": "scattermapbox"
           }
          ],
          "scatterpolar": [
           {
            "marker": {
             "colorbar": {
              "outlinewidth": 0,
              "ticks": ""
             }
            },
            "type": "scatterpolar"
           }
          ],
          "scatterpolargl": [
           {
            "marker": {
             "colorbar": {
              "outlinewidth": 0,
              "ticks": ""
             }
            },
            "type": "scatterpolargl"
           }
          ],
          "scatterternary": [
           {
            "marker": {
             "colorbar": {
              "outlinewidth": 0,
              "ticks": ""
             }
            },
            "type": "scatterternary"
           }
          ],
          "surface": [
           {
            "colorbar": {
             "outlinewidth": 0,
             "ticks": ""
            },
            "colorscale": [
             [
              0,
              "#0d0887"
             ],
             [
              0.1111111111111111,
              "#46039f"
             ],
             [
              0.2222222222222222,
              "#7201a8"
             ],
             [
              0.3333333333333333,
              "#9c179e"
             ],
             [
              0.4444444444444444,
              "#bd3786"
             ],
             [
              0.5555555555555556,
              "#d8576b"
             ],
             [
              0.6666666666666666,
              "#ed7953"
             ],
             [
              0.7777777777777778,
              "#fb9f3a"
             ],
             [
              0.8888888888888888,
              "#fdca26"
             ],
             [
              1,
              "#f0f921"
             ]
            ],
            "type": "surface"
           }
          ],
          "table": [
           {
            "cells": {
             "fill": {
              "color": "#EBF0F8"
             },
             "line": {
              "color": "white"
             }
            },
            "header": {
             "fill": {
              "color": "#C8D4E3"
             },
             "line": {
              "color": "white"
             }
            },
            "type": "table"
           }
          ]
         },
         "layout": {
          "annotationdefaults": {
           "arrowcolor": "#2a3f5f",
           "arrowhead": 0,
           "arrowwidth": 1
          },
          "autotypenumbers": "strict",
          "coloraxis": {
           "colorbar": {
            "outlinewidth": 0,
            "ticks": ""
           }
          },
          "colorscale": {
           "diverging": [
            [
             0,
             "#8e0152"
            ],
            [
             0.1,
             "#c51b7d"
            ],
            [
             0.2,
             "#de77ae"
            ],
            [
             0.3,
             "#f1b6da"
            ],
            [
             0.4,
             "#fde0ef"
            ],
            [
             0.5,
             "#f7f7f7"
            ],
            [
             0.6,
             "#e6f5d0"
            ],
            [
             0.7,
             "#b8e186"
            ],
            [
             0.8,
             "#7fbc41"
            ],
            [
             0.9,
             "#4d9221"
            ],
            [
             1,
             "#276419"
            ]
           ],
           "sequential": [
            [
             0,
             "#0d0887"
            ],
            [
             0.1111111111111111,
             "#46039f"
            ],
            [
             0.2222222222222222,
             "#7201a8"
            ],
            [
             0.3333333333333333,
             "#9c179e"
            ],
            [
             0.4444444444444444,
             "#bd3786"
            ],
            [
             0.5555555555555556,
             "#d8576b"
            ],
            [
             0.6666666666666666,
             "#ed7953"
            ],
            [
             0.7777777777777778,
             "#fb9f3a"
            ],
            [
             0.8888888888888888,
             "#fdca26"
            ],
            [
             1,
             "#f0f921"
            ]
           ],
           "sequentialminus": [
            [
             0,
             "#0d0887"
            ],
            [
             0.1111111111111111,
             "#46039f"
            ],
            [
             0.2222222222222222,
             "#7201a8"
            ],
            [
             0.3333333333333333,
             "#9c179e"
            ],
            [
             0.4444444444444444,
             "#bd3786"
            ],
            [
             0.5555555555555556,
             "#d8576b"
            ],
            [
             0.6666666666666666,
             "#ed7953"
            ],
            [
             0.7777777777777778,
             "#fb9f3a"
            ],
            [
             0.8888888888888888,
             "#fdca26"
            ],
            [
             1,
             "#f0f921"
            ]
           ]
          },
          "colorway": [
           "#636efa",
           "#EF553B",
           "#00cc96",
           "#ab63fa",
           "#FFA15A",
           "#19d3f3",
           "#FF6692",
           "#B6E880",
           "#FF97FF",
           "#FECB52"
          ],
          "font": {
           "color": "#2a3f5f"
          },
          "geo": {
           "bgcolor": "white",
           "lakecolor": "white",
           "landcolor": "#E5ECF6",
           "showlakes": true,
           "showland": true,
           "subunitcolor": "white"
          },
          "hoverlabel": {
           "align": "left"
          },
          "hovermode": "closest",
          "mapbox": {
           "style": "light"
          },
          "paper_bgcolor": "white",
          "plot_bgcolor": "#E5ECF6",
          "polar": {
           "angularaxis": {
            "gridcolor": "white",
            "linecolor": "white",
            "ticks": ""
           },
           "bgcolor": "#E5ECF6",
           "radialaxis": {
            "gridcolor": "white",
            "linecolor": "white",
            "ticks": ""
           }
          },
          "scene": {
           "xaxis": {
            "backgroundcolor": "#E5ECF6",
            "gridcolor": "white",
            "gridwidth": 2,
            "linecolor": "white",
            "showbackground": true,
            "ticks": "",
            "zerolinecolor": "white"
           },
           "yaxis": {
            "backgroundcolor": "#E5ECF6",
            "gridcolor": "white",
            "gridwidth": 2,
            "linecolor": "white",
            "showbackground": true,
            "ticks": "",
            "zerolinecolor": "white"
           },
           "zaxis": {
            "backgroundcolor": "#E5ECF6",
            "gridcolor": "white",
            "gridwidth": 2,
            "linecolor": "white",
            "showbackground": true,
            "ticks": "",
            "zerolinecolor": "white"
           }
          },
          "shapedefaults": {
           "line": {
            "color": "#2a3f5f"
           }
          },
          "ternary": {
           "aaxis": {
            "gridcolor": "white",
            "linecolor": "white",
            "ticks": ""
           },
           "baxis": {
            "gridcolor": "white",
            "linecolor": "white",
            "ticks": ""
           },
           "bgcolor": "#E5ECF6",
           "caxis": {
            "gridcolor": "white",
            "linecolor": "white",
            "ticks": ""
           }
          },
          "title": {
           "x": 0.05
          },
          "xaxis": {
           "automargin": true,
           "gridcolor": "white",
           "linecolor": "white",
           "ticks": "",
           "title": {
            "standoff": 15
           },
           "zerolinecolor": "white",
           "zerolinewidth": 2
          },
          "yaxis": {
           "automargin": true,
           "gridcolor": "white",
           "linecolor": "white",
           "ticks": "",
           "title": {
            "standoff": 15
           },
           "zerolinecolor": "white",
           "zerolinewidth": 2
          }
         }
        },
        "title": {
         "font": {
          "color": "#4D5663"
         }
        },
        "xaxis": {
         "gridcolor": "#E1E5ED",
         "showgrid": true,
         "tickfont": {
          "color": "#4D5663"
         },
         "title": {
          "font": {
           "color": "#4D5663"
          },
          "text": ""
         },
         "zerolinecolor": "#E1E5ED"
        },
        "yaxis": {
         "gridcolor": "#E1E5ED",
         "showgrid": true,
         "tickfont": {
          "color": "#4D5663"
         },
         "title": {
          "font": {
           "color": "#4D5663"
          },
          "text": ""
         },
         "zerolinecolor": "#E1E5ED"
        }
       }
      },
      "text/html": [
       "<div>                            <div id=\"5f59f9de-e1f3-415e-91f6-cdccb176c2fa\" class=\"plotly-graph-div\" style=\"height:525px; width:100%;\"></div>            <script type=\"text/javascript\">                require([\"plotly\"], function(Plotly) {                    window.PLOTLYENV=window.PLOTLYENV || {};\n",
       "                    window.PLOTLYENV.BASE_URL='https://plot.ly';                                    if (document.getElementById(\"5f59f9de-e1f3-415e-91f6-cdccb176c2fa\")) {                    Plotly.newPlot(                        \"5f59f9de-e1f3-415e-91f6-cdccb176c2fa\",                        [{\"marker\":{\"color\":\"rgba(255, 153, 51, 0.6)\",\"line\":{\"color\":\"rgba(255, 153, 51, 1.0)\",\"width\":1}},\"name\":\"None\",\"orientation\":\"v\",\"text\":\"\",\"x\":[\"A\",\"B\",\"C\",\"D\"],\"y\":[100,100,100,100],\"type\":\"bar\"}],                        {\"legend\":{\"bgcolor\":\"#F5F6F9\",\"font\":{\"color\":\"#4D5663\"}},\"paper_bgcolor\":\"#F5F6F9\",\"plot_bgcolor\":\"#F5F6F9\",\"template\":{\"data\":{\"barpolar\":[{\"marker\":{\"line\":{\"color\":\"#E5ECF6\",\"width\":0.5},\"pattern\":{\"fillmode\":\"overlay\",\"size\":10,\"solidity\":0.2}},\"type\":\"barpolar\"}],\"bar\":[{\"error_x\":{\"color\":\"#2a3f5f\"},\"error_y\":{\"color\":\"#2a3f5f\"},\"marker\":{\"line\":{\"color\":\"#E5ECF6\",\"width\":0.5},\"pattern\":{\"fillmode\":\"overlay\",\"size\":10,\"solidity\":0.2}},\"type\":\"bar\"}],\"carpet\":[{\"aaxis\":{\"endlinecolor\":\"#2a3f5f\",\"gridcolor\":\"white\",\"linecolor\":\"white\",\"minorgridcolor\":\"white\",\"startlinecolor\":\"#2a3f5f\"},\"baxis\":{\"endlinecolor\":\"#2a3f5f\",\"gridcolor\":\"white\",\"linecolor\":\"white\",\"minorgridcolor\":\"white\",\"startlinecolor\":\"#2a3f5f\"},\"type\":\"carpet\"}],\"choropleth\":[{\"colorbar\":{\"outlinewidth\":0,\"ticks\":\"\"},\"type\":\"choropleth\"}],\"contourcarpet\":[{\"colorbar\":{\"outlinewidth\":0,\"ticks\":\"\"},\"type\":\"contourcarpet\"}],\"contour\":[{\"colorbar\":{\"outlinewidth\":0,\"ticks\":\"\"},\"colorscale\":[[0.0,\"#0d0887\"],[0.1111111111111111,\"#46039f\"],[0.2222222222222222,\"#7201a8\"],[0.3333333333333333,\"#9c179e\"],[0.4444444444444444,\"#bd3786\"],[0.5555555555555556,\"#d8576b\"],[0.6666666666666666,\"#ed7953\"],[0.7777777777777778,\"#fb9f3a\"],[0.8888888888888888,\"#fdca26\"],[1.0,\"#f0f921\"]],\"type\":\"contour\"}],\"heatmapgl\":[{\"colorbar\":{\"outlinewidth\":0,\"ticks\":\"\"},\"colorscale\":[[0.0,\"#0d0887\"],[0.1111111111111111,\"#46039f\"],[0.2222222222222222,\"#7201a8\"],[0.3333333333333333,\"#9c179e\"],[0.4444444444444444,\"#bd3786\"],[0.5555555555555556,\"#d8576b\"],[0.6666666666666666,\"#ed7953\"],[0.7777777777777778,\"#fb9f3a\"],[0.8888888888888888,\"#fdca26\"],[1.0,\"#f0f921\"]],\"type\":\"heatmapgl\"}],\"heatmap\":[{\"colorbar\":{\"outlinewidth\":0,\"ticks\":\"\"},\"colorscale\":[[0.0,\"#0d0887\"],[0.1111111111111111,\"#46039f\"],[0.2222222222222222,\"#7201a8\"],[0.3333333333333333,\"#9c179e\"],[0.4444444444444444,\"#bd3786\"],[0.5555555555555556,\"#d8576b\"],[0.6666666666666666,\"#ed7953\"],[0.7777777777777778,\"#fb9f3a\"],[0.8888888888888888,\"#fdca26\"],[1.0,\"#f0f921\"]],\"type\":\"heatmap\"}],\"histogram2dcontour\":[{\"colorbar\":{\"outlinewidth\":0,\"ticks\":\"\"},\"colorscale\":[[0.0,\"#0d0887\"],[0.1111111111111111,\"#46039f\"],[0.2222222222222222,\"#7201a8\"],[0.3333333333333333,\"#9c179e\"],[0.4444444444444444,\"#bd3786\"],[0.5555555555555556,\"#d8576b\"],[0.6666666666666666,\"#ed7953\"],[0.7777777777777778,\"#fb9f3a\"],[0.8888888888888888,\"#fdca26\"],[1.0,\"#f0f921\"]],\"type\":\"histogram2dcontour\"}],\"histogram2d\":[{\"colorbar\":{\"outlinewidth\":0,\"ticks\":\"\"},\"colorscale\":[[0.0,\"#0d0887\"],[0.1111111111111111,\"#46039f\"],[0.2222222222222222,\"#7201a8\"],[0.3333333333333333,\"#9c179e\"],[0.4444444444444444,\"#bd3786\"],[0.5555555555555556,\"#d8576b\"],[0.6666666666666666,\"#ed7953\"],[0.7777777777777778,\"#fb9f3a\"],[0.8888888888888888,\"#fdca26\"],[1.0,\"#f0f921\"]],\"type\":\"histogram2d\"}],\"histogram\":[{\"marker\":{\"pattern\":{\"fillmode\":\"overlay\",\"size\":10,\"solidity\":0.2}},\"type\":\"histogram\"}],\"mesh3d\":[{\"colorbar\":{\"outlinewidth\":0,\"ticks\":\"\"},\"type\":\"mesh3d\"}],\"parcoords\":[{\"line\":{\"colorbar\":{\"outlinewidth\":0,\"ticks\":\"\"}},\"type\":\"parcoords\"}],\"pie\":[{\"automargin\":true,\"type\":\"pie\"}],\"scatter3d\":[{\"line\":{\"colorbar\":{\"outlinewidth\":0,\"ticks\":\"\"}},\"marker\":{\"colorbar\":{\"outlinewidth\":0,\"ticks\":\"\"}},\"type\":\"scatter3d\"}],\"scattercarpet\":[{\"marker\":{\"colorbar\":{\"outlinewidth\":0,\"ticks\":\"\"}},\"type\":\"scattercarpet\"}],\"scattergeo\":[{\"marker\":{\"colorbar\":{\"outlinewidth\":0,\"ticks\":\"\"}},\"type\":\"scattergeo\"}],\"scattergl\":[{\"marker\":{\"colorbar\":{\"outlinewidth\":0,\"ticks\":\"\"}},\"type\":\"scattergl\"}],\"scattermapbox\":[{\"marker\":{\"colorbar\":{\"outlinewidth\":0,\"ticks\":\"\"}},\"type\":\"scattermapbox\"}],\"scatterpolargl\":[{\"marker\":{\"colorbar\":{\"outlinewidth\":0,\"ticks\":\"\"}},\"type\":\"scatterpolargl\"}],\"scatterpolar\":[{\"marker\":{\"colorbar\":{\"outlinewidth\":0,\"ticks\":\"\"}},\"type\":\"scatterpolar\"}],\"scatter\":[{\"fillpattern\":{\"fillmode\":\"overlay\",\"size\":10,\"solidity\":0.2},\"type\":\"scatter\"}],\"scatterternary\":[{\"marker\":{\"colorbar\":{\"outlinewidth\":0,\"ticks\":\"\"}},\"type\":\"scatterternary\"}],\"surface\":[{\"colorbar\":{\"outlinewidth\":0,\"ticks\":\"\"},\"colorscale\":[[0.0,\"#0d0887\"],[0.1111111111111111,\"#46039f\"],[0.2222222222222222,\"#7201a8\"],[0.3333333333333333,\"#9c179e\"],[0.4444444444444444,\"#bd3786\"],[0.5555555555555556,\"#d8576b\"],[0.6666666666666666,\"#ed7953\"],[0.7777777777777778,\"#fb9f3a\"],[0.8888888888888888,\"#fdca26\"],[1.0,\"#f0f921\"]],\"type\":\"surface\"}],\"table\":[{\"cells\":{\"fill\":{\"color\":\"#EBF0F8\"},\"line\":{\"color\":\"white\"}},\"header\":{\"fill\":{\"color\":\"#C8D4E3\"},\"line\":{\"color\":\"white\"}},\"type\":\"table\"}]},\"layout\":{\"annotationdefaults\":{\"arrowcolor\":\"#2a3f5f\",\"arrowhead\":0,\"arrowwidth\":1},\"autotypenumbers\":\"strict\",\"coloraxis\":{\"colorbar\":{\"outlinewidth\":0,\"ticks\":\"\"}},\"colorscale\":{\"diverging\":[[0,\"#8e0152\"],[0.1,\"#c51b7d\"],[0.2,\"#de77ae\"],[0.3,\"#f1b6da\"],[0.4,\"#fde0ef\"],[0.5,\"#f7f7f7\"],[0.6,\"#e6f5d0\"],[0.7,\"#b8e186\"],[0.8,\"#7fbc41\"],[0.9,\"#4d9221\"],[1,\"#276419\"]],\"sequential\":[[0.0,\"#0d0887\"],[0.1111111111111111,\"#46039f\"],[0.2222222222222222,\"#7201a8\"],[0.3333333333333333,\"#9c179e\"],[0.4444444444444444,\"#bd3786\"],[0.5555555555555556,\"#d8576b\"],[0.6666666666666666,\"#ed7953\"],[0.7777777777777778,\"#fb9f3a\"],[0.8888888888888888,\"#fdca26\"],[1.0,\"#f0f921\"]],\"sequentialminus\":[[0.0,\"#0d0887\"],[0.1111111111111111,\"#46039f\"],[0.2222222222222222,\"#7201a8\"],[0.3333333333333333,\"#9c179e\"],[0.4444444444444444,\"#bd3786\"],[0.5555555555555556,\"#d8576b\"],[0.6666666666666666,\"#ed7953\"],[0.7777777777777778,\"#fb9f3a\"],[0.8888888888888888,\"#fdca26\"],[1.0,\"#f0f921\"]]},\"colorway\":[\"#636efa\",\"#EF553B\",\"#00cc96\",\"#ab63fa\",\"#FFA15A\",\"#19d3f3\",\"#FF6692\",\"#B6E880\",\"#FF97FF\",\"#FECB52\"],\"font\":{\"color\":\"#2a3f5f\"},\"geo\":{\"bgcolor\":\"white\",\"lakecolor\":\"white\",\"landcolor\":\"#E5ECF6\",\"showlakes\":true,\"showland\":true,\"subunitcolor\":\"white\"},\"hoverlabel\":{\"align\":\"left\"},\"hovermode\":\"closest\",\"mapbox\":{\"style\":\"light\"},\"paper_bgcolor\":\"white\",\"plot_bgcolor\":\"#E5ECF6\",\"polar\":{\"angularaxis\":{\"gridcolor\":\"white\",\"linecolor\":\"white\",\"ticks\":\"\"},\"bgcolor\":\"#E5ECF6\",\"radialaxis\":{\"gridcolor\":\"white\",\"linecolor\":\"white\",\"ticks\":\"\"}},\"scene\":{\"xaxis\":{\"backgroundcolor\":\"#E5ECF6\",\"gridcolor\":\"white\",\"gridwidth\":2,\"linecolor\":\"white\",\"showbackground\":true,\"ticks\":\"\",\"zerolinecolor\":\"white\"},\"yaxis\":{\"backgroundcolor\":\"#E5ECF6\",\"gridcolor\":\"white\",\"gridwidth\":2,\"linecolor\":\"white\",\"showbackground\":true,\"ticks\":\"\",\"zerolinecolor\":\"white\"},\"zaxis\":{\"backgroundcolor\":\"#E5ECF6\",\"gridcolor\":\"white\",\"gridwidth\":2,\"linecolor\":\"white\",\"showbackground\":true,\"ticks\":\"\",\"zerolinecolor\":\"white\"}},\"shapedefaults\":{\"line\":{\"color\":\"#2a3f5f\"}},\"ternary\":{\"aaxis\":{\"gridcolor\":\"white\",\"linecolor\":\"white\",\"ticks\":\"\"},\"baxis\":{\"gridcolor\":\"white\",\"linecolor\":\"white\",\"ticks\":\"\"},\"bgcolor\":\"#E5ECF6\",\"caxis\":{\"gridcolor\":\"white\",\"linecolor\":\"white\",\"ticks\":\"\"}},\"title\":{\"x\":0.05},\"xaxis\":{\"automargin\":true,\"gridcolor\":\"white\",\"linecolor\":\"white\",\"ticks\":\"\",\"title\":{\"standoff\":15},\"zerolinecolor\":\"white\",\"zerolinewidth\":2},\"yaxis\":{\"automargin\":true,\"gridcolor\":\"white\",\"linecolor\":\"white\",\"ticks\":\"\",\"title\":{\"standoff\":15},\"zerolinecolor\":\"white\",\"zerolinewidth\":2}}},\"title\":{\"font\":{\"color\":\"#4D5663\"}},\"xaxis\":{\"gridcolor\":\"#E1E5ED\",\"showgrid\":true,\"tickfont\":{\"color\":\"#4D5663\"},\"title\":{\"font\":{\"color\":\"#4D5663\"},\"text\":\"\"},\"zerolinecolor\":\"#E1E5ED\"},\"yaxis\":{\"gridcolor\":\"#E1E5ED\",\"showgrid\":true,\"tickfont\":{\"color\":\"#4D5663\"},\"title\":{\"font\":{\"color\":\"#4D5663\"},\"text\":\"\"},\"zerolinecolor\":\"#E1E5ED\"}},                        {\"showLink\": true, \"linkText\": \"Export to plot.ly\", \"plotlyServerURL\": \"https://plot.ly\", \"responsive\": true}                    ).then(function(){\n",
       "                            \n",
       "var gd = document.getElementById('5f59f9de-e1f3-415e-91f6-cdccb176c2fa');\n",
       "var x = new MutationObserver(function (mutations, observer) {{\n",
       "        var display = window.getComputedStyle(gd).display;\n",
       "        if (!display || display === 'none') {{\n",
       "            console.log([gd, 'removed!']);\n",
       "            Plotly.purge(gd);\n",
       "            observer.disconnect();\n",
       "        }}\n",
       "}});\n",
       "\n",
       "// Listen for the removal of the full notebook cells\n",
       "var notebookContainer = gd.closest('#notebook-container');\n",
       "if (notebookContainer) {{\n",
       "    x.observe(notebookContainer, {childList: true});\n",
       "}}\n",
       "\n",
       "// Listen for the clearing of the current output cell\n",
       "var outputEl = gd.closest('.output');\n",
       "if (outputEl) {{\n",
       "    x.observe(outputEl, {childList: true});\n",
       "}}\n",
       "\n",
       "                        })                };                });            </script>        </div>"
      ]
     },
     "metadata": {},
     "output_type": "display_data"
    }
   ],
   "source": [
    "df.count().iplot(kind='bar')"
   ]
  },
  {
   "cell_type": "markdown",
   "metadata": {},
   "source": [
    "## Boxplots"
   ]
  },
  {
   "cell_type": "code",
   "execution_count": 13,
   "metadata": {
    "collapsed": false
   },
   "outputs": [
    {
     "data": {
      "application/vnd.plotly.v1+json": {
       "config": {
        "linkText": "Export to plot.ly",
        "plotlyServerURL": "https://plot.ly",
        "showLink": true
       },
       "data": [
        {
         "boxpoints": false,
         "line": {
          "width": 1.3
         },
         "marker": {
          "color": "rgba(255, 153, 51, 1.0)"
         },
         "name": "A",
         "orientation": "v",
         "type": "box",
         "y": [
          0.9114742326787507,
          0.7578989467691609,
          -0.9874361968395297,
          0.22016382884816021,
          0.6077927569514273,
          0.7778834736810324,
          2.1131546813030457,
          -2.4490055660620578,
          -1.264753726599821,
          -1.113114717122689,
          0.7074598991253688,
          0.3011365498644992,
          1.3797717647512153,
          1.5678709953685082,
          -0.03622282412839025,
          1.2667918863642251,
          0.8749252774931616,
          -2.197805732647536,
          -1.0240395875458463,
          -2.142707972857464,
          -0.0736101364574777,
          -1.259255676470749,
          1.6015375948381252,
          1.112229978501615,
          -1.5622053971911025,
          1.8572790226404727,
          -0.4209177347085691,
          -0.912160726081105,
          -0.3037386021712285,
          0.8579623354976309,
          0.3565208302820152,
          0.6841429396840425,
          -0.7523937277325553,
          1.375620044215106,
          -1.2948947618372475,
          0.7226409299521954,
          -1.1545687528768627,
          0.4176384992573318,
          -0.0059278543542167945,
          -0.22869332071406231,
          -1.6746987522308645,
          0.9663733925438459,
          1.0763862190031617,
          -1.225551651184113,
          -0.7535643384107886,
          0.8096955120069954,
          -0.8670064279036938,
          -0.9680677241848497,
          1.1292477205253124,
          0.46947556948741576,
          -0.09447969379657634,
          0.5565096888594847,
          1.8403079260220252,
          0.3376051227254956,
          -0.9379486899192527,
          0.46813068099759814,
          0.09257732214048982,
          -1.6309760263885982,
          -0.11937821507956069,
          0.8475001411207256,
          -0.7150944067883627,
          1.1448948639850358,
          -1.0744821048971902,
          0.3924196833219243,
          0.9272154179010863,
          0.5026276413448757,
          0.8212503499671454,
          -0.8233919536733769,
          -0.2502667292808195,
          0.7236673354783757,
          0.18632609274324735,
          -1.9348967416153815,
          -0.3771390803791452,
          -0.9591907442850565,
          0.8657796666189373,
          0.28402206877817504,
          -0.23103203676238043,
          -1.6954591216753985,
          0.948904930684949,
          1.3203011128906776,
          1.3454169153034552,
          -0.2450999941893388,
          1.4276505694773265,
          0.9916419977998683,
          -0.46044944463704407,
          0.44416392997387194,
          0.24525133842413147,
          -0.09927401569069812,
          1.9148941613315424,
          0.8864805636561247,
          0.46370607184899737,
          -2.224352308256751,
          -1.0654022942267856,
          -0.2607577292767755,
          1.2242612562912998,
          -0.30021774043427785,
          -0.021938802648024933,
          0.038053496199222846,
          -0.08528024315010026,
          -1.5801736763077543
         ]
        },
        {
         "boxpoints": false,
         "line": {
          "width": 1.3
         },
         "marker": {
          "color": "rgba(55, 128, 191, 1.0)"
         },
         "name": "B",
         "orientation": "v",
         "type": "box",
         "y": [
          0.23541819233456246,
          0.5482224871344553,
          -0.6762289676794175,
          -0.29753389009341696,
          -1.6537645838455806,
          0.8304428942574472,
          -0.4408669209013495,
          -0.27435782294007777,
          -2.173375085890643,
          0.20695320388106786,
          -1.0993754893406398,
          -1.2579231680566736,
          -1.4442829489057019,
          0.11632297708104956,
          0.6225013721856922,
          0.4944394057517207,
          -0.549574433268328,
          -1.2070224915495484,
          1.1077365446492404,
          0.3767494463443737,
          -0.048808423374183826,
          0.00400584390178196,
          0.7597092760009614,
          -0.34791100636292516,
          0.23580016658069564,
          -1.050013416154085,
          0.39421190996753597,
          0.035283337196053005,
          0.494369633848719,
          -1.4410894003445818,
          -0.34759793246896226,
          0.31297072926656766,
          0.883043623213389,
          -1.309452016254821,
          -0.494268560748715,
          1.051270007897888,
          -0.9400845241081949,
          1.0062190989079038,
          -0.2299281540729599,
          1.1205820384556222,
          0.3401911629876612,
          0.37978093151711045,
          -1.612791942328893,
          1.099243459502892,
          -1.8305676394507513,
          0.3570138753485757,
          0.31951510178702425,
          0.25094716578977916,
          1.228620982901242,
          -0.6601164535624199,
          0.12442024935454234,
          -0.7786844570120308,
          -0.7945273805880833,
          -1.5218876699649064,
          -0.9973007205172868,
          0.942982191799194,
          -0.5481870611417685,
          -1.711267025816037,
          0.6863576806719326,
          -0.2728391456421554,
          -0.6960216221354287,
          1.083291241894601,
          -0.23410333746971343,
          0.14876058960735514,
          -0.9504526268294847,
          -1.2684548505074855,
          -0.970167356029588,
          0.16555895612980628,
          0.7982318400260477,
          0.3502567389757603,
          0.5106487860872726,
          1.7167365629146856,
          -0.17515656694386475,
          0.2510405169637239,
          1.067048180128776,
          0.08249294970519207,
          1.8817184628314625,
          -0.2925444339019961,
          0.4982443469520614,
          0.7579274298666225,
          0.4513504840483056,
          0.18293533511137006,
          0.2074313555949219,
          1.0830362728623577,
          -1.3640558765781092,
          0.6695669304242179,
          -0.7917332091991889,
          0.9611564033860209,
          -0.6748198117284865,
          -0.4294317859327062,
          -0.44003438666389727,
          -0.7834587412866575,
          -0.6052898884146282,
          -0.5273756713097408,
          0.036473522701766556,
          -1.0318261997633305,
          0.4874952484513759,
          0.2303280257982348,
          -1.4352230408514677,
          0.8365986862717942
         ]
        },
        {
         "boxpoints": false,
         "line": {
          "width": 1.3
         },
         "marker": {
          "color": "rgba(50, 171, 96, 1.0)"
         },
         "name": "C",
         "orientation": "v",
         "type": "box",
         "y": [
          0.33159382889093897,
          1.447809361647789,
          -3.057898021481233,
          1.0721535539537346,
          0.044687667947729375,
          0.872972883800426,
          -0.28506900464728674,
          -1.5575867934574539,
          -0.69560542074055,
          -0.6464136285248375,
          0.09906795842602548,
          -0.4246994047366325,
          0.5118438087752405,
          -0.057517181648641814,
          -0.3377287526595544,
          0.2083218886629037,
          -0.6255277778326924,
          0.18270356033481291,
          0.7991523515569429,
          -0.22647420888358555,
          1.8049577991080799,
          -1.6788760976975368,
          -0.06424651071240646,
          -0.09103778121669379,
          1.3536598066408292,
          -0.6809437310425657,
          -0.11440252930192768,
          -0.8638653534763195,
          -0.766833989069785,
          -0.06065156140434344,
          -0.008689816537314935,
          0.46563925822759356,
          0.6311286876651727,
          0.18719082476252455,
          0.12524589874444228,
          -0.0020753413838818704,
          0.4824630932676719,
          -0.16204935490952657,
          1.7484565548649158,
          -2.0333777805855067,
          1.1442666922277265,
          -0.583660765983921,
          0.40006385089083524,
          0.2554936902204025,
          1.7632240516919286,
          -2.1105043746106364,
          -0.05472540842398133,
          -0.25654169455846243,
          1.2906969126041137,
          -1.1727916447892612,
          0.37511910233539225,
          -1.4765301904352583,
          1.3266600403869049,
          1.3091281328318431,
          0.5770517273263297,
          1.0102152886048745,
          0.9271616463077071,
          -1.3121053160858236,
          0.15430064383878492,
          0.4343646787486703,
          0.7648295337520874,
          0.0010279979113985804,
          2.0122074908525374,
          0.7371601726429114,
          -1.0982660302641305,
          1.1060467225218433,
          -0.8123496961323617,
          -0.3020873044531328,
          -0.4822687382358651,
          0.19834620731840744,
          -0.5051779206498165,
          2.3267912224123037,
          -0.3837545472329332,
          2.00039780076727,
          -0.21015476119341628,
          1.3695563344236863,
          -0.18356274447819448,
          -0.9869414037115862,
          1.2573939484840138,
          -0.9974680767904183,
          -0.03016531623685427,
          -0.37227167499205605,
          -0.9834660095241162,
          1.0463771501486643,
          -1.3886348130374762,
          -0.2840452775493542,
          1.684020079045663,
          2.431507322750734,
          -0.29468379557602725,
          -1.1828305148219531,
          -1.3406672432698592,
          -0.24842197641566804,
          -0.28615636704573805,
          0.2881254044242977,
          -1.4138058212029754,
          0.13279188123861654,
          0.2839494887397639,
          -0.15060777856568913,
          -0.07227228266801128,
          -0.32000990600863505
         ]
        },
        {
         "boxpoints": false,
         "line": {
          "width": 1.3
         },
         "marker": {
          "color": "rgba(128, 0, 128, 1.0)"
         },
         "name": "D",
         "orientation": "v",
         "type": "box",
         "y": [
          0.3953236963605586,
          0.26555633432236486,
          0.2097775525625949,
          1.4690921462695166,
          -0.14708148336191335,
          -0.7155676639501172,
          0.8627275028784384,
          0.23435207686359824,
          0.10614701099097222,
          -0.6852101996613775,
          0.8932174271594331,
          -1.3654914333716544,
          -0.8223678964925764,
          1.8178755957856105,
          -1.0342982291053993,
          -1.5335500335630794,
          -0.43170413919432066,
          0.14846561179549114,
          -0.5821020801096143,
          0.5817186033403611,
          -1.4521574415585974,
          0.6086652957710648,
          0.7234440621490581,
          0.5088865641055051,
          0.5254611488546999,
          0.3863312377462917,
          0.9879135131200036,
          -0.07995439149274455,
          1.277288697916219,
          1.1568760932951998,
          1.3193530229625707,
          0.0011542210109643466,
          -0.9500364323321739,
          0.046677435612805816,
          0.36869335442624446,
          -1.588544987820071,
          -0.009253870486863321,
          0.1991922944543913,
          0.7549806144934953,
          1.272570401466503,
          0.7722948928218335,
          0.1411436899941937,
          -1.0899345184067535,
          -1.4179000416771987,
          -0.7076439536593965,
          0.4855721524751803,
          0.7127007529470571,
          1.1287392986360651,
          -0.3355870543232249,
          -0.315997322540617,
          -0.9408806721014545,
          0.1044642196318428,
          -1.332296238309656,
          0.8015132405924561,
          -0.2247122221073949,
          -1.1860301507973456,
          -1.2745945875111375,
          0.7899177033411156,
          -0.14858819487646693,
          0.24797528446350714,
          -0.1222456635245913,
          -0.2673001561129547,
          1.0653755229872934,
          -0.7679546514699183,
          0.6293299104429344,
          0.5133379367005246,
          0.7057705294592451,
          -0.7229258052960552,
          -0.09723657198252915,
          0.45606463801579067,
          -1.475479511073014,
          -1.3189562289885057,
          -0.26660994520495584,
          -0.7976024307340472,
          1.4797448361865924,
          -1.2442847418516547,
          -1.4042107615711705,
          -0.6655216766310934,
          -0.5546622354439035,
          0.5775549793924971,
          -0.5107150567854909,
          0.9387535700602244,
          -0.5807507557800171,
          1.4484253006029395,
          -0.9876021102336194,
          2.636248017311349,
          1.8405929907881782,
          3.466446551789191,
          1.3037005259908636,
          0.15165060142879644,
          0.6250704202789166,
          -0.24722003521289038,
          0.4444529300966973,
          -1.0778833446048044,
          -0.6529347672061518,
          -0.47810765804077615,
          -0.0578030958212901,
          0.6938324757859928,
          1.2439769121817552,
          -0.117912855409765
         ]
        }
       ],
       "layout": {
        "legend": {
         "bgcolor": "#F5F6F9",
         "font": {
          "color": "#4D5663"
         }
        },
        "paper_bgcolor": "#F5F6F9",
        "plot_bgcolor": "#F5F6F9",
        "template": {
         "data": {
          "bar": [
           {
            "error_x": {
             "color": "#2a3f5f"
            },
            "error_y": {
             "color": "#2a3f5f"
            },
            "marker": {
             "line": {
              "color": "#E5ECF6",
              "width": 0.5
             },
             "pattern": {
              "fillmode": "overlay",
              "size": 10,
              "solidity": 0.2
             }
            },
            "type": "bar"
           }
          ],
          "barpolar": [
           {
            "marker": {
             "line": {
              "color": "#E5ECF6",
              "width": 0.5
             },
             "pattern": {
              "fillmode": "overlay",
              "size": 10,
              "solidity": 0.2
             }
            },
            "type": "barpolar"
           }
          ],
          "carpet": [
           {
            "aaxis": {
             "endlinecolor": "#2a3f5f",
             "gridcolor": "white",
             "linecolor": "white",
             "minorgridcolor": "white",
             "startlinecolor": "#2a3f5f"
            },
            "baxis": {
             "endlinecolor": "#2a3f5f",
             "gridcolor": "white",
             "linecolor": "white",
             "minorgridcolor": "white",
             "startlinecolor": "#2a3f5f"
            },
            "type": "carpet"
           }
          ],
          "choropleth": [
           {
            "colorbar": {
             "outlinewidth": 0,
             "ticks": ""
            },
            "type": "choropleth"
           }
          ],
          "contour": [
           {
            "colorbar": {
             "outlinewidth": 0,
             "ticks": ""
            },
            "colorscale": [
             [
              0,
              "#0d0887"
             ],
             [
              0.1111111111111111,
              "#46039f"
             ],
             [
              0.2222222222222222,
              "#7201a8"
             ],
             [
              0.3333333333333333,
              "#9c179e"
             ],
             [
              0.4444444444444444,
              "#bd3786"
             ],
             [
              0.5555555555555556,
              "#d8576b"
             ],
             [
              0.6666666666666666,
              "#ed7953"
             ],
             [
              0.7777777777777778,
              "#fb9f3a"
             ],
             [
              0.8888888888888888,
              "#fdca26"
             ],
             [
              1,
              "#f0f921"
             ]
            ],
            "type": "contour"
           }
          ],
          "contourcarpet": [
           {
            "colorbar": {
             "outlinewidth": 0,
             "ticks": ""
            },
            "type": "contourcarpet"
           }
          ],
          "heatmap": [
           {
            "colorbar": {
             "outlinewidth": 0,
             "ticks": ""
            },
            "colorscale": [
             [
              0,
              "#0d0887"
             ],
             [
              0.1111111111111111,
              "#46039f"
             ],
             [
              0.2222222222222222,
              "#7201a8"
             ],
             [
              0.3333333333333333,
              "#9c179e"
             ],
             [
              0.4444444444444444,
              "#bd3786"
             ],
             [
              0.5555555555555556,
              "#d8576b"
             ],
             [
              0.6666666666666666,
              "#ed7953"
             ],
             [
              0.7777777777777778,
              "#fb9f3a"
             ],
             [
              0.8888888888888888,
              "#fdca26"
             ],
             [
              1,
              "#f0f921"
             ]
            ],
            "type": "heatmap"
           }
          ],
          "heatmapgl": [
           {
            "colorbar": {
             "outlinewidth": 0,
             "ticks": ""
            },
            "colorscale": [
             [
              0,
              "#0d0887"
             ],
             [
              0.1111111111111111,
              "#46039f"
             ],
             [
              0.2222222222222222,
              "#7201a8"
             ],
             [
              0.3333333333333333,
              "#9c179e"
             ],
             [
              0.4444444444444444,
              "#bd3786"
             ],
             [
              0.5555555555555556,
              "#d8576b"
             ],
             [
              0.6666666666666666,
              "#ed7953"
             ],
             [
              0.7777777777777778,
              "#fb9f3a"
             ],
             [
              0.8888888888888888,
              "#fdca26"
             ],
             [
              1,
              "#f0f921"
             ]
            ],
            "type": "heatmapgl"
           }
          ],
          "histogram": [
           {
            "marker": {
             "pattern": {
              "fillmode": "overlay",
              "size": 10,
              "solidity": 0.2
             }
            },
            "type": "histogram"
           }
          ],
          "histogram2d": [
           {
            "colorbar": {
             "outlinewidth": 0,
             "ticks": ""
            },
            "colorscale": [
             [
              0,
              "#0d0887"
             ],
             [
              0.1111111111111111,
              "#46039f"
             ],
             [
              0.2222222222222222,
              "#7201a8"
             ],
             [
              0.3333333333333333,
              "#9c179e"
             ],
             [
              0.4444444444444444,
              "#bd3786"
             ],
             [
              0.5555555555555556,
              "#d8576b"
             ],
             [
              0.6666666666666666,
              "#ed7953"
             ],
             [
              0.7777777777777778,
              "#fb9f3a"
             ],
             [
              0.8888888888888888,
              "#fdca26"
             ],
             [
              1,
              "#f0f921"
             ]
            ],
            "type": "histogram2d"
           }
          ],
          "histogram2dcontour": [
           {
            "colorbar": {
             "outlinewidth": 0,
             "ticks": ""
            },
            "colorscale": [
             [
              0,
              "#0d0887"
             ],
             [
              0.1111111111111111,
              "#46039f"
             ],
             [
              0.2222222222222222,
              "#7201a8"
             ],
             [
              0.3333333333333333,
              "#9c179e"
             ],
             [
              0.4444444444444444,
              "#bd3786"
             ],
             [
              0.5555555555555556,
              "#d8576b"
             ],
             [
              0.6666666666666666,
              "#ed7953"
             ],
             [
              0.7777777777777778,
              "#fb9f3a"
             ],
             [
              0.8888888888888888,
              "#fdca26"
             ],
             [
              1,
              "#f0f921"
             ]
            ],
            "type": "histogram2dcontour"
           }
          ],
          "mesh3d": [
           {
            "colorbar": {
             "outlinewidth": 0,
             "ticks": ""
            },
            "type": "mesh3d"
           }
          ],
          "parcoords": [
           {
            "line": {
             "colorbar": {
              "outlinewidth": 0,
              "ticks": ""
             }
            },
            "type": "parcoords"
           }
          ],
          "pie": [
           {
            "automargin": true,
            "type": "pie"
           }
          ],
          "scatter": [
           {
            "fillpattern": {
             "fillmode": "overlay",
             "size": 10,
             "solidity": 0.2
            },
            "type": "scatter"
           }
          ],
          "scatter3d": [
           {
            "line": {
             "colorbar": {
              "outlinewidth": 0,
              "ticks": ""
             }
            },
            "marker": {
             "colorbar": {
              "outlinewidth": 0,
              "ticks": ""
             }
            },
            "type": "scatter3d"
           }
          ],
          "scattercarpet": [
           {
            "marker": {
             "colorbar": {
              "outlinewidth": 0,
              "ticks": ""
             }
            },
            "type": "scattercarpet"
           }
          ],
          "scattergeo": [
           {
            "marker": {
             "colorbar": {
              "outlinewidth": 0,
              "ticks": ""
             }
            },
            "type": "scattergeo"
           }
          ],
          "scattergl": [
           {
            "marker": {
             "colorbar": {
              "outlinewidth": 0,
              "ticks": ""
             }
            },
            "type": "scattergl"
           }
          ],
          "scattermapbox": [
           {
            "marker": {
             "colorbar": {
              "outlinewidth": 0,
              "ticks": ""
             }
            },
            "type": "scattermapbox"
           }
          ],
          "scatterpolar": [
           {
            "marker": {
             "colorbar": {
              "outlinewidth": 0,
              "ticks": ""
             }
            },
            "type": "scatterpolar"
           }
          ],
          "scatterpolargl": [
           {
            "marker": {
             "colorbar": {
              "outlinewidth": 0,
              "ticks": ""
             }
            },
            "type": "scatterpolargl"
           }
          ],
          "scatterternary": [
           {
            "marker": {
             "colorbar": {
              "outlinewidth": 0,
              "ticks": ""
             }
            },
            "type": "scatterternary"
           }
          ],
          "surface": [
           {
            "colorbar": {
             "outlinewidth": 0,
             "ticks": ""
            },
            "colorscale": [
             [
              0,
              "#0d0887"
             ],
             [
              0.1111111111111111,
              "#46039f"
             ],
             [
              0.2222222222222222,
              "#7201a8"
             ],
             [
              0.3333333333333333,
              "#9c179e"
             ],
             [
              0.4444444444444444,
              "#bd3786"
             ],
             [
              0.5555555555555556,
              "#d8576b"
             ],
             [
              0.6666666666666666,
              "#ed7953"
             ],
             [
              0.7777777777777778,
              "#fb9f3a"
             ],
             [
              0.8888888888888888,
              "#fdca26"
             ],
             [
              1,
              "#f0f921"
             ]
            ],
            "type": "surface"
           }
          ],
          "table": [
           {
            "cells": {
             "fill": {
              "color": "#EBF0F8"
             },
             "line": {
              "color": "white"
             }
            },
            "header": {
             "fill": {
              "color": "#C8D4E3"
             },
             "line": {
              "color": "white"
             }
            },
            "type": "table"
           }
          ]
         },
         "layout": {
          "annotationdefaults": {
           "arrowcolor": "#2a3f5f",
           "arrowhead": 0,
           "arrowwidth": 1
          },
          "autotypenumbers": "strict",
          "coloraxis": {
           "colorbar": {
            "outlinewidth": 0,
            "ticks": ""
           }
          },
          "colorscale": {
           "diverging": [
            [
             0,
             "#8e0152"
            ],
            [
             0.1,
             "#c51b7d"
            ],
            [
             0.2,
             "#de77ae"
            ],
            [
             0.3,
             "#f1b6da"
            ],
            [
             0.4,
             "#fde0ef"
            ],
            [
             0.5,
             "#f7f7f7"
            ],
            [
             0.6,
             "#e6f5d0"
            ],
            [
             0.7,
             "#b8e186"
            ],
            [
             0.8,
             "#7fbc41"
            ],
            [
             0.9,
             "#4d9221"
            ],
            [
             1,
             "#276419"
            ]
           ],
           "sequential": [
            [
             0,
             "#0d0887"
            ],
            [
             0.1111111111111111,
             "#46039f"
            ],
            [
             0.2222222222222222,
             "#7201a8"
            ],
            [
             0.3333333333333333,
             "#9c179e"
            ],
            [
             0.4444444444444444,
             "#bd3786"
            ],
            [
             0.5555555555555556,
             "#d8576b"
            ],
            [
             0.6666666666666666,
             "#ed7953"
            ],
            [
             0.7777777777777778,
             "#fb9f3a"
            ],
            [
             0.8888888888888888,
             "#fdca26"
            ],
            [
             1,
             "#f0f921"
            ]
           ],
           "sequentialminus": [
            [
             0,
             "#0d0887"
            ],
            [
             0.1111111111111111,
             "#46039f"
            ],
            [
             0.2222222222222222,
             "#7201a8"
            ],
            [
             0.3333333333333333,
             "#9c179e"
            ],
            [
             0.4444444444444444,
             "#bd3786"
            ],
            [
             0.5555555555555556,
             "#d8576b"
            ],
            [
             0.6666666666666666,
             "#ed7953"
            ],
            [
             0.7777777777777778,
             "#fb9f3a"
            ],
            [
             0.8888888888888888,
             "#fdca26"
            ],
            [
             1,
             "#f0f921"
            ]
           ]
          },
          "colorway": [
           "#636efa",
           "#EF553B",
           "#00cc96",
           "#ab63fa",
           "#FFA15A",
           "#19d3f3",
           "#FF6692",
           "#B6E880",
           "#FF97FF",
           "#FECB52"
          ],
          "font": {
           "color": "#2a3f5f"
          },
          "geo": {
           "bgcolor": "white",
           "lakecolor": "white",
           "landcolor": "#E5ECF6",
           "showlakes": true,
           "showland": true,
           "subunitcolor": "white"
          },
          "hoverlabel": {
           "align": "left"
          },
          "hovermode": "closest",
          "mapbox": {
           "style": "light"
          },
          "paper_bgcolor": "white",
          "plot_bgcolor": "#E5ECF6",
          "polar": {
           "angularaxis": {
            "gridcolor": "white",
            "linecolor": "white",
            "ticks": ""
           },
           "bgcolor": "#E5ECF6",
           "radialaxis": {
            "gridcolor": "white",
            "linecolor": "white",
            "ticks": ""
           }
          },
          "scene": {
           "xaxis": {
            "backgroundcolor": "#E5ECF6",
            "gridcolor": "white",
            "gridwidth": 2,
            "linecolor": "white",
            "showbackground": true,
            "ticks": "",
            "zerolinecolor": "white"
           },
           "yaxis": {
            "backgroundcolor": "#E5ECF6",
            "gridcolor": "white",
            "gridwidth": 2,
            "linecolor": "white",
            "showbackground": true,
            "ticks": "",
            "zerolinecolor": "white"
           },
           "zaxis": {
            "backgroundcolor": "#E5ECF6",
            "gridcolor": "white",
            "gridwidth": 2,
            "linecolor": "white",
            "showbackground": true,
            "ticks": "",
            "zerolinecolor": "white"
           }
          },
          "shapedefaults": {
           "line": {
            "color": "#2a3f5f"
           }
          },
          "ternary": {
           "aaxis": {
            "gridcolor": "white",
            "linecolor": "white",
            "ticks": ""
           },
           "baxis": {
            "gridcolor": "white",
            "linecolor": "white",
            "ticks": ""
           },
           "bgcolor": "#E5ECF6",
           "caxis": {
            "gridcolor": "white",
            "linecolor": "white",
            "ticks": ""
           }
          },
          "title": {
           "x": 0.05
          },
          "xaxis": {
           "automargin": true,
           "gridcolor": "white",
           "linecolor": "white",
           "ticks": "",
           "title": {
            "standoff": 15
           },
           "zerolinecolor": "white",
           "zerolinewidth": 2
          },
          "yaxis": {
           "automargin": true,
           "gridcolor": "white",
           "linecolor": "white",
           "ticks": "",
           "title": {
            "standoff": 15
           },
           "zerolinecolor": "white",
           "zerolinewidth": 2
          }
         }
        },
        "title": {
         "font": {
          "color": "#4D5663"
         }
        },
        "xaxis": {
         "gridcolor": "#E1E5ED",
         "showgrid": true,
         "tickfont": {
          "color": "#4D5663"
         },
         "title": {
          "font": {
           "color": "#4D5663"
          },
          "text": ""
         },
         "zerolinecolor": "#E1E5ED"
        },
        "yaxis": {
         "gridcolor": "#E1E5ED",
         "showgrid": true,
         "tickfont": {
          "color": "#4D5663"
         },
         "title": {
          "font": {
           "color": "#4D5663"
          },
          "text": ""
         },
         "zerolinecolor": "#E1E5ED"
        }
       }
      },
      "text/html": [
       "<div>                            <div id=\"9e9a131c-6516-4130-b57d-b30167930860\" class=\"plotly-graph-div\" style=\"height:525px; width:100%;\"></div>            <script type=\"text/javascript\">                require([\"plotly\"], function(Plotly) {                    window.PLOTLYENV=window.PLOTLYENV || {};\n",
       "                    window.PLOTLYENV.BASE_URL='https://plot.ly';                                    if (document.getElementById(\"9e9a131c-6516-4130-b57d-b30167930860\")) {                    Plotly.newPlot(                        \"9e9a131c-6516-4130-b57d-b30167930860\",                        [{\"boxpoints\":false,\"line\":{\"width\":1.3},\"marker\":{\"color\":\"rgba(255, 153, 51, 1.0)\"},\"name\":\"A\",\"orientation\":\"v\",\"y\":[0.9114742326787507,0.7578989467691609,-0.9874361968395297,0.22016382884816021,0.6077927569514273,0.7778834736810324,2.1131546813030457,-2.4490055660620578,-1.264753726599821,-1.113114717122689,0.7074598991253688,0.3011365498644992,1.3797717647512153,1.5678709953685082,-0.03622282412839025,1.2667918863642251,0.8749252774931616,-2.197805732647536,-1.0240395875458463,-2.142707972857464,-0.0736101364574777,-1.259255676470749,1.6015375948381252,1.112229978501615,-1.5622053971911025,1.8572790226404727,-0.4209177347085691,-0.912160726081105,-0.3037386021712285,0.8579623354976309,0.3565208302820152,0.6841429396840425,-0.7523937277325553,1.375620044215106,-1.2948947618372475,0.7226409299521954,-1.1545687528768627,0.4176384992573318,-0.0059278543542167945,-0.22869332071406231,-1.6746987522308645,0.9663733925438459,1.0763862190031617,-1.225551651184113,-0.7535643384107886,0.8096955120069954,-0.8670064279036938,-0.9680677241848497,1.1292477205253124,0.46947556948741576,-0.09447969379657634,0.5565096888594847,1.8403079260220252,0.3376051227254956,-0.9379486899192527,0.46813068099759814,0.09257732214048982,-1.6309760263885982,-0.11937821507956069,0.8475001411207256,-0.7150944067883627,1.1448948639850358,-1.0744821048971902,0.3924196833219243,0.9272154179010863,0.5026276413448757,0.8212503499671454,-0.8233919536733769,-0.2502667292808195,0.7236673354783757,0.18632609274324735,-1.9348967416153815,-0.3771390803791452,-0.9591907442850565,0.8657796666189373,0.28402206877817504,-0.23103203676238043,-1.6954591216753985,0.948904930684949,1.3203011128906776,1.3454169153034552,-0.2450999941893388,1.4276505694773265,0.9916419977998683,-0.46044944463704407,0.44416392997387194,0.24525133842413147,-0.09927401569069812,1.9148941613315424,0.8864805636561247,0.46370607184899737,-2.224352308256751,-1.0654022942267856,-0.2607577292767755,1.2242612562912998,-0.30021774043427785,-0.021938802648024933,0.038053496199222846,-0.08528024315010026,-1.5801736763077543],\"type\":\"box\"},{\"boxpoints\":false,\"line\":{\"width\":1.3},\"marker\":{\"color\":\"rgba(55, 128, 191, 1.0)\"},\"name\":\"B\",\"orientation\":\"v\",\"y\":[0.23541819233456246,0.5482224871344553,-0.6762289676794175,-0.29753389009341696,-1.6537645838455806,0.8304428942574472,-0.4408669209013495,-0.27435782294007777,-2.173375085890643,0.20695320388106786,-1.0993754893406398,-1.2579231680566736,-1.4442829489057019,0.11632297708104956,0.6225013721856922,0.4944394057517207,-0.549574433268328,-1.2070224915495484,1.1077365446492404,0.3767494463443737,-0.048808423374183826,0.00400584390178196,0.7597092760009614,-0.34791100636292516,0.23580016658069564,-1.050013416154085,0.39421190996753597,0.035283337196053005,0.494369633848719,-1.4410894003445818,-0.34759793246896226,0.31297072926656766,0.883043623213389,-1.309452016254821,-0.494268560748715,1.051270007897888,-0.9400845241081949,1.0062190989079038,-0.2299281540729599,1.1205820384556222,0.3401911629876612,0.37978093151711045,-1.612791942328893,1.099243459502892,-1.8305676394507513,0.3570138753485757,0.31951510178702425,0.25094716578977916,1.228620982901242,-0.6601164535624199,0.12442024935454234,-0.7786844570120308,-0.7945273805880833,-1.5218876699649064,-0.9973007205172868,0.942982191799194,-0.5481870611417685,-1.711267025816037,0.6863576806719326,-0.2728391456421554,-0.6960216221354287,1.083291241894601,-0.23410333746971343,0.14876058960735514,-0.9504526268294847,-1.2684548505074855,-0.970167356029588,0.16555895612980628,0.7982318400260477,0.3502567389757603,0.5106487860872726,1.7167365629146856,-0.17515656694386475,0.2510405169637239,1.067048180128776,0.08249294970519207,1.8817184628314625,-0.2925444339019961,0.4982443469520614,0.7579274298666225,0.4513504840483056,0.18293533511137006,0.2074313555949219,1.0830362728623577,-1.3640558765781092,0.6695669304242179,-0.7917332091991889,0.9611564033860209,-0.6748198117284865,-0.4294317859327062,-0.44003438666389727,-0.7834587412866575,-0.6052898884146282,-0.5273756713097408,0.036473522701766556,-1.0318261997633305,0.4874952484513759,0.2303280257982348,-1.4352230408514677,0.8365986862717942],\"type\":\"box\"},{\"boxpoints\":false,\"line\":{\"width\":1.3},\"marker\":{\"color\":\"rgba(50, 171, 96, 1.0)\"},\"name\":\"C\",\"orientation\":\"v\",\"y\":[0.33159382889093897,1.447809361647789,-3.057898021481233,1.0721535539537346,0.044687667947729375,0.872972883800426,-0.28506900464728674,-1.5575867934574539,-0.69560542074055,-0.6464136285248375,0.09906795842602548,-0.4246994047366325,0.5118438087752405,-0.057517181648641814,-0.3377287526595544,0.2083218886629037,-0.6255277778326924,0.18270356033481291,0.7991523515569429,-0.22647420888358555,1.8049577991080799,-1.6788760976975368,-0.06424651071240646,-0.09103778121669379,1.3536598066408292,-0.6809437310425657,-0.11440252930192768,-0.8638653534763195,-0.766833989069785,-0.06065156140434344,-0.008689816537314935,0.46563925822759356,0.6311286876651727,0.18719082476252455,0.12524589874444228,-0.0020753413838818704,0.4824630932676719,-0.16204935490952657,1.7484565548649158,-2.0333777805855067,1.1442666922277265,-0.583660765983921,0.40006385089083524,0.2554936902204025,1.7632240516919286,-2.1105043746106364,-0.05472540842398133,-0.25654169455846243,1.2906969126041137,-1.1727916447892612,0.37511910233539225,-1.4765301904352583,1.3266600403869049,1.3091281328318431,0.5770517273263297,1.0102152886048745,0.9271616463077071,-1.3121053160858236,0.15430064383878492,0.4343646787486703,0.7648295337520874,0.0010279979113985804,2.0122074908525374,0.7371601726429114,-1.0982660302641305,1.1060467225218433,-0.8123496961323617,-0.3020873044531328,-0.4822687382358651,0.19834620731840744,-0.5051779206498165,2.3267912224123037,-0.3837545472329332,2.00039780076727,-0.21015476119341628,1.3695563344236863,-0.18356274447819448,-0.9869414037115862,1.2573939484840138,-0.9974680767904183,-0.03016531623685427,-0.37227167499205605,-0.9834660095241162,1.0463771501486643,-1.3886348130374762,-0.2840452775493542,1.684020079045663,2.431507322750734,-0.29468379557602725,-1.1828305148219531,-1.3406672432698592,-0.24842197641566804,-0.28615636704573805,0.2881254044242977,-1.4138058212029754,0.13279188123861654,0.2839494887397639,-0.15060777856568913,-0.07227228266801128,-0.32000990600863505],\"type\":\"box\"},{\"boxpoints\":false,\"line\":{\"width\":1.3},\"marker\":{\"color\":\"rgba(128, 0, 128, 1.0)\"},\"name\":\"D\",\"orientation\":\"v\",\"y\":[0.3953236963605586,0.26555633432236486,0.2097775525625949,1.4690921462695166,-0.14708148336191335,-0.7155676639501172,0.8627275028784384,0.23435207686359824,0.10614701099097222,-0.6852101996613775,0.8932174271594331,-1.3654914333716544,-0.8223678964925764,1.8178755957856105,-1.0342982291053993,-1.5335500335630794,-0.43170413919432066,0.14846561179549114,-0.5821020801096143,0.5817186033403611,-1.4521574415585974,0.6086652957710648,0.7234440621490581,0.5088865641055051,0.5254611488546999,0.3863312377462917,0.9879135131200036,-0.07995439149274455,1.277288697916219,1.1568760932951998,1.3193530229625707,0.0011542210109643466,-0.9500364323321739,0.046677435612805816,0.36869335442624446,-1.588544987820071,-0.009253870486863321,0.1991922944543913,0.7549806144934953,1.272570401466503,0.7722948928218335,0.1411436899941937,-1.0899345184067535,-1.4179000416771987,-0.7076439536593965,0.4855721524751803,0.7127007529470571,1.1287392986360651,-0.3355870543232249,-0.315997322540617,-0.9408806721014545,0.1044642196318428,-1.332296238309656,0.8015132405924561,-0.2247122221073949,-1.1860301507973456,-1.2745945875111375,0.7899177033411156,-0.14858819487646693,0.24797528446350714,-0.1222456635245913,-0.2673001561129547,1.0653755229872934,-0.7679546514699183,0.6293299104429344,0.5133379367005246,0.7057705294592451,-0.7229258052960552,-0.09723657198252915,0.45606463801579067,-1.475479511073014,-1.3189562289885057,-0.26660994520495584,-0.7976024307340472,1.4797448361865924,-1.2442847418516547,-1.4042107615711705,-0.6655216766310934,-0.5546622354439035,0.5775549793924971,-0.5107150567854909,0.9387535700602244,-0.5807507557800171,1.4484253006029395,-0.9876021102336194,2.636248017311349,1.8405929907881782,3.466446551789191,1.3037005259908636,0.15165060142879644,0.6250704202789166,-0.24722003521289038,0.4444529300966973,-1.0778833446048044,-0.6529347672061518,-0.47810765804077615,-0.0578030958212901,0.6938324757859928,1.2439769121817552,-0.117912855409765],\"type\":\"box\"}],                        {\"legend\":{\"bgcolor\":\"#F5F6F9\",\"font\":{\"color\":\"#4D5663\"}},\"paper_bgcolor\":\"#F5F6F9\",\"plot_bgcolor\":\"#F5F6F9\",\"template\":{\"data\":{\"barpolar\":[{\"marker\":{\"line\":{\"color\":\"#E5ECF6\",\"width\":0.5},\"pattern\":{\"fillmode\":\"overlay\",\"size\":10,\"solidity\":0.2}},\"type\":\"barpolar\"}],\"bar\":[{\"error_x\":{\"color\":\"#2a3f5f\"},\"error_y\":{\"color\":\"#2a3f5f\"},\"marker\":{\"line\":{\"color\":\"#E5ECF6\",\"width\":0.5},\"pattern\":{\"fillmode\":\"overlay\",\"size\":10,\"solidity\":0.2}},\"type\":\"bar\"}],\"carpet\":[{\"aaxis\":{\"endlinecolor\":\"#2a3f5f\",\"gridcolor\":\"white\",\"linecolor\":\"white\",\"minorgridcolor\":\"white\",\"startlinecolor\":\"#2a3f5f\"},\"baxis\":{\"endlinecolor\":\"#2a3f5f\",\"gridcolor\":\"white\",\"linecolor\":\"white\",\"minorgridcolor\":\"white\",\"startlinecolor\":\"#2a3f5f\"},\"type\":\"carpet\"}],\"choropleth\":[{\"colorbar\":{\"outlinewidth\":0,\"ticks\":\"\"},\"type\":\"choropleth\"}],\"contourcarpet\":[{\"colorbar\":{\"outlinewidth\":0,\"ticks\":\"\"},\"type\":\"contourcarpet\"}],\"contour\":[{\"colorbar\":{\"outlinewidth\":0,\"ticks\":\"\"},\"colorscale\":[[0.0,\"#0d0887\"],[0.1111111111111111,\"#46039f\"],[0.2222222222222222,\"#7201a8\"],[0.3333333333333333,\"#9c179e\"],[0.4444444444444444,\"#bd3786\"],[0.5555555555555556,\"#d8576b\"],[0.6666666666666666,\"#ed7953\"],[0.7777777777777778,\"#fb9f3a\"],[0.8888888888888888,\"#fdca26\"],[1.0,\"#f0f921\"]],\"type\":\"contour\"}],\"heatmapgl\":[{\"colorbar\":{\"outlinewidth\":0,\"ticks\":\"\"},\"colorscale\":[[0.0,\"#0d0887\"],[0.1111111111111111,\"#46039f\"],[0.2222222222222222,\"#7201a8\"],[0.3333333333333333,\"#9c179e\"],[0.4444444444444444,\"#bd3786\"],[0.5555555555555556,\"#d8576b\"],[0.6666666666666666,\"#ed7953\"],[0.7777777777777778,\"#fb9f3a\"],[0.8888888888888888,\"#fdca26\"],[1.0,\"#f0f921\"]],\"type\":\"heatmapgl\"}],\"heatmap\":[{\"colorbar\":{\"outlinewidth\":0,\"ticks\":\"\"},\"colorscale\":[[0.0,\"#0d0887\"],[0.1111111111111111,\"#46039f\"],[0.2222222222222222,\"#7201a8\"],[0.3333333333333333,\"#9c179e\"],[0.4444444444444444,\"#bd3786\"],[0.5555555555555556,\"#d8576b\"],[0.6666666666666666,\"#ed7953\"],[0.7777777777777778,\"#fb9f3a\"],[0.8888888888888888,\"#fdca26\"],[1.0,\"#f0f921\"]],\"type\":\"heatmap\"}],\"histogram2dcontour\":[{\"colorbar\":{\"outlinewidth\":0,\"ticks\":\"\"},\"colorscale\":[[0.0,\"#0d0887\"],[0.1111111111111111,\"#46039f\"],[0.2222222222222222,\"#7201a8\"],[0.3333333333333333,\"#9c179e\"],[0.4444444444444444,\"#bd3786\"],[0.5555555555555556,\"#d8576b\"],[0.6666666666666666,\"#ed7953\"],[0.7777777777777778,\"#fb9f3a\"],[0.8888888888888888,\"#fdca26\"],[1.0,\"#f0f921\"]],\"type\":\"histogram2dcontour\"}],\"histogram2d\":[{\"colorbar\":{\"outlinewidth\":0,\"ticks\":\"\"},\"colorscale\":[[0.0,\"#0d0887\"],[0.1111111111111111,\"#46039f\"],[0.2222222222222222,\"#7201a8\"],[0.3333333333333333,\"#9c179e\"],[0.4444444444444444,\"#bd3786\"],[0.5555555555555556,\"#d8576b\"],[0.6666666666666666,\"#ed7953\"],[0.7777777777777778,\"#fb9f3a\"],[0.8888888888888888,\"#fdca26\"],[1.0,\"#f0f921\"]],\"type\":\"histogram2d\"}],\"histogram\":[{\"marker\":{\"pattern\":{\"fillmode\":\"overlay\",\"size\":10,\"solidity\":0.2}},\"type\":\"histogram\"}],\"mesh3d\":[{\"colorbar\":{\"outlinewidth\":0,\"ticks\":\"\"},\"type\":\"mesh3d\"}],\"parcoords\":[{\"line\":{\"colorbar\":{\"outlinewidth\":0,\"ticks\":\"\"}},\"type\":\"parcoords\"}],\"pie\":[{\"automargin\":true,\"type\":\"pie\"}],\"scatter3d\":[{\"line\":{\"colorbar\":{\"outlinewidth\":0,\"ticks\":\"\"}},\"marker\":{\"colorbar\":{\"outlinewidth\":0,\"ticks\":\"\"}},\"type\":\"scatter3d\"}],\"scattercarpet\":[{\"marker\":{\"colorbar\":{\"outlinewidth\":0,\"ticks\":\"\"}},\"type\":\"scattercarpet\"}],\"scattergeo\":[{\"marker\":{\"colorbar\":{\"outlinewidth\":0,\"ticks\":\"\"}},\"type\":\"scattergeo\"}],\"scattergl\":[{\"marker\":{\"colorbar\":{\"outlinewidth\":0,\"ticks\":\"\"}},\"type\":\"scattergl\"}],\"scattermapbox\":[{\"marker\":{\"colorbar\":{\"outlinewidth\":0,\"ticks\":\"\"}},\"type\":\"scattermapbox\"}],\"scatterpolargl\":[{\"marker\":{\"colorbar\":{\"outlinewidth\":0,\"ticks\":\"\"}},\"type\":\"scatterpolargl\"}],\"scatterpolar\":[{\"marker\":{\"colorbar\":{\"outlinewidth\":0,\"ticks\":\"\"}},\"type\":\"scatterpolar\"}],\"scatter\":[{\"fillpattern\":{\"fillmode\":\"overlay\",\"size\":10,\"solidity\":0.2},\"type\":\"scatter\"}],\"scatterternary\":[{\"marker\":{\"colorbar\":{\"outlinewidth\":0,\"ticks\":\"\"}},\"type\":\"scatterternary\"}],\"surface\":[{\"colorbar\":{\"outlinewidth\":0,\"ticks\":\"\"},\"colorscale\":[[0.0,\"#0d0887\"],[0.1111111111111111,\"#46039f\"],[0.2222222222222222,\"#7201a8\"],[0.3333333333333333,\"#9c179e\"],[0.4444444444444444,\"#bd3786\"],[0.5555555555555556,\"#d8576b\"],[0.6666666666666666,\"#ed7953\"],[0.7777777777777778,\"#fb9f3a\"],[0.8888888888888888,\"#fdca26\"],[1.0,\"#f0f921\"]],\"type\":\"surface\"}],\"table\":[{\"cells\":{\"fill\":{\"color\":\"#EBF0F8\"},\"line\":{\"color\":\"white\"}},\"header\":{\"fill\":{\"color\":\"#C8D4E3\"},\"line\":{\"color\":\"white\"}},\"type\":\"table\"}]},\"layout\":{\"annotationdefaults\":{\"arrowcolor\":\"#2a3f5f\",\"arrowhead\":0,\"arrowwidth\":1},\"autotypenumbers\":\"strict\",\"coloraxis\":{\"colorbar\":{\"outlinewidth\":0,\"ticks\":\"\"}},\"colorscale\":{\"diverging\":[[0,\"#8e0152\"],[0.1,\"#c51b7d\"],[0.2,\"#de77ae\"],[0.3,\"#f1b6da\"],[0.4,\"#fde0ef\"],[0.5,\"#f7f7f7\"],[0.6,\"#e6f5d0\"],[0.7,\"#b8e186\"],[0.8,\"#7fbc41\"],[0.9,\"#4d9221\"],[1,\"#276419\"]],\"sequential\":[[0.0,\"#0d0887\"],[0.1111111111111111,\"#46039f\"],[0.2222222222222222,\"#7201a8\"],[0.3333333333333333,\"#9c179e\"],[0.4444444444444444,\"#bd3786\"],[0.5555555555555556,\"#d8576b\"],[0.6666666666666666,\"#ed7953\"],[0.7777777777777778,\"#fb9f3a\"],[0.8888888888888888,\"#fdca26\"],[1.0,\"#f0f921\"]],\"sequentialminus\":[[0.0,\"#0d0887\"],[0.1111111111111111,\"#46039f\"],[0.2222222222222222,\"#7201a8\"],[0.3333333333333333,\"#9c179e\"],[0.4444444444444444,\"#bd3786\"],[0.5555555555555556,\"#d8576b\"],[0.6666666666666666,\"#ed7953\"],[0.7777777777777778,\"#fb9f3a\"],[0.8888888888888888,\"#fdca26\"],[1.0,\"#f0f921\"]]},\"colorway\":[\"#636efa\",\"#EF553B\",\"#00cc96\",\"#ab63fa\",\"#FFA15A\",\"#19d3f3\",\"#FF6692\",\"#B6E880\",\"#FF97FF\",\"#FECB52\"],\"font\":{\"color\":\"#2a3f5f\"},\"geo\":{\"bgcolor\":\"white\",\"lakecolor\":\"white\",\"landcolor\":\"#E5ECF6\",\"showlakes\":true,\"showland\":true,\"subunitcolor\":\"white\"},\"hoverlabel\":{\"align\":\"left\"},\"hovermode\":\"closest\",\"mapbox\":{\"style\":\"light\"},\"paper_bgcolor\":\"white\",\"plot_bgcolor\":\"#E5ECF6\",\"polar\":{\"angularaxis\":{\"gridcolor\":\"white\",\"linecolor\":\"white\",\"ticks\":\"\"},\"bgcolor\":\"#E5ECF6\",\"radialaxis\":{\"gridcolor\":\"white\",\"linecolor\":\"white\",\"ticks\":\"\"}},\"scene\":{\"xaxis\":{\"backgroundcolor\":\"#E5ECF6\",\"gridcolor\":\"white\",\"gridwidth\":2,\"linecolor\":\"white\",\"showbackground\":true,\"ticks\":\"\",\"zerolinecolor\":\"white\"},\"yaxis\":{\"backgroundcolor\":\"#E5ECF6\",\"gridcolor\":\"white\",\"gridwidth\":2,\"linecolor\":\"white\",\"showbackground\":true,\"ticks\":\"\",\"zerolinecolor\":\"white\"},\"zaxis\":{\"backgroundcolor\":\"#E5ECF6\",\"gridcolor\":\"white\",\"gridwidth\":2,\"linecolor\":\"white\",\"showbackground\":true,\"ticks\":\"\",\"zerolinecolor\":\"white\"}},\"shapedefaults\":{\"line\":{\"color\":\"#2a3f5f\"}},\"ternary\":{\"aaxis\":{\"gridcolor\":\"white\",\"linecolor\":\"white\",\"ticks\":\"\"},\"baxis\":{\"gridcolor\":\"white\",\"linecolor\":\"white\",\"ticks\":\"\"},\"bgcolor\":\"#E5ECF6\",\"caxis\":{\"gridcolor\":\"white\",\"linecolor\":\"white\",\"ticks\":\"\"}},\"title\":{\"x\":0.05},\"xaxis\":{\"automargin\":true,\"gridcolor\":\"white\",\"linecolor\":\"white\",\"ticks\":\"\",\"title\":{\"standoff\":15},\"zerolinecolor\":\"white\",\"zerolinewidth\":2},\"yaxis\":{\"automargin\":true,\"gridcolor\":\"white\",\"linecolor\":\"white\",\"ticks\":\"\",\"title\":{\"standoff\":15},\"zerolinecolor\":\"white\",\"zerolinewidth\":2}}},\"title\":{\"font\":{\"color\":\"#4D5663\"}},\"xaxis\":{\"gridcolor\":\"#E1E5ED\",\"showgrid\":true,\"tickfont\":{\"color\":\"#4D5663\"},\"title\":{\"font\":{\"color\":\"#4D5663\"},\"text\":\"\"},\"zerolinecolor\":\"#E1E5ED\"},\"yaxis\":{\"gridcolor\":\"#E1E5ED\",\"showgrid\":true,\"tickfont\":{\"color\":\"#4D5663\"},\"title\":{\"font\":{\"color\":\"#4D5663\"},\"text\":\"\"},\"zerolinecolor\":\"#E1E5ED\"}},                        {\"showLink\": true, \"linkText\": \"Export to plot.ly\", \"plotlyServerURL\": \"https://plot.ly\", \"responsive\": true}                    ).then(function(){\n",
       "                            \n",
       "var gd = document.getElementById('9e9a131c-6516-4130-b57d-b30167930860');\n",
       "var x = new MutationObserver(function (mutations, observer) {{\n",
       "        var display = window.getComputedStyle(gd).display;\n",
       "        if (!display || display === 'none') {{\n",
       "            console.log([gd, 'removed!']);\n",
       "            Plotly.purge(gd);\n",
       "            observer.disconnect();\n",
       "        }}\n",
       "}});\n",
       "\n",
       "// Listen for the removal of the full notebook cells\n",
       "var notebookContainer = gd.closest('#notebook-container');\n",
       "if (notebookContainer) {{\n",
       "    x.observe(notebookContainer, {childList: true});\n",
       "}}\n",
       "\n",
       "// Listen for the clearing of the current output cell\n",
       "var outputEl = gd.closest('.output');\n",
       "if (outputEl) {{\n",
       "    x.observe(outputEl, {childList: true});\n",
       "}}\n",
       "\n",
       "                        })                };                });            </script>        </div>"
      ]
     },
     "metadata": {},
     "output_type": "display_data"
    }
   ],
   "source": [
    "df.iplot(kind='box')"
   ]
  },
  {
   "cell_type": "markdown",
   "metadata": {},
   "source": [
    "## 3d Surface"
   ]
  },
  {
   "cell_type": "code",
   "execution_count": 14,
   "metadata": {
    "collapsed": false
   },
   "outputs": [
    {
     "data": {
      "application/vnd.plotly.v1+json": {
       "config": {
        "linkText": "Export to plot.ly",
        "plotlyServerURL": "https://plot.ly",
        "showLink": true
       },
       "data": [
        {
         "colorscale": [
          [
           0,
           "rgb(165,0,38)"
          ],
          [
           0.1,
           "rgb(215,48,39)"
          ],
          [
           0.2,
           "rgb(244,109,67)"
          ],
          [
           0.3,
           "rgb(253,174,97)"
          ],
          [
           0.4,
           "rgb(254,224,144)"
          ],
          [
           0.5,
           "rgb(255,255,191)"
          ],
          [
           0.6,
           "rgb(224,243,248)"
          ],
          [
           0.7,
           "rgb(171,217,233)"
          ],
          [
           0.8,
           "rgb(116,173,209)"
          ],
          [
           0.9,
           "rgb(69,117,180)"
          ],
          [
           1,
           "rgb(49,54,149)"
          ]
         ],
         "type": "surface",
         "x": [
          0,
          1,
          2,
          3,
          4
         ],
         "y": [
          "x",
          "y",
          "z"
         ],
         "z": [
          [
           1,
           2,
           3,
           4,
           5
          ],
          [
           10,
           20,
           30,
           20,
           10
          ],
          [
           5,
           4,
           3,
           2,
           1
          ]
         ]
        }
       ],
       "layout": {
        "legend": {
         "bgcolor": "#F5F6F9",
         "font": {
          "color": "#4D5663"
         }
        },
        "paper_bgcolor": "#F5F6F9",
        "plot_bgcolor": "#F5F6F9",
        "template": {
         "data": {
          "bar": [
           {
            "error_x": {
             "color": "#2a3f5f"
            },
            "error_y": {
             "color": "#2a3f5f"
            },
            "marker": {
             "line": {
              "color": "#E5ECF6",
              "width": 0.5
             },
             "pattern": {
              "fillmode": "overlay",
              "size": 10,
              "solidity": 0.2
             }
            },
            "type": "bar"
           }
          ],
          "barpolar": [
           {
            "marker": {
             "line": {
              "color": "#E5ECF6",
              "width": 0.5
             },
             "pattern": {
              "fillmode": "overlay",
              "size": 10,
              "solidity": 0.2
             }
            },
            "type": "barpolar"
           }
          ],
          "carpet": [
           {
            "aaxis": {
             "endlinecolor": "#2a3f5f",
             "gridcolor": "white",
             "linecolor": "white",
             "minorgridcolor": "white",
             "startlinecolor": "#2a3f5f"
            },
            "baxis": {
             "endlinecolor": "#2a3f5f",
             "gridcolor": "white",
             "linecolor": "white",
             "minorgridcolor": "white",
             "startlinecolor": "#2a3f5f"
            },
            "type": "carpet"
           }
          ],
          "choropleth": [
           {
            "colorbar": {
             "outlinewidth": 0,
             "ticks": ""
            },
            "type": "choropleth"
           }
          ],
          "contour": [
           {
            "colorbar": {
             "outlinewidth": 0,
             "ticks": ""
            },
            "colorscale": [
             [
              0,
              "#0d0887"
             ],
             [
              0.1111111111111111,
              "#46039f"
             ],
             [
              0.2222222222222222,
              "#7201a8"
             ],
             [
              0.3333333333333333,
              "#9c179e"
             ],
             [
              0.4444444444444444,
              "#bd3786"
             ],
             [
              0.5555555555555556,
              "#d8576b"
             ],
             [
              0.6666666666666666,
              "#ed7953"
             ],
             [
              0.7777777777777778,
              "#fb9f3a"
             ],
             [
              0.8888888888888888,
              "#fdca26"
             ],
             [
              1,
              "#f0f921"
             ]
            ],
            "type": "contour"
           }
          ],
          "contourcarpet": [
           {
            "colorbar": {
             "outlinewidth": 0,
             "ticks": ""
            },
            "type": "contourcarpet"
           }
          ],
          "heatmap": [
           {
            "colorbar": {
             "outlinewidth": 0,
             "ticks": ""
            },
            "colorscale": [
             [
              0,
              "#0d0887"
             ],
             [
              0.1111111111111111,
              "#46039f"
             ],
             [
              0.2222222222222222,
              "#7201a8"
             ],
             [
              0.3333333333333333,
              "#9c179e"
             ],
             [
              0.4444444444444444,
              "#bd3786"
             ],
             [
              0.5555555555555556,
              "#d8576b"
             ],
             [
              0.6666666666666666,
              "#ed7953"
             ],
             [
              0.7777777777777778,
              "#fb9f3a"
             ],
             [
              0.8888888888888888,
              "#fdca26"
             ],
             [
              1,
              "#f0f921"
             ]
            ],
            "type": "heatmap"
           }
          ],
          "heatmapgl": [
           {
            "colorbar": {
             "outlinewidth": 0,
             "ticks": ""
            },
            "colorscale": [
             [
              0,
              "#0d0887"
             ],
             [
              0.1111111111111111,
              "#46039f"
             ],
             [
              0.2222222222222222,
              "#7201a8"
             ],
             [
              0.3333333333333333,
              "#9c179e"
             ],
             [
              0.4444444444444444,
              "#bd3786"
             ],
             [
              0.5555555555555556,
              "#d8576b"
             ],
             [
              0.6666666666666666,
              "#ed7953"
             ],
             [
              0.7777777777777778,
              "#fb9f3a"
             ],
             [
              0.8888888888888888,
              "#fdca26"
             ],
             [
              1,
              "#f0f921"
             ]
            ],
            "type": "heatmapgl"
           }
          ],
          "histogram": [
           {
            "marker": {
             "pattern": {
              "fillmode": "overlay",
              "size": 10,
              "solidity": 0.2
             }
            },
            "type": "histogram"
           }
          ],
          "histogram2d": [
           {
            "colorbar": {
             "outlinewidth": 0,
             "ticks": ""
            },
            "colorscale": [
             [
              0,
              "#0d0887"
             ],
             [
              0.1111111111111111,
              "#46039f"
             ],
             [
              0.2222222222222222,
              "#7201a8"
             ],
             [
              0.3333333333333333,
              "#9c179e"
             ],
             [
              0.4444444444444444,
              "#bd3786"
             ],
             [
              0.5555555555555556,
              "#d8576b"
             ],
             [
              0.6666666666666666,
              "#ed7953"
             ],
             [
              0.7777777777777778,
              "#fb9f3a"
             ],
             [
              0.8888888888888888,
              "#fdca26"
             ],
             [
              1,
              "#f0f921"
             ]
            ],
            "type": "histogram2d"
           }
          ],
          "histogram2dcontour": [
           {
            "colorbar": {
             "outlinewidth": 0,
             "ticks": ""
            },
            "colorscale": [
             [
              0,
              "#0d0887"
             ],
             [
              0.1111111111111111,
              "#46039f"
             ],
             [
              0.2222222222222222,
              "#7201a8"
             ],
             [
              0.3333333333333333,
              "#9c179e"
             ],
             [
              0.4444444444444444,
              "#bd3786"
             ],
             [
              0.5555555555555556,
              "#d8576b"
             ],
             [
              0.6666666666666666,
              "#ed7953"
             ],
             [
              0.7777777777777778,
              "#fb9f3a"
             ],
             [
              0.8888888888888888,
              "#fdca26"
             ],
             [
              1,
              "#f0f921"
             ]
            ],
            "type": "histogram2dcontour"
           }
          ],
          "mesh3d": [
           {
            "colorbar": {
             "outlinewidth": 0,
             "ticks": ""
            },
            "type": "mesh3d"
           }
          ],
          "parcoords": [
           {
            "line": {
             "colorbar": {
              "outlinewidth": 0,
              "ticks": ""
             }
            },
            "type": "parcoords"
           }
          ],
          "pie": [
           {
            "automargin": true,
            "type": "pie"
           }
          ],
          "scatter": [
           {
            "fillpattern": {
             "fillmode": "overlay",
             "size": 10,
             "solidity": 0.2
            },
            "type": "scatter"
           }
          ],
          "scatter3d": [
           {
            "line": {
             "colorbar": {
              "outlinewidth": 0,
              "ticks": ""
             }
            },
            "marker": {
             "colorbar": {
              "outlinewidth": 0,
              "ticks": ""
             }
            },
            "type": "scatter3d"
           }
          ],
          "scattercarpet": [
           {
            "marker": {
             "colorbar": {
              "outlinewidth": 0,
              "ticks": ""
             }
            },
            "type": "scattercarpet"
           }
          ],
          "scattergeo": [
           {
            "marker": {
             "colorbar": {
              "outlinewidth": 0,
              "ticks": ""
             }
            },
            "type": "scattergeo"
           }
          ],
          "scattergl": [
           {
            "marker": {
             "colorbar": {
              "outlinewidth": 0,
              "ticks": ""
             }
            },
            "type": "scattergl"
           }
          ],
          "scattermapbox": [
           {
            "marker": {
             "colorbar": {
              "outlinewidth": 0,
              "ticks": ""
             }
            },
            "type": "scattermapbox"
           }
          ],
          "scatterpolar": [
           {
            "marker": {
             "colorbar": {
              "outlinewidth": 0,
              "ticks": ""
             }
            },
            "type": "scatterpolar"
           }
          ],
          "scatterpolargl": [
           {
            "marker": {
             "colorbar": {
              "outlinewidth": 0,
              "ticks": ""
             }
            },
            "type": "scatterpolargl"
           }
          ],
          "scatterternary": [
           {
            "marker": {
             "colorbar": {
              "outlinewidth": 0,
              "ticks": ""
             }
            },
            "type": "scatterternary"
           }
          ],
          "surface": [
           {
            "colorbar": {
             "outlinewidth": 0,
             "ticks": ""
            },
            "colorscale": [
             [
              0,
              "#0d0887"
             ],
             [
              0.1111111111111111,
              "#46039f"
             ],
             [
              0.2222222222222222,
              "#7201a8"
             ],
             [
              0.3333333333333333,
              "#9c179e"
             ],
             [
              0.4444444444444444,
              "#bd3786"
             ],
             [
              0.5555555555555556,
              "#d8576b"
             ],
             [
              0.6666666666666666,
              "#ed7953"
             ],
             [
              0.7777777777777778,
              "#fb9f3a"
             ],
             [
              0.8888888888888888,
              "#fdca26"
             ],
             [
              1,
              "#f0f921"
             ]
            ],
            "type": "surface"
           }
          ],
          "table": [
           {
            "cells": {
             "fill": {
              "color": "#EBF0F8"
             },
             "line": {
              "color": "white"
             }
            },
            "header": {
             "fill": {
              "color": "#C8D4E3"
             },
             "line": {
              "color": "white"
             }
            },
            "type": "table"
           }
          ]
         },
         "layout": {
          "annotationdefaults": {
           "arrowcolor": "#2a3f5f",
           "arrowhead": 0,
           "arrowwidth": 1
          },
          "autotypenumbers": "strict",
          "coloraxis": {
           "colorbar": {
            "outlinewidth": 0,
            "ticks": ""
           }
          },
          "colorscale": {
           "diverging": [
            [
             0,
             "#8e0152"
            ],
            [
             0.1,
             "#c51b7d"
            ],
            [
             0.2,
             "#de77ae"
            ],
            [
             0.3,
             "#f1b6da"
            ],
            [
             0.4,
             "#fde0ef"
            ],
            [
             0.5,
             "#f7f7f7"
            ],
            [
             0.6,
             "#e6f5d0"
            ],
            [
             0.7,
             "#b8e186"
            ],
            [
             0.8,
             "#7fbc41"
            ],
            [
             0.9,
             "#4d9221"
            ],
            [
             1,
             "#276419"
            ]
           ],
           "sequential": [
            [
             0,
             "#0d0887"
            ],
            [
             0.1111111111111111,
             "#46039f"
            ],
            [
             0.2222222222222222,
             "#7201a8"
            ],
            [
             0.3333333333333333,
             "#9c179e"
            ],
            [
             0.4444444444444444,
             "#bd3786"
            ],
            [
             0.5555555555555556,
             "#d8576b"
            ],
            [
             0.6666666666666666,
             "#ed7953"
            ],
            [
             0.7777777777777778,
             "#fb9f3a"
            ],
            [
             0.8888888888888888,
             "#fdca26"
            ],
            [
             1,
             "#f0f921"
            ]
           ],
           "sequentialminus": [
            [
             0,
             "#0d0887"
            ],
            [
             0.1111111111111111,
             "#46039f"
            ],
            [
             0.2222222222222222,
             "#7201a8"
            ],
            [
             0.3333333333333333,
             "#9c179e"
            ],
            [
             0.4444444444444444,
             "#bd3786"
            ],
            [
             0.5555555555555556,
             "#d8576b"
            ],
            [
             0.6666666666666666,
             "#ed7953"
            ],
            [
             0.7777777777777778,
             "#fb9f3a"
            ],
            [
             0.8888888888888888,
             "#fdca26"
            ],
            [
             1,
             "#f0f921"
            ]
           ]
          },
          "colorway": [
           "#636efa",
           "#EF553B",
           "#00cc96",
           "#ab63fa",
           "#FFA15A",
           "#19d3f3",
           "#FF6692",
           "#B6E880",
           "#FF97FF",
           "#FECB52"
          ],
          "font": {
           "color": "#2a3f5f"
          },
          "geo": {
           "bgcolor": "white",
           "lakecolor": "white",
           "landcolor": "#E5ECF6",
           "showlakes": true,
           "showland": true,
           "subunitcolor": "white"
          },
          "hoverlabel": {
           "align": "left"
          },
          "hovermode": "closest",
          "mapbox": {
           "style": "light"
          },
          "paper_bgcolor": "white",
          "plot_bgcolor": "#E5ECF6",
          "polar": {
           "angularaxis": {
            "gridcolor": "white",
            "linecolor": "white",
            "ticks": ""
           },
           "bgcolor": "#E5ECF6",
           "radialaxis": {
            "gridcolor": "white",
            "linecolor": "white",
            "ticks": ""
           }
          },
          "scene": {
           "xaxis": {
            "backgroundcolor": "#E5ECF6",
            "gridcolor": "white",
            "gridwidth": 2,
            "linecolor": "white",
            "showbackground": true,
            "ticks": "",
            "zerolinecolor": "white"
           },
           "yaxis": {
            "backgroundcolor": "#E5ECF6",
            "gridcolor": "white",
            "gridwidth": 2,
            "linecolor": "white",
            "showbackground": true,
            "ticks": "",
            "zerolinecolor": "white"
           },
           "zaxis": {
            "backgroundcolor": "#E5ECF6",
            "gridcolor": "white",
            "gridwidth": 2,
            "linecolor": "white",
            "showbackground": true,
            "ticks": "",
            "zerolinecolor": "white"
           }
          },
          "shapedefaults": {
           "line": {
            "color": "#2a3f5f"
           }
          },
          "ternary": {
           "aaxis": {
            "gridcolor": "white",
            "linecolor": "white",
            "ticks": ""
           },
           "baxis": {
            "gridcolor": "white",
            "linecolor": "white",
            "ticks": ""
           },
           "bgcolor": "#E5ECF6",
           "caxis": {
            "gridcolor": "white",
            "linecolor": "white",
            "ticks": ""
           }
          },
          "title": {
           "x": 0.05
          },
          "xaxis": {
           "automargin": true,
           "gridcolor": "white",
           "linecolor": "white",
           "ticks": "",
           "title": {
            "standoff": 15
           },
           "zerolinecolor": "white",
           "zerolinewidth": 2
          },
          "yaxis": {
           "automargin": true,
           "gridcolor": "white",
           "linecolor": "white",
           "ticks": "",
           "title": {
            "standoff": 15
           },
           "zerolinecolor": "white",
           "zerolinewidth": 2
          }
         }
        },
        "title": {
         "font": {
          "color": "#4D5663"
         }
        },
        "xaxis": {
         "gridcolor": "#E1E5ED",
         "showgrid": true,
         "tickfont": {
          "color": "#4D5663"
         },
         "title": {
          "font": {
           "color": "#4D5663"
          },
          "text": ""
         },
         "zerolinecolor": "#E1E5ED"
        },
        "yaxis": {
         "gridcolor": "#E1E5ED",
         "showgrid": true,
         "tickfont": {
          "color": "#4D5663"
         },
         "title": {
          "font": {
           "color": "#4D5663"
          },
          "text": ""
         },
         "zerolinecolor": "#E1E5ED"
        }
       }
      },
      "text/html": [
       "<div>                            <div id=\"90b2ac46-519e-4f19-85a3-f6ea2b9155d0\" class=\"plotly-graph-div\" style=\"height:525px; width:100%;\"></div>            <script type=\"text/javascript\">                require([\"plotly\"], function(Plotly) {                    window.PLOTLYENV=window.PLOTLYENV || {};\n",
       "                    window.PLOTLYENV.BASE_URL='https://plot.ly';                                    if (document.getElementById(\"90b2ac46-519e-4f19-85a3-f6ea2b9155d0\")) {                    Plotly.newPlot(                        \"90b2ac46-519e-4f19-85a3-f6ea2b9155d0\",                        [{\"colorscale\":[[0.0,\"rgb(165,0,38)\"],[0.1,\"rgb(215,48,39)\"],[0.2,\"rgb(244,109,67)\"],[0.3,\"rgb(253,174,97)\"],[0.4,\"rgb(254,224,144)\"],[0.5,\"rgb(255,255,191)\"],[0.6,\"rgb(224,243,248)\"],[0.7,\"rgb(171,217,233)\"],[0.8,\"rgb(116,173,209)\"],[0.9,\"rgb(69,117,180)\"],[1.0,\"rgb(49,54,149)\"]],\"x\":[0,1,2,3,4],\"y\":[\"x\",\"y\",\"z\"],\"z\":[[1,2,3,4,5],[10,20,30,20,10],[5,4,3,2,1]],\"type\":\"surface\"}],                        {\"legend\":{\"bgcolor\":\"#F5F6F9\",\"font\":{\"color\":\"#4D5663\"}},\"paper_bgcolor\":\"#F5F6F9\",\"plot_bgcolor\":\"#F5F6F9\",\"template\":{\"data\":{\"barpolar\":[{\"marker\":{\"line\":{\"color\":\"#E5ECF6\",\"width\":0.5},\"pattern\":{\"fillmode\":\"overlay\",\"size\":10,\"solidity\":0.2}},\"type\":\"barpolar\"}],\"bar\":[{\"error_x\":{\"color\":\"#2a3f5f\"},\"error_y\":{\"color\":\"#2a3f5f\"},\"marker\":{\"line\":{\"color\":\"#E5ECF6\",\"width\":0.5},\"pattern\":{\"fillmode\":\"overlay\",\"size\":10,\"solidity\":0.2}},\"type\":\"bar\"}],\"carpet\":[{\"aaxis\":{\"endlinecolor\":\"#2a3f5f\",\"gridcolor\":\"white\",\"linecolor\":\"white\",\"minorgridcolor\":\"white\",\"startlinecolor\":\"#2a3f5f\"},\"baxis\":{\"endlinecolor\":\"#2a3f5f\",\"gridcolor\":\"white\",\"linecolor\":\"white\",\"minorgridcolor\":\"white\",\"startlinecolor\":\"#2a3f5f\"},\"type\":\"carpet\"}],\"choropleth\":[{\"colorbar\":{\"outlinewidth\":0,\"ticks\":\"\"},\"type\":\"choropleth\"}],\"contourcarpet\":[{\"colorbar\":{\"outlinewidth\":0,\"ticks\":\"\"},\"type\":\"contourcarpet\"}],\"contour\":[{\"colorbar\":{\"outlinewidth\":0,\"ticks\":\"\"},\"colorscale\":[[0.0,\"#0d0887\"],[0.1111111111111111,\"#46039f\"],[0.2222222222222222,\"#7201a8\"],[0.3333333333333333,\"#9c179e\"],[0.4444444444444444,\"#bd3786\"],[0.5555555555555556,\"#d8576b\"],[0.6666666666666666,\"#ed7953\"],[0.7777777777777778,\"#fb9f3a\"],[0.8888888888888888,\"#fdca26\"],[1.0,\"#f0f921\"]],\"type\":\"contour\"}],\"heatmapgl\":[{\"colorbar\":{\"outlinewidth\":0,\"ticks\":\"\"},\"colorscale\":[[0.0,\"#0d0887\"],[0.1111111111111111,\"#46039f\"],[0.2222222222222222,\"#7201a8\"],[0.3333333333333333,\"#9c179e\"],[0.4444444444444444,\"#bd3786\"],[0.5555555555555556,\"#d8576b\"],[0.6666666666666666,\"#ed7953\"],[0.7777777777777778,\"#fb9f3a\"],[0.8888888888888888,\"#fdca26\"],[1.0,\"#f0f921\"]],\"type\":\"heatmapgl\"}],\"heatmap\":[{\"colorbar\":{\"outlinewidth\":0,\"ticks\":\"\"},\"colorscale\":[[0.0,\"#0d0887\"],[0.1111111111111111,\"#46039f\"],[0.2222222222222222,\"#7201a8\"],[0.3333333333333333,\"#9c179e\"],[0.4444444444444444,\"#bd3786\"],[0.5555555555555556,\"#d8576b\"],[0.6666666666666666,\"#ed7953\"],[0.7777777777777778,\"#fb9f3a\"],[0.8888888888888888,\"#fdca26\"],[1.0,\"#f0f921\"]],\"type\":\"heatmap\"}],\"histogram2dcontour\":[{\"colorbar\":{\"outlinewidth\":0,\"ticks\":\"\"},\"colorscale\":[[0.0,\"#0d0887\"],[0.1111111111111111,\"#46039f\"],[0.2222222222222222,\"#7201a8\"],[0.3333333333333333,\"#9c179e\"],[0.4444444444444444,\"#bd3786\"],[0.5555555555555556,\"#d8576b\"],[0.6666666666666666,\"#ed7953\"],[0.7777777777777778,\"#fb9f3a\"],[0.8888888888888888,\"#fdca26\"],[1.0,\"#f0f921\"]],\"type\":\"histogram2dcontour\"}],\"histogram2d\":[{\"colorbar\":{\"outlinewidth\":0,\"ticks\":\"\"},\"colorscale\":[[0.0,\"#0d0887\"],[0.1111111111111111,\"#46039f\"],[0.2222222222222222,\"#7201a8\"],[0.3333333333333333,\"#9c179e\"],[0.4444444444444444,\"#bd3786\"],[0.5555555555555556,\"#d8576b\"],[0.6666666666666666,\"#ed7953\"],[0.7777777777777778,\"#fb9f3a\"],[0.8888888888888888,\"#fdca26\"],[1.0,\"#f0f921\"]],\"type\":\"histogram2d\"}],\"histogram\":[{\"marker\":{\"pattern\":{\"fillmode\":\"overlay\",\"size\":10,\"solidity\":0.2}},\"type\":\"histogram\"}],\"mesh3d\":[{\"colorbar\":{\"outlinewidth\":0,\"ticks\":\"\"},\"type\":\"mesh3d\"}],\"parcoords\":[{\"line\":{\"colorbar\":{\"outlinewidth\":0,\"ticks\":\"\"}},\"type\":\"parcoords\"}],\"pie\":[{\"automargin\":true,\"type\":\"pie\"}],\"scatter3d\":[{\"line\":{\"colorbar\":{\"outlinewidth\":0,\"ticks\":\"\"}},\"marker\":{\"colorbar\":{\"outlinewidth\":0,\"ticks\":\"\"}},\"type\":\"scatter3d\"}],\"scattercarpet\":[{\"marker\":{\"colorbar\":{\"outlinewidth\":0,\"ticks\":\"\"}},\"type\":\"scattercarpet\"}],\"scattergeo\":[{\"marker\":{\"colorbar\":{\"outlinewidth\":0,\"ticks\":\"\"}},\"type\":\"scattergeo\"}],\"scattergl\":[{\"marker\":{\"colorbar\":{\"outlinewidth\":0,\"ticks\":\"\"}},\"type\":\"scattergl\"}],\"scattermapbox\":[{\"marker\":{\"colorbar\":{\"outlinewidth\":0,\"ticks\":\"\"}},\"type\":\"scattermapbox\"}],\"scatterpolargl\":[{\"marker\":{\"colorbar\":{\"outlinewidth\":0,\"ticks\":\"\"}},\"type\":\"scatterpolargl\"}],\"scatterpolar\":[{\"marker\":{\"colorbar\":{\"outlinewidth\":0,\"ticks\":\"\"}},\"type\":\"scatterpolar\"}],\"scatter\":[{\"fillpattern\":{\"fillmode\":\"overlay\",\"size\":10,\"solidity\":0.2},\"type\":\"scatter\"}],\"scatterternary\":[{\"marker\":{\"colorbar\":{\"outlinewidth\":0,\"ticks\":\"\"}},\"type\":\"scatterternary\"}],\"surface\":[{\"colorbar\":{\"outlinewidth\":0,\"ticks\":\"\"},\"colorscale\":[[0.0,\"#0d0887\"],[0.1111111111111111,\"#46039f\"],[0.2222222222222222,\"#7201a8\"],[0.3333333333333333,\"#9c179e\"],[0.4444444444444444,\"#bd3786\"],[0.5555555555555556,\"#d8576b\"],[0.6666666666666666,\"#ed7953\"],[0.7777777777777778,\"#fb9f3a\"],[0.8888888888888888,\"#fdca26\"],[1.0,\"#f0f921\"]],\"type\":\"surface\"}],\"table\":[{\"cells\":{\"fill\":{\"color\":\"#EBF0F8\"},\"line\":{\"color\":\"white\"}},\"header\":{\"fill\":{\"color\":\"#C8D4E3\"},\"line\":{\"color\":\"white\"}},\"type\":\"table\"}]},\"layout\":{\"annotationdefaults\":{\"arrowcolor\":\"#2a3f5f\",\"arrowhead\":0,\"arrowwidth\":1},\"autotypenumbers\":\"strict\",\"coloraxis\":{\"colorbar\":{\"outlinewidth\":0,\"ticks\":\"\"}},\"colorscale\":{\"diverging\":[[0,\"#8e0152\"],[0.1,\"#c51b7d\"],[0.2,\"#de77ae\"],[0.3,\"#f1b6da\"],[0.4,\"#fde0ef\"],[0.5,\"#f7f7f7\"],[0.6,\"#e6f5d0\"],[0.7,\"#b8e186\"],[0.8,\"#7fbc41\"],[0.9,\"#4d9221\"],[1,\"#276419\"]],\"sequential\":[[0.0,\"#0d0887\"],[0.1111111111111111,\"#46039f\"],[0.2222222222222222,\"#7201a8\"],[0.3333333333333333,\"#9c179e\"],[0.4444444444444444,\"#bd3786\"],[0.5555555555555556,\"#d8576b\"],[0.6666666666666666,\"#ed7953\"],[0.7777777777777778,\"#fb9f3a\"],[0.8888888888888888,\"#fdca26\"],[1.0,\"#f0f921\"]],\"sequentialminus\":[[0.0,\"#0d0887\"],[0.1111111111111111,\"#46039f\"],[0.2222222222222222,\"#7201a8\"],[0.3333333333333333,\"#9c179e\"],[0.4444444444444444,\"#bd3786\"],[0.5555555555555556,\"#d8576b\"],[0.6666666666666666,\"#ed7953\"],[0.7777777777777778,\"#fb9f3a\"],[0.8888888888888888,\"#fdca26\"],[1.0,\"#f0f921\"]]},\"colorway\":[\"#636efa\",\"#EF553B\",\"#00cc96\",\"#ab63fa\",\"#FFA15A\",\"#19d3f3\",\"#FF6692\",\"#B6E880\",\"#FF97FF\",\"#FECB52\"],\"font\":{\"color\":\"#2a3f5f\"},\"geo\":{\"bgcolor\":\"white\",\"lakecolor\":\"white\",\"landcolor\":\"#E5ECF6\",\"showlakes\":true,\"showland\":true,\"subunitcolor\":\"white\"},\"hoverlabel\":{\"align\":\"left\"},\"hovermode\":\"closest\",\"mapbox\":{\"style\":\"light\"},\"paper_bgcolor\":\"white\",\"plot_bgcolor\":\"#E5ECF6\",\"polar\":{\"angularaxis\":{\"gridcolor\":\"white\",\"linecolor\":\"white\",\"ticks\":\"\"},\"bgcolor\":\"#E5ECF6\",\"radialaxis\":{\"gridcolor\":\"white\",\"linecolor\":\"white\",\"ticks\":\"\"}},\"scene\":{\"xaxis\":{\"backgroundcolor\":\"#E5ECF6\",\"gridcolor\":\"white\",\"gridwidth\":2,\"linecolor\":\"white\",\"showbackground\":true,\"ticks\":\"\",\"zerolinecolor\":\"white\"},\"yaxis\":{\"backgroundcolor\":\"#E5ECF6\",\"gridcolor\":\"white\",\"gridwidth\":2,\"linecolor\":\"white\",\"showbackground\":true,\"ticks\":\"\",\"zerolinecolor\":\"white\"},\"zaxis\":{\"backgroundcolor\":\"#E5ECF6\",\"gridcolor\":\"white\",\"gridwidth\":2,\"linecolor\":\"white\",\"showbackground\":true,\"ticks\":\"\",\"zerolinecolor\":\"white\"}},\"shapedefaults\":{\"line\":{\"color\":\"#2a3f5f\"}},\"ternary\":{\"aaxis\":{\"gridcolor\":\"white\",\"linecolor\":\"white\",\"ticks\":\"\"},\"baxis\":{\"gridcolor\":\"white\",\"linecolor\":\"white\",\"ticks\":\"\"},\"bgcolor\":\"#E5ECF6\",\"caxis\":{\"gridcolor\":\"white\",\"linecolor\":\"white\",\"ticks\":\"\"}},\"title\":{\"x\":0.05},\"xaxis\":{\"automargin\":true,\"gridcolor\":\"white\",\"linecolor\":\"white\",\"ticks\":\"\",\"title\":{\"standoff\":15},\"zerolinecolor\":\"white\",\"zerolinewidth\":2},\"yaxis\":{\"automargin\":true,\"gridcolor\":\"white\",\"linecolor\":\"white\",\"ticks\":\"\",\"title\":{\"standoff\":15},\"zerolinecolor\":\"white\",\"zerolinewidth\":2}}},\"title\":{\"font\":{\"color\":\"#4D5663\"}},\"xaxis\":{\"gridcolor\":\"#E1E5ED\",\"showgrid\":true,\"tickfont\":{\"color\":\"#4D5663\"},\"title\":{\"font\":{\"color\":\"#4D5663\"},\"text\":\"\"},\"zerolinecolor\":\"#E1E5ED\"},\"yaxis\":{\"gridcolor\":\"#E1E5ED\",\"showgrid\":true,\"tickfont\":{\"color\":\"#4D5663\"},\"title\":{\"font\":{\"color\":\"#4D5663\"},\"text\":\"\"},\"zerolinecolor\":\"#E1E5ED\"}},                        {\"showLink\": true, \"linkText\": \"Export to plot.ly\", \"plotlyServerURL\": \"https://plot.ly\", \"responsive\": true}                    ).then(function(){\n",
       "                            \n",
       "var gd = document.getElementById('90b2ac46-519e-4f19-85a3-f6ea2b9155d0');\n",
       "var x = new MutationObserver(function (mutations, observer) {{\n",
       "        var display = window.getComputedStyle(gd).display;\n",
       "        if (!display || display === 'none') {{\n",
       "            console.log([gd, 'removed!']);\n",
       "            Plotly.purge(gd);\n",
       "            observer.disconnect();\n",
       "        }}\n",
       "}});\n",
       "\n",
       "// Listen for the removal of the full notebook cells\n",
       "var notebookContainer = gd.closest('#notebook-container');\n",
       "if (notebookContainer) {{\n",
       "    x.observe(notebookContainer, {childList: true});\n",
       "}}\n",
       "\n",
       "// Listen for the clearing of the current output cell\n",
       "var outputEl = gd.closest('.output');\n",
       "if (outputEl) {{\n",
       "    x.observe(outputEl, {childList: true});\n",
       "}}\n",
       "\n",
       "                        })                };                });            </script>        </div>"
      ]
     },
     "metadata": {},
     "output_type": "display_data"
    }
   ],
   "source": [
    "df3 = pd.DataFrame({'x':[1,2,3,4,5],'y':[10,20,30,20,10],'z':[5,4,3,2,1]})\n",
    "df3.iplot(kind='surface',colorscale='rdylbu')"
   ]
  },
  {
   "cell_type": "markdown",
   "metadata": {},
   "source": [
    "## Spread"
   ]
  },
  {
   "cell_type": "code",
   "execution_count": 15,
   "metadata": {
    "collapsed": false
   },
   "outputs": [
    {
     "name": "stderr",
     "output_type": "stream",
     "text": [
      "c:\\Users\\MHDAH\\AppData\\Local\\Programs\\Python\\Python37\\lib\\site-packages\\cufflinks\\plotlytools.py:849: FutureWarning:\n",
      "\n",
      "The pandas.np module is deprecated and will be removed from pandas in a future version. Import numpy directly instead\n",
      "\n",
      "c:\\Users\\MHDAH\\AppData\\Local\\Programs\\Python\\Python37\\lib\\site-packages\\cufflinks\\plotlytools.py:850: FutureWarning:\n",
      "\n",
      "The pandas.np module is deprecated and will be removed from pandas in a future version. Import numpy directly instead\n",
      "\n"
     ]
    },
    {
     "data": {
      "application/vnd.plotly.v1+json": {
       "config": {
        "linkText": "Export to plot.ly",
        "plotlyServerURL": "https://plot.ly",
        "showLink": true
       },
       "data": [
        {
         "line": {
          "color": "rgba(255, 153, 51, 1.0)",
          "dash": "solid",
          "shape": "linear",
          "width": 1.3
         },
         "mode": "lines",
         "name": "A",
         "text": "",
         "type": "scatter",
         "x": [
          0,
          1,
          2,
          3,
          4,
          5,
          6,
          7,
          8,
          9,
          10,
          11,
          12,
          13,
          14,
          15,
          16,
          17,
          18,
          19,
          20,
          21,
          22,
          23,
          24,
          25,
          26,
          27,
          28,
          29,
          30,
          31,
          32,
          33,
          34,
          35,
          36,
          37,
          38,
          39,
          40,
          41,
          42,
          43,
          44,
          45,
          46,
          47,
          48,
          49,
          50,
          51,
          52,
          53,
          54,
          55,
          56,
          57,
          58,
          59,
          60,
          61,
          62,
          63,
          64,
          65,
          66,
          67,
          68,
          69,
          70,
          71,
          72,
          73,
          74,
          75,
          76,
          77,
          78,
          79,
          80,
          81,
          82,
          83,
          84,
          85,
          86,
          87,
          88,
          89,
          90,
          91,
          92,
          93,
          94,
          95,
          96,
          97,
          98,
          99
         ],
         "y": [
          0.9114742326787507,
          0.7578989467691609,
          -0.9874361968395297,
          0.22016382884816021,
          0.6077927569514273,
          0.7778834736810324,
          2.1131546813030457,
          -2.4490055660620578,
          -1.264753726599821,
          -1.113114717122689,
          0.7074598991253688,
          0.3011365498644992,
          1.3797717647512153,
          1.5678709953685082,
          -0.03622282412839025,
          1.2667918863642251,
          0.8749252774931616,
          -2.197805732647536,
          -1.0240395875458463,
          -2.142707972857464,
          -0.0736101364574777,
          -1.259255676470749,
          1.6015375948381252,
          1.112229978501615,
          -1.5622053971911025,
          1.8572790226404727,
          -0.4209177347085691,
          -0.912160726081105,
          -0.3037386021712285,
          0.8579623354976309,
          0.3565208302820152,
          0.6841429396840425,
          -0.7523937277325553,
          1.375620044215106,
          -1.2948947618372475,
          0.7226409299521954,
          -1.1545687528768627,
          0.4176384992573318,
          -0.0059278543542167945,
          -0.22869332071406231,
          -1.6746987522308645,
          0.9663733925438459,
          1.0763862190031617,
          -1.225551651184113,
          -0.7535643384107886,
          0.8096955120069954,
          -0.8670064279036938,
          -0.9680677241848497,
          1.1292477205253124,
          0.46947556948741576,
          -0.09447969379657634,
          0.5565096888594847,
          1.8403079260220252,
          0.3376051227254956,
          -0.9379486899192527,
          0.46813068099759814,
          0.09257732214048982,
          -1.6309760263885982,
          -0.11937821507956069,
          0.8475001411207256,
          -0.7150944067883627,
          1.1448948639850358,
          -1.0744821048971902,
          0.3924196833219243,
          0.9272154179010863,
          0.5026276413448757,
          0.8212503499671454,
          -0.8233919536733769,
          -0.2502667292808195,
          0.7236673354783757,
          0.18632609274324735,
          -1.9348967416153815,
          -0.3771390803791452,
          -0.9591907442850565,
          0.8657796666189373,
          0.28402206877817504,
          -0.23103203676238043,
          -1.6954591216753985,
          0.948904930684949,
          1.3203011128906776,
          1.3454169153034552,
          -0.2450999941893388,
          1.4276505694773265,
          0.9916419977998683,
          -0.46044944463704407,
          0.44416392997387194,
          0.24525133842413147,
          -0.09927401569069812,
          1.9148941613315424,
          0.8864805636561247,
          0.46370607184899737,
          -2.224352308256751,
          -1.0654022942267856,
          -0.2607577292767755,
          1.2242612562912998,
          -0.30021774043427785,
          -0.021938802648024933,
          0.038053496199222846,
          -0.08528024315010026,
          -1.5801736763077543
         ]
        },
        {
         "line": {
          "color": "rgba(55, 128, 191, 1.0)",
          "dash": "solid",
          "shape": "linear",
          "width": 1.3
         },
         "mode": "lines",
         "name": "B",
         "text": "",
         "type": "scatter",
         "x": [
          0,
          1,
          2,
          3,
          4,
          5,
          6,
          7,
          8,
          9,
          10,
          11,
          12,
          13,
          14,
          15,
          16,
          17,
          18,
          19,
          20,
          21,
          22,
          23,
          24,
          25,
          26,
          27,
          28,
          29,
          30,
          31,
          32,
          33,
          34,
          35,
          36,
          37,
          38,
          39,
          40,
          41,
          42,
          43,
          44,
          45,
          46,
          47,
          48,
          49,
          50,
          51,
          52,
          53,
          54,
          55,
          56,
          57,
          58,
          59,
          60,
          61,
          62,
          63,
          64,
          65,
          66,
          67,
          68,
          69,
          70,
          71,
          72,
          73,
          74,
          75,
          76,
          77,
          78,
          79,
          80,
          81,
          82,
          83,
          84,
          85,
          86,
          87,
          88,
          89,
          90,
          91,
          92,
          93,
          94,
          95,
          96,
          97,
          98,
          99
         ],
         "y": [
          0.23541819233456246,
          0.5482224871344553,
          -0.6762289676794175,
          -0.29753389009341696,
          -1.6537645838455806,
          0.8304428942574472,
          -0.4408669209013495,
          -0.27435782294007777,
          -2.173375085890643,
          0.20695320388106786,
          -1.0993754893406398,
          -1.2579231680566736,
          -1.4442829489057019,
          0.11632297708104956,
          0.6225013721856922,
          0.4944394057517207,
          -0.549574433268328,
          -1.2070224915495484,
          1.1077365446492404,
          0.3767494463443737,
          -0.048808423374183826,
          0.00400584390178196,
          0.7597092760009614,
          -0.34791100636292516,
          0.23580016658069564,
          -1.050013416154085,
          0.39421190996753597,
          0.035283337196053005,
          0.494369633848719,
          -1.4410894003445818,
          -0.34759793246896226,
          0.31297072926656766,
          0.883043623213389,
          -1.309452016254821,
          -0.494268560748715,
          1.051270007897888,
          -0.9400845241081949,
          1.0062190989079038,
          -0.2299281540729599,
          1.1205820384556222,
          0.3401911629876612,
          0.37978093151711045,
          -1.612791942328893,
          1.099243459502892,
          -1.8305676394507513,
          0.3570138753485757,
          0.31951510178702425,
          0.25094716578977916,
          1.228620982901242,
          -0.6601164535624199,
          0.12442024935454234,
          -0.7786844570120308,
          -0.7945273805880833,
          -1.5218876699649064,
          -0.9973007205172868,
          0.942982191799194,
          -0.5481870611417685,
          -1.711267025816037,
          0.6863576806719326,
          -0.2728391456421554,
          -0.6960216221354287,
          1.083291241894601,
          -0.23410333746971343,
          0.14876058960735514,
          -0.9504526268294847,
          -1.2684548505074855,
          -0.970167356029588,
          0.16555895612980628,
          0.7982318400260477,
          0.3502567389757603,
          0.5106487860872726,
          1.7167365629146856,
          -0.17515656694386475,
          0.2510405169637239,
          1.067048180128776,
          0.08249294970519207,
          1.8817184628314625,
          -0.2925444339019961,
          0.4982443469520614,
          0.7579274298666225,
          0.4513504840483056,
          0.18293533511137006,
          0.2074313555949219,
          1.0830362728623577,
          -1.3640558765781092,
          0.6695669304242179,
          -0.7917332091991889,
          0.9611564033860209,
          -0.6748198117284865,
          -0.4294317859327062,
          -0.44003438666389727,
          -0.7834587412866575,
          -0.6052898884146282,
          -0.5273756713097408,
          0.036473522701766556,
          -1.0318261997633305,
          0.4874952484513759,
          0.2303280257982348,
          -1.4352230408514677,
          0.8365986862717942
         ]
        },
        {
         "connectgaps": false,
         "fill": "tozeroy",
         "line": {
          "color": "green",
          "dash": "solid",
          "shape": "linear",
          "width": 0.5
         },
         "mode": "lines",
         "name": "Spread",
         "showlegend": false,
         "type": "scatter",
         "x": [
          0,
          1,
          2,
          3,
          4,
          5,
          6,
          7,
          8,
          9,
          10,
          11,
          12,
          13,
          14,
          15,
          16,
          17,
          18,
          19,
          20,
          21,
          22,
          23,
          24,
          25,
          26,
          27,
          28,
          29,
          30,
          31,
          32,
          33,
          34,
          35,
          36,
          37,
          38,
          39,
          40,
          41,
          42,
          43,
          44,
          45,
          46,
          47,
          48,
          49,
          50,
          51,
          52,
          53,
          54,
          55,
          56,
          57,
          58,
          59,
          60,
          61,
          62,
          63,
          64,
          65,
          66,
          67,
          68,
          69,
          70,
          71,
          72,
          73,
          74,
          75,
          76,
          77,
          78,
          79,
          80,
          81,
          82,
          83,
          84,
          85,
          86,
          87,
          88,
          89,
          90,
          91,
          92,
          93,
          94,
          95,
          96,
          97,
          98,
          99
         ],
         "xaxis": "x2",
         "y": [
          0.6760560403441882,
          0.2096764596347056,
          "",
          0.5176977189415772,
          2.2615573407970078,
          "",
          2.5540216022043953,
          "",
          0.9086213592908221,
          "",
          1.8068353884660087,
          1.5590597179211727,
          2.824054713656917,
          1.4515480182874585,
          "",
          0.7723524806125044,
          1.4244997107614896,
          "",
          "",
          "",
          "",
          "",
          0.8418283188371638,
          1.4601409848645401,
          "",
          2.907292438794558,
          "",
          "",
          "",
          2.2990517358422125,
          0.7041187627509775,
          0.37117221041747483,
          "",
          2.685072060469927,
          "",
          "",
          "",
          "",
          0.2240002997187431,
          "",
          "",
          0.5865924610267355,
          2.6891781613320545,
          "",
          1.0770033010399627,
          0.4526816366584197,
          "",
          "",
          "",
          1.1295920230498355,
          "",
          1.3351941458715155,
          2.6348353066101087,
          1.8594927926904021,
          0.05935203059803407,
          "",
          0.6407643832822584,
          0.08029099942743878,
          "",
          1.120339286762881,
          "",
          0.061603622090434795,
          "",
          0.24365909371456915,
          1.8776680447305711,
          1.7710824918523613,
          1.7914177059967336,
          "",
          "",
          0.3734105965026154,
          "",
          "",
          "",
          "",
          "",
          0.201529119072983,
          "",
          "",
          0.4506605837328876,
          0.5623736830240551,
          0.8940664312551496,
          "",
          1.2202192138824046,
          "",
          0.9036064319410652,
          "",
          1.0369845476233204,
          "",
          2.5897139730600287,
          1.315912349588831,
          0.9037404585128946,
          "",
          "",
          0.26661794203296535,
          1.1877877335895333,
          0.7316084593290526,
          "",
          "",
          1.3499427977013674,
          ""
         ],
         "yaxis": "y2"
        },
        {
         "connectgaps": false,
         "fill": "tozeroy",
         "line": {
          "color": "red",
          "dash": "solid",
          "shape": "linear",
          "width": 0.5
         },
         "mode": "lines",
         "name": "Spread",
         "showlegend": false,
         "type": "scatter",
         "x": [
          0,
          1,
          2,
          3,
          4,
          5,
          6,
          7,
          8,
          9,
          10,
          11,
          12,
          13,
          14,
          15,
          16,
          17,
          18,
          19,
          20,
          21,
          22,
          23,
          24,
          25,
          26,
          27,
          28,
          29,
          30,
          31,
          32,
          33,
          34,
          35,
          36,
          37,
          38,
          39,
          40,
          41,
          42,
          43,
          44,
          45,
          46,
          47,
          48,
          49,
          50,
          51,
          52,
          53,
          54,
          55,
          56,
          57,
          58,
          59,
          60,
          61,
          62,
          63,
          64,
          65,
          66,
          67,
          68,
          69,
          70,
          71,
          72,
          73,
          74,
          75,
          76,
          77,
          78,
          79,
          80,
          81,
          82,
          83,
          84,
          85,
          86,
          87,
          88,
          89,
          90,
          91,
          92,
          93,
          94,
          95,
          96,
          97,
          98,
          99
         ],
         "xaxis": "x2",
         "y": [
          "",
          "",
          -0.3112072291601121,
          "",
          "",
          -0.05255942057641483,
          "",
          -2.17464774312198,
          "",
          -1.3200679210037567,
          "",
          "",
          "",
          "",
          -0.6587241963140825,
          "",
          "",
          -0.9907832410979878,
          -2.1317761321950868,
          -2.5194574192018377,
          -0.024801713083293875,
          -1.263261520372531,
          "",
          "",
          -1.7980055637717982,
          "",
          -0.815129644676105,
          -0.947444063277158,
          -0.7981082360199475,
          "",
          "",
          "",
          -1.6354373509459443,
          "",
          -0.8006262010885326,
          -0.3286290779456926,
          -0.2144842287686678,
          -0.588580599650572,
          "",
          -1.3492753591696844,
          -2.0148899152185256,
          "",
          "",
          -2.324795110687005,
          "",
          "",
          -1.186521529690718,
          -1.2190148899746287,
          -0.09937326237592958,
          "",
          -0.21889994315111866,
          "",
          "",
          "",
          "",
          -0.4748515108015958,
          "",
          "",
          -0.8057358957514933,
          "",
          -0.01907278465293394,
          "",
          -0.8403787674274767,
          "",
          "",
          "",
          "",
          -0.9889509098031832,
          -1.0484985693068674,
          "",
          -0.32432269334402525,
          -3.6516333045300673,
          -0.20198251343528043,
          -1.2102312612487804,
          -0.20126851350983854,
          "",
          -2.112750499593843,
          -1.4029146877734024,
          "",
          "",
          "",
          -0.42803532930070887,
          "",
          -0.09139427506248943,
          "",
          -0.22540300045034595,
          "",
          -1.060430419076719,
          "",
          "",
          "",
          -1.4408935669700935,
          -0.4601124058121574,
          "",
          "",
          "",
          -0.5094340510994008,
          -0.19227452959901195,
          "",
          -2.4167723625795485
         ],
         "yaxis": "y2"
        }
       ],
       "layout": {
        "hovermode": "x",
        "legend": {
         "bgcolor": "#F5F6F9",
         "font": {
          "color": "#4D5663"
         }
        },
        "paper_bgcolor": "#F5F6F9",
        "plot_bgcolor": "#F5F6F9",
        "template": {
         "data": {
          "bar": [
           {
            "error_x": {
             "color": "#2a3f5f"
            },
            "error_y": {
             "color": "#2a3f5f"
            },
            "marker": {
             "line": {
              "color": "#E5ECF6",
              "width": 0.5
             },
             "pattern": {
              "fillmode": "overlay",
              "size": 10,
              "solidity": 0.2
             }
            },
            "type": "bar"
           }
          ],
          "barpolar": [
           {
            "marker": {
             "line": {
              "color": "#E5ECF6",
              "width": 0.5
             },
             "pattern": {
              "fillmode": "overlay",
              "size": 10,
              "solidity": 0.2
             }
            },
            "type": "barpolar"
           }
          ],
          "carpet": [
           {
            "aaxis": {
             "endlinecolor": "#2a3f5f",
             "gridcolor": "white",
             "linecolor": "white",
             "minorgridcolor": "white",
             "startlinecolor": "#2a3f5f"
            },
            "baxis": {
             "endlinecolor": "#2a3f5f",
             "gridcolor": "white",
             "linecolor": "white",
             "minorgridcolor": "white",
             "startlinecolor": "#2a3f5f"
            },
            "type": "carpet"
           }
          ],
          "choropleth": [
           {
            "colorbar": {
             "outlinewidth": 0,
             "ticks": ""
            },
            "type": "choropleth"
           }
          ],
          "contour": [
           {
            "colorbar": {
             "outlinewidth": 0,
             "ticks": ""
            },
            "colorscale": [
             [
              0,
              "#0d0887"
             ],
             [
              0.1111111111111111,
              "#46039f"
             ],
             [
              0.2222222222222222,
              "#7201a8"
             ],
             [
              0.3333333333333333,
              "#9c179e"
             ],
             [
              0.4444444444444444,
              "#bd3786"
             ],
             [
              0.5555555555555556,
              "#d8576b"
             ],
             [
              0.6666666666666666,
              "#ed7953"
             ],
             [
              0.7777777777777778,
              "#fb9f3a"
             ],
             [
              0.8888888888888888,
              "#fdca26"
             ],
             [
              1,
              "#f0f921"
             ]
            ],
            "type": "contour"
           }
          ],
          "contourcarpet": [
           {
            "colorbar": {
             "outlinewidth": 0,
             "ticks": ""
            },
            "type": "contourcarpet"
           }
          ],
          "heatmap": [
           {
            "colorbar": {
             "outlinewidth": 0,
             "ticks": ""
            },
            "colorscale": [
             [
              0,
              "#0d0887"
             ],
             [
              0.1111111111111111,
              "#46039f"
             ],
             [
              0.2222222222222222,
              "#7201a8"
             ],
             [
              0.3333333333333333,
              "#9c179e"
             ],
             [
              0.4444444444444444,
              "#bd3786"
             ],
             [
              0.5555555555555556,
              "#d8576b"
             ],
             [
              0.6666666666666666,
              "#ed7953"
             ],
             [
              0.7777777777777778,
              "#fb9f3a"
             ],
             [
              0.8888888888888888,
              "#fdca26"
             ],
             [
              1,
              "#f0f921"
             ]
            ],
            "type": "heatmap"
           }
          ],
          "heatmapgl": [
           {
            "colorbar": {
             "outlinewidth": 0,
             "ticks": ""
            },
            "colorscale": [
             [
              0,
              "#0d0887"
             ],
             [
              0.1111111111111111,
              "#46039f"
             ],
             [
              0.2222222222222222,
              "#7201a8"
             ],
             [
              0.3333333333333333,
              "#9c179e"
             ],
             [
              0.4444444444444444,
              "#bd3786"
             ],
             [
              0.5555555555555556,
              "#d8576b"
             ],
             [
              0.6666666666666666,
              "#ed7953"
             ],
             [
              0.7777777777777778,
              "#fb9f3a"
             ],
             [
              0.8888888888888888,
              "#fdca26"
             ],
             [
              1,
              "#f0f921"
             ]
            ],
            "type": "heatmapgl"
           }
          ],
          "histogram": [
           {
            "marker": {
             "pattern": {
              "fillmode": "overlay",
              "size": 10,
              "solidity": 0.2
             }
            },
            "type": "histogram"
           }
          ],
          "histogram2d": [
           {
            "colorbar": {
             "outlinewidth": 0,
             "ticks": ""
            },
            "colorscale": [
             [
              0,
              "#0d0887"
             ],
             [
              0.1111111111111111,
              "#46039f"
             ],
             [
              0.2222222222222222,
              "#7201a8"
             ],
             [
              0.3333333333333333,
              "#9c179e"
             ],
             [
              0.4444444444444444,
              "#bd3786"
             ],
             [
              0.5555555555555556,
              "#d8576b"
             ],
             [
              0.6666666666666666,
              "#ed7953"
             ],
             [
              0.7777777777777778,
              "#fb9f3a"
             ],
             [
              0.8888888888888888,
              "#fdca26"
             ],
             [
              1,
              "#f0f921"
             ]
            ],
            "type": "histogram2d"
           }
          ],
          "histogram2dcontour": [
           {
            "colorbar": {
             "outlinewidth": 0,
             "ticks": ""
            },
            "colorscale": [
             [
              0,
              "#0d0887"
             ],
             [
              0.1111111111111111,
              "#46039f"
             ],
             [
              0.2222222222222222,
              "#7201a8"
             ],
             [
              0.3333333333333333,
              "#9c179e"
             ],
             [
              0.4444444444444444,
              "#bd3786"
             ],
             [
              0.5555555555555556,
              "#d8576b"
             ],
             [
              0.6666666666666666,
              "#ed7953"
             ],
             [
              0.7777777777777778,
              "#fb9f3a"
             ],
             [
              0.8888888888888888,
              "#fdca26"
             ],
             [
              1,
              "#f0f921"
             ]
            ],
            "type": "histogram2dcontour"
           }
          ],
          "mesh3d": [
           {
            "colorbar": {
             "outlinewidth": 0,
             "ticks": ""
            },
            "type": "mesh3d"
           }
          ],
          "parcoords": [
           {
            "line": {
             "colorbar": {
              "outlinewidth": 0,
              "ticks": ""
             }
            },
            "type": "parcoords"
           }
          ],
          "pie": [
           {
            "automargin": true,
            "type": "pie"
           }
          ],
          "scatter": [
           {
            "fillpattern": {
             "fillmode": "overlay",
             "size": 10,
             "solidity": 0.2
            },
            "type": "scatter"
           }
          ],
          "scatter3d": [
           {
            "line": {
             "colorbar": {
              "outlinewidth": 0,
              "ticks": ""
             }
            },
            "marker": {
             "colorbar": {
              "outlinewidth": 0,
              "ticks": ""
             }
            },
            "type": "scatter3d"
           }
          ],
          "scattercarpet": [
           {
            "marker": {
             "colorbar": {
              "outlinewidth": 0,
              "ticks": ""
             }
            },
            "type": "scattercarpet"
           }
          ],
          "scattergeo": [
           {
            "marker": {
             "colorbar": {
              "outlinewidth": 0,
              "ticks": ""
             }
            },
            "type": "scattergeo"
           }
          ],
          "scattergl": [
           {
            "marker": {
             "colorbar": {
              "outlinewidth": 0,
              "ticks": ""
             }
            },
            "type": "scattergl"
           }
          ],
          "scattermapbox": [
           {
            "marker": {
             "colorbar": {
              "outlinewidth": 0,
              "ticks": ""
             }
            },
            "type": "scattermapbox"
           }
          ],
          "scatterpolar": [
           {
            "marker": {
             "colorbar": {
              "outlinewidth": 0,
              "ticks": ""
             }
            },
            "type": "scatterpolar"
           }
          ],
          "scatterpolargl": [
           {
            "marker": {
             "colorbar": {
              "outlinewidth": 0,
              "ticks": ""
             }
            },
            "type": "scatterpolargl"
           }
          ],
          "scatterternary": [
           {
            "marker": {
             "colorbar": {
              "outlinewidth": 0,
              "ticks": ""
             }
            },
            "type": "scatterternary"
           }
          ],
          "surface": [
           {
            "colorbar": {
             "outlinewidth": 0,
             "ticks": ""
            },
            "colorscale": [
             [
              0,
              "#0d0887"
             ],
             [
              0.1111111111111111,
              "#46039f"
             ],
             [
              0.2222222222222222,
              "#7201a8"
             ],
             [
              0.3333333333333333,
              "#9c179e"
             ],
             [
              0.4444444444444444,
              "#bd3786"
             ],
             [
              0.5555555555555556,
              "#d8576b"
             ],
             [
              0.6666666666666666,
              "#ed7953"
             ],
             [
              0.7777777777777778,
              "#fb9f3a"
             ],
             [
              0.8888888888888888,
              "#fdca26"
             ],
             [
              1,
              "#f0f921"
             ]
            ],
            "type": "surface"
           }
          ],
          "table": [
           {
            "cells": {
             "fill": {
              "color": "#EBF0F8"
             },
             "line": {
              "color": "white"
             }
            },
            "header": {
             "fill": {
              "color": "#C8D4E3"
             },
             "line": {
              "color": "white"
             }
            },
            "type": "table"
           }
          ]
         },
         "layout": {
          "annotationdefaults": {
           "arrowcolor": "#2a3f5f",
           "arrowhead": 0,
           "arrowwidth": 1
          },
          "autotypenumbers": "strict",
          "coloraxis": {
           "colorbar": {
            "outlinewidth": 0,
            "ticks": ""
           }
          },
          "colorscale": {
           "diverging": [
            [
             0,
             "#8e0152"
            ],
            [
             0.1,
             "#c51b7d"
            ],
            [
             0.2,
             "#de77ae"
            ],
            [
             0.3,
             "#f1b6da"
            ],
            [
             0.4,
             "#fde0ef"
            ],
            [
             0.5,
             "#f7f7f7"
            ],
            [
             0.6,
             "#e6f5d0"
            ],
            [
             0.7,
             "#b8e186"
            ],
            [
             0.8,
             "#7fbc41"
            ],
            [
             0.9,
             "#4d9221"
            ],
            [
             1,
             "#276419"
            ]
           ],
           "sequential": [
            [
             0,
             "#0d0887"
            ],
            [
             0.1111111111111111,
             "#46039f"
            ],
            [
             0.2222222222222222,
             "#7201a8"
            ],
            [
             0.3333333333333333,
             "#9c179e"
            ],
            [
             0.4444444444444444,
             "#bd3786"
            ],
            [
             0.5555555555555556,
             "#d8576b"
            ],
            [
             0.6666666666666666,
             "#ed7953"
            ],
            [
             0.7777777777777778,
             "#fb9f3a"
            ],
            [
             0.8888888888888888,
             "#fdca26"
            ],
            [
             1,
             "#f0f921"
            ]
           ],
           "sequentialminus": [
            [
             0,
             "#0d0887"
            ],
            [
             0.1111111111111111,
             "#46039f"
            ],
            [
             0.2222222222222222,
             "#7201a8"
            ],
            [
             0.3333333333333333,
             "#9c179e"
            ],
            [
             0.4444444444444444,
             "#bd3786"
            ],
            [
             0.5555555555555556,
             "#d8576b"
            ],
            [
             0.6666666666666666,
             "#ed7953"
            ],
            [
             0.7777777777777778,
             "#fb9f3a"
            ],
            [
             0.8888888888888888,
             "#fdca26"
            ],
            [
             1,
             "#f0f921"
            ]
           ]
          },
          "colorway": [
           "#636efa",
           "#EF553B",
           "#00cc96",
           "#ab63fa",
           "#FFA15A",
           "#19d3f3",
           "#FF6692",
           "#B6E880",
           "#FF97FF",
           "#FECB52"
          ],
          "font": {
           "color": "#2a3f5f"
          },
          "geo": {
           "bgcolor": "white",
           "lakecolor": "white",
           "landcolor": "#E5ECF6",
           "showlakes": true,
           "showland": true,
           "subunitcolor": "white"
          },
          "hoverlabel": {
           "align": "left"
          },
          "hovermode": "closest",
          "mapbox": {
           "style": "light"
          },
          "paper_bgcolor": "white",
          "plot_bgcolor": "#E5ECF6",
          "polar": {
           "angularaxis": {
            "gridcolor": "white",
            "linecolor": "white",
            "ticks": ""
           },
           "bgcolor": "#E5ECF6",
           "radialaxis": {
            "gridcolor": "white",
            "linecolor": "white",
            "ticks": ""
           }
          },
          "scene": {
           "xaxis": {
            "backgroundcolor": "#E5ECF6",
            "gridcolor": "white",
            "gridwidth": 2,
            "linecolor": "white",
            "showbackground": true,
            "ticks": "",
            "zerolinecolor": "white"
           },
           "yaxis": {
            "backgroundcolor": "#E5ECF6",
            "gridcolor": "white",
            "gridwidth": 2,
            "linecolor": "white",
            "showbackground": true,
            "ticks": "",
            "zerolinecolor": "white"
           },
           "zaxis": {
            "backgroundcolor": "#E5ECF6",
            "gridcolor": "white",
            "gridwidth": 2,
            "linecolor": "white",
            "showbackground": true,
            "ticks": "",
            "zerolinecolor": "white"
           }
          },
          "shapedefaults": {
           "line": {
            "color": "#2a3f5f"
           }
          },
          "ternary": {
           "aaxis": {
            "gridcolor": "white",
            "linecolor": "white",
            "ticks": ""
           },
           "baxis": {
            "gridcolor": "white",
            "linecolor": "white",
            "ticks": ""
           },
           "bgcolor": "#E5ECF6",
           "caxis": {
            "gridcolor": "white",
            "linecolor": "white",
            "ticks": ""
           }
          },
          "title": {
           "x": 0.05
          },
          "xaxis": {
           "automargin": true,
           "gridcolor": "white",
           "linecolor": "white",
           "ticks": "",
           "title": {
            "standoff": 15
           },
           "zerolinecolor": "white",
           "zerolinewidth": 2
          },
          "yaxis": {
           "automargin": true,
           "gridcolor": "white",
           "linecolor": "white",
           "ticks": "",
           "title": {
            "standoff": 15
           },
           "zerolinecolor": "white",
           "zerolinewidth": 2
          }
         }
        },
        "title": {
         "font": {
          "color": "#4D5663"
         }
        },
        "xaxis": {
         "gridcolor": "#E1E5ED",
         "showgrid": true,
         "tickfont": {
          "color": "#4D5663"
         },
         "title": {
          "font": {
           "color": "#4D5663"
          },
          "text": ""
         },
         "zerolinecolor": "#E1E5ED"
        },
        "xaxis2": {
         "anchor": "y2",
         "gridcolor": "#E1E5ED",
         "showgrid": true,
         "showticklabels": false,
         "tickfont": {
          "color": "#4D5663"
         },
         "title": {
          "font": {
           "color": "#4D5663"
          },
          "text": ""
         },
         "zerolinecolor": "#E1E5ED"
        },
        "yaxis": {
         "domain": [
          0.3,
          1
         ],
         "gridcolor": "#E1E5ED",
         "showgrid": true,
         "tickfont": {
          "color": "#4D5663"
         },
         "title": {
          "font": {
           "color": "#4D5663"
          },
          "text": ""
         },
         "zerolinecolor": "#E1E5ED"
        },
        "yaxis2": {
         "domain": [
          0,
          0.25
         ],
         "gridcolor": "#E1E5ED",
         "showgrid": true,
         "tickfont": {
          "color": "#4D5663"
         },
         "title": {
          "font": {
           "color": "#4D5663"
          },
          "text": "Spread"
         },
         "zerolinecolor": "#E1E5ED"
        }
       }
      },
      "text/html": [
       "<div>                            <div id=\"19984a4a-2a87-4ded-8179-4a47c1bbb017\" class=\"plotly-graph-div\" style=\"height:525px; width:100%;\"></div>            <script type=\"text/javascript\">                require([\"plotly\"], function(Plotly) {                    window.PLOTLYENV=window.PLOTLYENV || {};\n",
       "                    window.PLOTLYENV.BASE_URL='https://plot.ly';                                    if (document.getElementById(\"19984a4a-2a87-4ded-8179-4a47c1bbb017\")) {                    Plotly.newPlot(                        \"19984a4a-2a87-4ded-8179-4a47c1bbb017\",                        [{\"line\":{\"color\":\"rgba(255, 153, 51, 1.0)\",\"dash\":\"solid\",\"shape\":\"linear\",\"width\":1.3},\"mode\":\"lines\",\"name\":\"A\",\"text\":\"\",\"x\":[0,1,2,3,4,5,6,7,8,9,10,11,12,13,14,15,16,17,18,19,20,21,22,23,24,25,26,27,28,29,30,31,32,33,34,35,36,37,38,39,40,41,42,43,44,45,46,47,48,49,50,51,52,53,54,55,56,57,58,59,60,61,62,63,64,65,66,67,68,69,70,71,72,73,74,75,76,77,78,79,80,81,82,83,84,85,86,87,88,89,90,91,92,93,94,95,96,97,98,99],\"y\":[0.9114742326787507,0.7578989467691609,-0.9874361968395297,0.22016382884816021,0.6077927569514273,0.7778834736810324,2.1131546813030457,-2.4490055660620578,-1.264753726599821,-1.113114717122689,0.7074598991253688,0.3011365498644992,1.3797717647512153,1.5678709953685082,-0.03622282412839025,1.2667918863642251,0.8749252774931616,-2.197805732647536,-1.0240395875458463,-2.142707972857464,-0.0736101364574777,-1.259255676470749,1.6015375948381252,1.112229978501615,-1.5622053971911025,1.8572790226404727,-0.4209177347085691,-0.912160726081105,-0.3037386021712285,0.8579623354976309,0.3565208302820152,0.6841429396840425,-0.7523937277325553,1.375620044215106,-1.2948947618372475,0.7226409299521954,-1.1545687528768627,0.4176384992573318,-0.0059278543542167945,-0.22869332071406231,-1.6746987522308645,0.9663733925438459,1.0763862190031617,-1.225551651184113,-0.7535643384107886,0.8096955120069954,-0.8670064279036938,-0.9680677241848497,1.1292477205253124,0.46947556948741576,-0.09447969379657634,0.5565096888594847,1.8403079260220252,0.3376051227254956,-0.9379486899192527,0.46813068099759814,0.09257732214048982,-1.6309760263885982,-0.11937821507956069,0.8475001411207256,-0.7150944067883627,1.1448948639850358,-1.0744821048971902,0.3924196833219243,0.9272154179010863,0.5026276413448757,0.8212503499671454,-0.8233919536733769,-0.2502667292808195,0.7236673354783757,0.18632609274324735,-1.9348967416153815,-0.3771390803791452,-0.9591907442850565,0.8657796666189373,0.28402206877817504,-0.23103203676238043,-1.6954591216753985,0.948904930684949,1.3203011128906776,1.3454169153034552,-0.2450999941893388,1.4276505694773265,0.9916419977998683,-0.46044944463704407,0.44416392997387194,0.24525133842413147,-0.09927401569069812,1.9148941613315424,0.8864805636561247,0.46370607184899737,-2.224352308256751,-1.0654022942267856,-0.2607577292767755,1.2242612562912998,-0.30021774043427785,-0.021938802648024933,0.038053496199222846,-0.08528024315010026,-1.5801736763077543],\"type\":\"scatter\"},{\"line\":{\"color\":\"rgba(55, 128, 191, 1.0)\",\"dash\":\"solid\",\"shape\":\"linear\",\"width\":1.3},\"mode\":\"lines\",\"name\":\"B\",\"text\":\"\",\"x\":[0,1,2,3,4,5,6,7,8,9,10,11,12,13,14,15,16,17,18,19,20,21,22,23,24,25,26,27,28,29,30,31,32,33,34,35,36,37,38,39,40,41,42,43,44,45,46,47,48,49,50,51,52,53,54,55,56,57,58,59,60,61,62,63,64,65,66,67,68,69,70,71,72,73,74,75,76,77,78,79,80,81,82,83,84,85,86,87,88,89,90,91,92,93,94,95,96,97,98,99],\"y\":[0.23541819233456246,0.5482224871344553,-0.6762289676794175,-0.29753389009341696,-1.6537645838455806,0.8304428942574472,-0.4408669209013495,-0.27435782294007777,-2.173375085890643,0.20695320388106786,-1.0993754893406398,-1.2579231680566736,-1.4442829489057019,0.11632297708104956,0.6225013721856922,0.4944394057517207,-0.549574433268328,-1.2070224915495484,1.1077365446492404,0.3767494463443737,-0.048808423374183826,0.00400584390178196,0.7597092760009614,-0.34791100636292516,0.23580016658069564,-1.050013416154085,0.39421190996753597,0.035283337196053005,0.494369633848719,-1.4410894003445818,-0.34759793246896226,0.31297072926656766,0.883043623213389,-1.309452016254821,-0.494268560748715,1.051270007897888,-0.9400845241081949,1.0062190989079038,-0.2299281540729599,1.1205820384556222,0.3401911629876612,0.37978093151711045,-1.612791942328893,1.099243459502892,-1.8305676394507513,0.3570138753485757,0.31951510178702425,0.25094716578977916,1.228620982901242,-0.6601164535624199,0.12442024935454234,-0.7786844570120308,-0.7945273805880833,-1.5218876699649064,-0.9973007205172868,0.942982191799194,-0.5481870611417685,-1.711267025816037,0.6863576806719326,-0.2728391456421554,-0.6960216221354287,1.083291241894601,-0.23410333746971343,0.14876058960735514,-0.9504526268294847,-1.2684548505074855,-0.970167356029588,0.16555895612980628,0.7982318400260477,0.3502567389757603,0.5106487860872726,1.7167365629146856,-0.17515656694386475,0.2510405169637239,1.067048180128776,0.08249294970519207,1.8817184628314625,-0.2925444339019961,0.4982443469520614,0.7579274298666225,0.4513504840483056,0.18293533511137006,0.2074313555949219,1.0830362728623577,-1.3640558765781092,0.6695669304242179,-0.7917332091991889,0.9611564033860209,-0.6748198117284865,-0.4294317859327062,-0.44003438666389727,-0.7834587412866575,-0.6052898884146282,-0.5273756713097408,0.036473522701766556,-1.0318261997633305,0.4874952484513759,0.2303280257982348,-1.4352230408514677,0.8365986862717942],\"type\":\"scatter\"},{\"connectgaps\":false,\"fill\":\"tozeroy\",\"line\":{\"color\":\"green\",\"dash\":\"solid\",\"shape\":\"linear\",\"width\":0.5},\"mode\":\"lines\",\"name\":\"Spread\",\"showlegend\":false,\"x\":[0,1,2,3,4,5,6,7,8,9,10,11,12,13,14,15,16,17,18,19,20,21,22,23,24,25,26,27,28,29,30,31,32,33,34,35,36,37,38,39,40,41,42,43,44,45,46,47,48,49,50,51,52,53,54,55,56,57,58,59,60,61,62,63,64,65,66,67,68,69,70,71,72,73,74,75,76,77,78,79,80,81,82,83,84,85,86,87,88,89,90,91,92,93,94,95,96,97,98,99],\"xaxis\":\"x2\",\"y\":[0.6760560403441882,0.2096764596347056,\"\",0.5176977189415772,2.2615573407970078,\"\",2.5540216022043953,\"\",0.9086213592908221,\"\",1.8068353884660087,1.5590597179211727,2.824054713656917,1.4515480182874585,\"\",0.7723524806125044,1.4244997107614896,\"\",\"\",\"\",\"\",\"\",0.8418283188371638,1.4601409848645401,\"\",2.907292438794558,\"\",\"\",\"\",2.2990517358422125,0.7041187627509775,0.37117221041747483,\"\",2.685072060469927,\"\",\"\",\"\",\"\",0.2240002997187431,\"\",\"\",0.5865924610267355,2.6891781613320545,\"\",1.0770033010399627,0.4526816366584197,\"\",\"\",\"\",1.1295920230498355,\"\",1.3351941458715155,2.6348353066101087,1.8594927926904021,0.05935203059803407,\"\",0.6407643832822584,0.08029099942743878,\"\",1.120339286762881,\"\",0.061603622090434795,\"\",0.24365909371456915,1.8776680447305711,1.7710824918523613,1.7914177059967336,\"\",\"\",0.3734105965026154,\"\",\"\",\"\",\"\",\"\",0.201529119072983,\"\",\"\",0.4506605837328876,0.5623736830240551,0.8940664312551496,\"\",1.2202192138824046,\"\",0.9036064319410652,\"\",1.0369845476233204,\"\",2.5897139730600287,1.315912349588831,0.9037404585128946,\"\",\"\",0.26661794203296535,1.1877877335895333,0.7316084593290526,\"\",\"\",1.3499427977013674,\"\"],\"yaxis\":\"y2\",\"type\":\"scatter\"},{\"connectgaps\":false,\"fill\":\"tozeroy\",\"line\":{\"color\":\"red\",\"dash\":\"solid\",\"shape\":\"linear\",\"width\":0.5},\"mode\":\"lines\",\"name\":\"Spread\",\"showlegend\":false,\"x\":[0,1,2,3,4,5,6,7,8,9,10,11,12,13,14,15,16,17,18,19,20,21,22,23,24,25,26,27,28,29,30,31,32,33,34,35,36,37,38,39,40,41,42,43,44,45,46,47,48,49,50,51,52,53,54,55,56,57,58,59,60,61,62,63,64,65,66,67,68,69,70,71,72,73,74,75,76,77,78,79,80,81,82,83,84,85,86,87,88,89,90,91,92,93,94,95,96,97,98,99],\"xaxis\":\"x2\",\"y\":[\"\",\"\",-0.3112072291601121,\"\",\"\",-0.05255942057641483,\"\",-2.17464774312198,\"\",-1.3200679210037567,\"\",\"\",\"\",\"\",-0.6587241963140825,\"\",\"\",-0.9907832410979878,-2.1317761321950868,-2.5194574192018377,-0.024801713083293875,-1.263261520372531,\"\",\"\",-1.7980055637717982,\"\",-0.815129644676105,-0.947444063277158,-0.7981082360199475,\"\",\"\",\"\",-1.6354373509459443,\"\",-0.8006262010885326,-0.3286290779456926,-0.2144842287686678,-0.588580599650572,\"\",-1.3492753591696844,-2.0148899152185256,\"\",\"\",-2.324795110687005,\"\",\"\",-1.186521529690718,-1.2190148899746287,-0.09937326237592958,\"\",-0.21889994315111866,\"\",\"\",\"\",\"\",-0.4748515108015958,\"\",\"\",-0.8057358957514933,\"\",-0.01907278465293394,\"\",-0.8403787674274767,\"\",\"\",\"\",\"\",-0.9889509098031832,-1.0484985693068674,\"\",-0.32432269334402525,-3.6516333045300673,-0.20198251343528043,-1.2102312612487804,-0.20126851350983854,\"\",-2.112750499593843,-1.4029146877734024,\"\",\"\",\"\",-0.42803532930070887,\"\",-0.09139427506248943,\"\",-0.22540300045034595,\"\",-1.060430419076719,\"\",\"\",\"\",-1.4408935669700935,-0.4601124058121574,\"\",\"\",\"\",-0.5094340510994008,-0.19227452959901195,\"\",-2.4167723625795485],\"yaxis\":\"y2\",\"type\":\"scatter\"}],                        {\"hovermode\":\"x\",\"legend\":{\"bgcolor\":\"#F5F6F9\",\"font\":{\"color\":\"#4D5663\"}},\"paper_bgcolor\":\"#F5F6F9\",\"plot_bgcolor\":\"#F5F6F9\",\"template\":{\"data\":{\"barpolar\":[{\"marker\":{\"line\":{\"color\":\"#E5ECF6\",\"width\":0.5},\"pattern\":{\"fillmode\":\"overlay\",\"size\":10,\"solidity\":0.2}},\"type\":\"barpolar\"}],\"bar\":[{\"error_x\":{\"color\":\"#2a3f5f\"},\"error_y\":{\"color\":\"#2a3f5f\"},\"marker\":{\"line\":{\"color\":\"#E5ECF6\",\"width\":0.5},\"pattern\":{\"fillmode\":\"overlay\",\"size\":10,\"solidity\":0.2}},\"type\":\"bar\"}],\"carpet\":[{\"aaxis\":{\"endlinecolor\":\"#2a3f5f\",\"gridcolor\":\"white\",\"linecolor\":\"white\",\"minorgridcolor\":\"white\",\"startlinecolor\":\"#2a3f5f\"},\"baxis\":{\"endlinecolor\":\"#2a3f5f\",\"gridcolor\":\"white\",\"linecolor\":\"white\",\"minorgridcolor\":\"white\",\"startlinecolor\":\"#2a3f5f\"},\"type\":\"carpet\"}],\"choropleth\":[{\"colorbar\":{\"outlinewidth\":0,\"ticks\":\"\"},\"type\":\"choropleth\"}],\"contourcarpet\":[{\"colorbar\":{\"outlinewidth\":0,\"ticks\":\"\"},\"type\":\"contourcarpet\"}],\"contour\":[{\"colorbar\":{\"outlinewidth\":0,\"ticks\":\"\"},\"colorscale\":[[0.0,\"#0d0887\"],[0.1111111111111111,\"#46039f\"],[0.2222222222222222,\"#7201a8\"],[0.3333333333333333,\"#9c179e\"],[0.4444444444444444,\"#bd3786\"],[0.5555555555555556,\"#d8576b\"],[0.6666666666666666,\"#ed7953\"],[0.7777777777777778,\"#fb9f3a\"],[0.8888888888888888,\"#fdca26\"],[1.0,\"#f0f921\"]],\"type\":\"contour\"}],\"heatmapgl\":[{\"colorbar\":{\"outlinewidth\":0,\"ticks\":\"\"},\"colorscale\":[[0.0,\"#0d0887\"],[0.1111111111111111,\"#46039f\"],[0.2222222222222222,\"#7201a8\"],[0.3333333333333333,\"#9c179e\"],[0.4444444444444444,\"#bd3786\"],[0.5555555555555556,\"#d8576b\"],[0.6666666666666666,\"#ed7953\"],[0.7777777777777778,\"#fb9f3a\"],[0.8888888888888888,\"#fdca26\"],[1.0,\"#f0f921\"]],\"type\":\"heatmapgl\"}],\"heatmap\":[{\"colorbar\":{\"outlinewidth\":0,\"ticks\":\"\"},\"colorscale\":[[0.0,\"#0d0887\"],[0.1111111111111111,\"#46039f\"],[0.2222222222222222,\"#7201a8\"],[0.3333333333333333,\"#9c179e\"],[0.4444444444444444,\"#bd3786\"],[0.5555555555555556,\"#d8576b\"],[0.6666666666666666,\"#ed7953\"],[0.7777777777777778,\"#fb9f3a\"],[0.8888888888888888,\"#fdca26\"],[1.0,\"#f0f921\"]],\"type\":\"heatmap\"}],\"histogram2dcontour\":[{\"colorbar\":{\"outlinewidth\":0,\"ticks\":\"\"},\"colorscale\":[[0.0,\"#0d0887\"],[0.1111111111111111,\"#46039f\"],[0.2222222222222222,\"#7201a8\"],[0.3333333333333333,\"#9c179e\"],[0.4444444444444444,\"#bd3786\"],[0.5555555555555556,\"#d8576b\"],[0.6666666666666666,\"#ed7953\"],[0.7777777777777778,\"#fb9f3a\"],[0.8888888888888888,\"#fdca26\"],[1.0,\"#f0f921\"]],\"type\":\"histogram2dcontour\"}],\"histogram2d\":[{\"colorbar\":{\"outlinewidth\":0,\"ticks\":\"\"},\"colorscale\":[[0.0,\"#0d0887\"],[0.1111111111111111,\"#46039f\"],[0.2222222222222222,\"#7201a8\"],[0.3333333333333333,\"#9c179e\"],[0.4444444444444444,\"#bd3786\"],[0.5555555555555556,\"#d8576b\"],[0.6666666666666666,\"#ed7953\"],[0.7777777777777778,\"#fb9f3a\"],[0.8888888888888888,\"#fdca26\"],[1.0,\"#f0f921\"]],\"type\":\"histogram2d\"}],\"histogram\":[{\"marker\":{\"pattern\":{\"fillmode\":\"overlay\",\"size\":10,\"solidity\":0.2}},\"type\":\"histogram\"}],\"mesh3d\":[{\"colorbar\":{\"outlinewidth\":0,\"ticks\":\"\"},\"type\":\"mesh3d\"}],\"parcoords\":[{\"line\":{\"colorbar\":{\"outlinewidth\":0,\"ticks\":\"\"}},\"type\":\"parcoords\"}],\"pie\":[{\"automargin\":true,\"type\":\"pie\"}],\"scatter3d\":[{\"line\":{\"colorbar\":{\"outlinewidth\":0,\"ticks\":\"\"}},\"marker\":{\"colorbar\":{\"outlinewidth\":0,\"ticks\":\"\"}},\"type\":\"scatter3d\"}],\"scattercarpet\":[{\"marker\":{\"colorbar\":{\"outlinewidth\":0,\"ticks\":\"\"}},\"type\":\"scattercarpet\"}],\"scattergeo\":[{\"marker\":{\"colorbar\":{\"outlinewidth\":0,\"ticks\":\"\"}},\"type\":\"scattergeo\"}],\"scattergl\":[{\"marker\":{\"colorbar\":{\"outlinewidth\":0,\"ticks\":\"\"}},\"type\":\"scattergl\"}],\"scattermapbox\":[{\"marker\":{\"colorbar\":{\"outlinewidth\":0,\"ticks\":\"\"}},\"type\":\"scattermapbox\"}],\"scatterpolargl\":[{\"marker\":{\"colorbar\":{\"outlinewidth\":0,\"ticks\":\"\"}},\"type\":\"scatterpolargl\"}],\"scatterpolar\":[{\"marker\":{\"colorbar\":{\"outlinewidth\":0,\"ticks\":\"\"}},\"type\":\"scatterpolar\"}],\"scatter\":[{\"fillpattern\":{\"fillmode\":\"overlay\",\"size\":10,\"solidity\":0.2},\"type\":\"scatter\"}],\"scatterternary\":[{\"marker\":{\"colorbar\":{\"outlinewidth\":0,\"ticks\":\"\"}},\"type\":\"scatterternary\"}],\"surface\":[{\"colorbar\":{\"outlinewidth\":0,\"ticks\":\"\"},\"colorscale\":[[0.0,\"#0d0887\"],[0.1111111111111111,\"#46039f\"],[0.2222222222222222,\"#7201a8\"],[0.3333333333333333,\"#9c179e\"],[0.4444444444444444,\"#bd3786\"],[0.5555555555555556,\"#d8576b\"],[0.6666666666666666,\"#ed7953\"],[0.7777777777777778,\"#fb9f3a\"],[0.8888888888888888,\"#fdca26\"],[1.0,\"#f0f921\"]],\"type\":\"surface\"}],\"table\":[{\"cells\":{\"fill\":{\"color\":\"#EBF0F8\"},\"line\":{\"color\":\"white\"}},\"header\":{\"fill\":{\"color\":\"#C8D4E3\"},\"line\":{\"color\":\"white\"}},\"type\":\"table\"}]},\"layout\":{\"annotationdefaults\":{\"arrowcolor\":\"#2a3f5f\",\"arrowhead\":0,\"arrowwidth\":1},\"autotypenumbers\":\"strict\",\"coloraxis\":{\"colorbar\":{\"outlinewidth\":0,\"ticks\":\"\"}},\"colorscale\":{\"diverging\":[[0,\"#8e0152\"],[0.1,\"#c51b7d\"],[0.2,\"#de77ae\"],[0.3,\"#f1b6da\"],[0.4,\"#fde0ef\"],[0.5,\"#f7f7f7\"],[0.6,\"#e6f5d0\"],[0.7,\"#b8e186\"],[0.8,\"#7fbc41\"],[0.9,\"#4d9221\"],[1,\"#276419\"]],\"sequential\":[[0.0,\"#0d0887\"],[0.1111111111111111,\"#46039f\"],[0.2222222222222222,\"#7201a8\"],[0.3333333333333333,\"#9c179e\"],[0.4444444444444444,\"#bd3786\"],[0.5555555555555556,\"#d8576b\"],[0.6666666666666666,\"#ed7953\"],[0.7777777777777778,\"#fb9f3a\"],[0.8888888888888888,\"#fdca26\"],[1.0,\"#f0f921\"]],\"sequentialminus\":[[0.0,\"#0d0887\"],[0.1111111111111111,\"#46039f\"],[0.2222222222222222,\"#7201a8\"],[0.3333333333333333,\"#9c179e\"],[0.4444444444444444,\"#bd3786\"],[0.5555555555555556,\"#d8576b\"],[0.6666666666666666,\"#ed7953\"],[0.7777777777777778,\"#fb9f3a\"],[0.8888888888888888,\"#fdca26\"],[1.0,\"#f0f921\"]]},\"colorway\":[\"#636efa\",\"#EF553B\",\"#00cc96\",\"#ab63fa\",\"#FFA15A\",\"#19d3f3\",\"#FF6692\",\"#B6E880\",\"#FF97FF\",\"#FECB52\"],\"font\":{\"color\":\"#2a3f5f\"},\"geo\":{\"bgcolor\":\"white\",\"lakecolor\":\"white\",\"landcolor\":\"#E5ECF6\",\"showlakes\":true,\"showland\":true,\"subunitcolor\":\"white\"},\"hoverlabel\":{\"align\":\"left\"},\"hovermode\":\"closest\",\"mapbox\":{\"style\":\"light\"},\"paper_bgcolor\":\"white\",\"plot_bgcolor\":\"#E5ECF6\",\"polar\":{\"angularaxis\":{\"gridcolor\":\"white\",\"linecolor\":\"white\",\"ticks\":\"\"},\"bgcolor\":\"#E5ECF6\",\"radialaxis\":{\"gridcolor\":\"white\",\"linecolor\":\"white\",\"ticks\":\"\"}},\"scene\":{\"xaxis\":{\"backgroundcolor\":\"#E5ECF6\",\"gridcolor\":\"white\",\"gridwidth\":2,\"linecolor\":\"white\",\"showbackground\":true,\"ticks\":\"\",\"zerolinecolor\":\"white\"},\"yaxis\":{\"backgroundcolor\":\"#E5ECF6\",\"gridcolor\":\"white\",\"gridwidth\":2,\"linecolor\":\"white\",\"showbackground\":true,\"ticks\":\"\",\"zerolinecolor\":\"white\"},\"zaxis\":{\"backgroundcolor\":\"#E5ECF6\",\"gridcolor\":\"white\",\"gridwidth\":2,\"linecolor\":\"white\",\"showbackground\":true,\"ticks\":\"\",\"zerolinecolor\":\"white\"}},\"shapedefaults\":{\"line\":{\"color\":\"#2a3f5f\"}},\"ternary\":{\"aaxis\":{\"gridcolor\":\"white\",\"linecolor\":\"white\",\"ticks\":\"\"},\"baxis\":{\"gridcolor\":\"white\",\"linecolor\":\"white\",\"ticks\":\"\"},\"bgcolor\":\"#E5ECF6\",\"caxis\":{\"gridcolor\":\"white\",\"linecolor\":\"white\",\"ticks\":\"\"}},\"title\":{\"x\":0.05},\"xaxis\":{\"automargin\":true,\"gridcolor\":\"white\",\"linecolor\":\"white\",\"ticks\":\"\",\"title\":{\"standoff\":15},\"zerolinecolor\":\"white\",\"zerolinewidth\":2},\"yaxis\":{\"automargin\":true,\"gridcolor\":\"white\",\"linecolor\":\"white\",\"ticks\":\"\",\"title\":{\"standoff\":15},\"zerolinecolor\":\"white\",\"zerolinewidth\":2}}},\"title\":{\"font\":{\"color\":\"#4D5663\"}},\"xaxis\":{\"gridcolor\":\"#E1E5ED\",\"showgrid\":true,\"tickfont\":{\"color\":\"#4D5663\"},\"title\":{\"font\":{\"color\":\"#4D5663\"},\"text\":\"\"},\"zerolinecolor\":\"#E1E5ED\"},\"yaxis\":{\"domain\":[0.3,1],\"gridcolor\":\"#E1E5ED\",\"showgrid\":true,\"tickfont\":{\"color\":\"#4D5663\"},\"title\":{\"font\":{\"color\":\"#4D5663\"},\"text\":\"\"},\"zerolinecolor\":\"#E1E5ED\"},\"yaxis2\":{\"domain\":[0,0.25],\"gridcolor\":\"#E1E5ED\",\"showgrid\":true,\"tickfont\":{\"color\":\"#4D5663\"},\"title\":{\"font\":{\"color\":\"#4D5663\"},\"text\":\"Spread\"},\"zerolinecolor\":\"#E1E5ED\"},\"xaxis2\":{\"anchor\":\"y2\",\"gridcolor\":\"#E1E5ED\",\"showgrid\":true,\"showticklabels\":false,\"tickfont\":{\"color\":\"#4D5663\"},\"title\":{\"font\":{\"color\":\"#4D5663\"},\"text\":\"\"},\"zerolinecolor\":\"#E1E5ED\"}},                        {\"showLink\": true, \"linkText\": \"Export to plot.ly\", \"plotlyServerURL\": \"https://plot.ly\", \"responsive\": true}                    ).then(function(){\n",
       "                            \n",
       "var gd = document.getElementById('19984a4a-2a87-4ded-8179-4a47c1bbb017');\n",
       "var x = new MutationObserver(function (mutations, observer) {{\n",
       "        var display = window.getComputedStyle(gd).display;\n",
       "        if (!display || display === 'none') {{\n",
       "            console.log([gd, 'removed!']);\n",
       "            Plotly.purge(gd);\n",
       "            observer.disconnect();\n",
       "        }}\n",
       "}});\n",
       "\n",
       "// Listen for the removal of the full notebook cells\n",
       "var notebookContainer = gd.closest('#notebook-container');\n",
       "if (notebookContainer) {{\n",
       "    x.observe(notebookContainer, {childList: true});\n",
       "}}\n",
       "\n",
       "// Listen for the clearing of the current output cell\n",
       "var outputEl = gd.closest('.output');\n",
       "if (outputEl) {{\n",
       "    x.observe(outputEl, {childList: true});\n",
       "}}\n",
       "\n",
       "                        })                };                });            </script>        </div>"
      ]
     },
     "metadata": {},
     "output_type": "display_data"
    }
   ],
   "source": [
    "df[['A','B']].iplot(kind='spread')"
   ]
  },
  {
   "cell_type": "markdown",
   "metadata": {},
   "source": [
    "## histogram"
   ]
  },
  {
   "cell_type": "code",
   "execution_count": 16,
   "metadata": {
    "collapsed": false
   },
   "outputs": [
    {
     "data": {
      "application/vnd.plotly.v1+json": {
       "config": {
        "linkText": "Export to plot.ly",
        "plotlyServerURL": "https://plot.ly",
        "showLink": true
       },
       "data": [
        {
         "histfunc": "count",
         "histnorm": "",
         "marker": {
          "color": "rgba(255, 153, 51, 1.0)",
          "line": {
           "color": "#4D5663",
           "width": 1.3
          }
         },
         "name": "A",
         "nbinsx": 25,
         "opacity": 0.8,
         "orientation": "v",
         "type": "histogram",
         "x": [
          0.9114742326787507,
          0.7578989467691609,
          -0.9874361968395297,
          0.22016382884816021,
          0.6077927569514273,
          0.7778834736810324,
          2.1131546813030457,
          -2.4490055660620578,
          -1.264753726599821,
          -1.113114717122689,
          0.7074598991253688,
          0.3011365498644992,
          1.3797717647512153,
          1.5678709953685082,
          -0.03622282412839025,
          1.2667918863642251,
          0.8749252774931616,
          -2.197805732647536,
          -1.0240395875458463,
          -2.142707972857464,
          -0.0736101364574777,
          -1.259255676470749,
          1.6015375948381252,
          1.112229978501615,
          -1.5622053971911025,
          1.8572790226404727,
          -0.4209177347085691,
          -0.912160726081105,
          -0.3037386021712285,
          0.8579623354976309,
          0.3565208302820152,
          0.6841429396840425,
          -0.7523937277325553,
          1.375620044215106,
          -1.2948947618372475,
          0.7226409299521954,
          -1.1545687528768627,
          0.4176384992573318,
          -0.0059278543542167945,
          -0.22869332071406231,
          -1.6746987522308645,
          0.9663733925438459,
          1.0763862190031617,
          -1.225551651184113,
          -0.7535643384107886,
          0.8096955120069954,
          -0.8670064279036938,
          -0.9680677241848497,
          1.1292477205253124,
          0.46947556948741576,
          -0.09447969379657634,
          0.5565096888594847,
          1.8403079260220252,
          0.3376051227254956,
          -0.9379486899192527,
          0.46813068099759814,
          0.09257732214048982,
          -1.6309760263885982,
          -0.11937821507956069,
          0.8475001411207256,
          -0.7150944067883627,
          1.1448948639850358,
          -1.0744821048971902,
          0.3924196833219243,
          0.9272154179010863,
          0.5026276413448757,
          0.8212503499671454,
          -0.8233919536733769,
          -0.2502667292808195,
          0.7236673354783757,
          0.18632609274324735,
          -1.9348967416153815,
          -0.3771390803791452,
          -0.9591907442850565,
          0.8657796666189373,
          0.28402206877817504,
          -0.23103203676238043,
          -1.6954591216753985,
          0.948904930684949,
          1.3203011128906776,
          1.3454169153034552,
          -0.2450999941893388,
          1.4276505694773265,
          0.9916419977998683,
          -0.46044944463704407,
          0.44416392997387194,
          0.24525133842413147,
          -0.09927401569069812,
          1.9148941613315424,
          0.8864805636561247,
          0.46370607184899737,
          -2.224352308256751,
          -1.0654022942267856,
          -0.2607577292767755,
          1.2242612562912998,
          -0.30021774043427785,
          -0.021938802648024933,
          0.038053496199222846,
          -0.08528024315010026,
          -1.5801736763077543
         ]
        }
       ],
       "layout": {
        "barmode": "overlay",
        "legend": {
         "bgcolor": "#F5F6F9",
         "font": {
          "color": "#4D5663"
         }
        },
        "paper_bgcolor": "#F5F6F9",
        "plot_bgcolor": "#F5F6F9",
        "template": {
         "data": {
          "bar": [
           {
            "error_x": {
             "color": "#2a3f5f"
            },
            "error_y": {
             "color": "#2a3f5f"
            },
            "marker": {
             "line": {
              "color": "#E5ECF6",
              "width": 0.5
             },
             "pattern": {
              "fillmode": "overlay",
              "size": 10,
              "solidity": 0.2
             }
            },
            "type": "bar"
           }
          ],
          "barpolar": [
           {
            "marker": {
             "line": {
              "color": "#E5ECF6",
              "width": 0.5
             },
             "pattern": {
              "fillmode": "overlay",
              "size": 10,
              "solidity": 0.2
             }
            },
            "type": "barpolar"
           }
          ],
          "carpet": [
           {
            "aaxis": {
             "endlinecolor": "#2a3f5f",
             "gridcolor": "white",
             "linecolor": "white",
             "minorgridcolor": "white",
             "startlinecolor": "#2a3f5f"
            },
            "baxis": {
             "endlinecolor": "#2a3f5f",
             "gridcolor": "white",
             "linecolor": "white",
             "minorgridcolor": "white",
             "startlinecolor": "#2a3f5f"
            },
            "type": "carpet"
           }
          ],
          "choropleth": [
           {
            "colorbar": {
             "outlinewidth": 0,
             "ticks": ""
            },
            "type": "choropleth"
           }
          ],
          "contour": [
           {
            "colorbar": {
             "outlinewidth": 0,
             "ticks": ""
            },
            "colorscale": [
             [
              0,
              "#0d0887"
             ],
             [
              0.1111111111111111,
              "#46039f"
             ],
             [
              0.2222222222222222,
              "#7201a8"
             ],
             [
              0.3333333333333333,
              "#9c179e"
             ],
             [
              0.4444444444444444,
              "#bd3786"
             ],
             [
              0.5555555555555556,
              "#d8576b"
             ],
             [
              0.6666666666666666,
              "#ed7953"
             ],
             [
              0.7777777777777778,
              "#fb9f3a"
             ],
             [
              0.8888888888888888,
              "#fdca26"
             ],
             [
              1,
              "#f0f921"
             ]
            ],
            "type": "contour"
           }
          ],
          "contourcarpet": [
           {
            "colorbar": {
             "outlinewidth": 0,
             "ticks": ""
            },
            "type": "contourcarpet"
           }
          ],
          "heatmap": [
           {
            "colorbar": {
             "outlinewidth": 0,
             "ticks": ""
            },
            "colorscale": [
             [
              0,
              "#0d0887"
             ],
             [
              0.1111111111111111,
              "#46039f"
             ],
             [
              0.2222222222222222,
              "#7201a8"
             ],
             [
              0.3333333333333333,
              "#9c179e"
             ],
             [
              0.4444444444444444,
              "#bd3786"
             ],
             [
              0.5555555555555556,
              "#d8576b"
             ],
             [
              0.6666666666666666,
              "#ed7953"
             ],
             [
              0.7777777777777778,
              "#fb9f3a"
             ],
             [
              0.8888888888888888,
              "#fdca26"
             ],
             [
              1,
              "#f0f921"
             ]
            ],
            "type": "heatmap"
           }
          ],
          "heatmapgl": [
           {
            "colorbar": {
             "outlinewidth": 0,
             "ticks": ""
            },
            "colorscale": [
             [
              0,
              "#0d0887"
             ],
             [
              0.1111111111111111,
              "#46039f"
             ],
             [
              0.2222222222222222,
              "#7201a8"
             ],
             [
              0.3333333333333333,
              "#9c179e"
             ],
             [
              0.4444444444444444,
              "#bd3786"
             ],
             [
              0.5555555555555556,
              "#d8576b"
             ],
             [
              0.6666666666666666,
              "#ed7953"
             ],
             [
              0.7777777777777778,
              "#fb9f3a"
             ],
             [
              0.8888888888888888,
              "#fdca26"
             ],
             [
              1,
              "#f0f921"
             ]
            ],
            "type": "heatmapgl"
           }
          ],
          "histogram": [
           {
            "marker": {
             "pattern": {
              "fillmode": "overlay",
              "size": 10,
              "solidity": 0.2
             }
            },
            "type": "histogram"
           }
          ],
          "histogram2d": [
           {
            "colorbar": {
             "outlinewidth": 0,
             "ticks": ""
            },
            "colorscale": [
             [
              0,
              "#0d0887"
             ],
             [
              0.1111111111111111,
              "#46039f"
             ],
             [
              0.2222222222222222,
              "#7201a8"
             ],
             [
              0.3333333333333333,
              "#9c179e"
             ],
             [
              0.4444444444444444,
              "#bd3786"
             ],
             [
              0.5555555555555556,
              "#d8576b"
             ],
             [
              0.6666666666666666,
              "#ed7953"
             ],
             [
              0.7777777777777778,
              "#fb9f3a"
             ],
             [
              0.8888888888888888,
              "#fdca26"
             ],
             [
              1,
              "#f0f921"
             ]
            ],
            "type": "histogram2d"
           }
          ],
          "histogram2dcontour": [
           {
            "colorbar": {
             "outlinewidth": 0,
             "ticks": ""
            },
            "colorscale": [
             [
              0,
              "#0d0887"
             ],
             [
              0.1111111111111111,
              "#46039f"
             ],
             [
              0.2222222222222222,
              "#7201a8"
             ],
             [
              0.3333333333333333,
              "#9c179e"
             ],
             [
              0.4444444444444444,
              "#bd3786"
             ],
             [
              0.5555555555555556,
              "#d8576b"
             ],
             [
              0.6666666666666666,
              "#ed7953"
             ],
             [
              0.7777777777777778,
              "#fb9f3a"
             ],
             [
              0.8888888888888888,
              "#fdca26"
             ],
             [
              1,
              "#f0f921"
             ]
            ],
            "type": "histogram2dcontour"
           }
          ],
          "mesh3d": [
           {
            "colorbar": {
             "outlinewidth": 0,
             "ticks": ""
            },
            "type": "mesh3d"
           }
          ],
          "parcoords": [
           {
            "line": {
             "colorbar": {
              "outlinewidth": 0,
              "ticks": ""
             }
            },
            "type": "parcoords"
           }
          ],
          "pie": [
           {
            "automargin": true,
            "type": "pie"
           }
          ],
          "scatter": [
           {
            "fillpattern": {
             "fillmode": "overlay",
             "size": 10,
             "solidity": 0.2
            },
            "type": "scatter"
           }
          ],
          "scatter3d": [
           {
            "line": {
             "colorbar": {
              "outlinewidth": 0,
              "ticks": ""
             }
            },
            "marker": {
             "colorbar": {
              "outlinewidth": 0,
              "ticks": ""
             }
            },
            "type": "scatter3d"
           }
          ],
          "scattercarpet": [
           {
            "marker": {
             "colorbar": {
              "outlinewidth": 0,
              "ticks": ""
             }
            },
            "type": "scattercarpet"
           }
          ],
          "scattergeo": [
           {
            "marker": {
             "colorbar": {
              "outlinewidth": 0,
              "ticks": ""
             }
            },
            "type": "scattergeo"
           }
          ],
          "scattergl": [
           {
            "marker": {
             "colorbar": {
              "outlinewidth": 0,
              "ticks": ""
             }
            },
            "type": "scattergl"
           }
          ],
          "scattermapbox": [
           {
            "marker": {
             "colorbar": {
              "outlinewidth": 0,
              "ticks": ""
             }
            },
            "type": "scattermapbox"
           }
          ],
          "scatterpolar": [
           {
            "marker": {
             "colorbar": {
              "outlinewidth": 0,
              "ticks": ""
             }
            },
            "type": "scatterpolar"
           }
          ],
          "scatterpolargl": [
           {
            "marker": {
             "colorbar": {
              "outlinewidth": 0,
              "ticks": ""
             }
            },
            "type": "scatterpolargl"
           }
          ],
          "scatterternary": [
           {
            "marker": {
             "colorbar": {
              "outlinewidth": 0,
              "ticks": ""
             }
            },
            "type": "scatterternary"
           }
          ],
          "surface": [
           {
            "colorbar": {
             "outlinewidth": 0,
             "ticks": ""
            },
            "colorscale": [
             [
              0,
              "#0d0887"
             ],
             [
              0.1111111111111111,
              "#46039f"
             ],
             [
              0.2222222222222222,
              "#7201a8"
             ],
             [
              0.3333333333333333,
              "#9c179e"
             ],
             [
              0.4444444444444444,
              "#bd3786"
             ],
             [
              0.5555555555555556,
              "#d8576b"
             ],
             [
              0.6666666666666666,
              "#ed7953"
             ],
             [
              0.7777777777777778,
              "#fb9f3a"
             ],
             [
              0.8888888888888888,
              "#fdca26"
             ],
             [
              1,
              "#f0f921"
             ]
            ],
            "type": "surface"
           }
          ],
          "table": [
           {
            "cells": {
             "fill": {
              "color": "#EBF0F8"
             },
             "line": {
              "color": "white"
             }
            },
            "header": {
             "fill": {
              "color": "#C8D4E3"
             },
             "line": {
              "color": "white"
             }
            },
            "type": "table"
           }
          ]
         },
         "layout": {
          "annotationdefaults": {
           "arrowcolor": "#2a3f5f",
           "arrowhead": 0,
           "arrowwidth": 1
          },
          "autotypenumbers": "strict",
          "coloraxis": {
           "colorbar": {
            "outlinewidth": 0,
            "ticks": ""
           }
          },
          "colorscale": {
           "diverging": [
            [
             0,
             "#8e0152"
            ],
            [
             0.1,
             "#c51b7d"
            ],
            [
             0.2,
             "#de77ae"
            ],
            [
             0.3,
             "#f1b6da"
            ],
            [
             0.4,
             "#fde0ef"
            ],
            [
             0.5,
             "#f7f7f7"
            ],
            [
             0.6,
             "#e6f5d0"
            ],
            [
             0.7,
             "#b8e186"
            ],
            [
             0.8,
             "#7fbc41"
            ],
            [
             0.9,
             "#4d9221"
            ],
            [
             1,
             "#276419"
            ]
           ],
           "sequential": [
            [
             0,
             "#0d0887"
            ],
            [
             0.1111111111111111,
             "#46039f"
            ],
            [
             0.2222222222222222,
             "#7201a8"
            ],
            [
             0.3333333333333333,
             "#9c179e"
            ],
            [
             0.4444444444444444,
             "#bd3786"
            ],
            [
             0.5555555555555556,
             "#d8576b"
            ],
            [
             0.6666666666666666,
             "#ed7953"
            ],
            [
             0.7777777777777778,
             "#fb9f3a"
            ],
            [
             0.8888888888888888,
             "#fdca26"
            ],
            [
             1,
             "#f0f921"
            ]
           ],
           "sequentialminus": [
            [
             0,
             "#0d0887"
            ],
            [
             0.1111111111111111,
             "#46039f"
            ],
            [
             0.2222222222222222,
             "#7201a8"
            ],
            [
             0.3333333333333333,
             "#9c179e"
            ],
            [
             0.4444444444444444,
             "#bd3786"
            ],
            [
             0.5555555555555556,
             "#d8576b"
            ],
            [
             0.6666666666666666,
             "#ed7953"
            ],
            [
             0.7777777777777778,
             "#fb9f3a"
            ],
            [
             0.8888888888888888,
             "#fdca26"
            ],
            [
             1,
             "#f0f921"
            ]
           ]
          },
          "colorway": [
           "#636efa",
           "#EF553B",
           "#00cc96",
           "#ab63fa",
           "#FFA15A",
           "#19d3f3",
           "#FF6692",
           "#B6E880",
           "#FF97FF",
           "#FECB52"
          ],
          "font": {
           "color": "#2a3f5f"
          },
          "geo": {
           "bgcolor": "white",
           "lakecolor": "white",
           "landcolor": "#E5ECF6",
           "showlakes": true,
           "showland": true,
           "subunitcolor": "white"
          },
          "hoverlabel": {
           "align": "left"
          },
          "hovermode": "closest",
          "mapbox": {
           "style": "light"
          },
          "paper_bgcolor": "white",
          "plot_bgcolor": "#E5ECF6",
          "polar": {
           "angularaxis": {
            "gridcolor": "white",
            "linecolor": "white",
            "ticks": ""
           },
           "bgcolor": "#E5ECF6",
           "radialaxis": {
            "gridcolor": "white",
            "linecolor": "white",
            "ticks": ""
           }
          },
          "scene": {
           "xaxis": {
            "backgroundcolor": "#E5ECF6",
            "gridcolor": "white",
            "gridwidth": 2,
            "linecolor": "white",
            "showbackground": true,
            "ticks": "",
            "zerolinecolor": "white"
           },
           "yaxis": {
            "backgroundcolor": "#E5ECF6",
            "gridcolor": "white",
            "gridwidth": 2,
            "linecolor": "white",
            "showbackground": true,
            "ticks": "",
            "zerolinecolor": "white"
           },
           "zaxis": {
            "backgroundcolor": "#E5ECF6",
            "gridcolor": "white",
            "gridwidth": 2,
            "linecolor": "white",
            "showbackground": true,
            "ticks": "",
            "zerolinecolor": "white"
           }
          },
          "shapedefaults": {
           "line": {
            "color": "#2a3f5f"
           }
          },
          "ternary": {
           "aaxis": {
            "gridcolor": "white",
            "linecolor": "white",
            "ticks": ""
           },
           "baxis": {
            "gridcolor": "white",
            "linecolor": "white",
            "ticks": ""
           },
           "bgcolor": "#E5ECF6",
           "caxis": {
            "gridcolor": "white",
            "linecolor": "white",
            "ticks": ""
           }
          },
          "title": {
           "x": 0.05
          },
          "xaxis": {
           "automargin": true,
           "gridcolor": "white",
           "linecolor": "white",
           "ticks": "",
           "title": {
            "standoff": 15
           },
           "zerolinecolor": "white",
           "zerolinewidth": 2
          },
          "yaxis": {
           "automargin": true,
           "gridcolor": "white",
           "linecolor": "white",
           "ticks": "",
           "title": {
            "standoff": 15
           },
           "zerolinecolor": "white",
           "zerolinewidth": 2
          }
         }
        },
        "title": {
         "font": {
          "color": "#4D5663"
         }
        },
        "xaxis": {
         "gridcolor": "#E1E5ED",
         "showgrid": true,
         "tickfont": {
          "color": "#4D5663"
         },
         "title": {
          "font": {
           "color": "#4D5663"
          },
          "text": ""
         },
         "zerolinecolor": "#E1E5ED"
        },
        "yaxis": {
         "gridcolor": "#E1E5ED",
         "showgrid": true,
         "tickfont": {
          "color": "#4D5663"
         },
         "title": {
          "font": {
           "color": "#4D5663"
          },
          "text": ""
         },
         "zerolinecolor": "#E1E5ED"
        }
       }
      },
      "text/html": [
       "<div>                            <div id=\"5261ee8e-fea9-41dd-89b8-04775c827604\" class=\"plotly-graph-div\" style=\"height:525px; width:100%;\"></div>            <script type=\"text/javascript\">                require([\"plotly\"], function(Plotly) {                    window.PLOTLYENV=window.PLOTLYENV || {};\n",
       "                    window.PLOTLYENV.BASE_URL='https://plot.ly';                                    if (document.getElementById(\"5261ee8e-fea9-41dd-89b8-04775c827604\")) {                    Plotly.newPlot(                        \"5261ee8e-fea9-41dd-89b8-04775c827604\",                        [{\"histfunc\":\"count\",\"histnorm\":\"\",\"marker\":{\"color\":\"rgba(255, 153, 51, 1.0)\",\"line\":{\"color\":\"#4D5663\",\"width\":1.3}},\"name\":\"A\",\"nbinsx\":25,\"opacity\":0.8,\"orientation\":\"v\",\"x\":[0.9114742326787507,0.7578989467691609,-0.9874361968395297,0.22016382884816021,0.6077927569514273,0.7778834736810324,2.1131546813030457,-2.4490055660620578,-1.264753726599821,-1.113114717122689,0.7074598991253688,0.3011365498644992,1.3797717647512153,1.5678709953685082,-0.03622282412839025,1.2667918863642251,0.8749252774931616,-2.197805732647536,-1.0240395875458463,-2.142707972857464,-0.0736101364574777,-1.259255676470749,1.6015375948381252,1.112229978501615,-1.5622053971911025,1.8572790226404727,-0.4209177347085691,-0.912160726081105,-0.3037386021712285,0.8579623354976309,0.3565208302820152,0.6841429396840425,-0.7523937277325553,1.375620044215106,-1.2948947618372475,0.7226409299521954,-1.1545687528768627,0.4176384992573318,-0.0059278543542167945,-0.22869332071406231,-1.6746987522308645,0.9663733925438459,1.0763862190031617,-1.225551651184113,-0.7535643384107886,0.8096955120069954,-0.8670064279036938,-0.9680677241848497,1.1292477205253124,0.46947556948741576,-0.09447969379657634,0.5565096888594847,1.8403079260220252,0.3376051227254956,-0.9379486899192527,0.46813068099759814,0.09257732214048982,-1.6309760263885982,-0.11937821507956069,0.8475001411207256,-0.7150944067883627,1.1448948639850358,-1.0744821048971902,0.3924196833219243,0.9272154179010863,0.5026276413448757,0.8212503499671454,-0.8233919536733769,-0.2502667292808195,0.7236673354783757,0.18632609274324735,-1.9348967416153815,-0.3771390803791452,-0.9591907442850565,0.8657796666189373,0.28402206877817504,-0.23103203676238043,-1.6954591216753985,0.948904930684949,1.3203011128906776,1.3454169153034552,-0.2450999941893388,1.4276505694773265,0.9916419977998683,-0.46044944463704407,0.44416392997387194,0.24525133842413147,-0.09927401569069812,1.9148941613315424,0.8864805636561247,0.46370607184899737,-2.224352308256751,-1.0654022942267856,-0.2607577292767755,1.2242612562912998,-0.30021774043427785,-0.021938802648024933,0.038053496199222846,-0.08528024315010026,-1.5801736763077543],\"type\":\"histogram\"}],                        {\"barmode\":\"overlay\",\"legend\":{\"bgcolor\":\"#F5F6F9\",\"font\":{\"color\":\"#4D5663\"}},\"paper_bgcolor\":\"#F5F6F9\",\"plot_bgcolor\":\"#F5F6F9\",\"template\":{\"data\":{\"barpolar\":[{\"marker\":{\"line\":{\"color\":\"#E5ECF6\",\"width\":0.5},\"pattern\":{\"fillmode\":\"overlay\",\"size\":10,\"solidity\":0.2}},\"type\":\"barpolar\"}],\"bar\":[{\"error_x\":{\"color\":\"#2a3f5f\"},\"error_y\":{\"color\":\"#2a3f5f\"},\"marker\":{\"line\":{\"color\":\"#E5ECF6\",\"width\":0.5},\"pattern\":{\"fillmode\":\"overlay\",\"size\":10,\"solidity\":0.2}},\"type\":\"bar\"}],\"carpet\":[{\"aaxis\":{\"endlinecolor\":\"#2a3f5f\",\"gridcolor\":\"white\",\"linecolor\":\"white\",\"minorgridcolor\":\"white\",\"startlinecolor\":\"#2a3f5f\"},\"baxis\":{\"endlinecolor\":\"#2a3f5f\",\"gridcolor\":\"white\",\"linecolor\":\"white\",\"minorgridcolor\":\"white\",\"startlinecolor\":\"#2a3f5f\"},\"type\":\"carpet\"}],\"choropleth\":[{\"colorbar\":{\"outlinewidth\":0,\"ticks\":\"\"},\"type\":\"choropleth\"}],\"contourcarpet\":[{\"colorbar\":{\"outlinewidth\":0,\"ticks\":\"\"},\"type\":\"contourcarpet\"}],\"contour\":[{\"colorbar\":{\"outlinewidth\":0,\"ticks\":\"\"},\"colorscale\":[[0.0,\"#0d0887\"],[0.1111111111111111,\"#46039f\"],[0.2222222222222222,\"#7201a8\"],[0.3333333333333333,\"#9c179e\"],[0.4444444444444444,\"#bd3786\"],[0.5555555555555556,\"#d8576b\"],[0.6666666666666666,\"#ed7953\"],[0.7777777777777778,\"#fb9f3a\"],[0.8888888888888888,\"#fdca26\"],[1.0,\"#f0f921\"]],\"type\":\"contour\"}],\"heatmapgl\":[{\"colorbar\":{\"outlinewidth\":0,\"ticks\":\"\"},\"colorscale\":[[0.0,\"#0d0887\"],[0.1111111111111111,\"#46039f\"],[0.2222222222222222,\"#7201a8\"],[0.3333333333333333,\"#9c179e\"],[0.4444444444444444,\"#bd3786\"],[0.5555555555555556,\"#d8576b\"],[0.6666666666666666,\"#ed7953\"],[0.7777777777777778,\"#fb9f3a\"],[0.8888888888888888,\"#fdca26\"],[1.0,\"#f0f921\"]],\"type\":\"heatmapgl\"}],\"heatmap\":[{\"colorbar\":{\"outlinewidth\":0,\"ticks\":\"\"},\"colorscale\":[[0.0,\"#0d0887\"],[0.1111111111111111,\"#46039f\"],[0.2222222222222222,\"#7201a8\"],[0.3333333333333333,\"#9c179e\"],[0.4444444444444444,\"#bd3786\"],[0.5555555555555556,\"#d8576b\"],[0.6666666666666666,\"#ed7953\"],[0.7777777777777778,\"#fb9f3a\"],[0.8888888888888888,\"#fdca26\"],[1.0,\"#f0f921\"]],\"type\":\"heatmap\"}],\"histogram2dcontour\":[{\"colorbar\":{\"outlinewidth\":0,\"ticks\":\"\"},\"colorscale\":[[0.0,\"#0d0887\"],[0.1111111111111111,\"#46039f\"],[0.2222222222222222,\"#7201a8\"],[0.3333333333333333,\"#9c179e\"],[0.4444444444444444,\"#bd3786\"],[0.5555555555555556,\"#d8576b\"],[0.6666666666666666,\"#ed7953\"],[0.7777777777777778,\"#fb9f3a\"],[0.8888888888888888,\"#fdca26\"],[1.0,\"#f0f921\"]],\"type\":\"histogram2dcontour\"}],\"histogram2d\":[{\"colorbar\":{\"outlinewidth\":0,\"ticks\":\"\"},\"colorscale\":[[0.0,\"#0d0887\"],[0.1111111111111111,\"#46039f\"],[0.2222222222222222,\"#7201a8\"],[0.3333333333333333,\"#9c179e\"],[0.4444444444444444,\"#bd3786\"],[0.5555555555555556,\"#d8576b\"],[0.6666666666666666,\"#ed7953\"],[0.7777777777777778,\"#fb9f3a\"],[0.8888888888888888,\"#fdca26\"],[1.0,\"#f0f921\"]],\"type\":\"histogram2d\"}],\"histogram\":[{\"marker\":{\"pattern\":{\"fillmode\":\"overlay\",\"size\":10,\"solidity\":0.2}},\"type\":\"histogram\"}],\"mesh3d\":[{\"colorbar\":{\"outlinewidth\":0,\"ticks\":\"\"},\"type\":\"mesh3d\"}],\"parcoords\":[{\"line\":{\"colorbar\":{\"outlinewidth\":0,\"ticks\":\"\"}},\"type\":\"parcoords\"}],\"pie\":[{\"automargin\":true,\"type\":\"pie\"}],\"scatter3d\":[{\"line\":{\"colorbar\":{\"outlinewidth\":0,\"ticks\":\"\"}},\"marker\":{\"colorbar\":{\"outlinewidth\":0,\"ticks\":\"\"}},\"type\":\"scatter3d\"}],\"scattercarpet\":[{\"marker\":{\"colorbar\":{\"outlinewidth\":0,\"ticks\":\"\"}},\"type\":\"scattercarpet\"}],\"scattergeo\":[{\"marker\":{\"colorbar\":{\"outlinewidth\":0,\"ticks\":\"\"}},\"type\":\"scattergeo\"}],\"scattergl\":[{\"marker\":{\"colorbar\":{\"outlinewidth\":0,\"ticks\":\"\"}},\"type\":\"scattergl\"}],\"scattermapbox\":[{\"marker\":{\"colorbar\":{\"outlinewidth\":0,\"ticks\":\"\"}},\"type\":\"scattermapbox\"}],\"scatterpolargl\":[{\"marker\":{\"colorbar\":{\"outlinewidth\":0,\"ticks\":\"\"}},\"type\":\"scatterpolargl\"}],\"scatterpolar\":[{\"marker\":{\"colorbar\":{\"outlinewidth\":0,\"ticks\":\"\"}},\"type\":\"scatterpolar\"}],\"scatter\":[{\"fillpattern\":{\"fillmode\":\"overlay\",\"size\":10,\"solidity\":0.2},\"type\":\"scatter\"}],\"scatterternary\":[{\"marker\":{\"colorbar\":{\"outlinewidth\":0,\"ticks\":\"\"}},\"type\":\"scatterternary\"}],\"surface\":[{\"colorbar\":{\"outlinewidth\":0,\"ticks\":\"\"},\"colorscale\":[[0.0,\"#0d0887\"],[0.1111111111111111,\"#46039f\"],[0.2222222222222222,\"#7201a8\"],[0.3333333333333333,\"#9c179e\"],[0.4444444444444444,\"#bd3786\"],[0.5555555555555556,\"#d8576b\"],[0.6666666666666666,\"#ed7953\"],[0.7777777777777778,\"#fb9f3a\"],[0.8888888888888888,\"#fdca26\"],[1.0,\"#f0f921\"]],\"type\":\"surface\"}],\"table\":[{\"cells\":{\"fill\":{\"color\":\"#EBF0F8\"},\"line\":{\"color\":\"white\"}},\"header\":{\"fill\":{\"color\":\"#C8D4E3\"},\"line\":{\"color\":\"white\"}},\"type\":\"table\"}]},\"layout\":{\"annotationdefaults\":{\"arrowcolor\":\"#2a3f5f\",\"arrowhead\":0,\"arrowwidth\":1},\"autotypenumbers\":\"strict\",\"coloraxis\":{\"colorbar\":{\"outlinewidth\":0,\"ticks\":\"\"}},\"colorscale\":{\"diverging\":[[0,\"#8e0152\"],[0.1,\"#c51b7d\"],[0.2,\"#de77ae\"],[0.3,\"#f1b6da\"],[0.4,\"#fde0ef\"],[0.5,\"#f7f7f7\"],[0.6,\"#e6f5d0\"],[0.7,\"#b8e186\"],[0.8,\"#7fbc41\"],[0.9,\"#4d9221\"],[1,\"#276419\"]],\"sequential\":[[0.0,\"#0d0887\"],[0.1111111111111111,\"#46039f\"],[0.2222222222222222,\"#7201a8\"],[0.3333333333333333,\"#9c179e\"],[0.4444444444444444,\"#bd3786\"],[0.5555555555555556,\"#d8576b\"],[0.6666666666666666,\"#ed7953\"],[0.7777777777777778,\"#fb9f3a\"],[0.8888888888888888,\"#fdca26\"],[1.0,\"#f0f921\"]],\"sequentialminus\":[[0.0,\"#0d0887\"],[0.1111111111111111,\"#46039f\"],[0.2222222222222222,\"#7201a8\"],[0.3333333333333333,\"#9c179e\"],[0.4444444444444444,\"#bd3786\"],[0.5555555555555556,\"#d8576b\"],[0.6666666666666666,\"#ed7953\"],[0.7777777777777778,\"#fb9f3a\"],[0.8888888888888888,\"#fdca26\"],[1.0,\"#f0f921\"]]},\"colorway\":[\"#636efa\",\"#EF553B\",\"#00cc96\",\"#ab63fa\",\"#FFA15A\",\"#19d3f3\",\"#FF6692\",\"#B6E880\",\"#FF97FF\",\"#FECB52\"],\"font\":{\"color\":\"#2a3f5f\"},\"geo\":{\"bgcolor\":\"white\",\"lakecolor\":\"white\",\"landcolor\":\"#E5ECF6\",\"showlakes\":true,\"showland\":true,\"subunitcolor\":\"white\"},\"hoverlabel\":{\"align\":\"left\"},\"hovermode\":\"closest\",\"mapbox\":{\"style\":\"light\"},\"paper_bgcolor\":\"white\",\"plot_bgcolor\":\"#E5ECF6\",\"polar\":{\"angularaxis\":{\"gridcolor\":\"white\",\"linecolor\":\"white\",\"ticks\":\"\"},\"bgcolor\":\"#E5ECF6\",\"radialaxis\":{\"gridcolor\":\"white\",\"linecolor\":\"white\",\"ticks\":\"\"}},\"scene\":{\"xaxis\":{\"backgroundcolor\":\"#E5ECF6\",\"gridcolor\":\"white\",\"gridwidth\":2,\"linecolor\":\"white\",\"showbackground\":true,\"ticks\":\"\",\"zerolinecolor\":\"white\"},\"yaxis\":{\"backgroundcolor\":\"#E5ECF6\",\"gridcolor\":\"white\",\"gridwidth\":2,\"linecolor\":\"white\",\"showbackground\":true,\"ticks\":\"\",\"zerolinecolor\":\"white\"},\"zaxis\":{\"backgroundcolor\":\"#E5ECF6\",\"gridcolor\":\"white\",\"gridwidth\":2,\"linecolor\":\"white\",\"showbackground\":true,\"ticks\":\"\",\"zerolinecolor\":\"white\"}},\"shapedefaults\":{\"line\":{\"color\":\"#2a3f5f\"}},\"ternary\":{\"aaxis\":{\"gridcolor\":\"white\",\"linecolor\":\"white\",\"ticks\":\"\"},\"baxis\":{\"gridcolor\":\"white\",\"linecolor\":\"white\",\"ticks\":\"\"},\"bgcolor\":\"#E5ECF6\",\"caxis\":{\"gridcolor\":\"white\",\"linecolor\":\"white\",\"ticks\":\"\"}},\"title\":{\"x\":0.05},\"xaxis\":{\"automargin\":true,\"gridcolor\":\"white\",\"linecolor\":\"white\",\"ticks\":\"\",\"title\":{\"standoff\":15},\"zerolinecolor\":\"white\",\"zerolinewidth\":2},\"yaxis\":{\"automargin\":true,\"gridcolor\":\"white\",\"linecolor\":\"white\",\"ticks\":\"\",\"title\":{\"standoff\":15},\"zerolinecolor\":\"white\",\"zerolinewidth\":2}}},\"title\":{\"font\":{\"color\":\"#4D5663\"}},\"xaxis\":{\"gridcolor\":\"#E1E5ED\",\"showgrid\":true,\"tickfont\":{\"color\":\"#4D5663\"},\"title\":{\"font\":{\"color\":\"#4D5663\"},\"text\":\"\"},\"zerolinecolor\":\"#E1E5ED\"},\"yaxis\":{\"gridcolor\":\"#E1E5ED\",\"showgrid\":true,\"tickfont\":{\"color\":\"#4D5663\"},\"title\":{\"font\":{\"color\":\"#4D5663\"},\"text\":\"\"},\"zerolinecolor\":\"#E1E5ED\"}},                        {\"showLink\": true, \"linkText\": \"Export to plot.ly\", \"plotlyServerURL\": \"https://plot.ly\", \"responsive\": true}                    ).then(function(){\n",
       "                            \n",
       "var gd = document.getElementById('5261ee8e-fea9-41dd-89b8-04775c827604');\n",
       "var x = new MutationObserver(function (mutations, observer) {{\n",
       "        var display = window.getComputedStyle(gd).display;\n",
       "        if (!display || display === 'none') {{\n",
       "            console.log([gd, 'removed!']);\n",
       "            Plotly.purge(gd);\n",
       "            observer.disconnect();\n",
       "        }}\n",
       "}});\n",
       "\n",
       "// Listen for the removal of the full notebook cells\n",
       "var notebookContainer = gd.closest('#notebook-container');\n",
       "if (notebookContainer) {{\n",
       "    x.observe(notebookContainer, {childList: true});\n",
       "}}\n",
       "\n",
       "// Listen for the clearing of the current output cell\n",
       "var outputEl = gd.closest('.output');\n",
       "if (outputEl) {{\n",
       "    x.observe(outputEl, {childList: true});\n",
       "}}\n",
       "\n",
       "                        })                };                });            </script>        </div>"
      ]
     },
     "metadata": {},
     "output_type": "display_data"
    }
   ],
   "source": [
    "df['A'].iplot(kind='hist',bins=25)"
   ]
  },
  {
   "cell_type": "code",
   "execution_count": 17,
   "metadata": {
    "collapsed": false
   },
   "outputs": [
    {
     "data": {
      "application/vnd.plotly.v1+json": {
       "config": {
        "linkText": "Export to plot.ly",
        "plotlyServerURL": "https://plot.ly",
        "showLink": true
       },
       "data": [
        {
         "marker": {
          "color": [
           "rgb(255, 153, 51)",
           "rgb(55, 128, 191)",
           "rgb(50, 171, 96)",
           "rgb(128, 0, 128)",
           "rgb(219, 64, 82)",
           "rgb(0, 128, 128)",
           "rgb(255, 255, 51)",
           "rgb(128, 128, 0)",
           "rgb(251, 128, 114)",
           "rgb(128, 177, 211)"
          ],
          "line": {
           "width": 1.3
          },
          "size": [
           73,
           94,
           12,
           87,
           68,
           83,
           62,
           39,
           55,
           55,
           69,
           59,
           77,
           66,
           61,
           71,
           56,
           71,
           82,
           63,
           100,
           37,
           66,
           66,
           92,
           55,
           65,
           51,
           53,
           66,
           67,
           76,
           79,
           71,
           69,
           67,
           76,
           64,
           99,
           30,
           88,
           57,
           74,
           72,
           99,
           29,
           66,
           63,
           91,
           46,
           74,
           40,
           91,
           91,
           78,
           86,
           84,
           43,
           70,
           75,
           81,
           67,
           104,
           81,
           47,
           87,
           52,
           62,
           58,
           71,
           58,
           110,
           60,
           104,
           63,
           92,
           64,
           49,
           90,
           49,
           67,
           60,
           49,
           86,
           42,
           62,
           98,
           112,
           62,
           46,
           43,
           63,
           62,
           72,
           41,
           70,
           72,
           64,
           66,
           61
          ],
          "symbol": "circle"
         },
         "mode": "markers",
         "text": "",
         "type": "scatter",
         "x": [
          0.9114742326787507,
          0.7578989467691609,
          -0.9874361968395297,
          0.22016382884816021,
          0.6077927569514273,
          0.7778834736810324,
          2.1131546813030457,
          -2.4490055660620578,
          -1.264753726599821,
          -1.113114717122689,
          0.7074598991253688,
          0.3011365498644992,
          1.3797717647512153,
          1.5678709953685082,
          -0.03622282412839025,
          1.2667918863642251,
          0.8749252774931616,
          -2.197805732647536,
          -1.0240395875458463,
          -2.142707972857464,
          -0.0736101364574777,
          -1.259255676470749,
          1.6015375948381252,
          1.112229978501615,
          -1.5622053971911025,
          1.8572790226404727,
          -0.4209177347085691,
          -0.912160726081105,
          -0.3037386021712285,
          0.8579623354976309,
          0.3565208302820152,
          0.6841429396840425,
          -0.7523937277325553,
          1.375620044215106,
          -1.2948947618372475,
          0.7226409299521954,
          -1.1545687528768627,
          0.4176384992573318,
          -0.0059278543542167945,
          -0.22869332071406231,
          -1.6746987522308645,
          0.9663733925438459,
          1.0763862190031617,
          -1.225551651184113,
          -0.7535643384107886,
          0.8096955120069954,
          -0.8670064279036938,
          -0.9680677241848497,
          1.1292477205253124,
          0.46947556948741576,
          -0.09447969379657634,
          0.5565096888594847,
          1.8403079260220252,
          0.3376051227254956,
          -0.9379486899192527,
          0.46813068099759814,
          0.09257732214048982,
          -1.6309760263885982,
          -0.11937821507956069,
          0.8475001411207256,
          -0.7150944067883627,
          1.1448948639850358,
          -1.0744821048971902,
          0.3924196833219243,
          0.9272154179010863,
          0.5026276413448757,
          0.8212503499671454,
          -0.8233919536733769,
          -0.2502667292808195,
          0.7236673354783757,
          0.18632609274324735,
          -1.9348967416153815,
          -0.3771390803791452,
          -0.9591907442850565,
          0.8657796666189373,
          0.28402206877817504,
          -0.23103203676238043,
          -1.6954591216753985,
          0.948904930684949,
          1.3203011128906776,
          1.3454169153034552,
          -0.2450999941893388,
          1.4276505694773265,
          0.9916419977998683,
          -0.46044944463704407,
          0.44416392997387194,
          0.24525133842413147,
          -0.09927401569069812,
          1.9148941613315424,
          0.8864805636561247,
          0.46370607184899737,
          -2.224352308256751,
          -1.0654022942267856,
          -0.2607577292767755,
          1.2242612562912998,
          -0.30021774043427785,
          -0.021938802648024933,
          0.038053496199222846,
          -0.08528024315010026,
          -1.5801736763077543
         ],
         "y": [
          0.23541819233456246,
          0.5482224871344553,
          -0.6762289676794175,
          -0.29753389009341696,
          -1.6537645838455806,
          0.8304428942574472,
          -0.4408669209013495,
          -0.27435782294007777,
          -2.173375085890643,
          0.20695320388106786,
          -1.0993754893406398,
          -1.2579231680566736,
          -1.4442829489057019,
          0.11632297708104956,
          0.6225013721856922,
          0.4944394057517207,
          -0.549574433268328,
          -1.2070224915495484,
          1.1077365446492404,
          0.3767494463443737,
          -0.048808423374183826,
          0.00400584390178196,
          0.7597092760009614,
          -0.34791100636292516,
          0.23580016658069564,
          -1.050013416154085,
          0.39421190996753597,
          0.035283337196053005,
          0.494369633848719,
          -1.4410894003445818,
          -0.34759793246896226,
          0.31297072926656766,
          0.883043623213389,
          -1.309452016254821,
          -0.494268560748715,
          1.051270007897888,
          -0.9400845241081949,
          1.0062190989079038,
          -0.2299281540729599,
          1.1205820384556222,
          0.3401911629876612,
          0.37978093151711045,
          -1.612791942328893,
          1.099243459502892,
          -1.8305676394507513,
          0.3570138753485757,
          0.31951510178702425,
          0.25094716578977916,
          1.228620982901242,
          -0.6601164535624199,
          0.12442024935454234,
          -0.7786844570120308,
          -0.7945273805880833,
          -1.5218876699649064,
          -0.9973007205172868,
          0.942982191799194,
          -0.5481870611417685,
          -1.711267025816037,
          0.6863576806719326,
          -0.2728391456421554,
          -0.6960216221354287,
          1.083291241894601,
          -0.23410333746971343,
          0.14876058960735514,
          -0.9504526268294847,
          -1.2684548505074855,
          -0.970167356029588,
          0.16555895612980628,
          0.7982318400260477,
          0.3502567389757603,
          0.5106487860872726,
          1.7167365629146856,
          -0.17515656694386475,
          0.2510405169637239,
          1.067048180128776,
          0.08249294970519207,
          1.8817184628314625,
          -0.2925444339019961,
          0.4982443469520614,
          0.7579274298666225,
          0.4513504840483056,
          0.18293533511137006,
          0.2074313555949219,
          1.0830362728623577,
          -1.3640558765781092,
          0.6695669304242179,
          -0.7917332091991889,
          0.9611564033860209,
          -0.6748198117284865,
          -0.4294317859327062,
          -0.44003438666389727,
          -0.7834587412866575,
          -0.6052898884146282,
          -0.5273756713097408,
          0.036473522701766556,
          -1.0318261997633305,
          0.4874952484513759,
          0.2303280257982348,
          -1.4352230408514677,
          0.8365986862717942
         ]
        }
       ],
       "layout": {
        "legend": {
         "bgcolor": "#F5F6F9",
         "font": {
          "color": "#4D5663"
         }
        },
        "paper_bgcolor": "#F5F6F9",
        "plot_bgcolor": "#F5F6F9",
        "template": {
         "data": {
          "bar": [
           {
            "error_x": {
             "color": "#2a3f5f"
            },
            "error_y": {
             "color": "#2a3f5f"
            },
            "marker": {
             "line": {
              "color": "#E5ECF6",
              "width": 0.5
             },
             "pattern": {
              "fillmode": "overlay",
              "size": 10,
              "solidity": 0.2
             }
            },
            "type": "bar"
           }
          ],
          "barpolar": [
           {
            "marker": {
             "line": {
              "color": "#E5ECF6",
              "width": 0.5
             },
             "pattern": {
              "fillmode": "overlay",
              "size": 10,
              "solidity": 0.2
             }
            },
            "type": "barpolar"
           }
          ],
          "carpet": [
           {
            "aaxis": {
             "endlinecolor": "#2a3f5f",
             "gridcolor": "white",
             "linecolor": "white",
             "minorgridcolor": "white",
             "startlinecolor": "#2a3f5f"
            },
            "baxis": {
             "endlinecolor": "#2a3f5f",
             "gridcolor": "white",
             "linecolor": "white",
             "minorgridcolor": "white",
             "startlinecolor": "#2a3f5f"
            },
            "type": "carpet"
           }
          ],
          "choropleth": [
           {
            "colorbar": {
             "outlinewidth": 0,
             "ticks": ""
            },
            "type": "choropleth"
           }
          ],
          "contour": [
           {
            "colorbar": {
             "outlinewidth": 0,
             "ticks": ""
            },
            "colorscale": [
             [
              0,
              "#0d0887"
             ],
             [
              0.1111111111111111,
              "#46039f"
             ],
             [
              0.2222222222222222,
              "#7201a8"
             ],
             [
              0.3333333333333333,
              "#9c179e"
             ],
             [
              0.4444444444444444,
              "#bd3786"
             ],
             [
              0.5555555555555556,
              "#d8576b"
             ],
             [
              0.6666666666666666,
              "#ed7953"
             ],
             [
              0.7777777777777778,
              "#fb9f3a"
             ],
             [
              0.8888888888888888,
              "#fdca26"
             ],
             [
              1,
              "#f0f921"
             ]
            ],
            "type": "contour"
           }
          ],
          "contourcarpet": [
           {
            "colorbar": {
             "outlinewidth": 0,
             "ticks": ""
            },
            "type": "contourcarpet"
           }
          ],
          "heatmap": [
           {
            "colorbar": {
             "outlinewidth": 0,
             "ticks": ""
            },
            "colorscale": [
             [
              0,
              "#0d0887"
             ],
             [
              0.1111111111111111,
              "#46039f"
             ],
             [
              0.2222222222222222,
              "#7201a8"
             ],
             [
              0.3333333333333333,
              "#9c179e"
             ],
             [
              0.4444444444444444,
              "#bd3786"
             ],
             [
              0.5555555555555556,
              "#d8576b"
             ],
             [
              0.6666666666666666,
              "#ed7953"
             ],
             [
              0.7777777777777778,
              "#fb9f3a"
             ],
             [
              0.8888888888888888,
              "#fdca26"
             ],
             [
              1,
              "#f0f921"
             ]
            ],
            "type": "heatmap"
           }
          ],
          "heatmapgl": [
           {
            "colorbar": {
             "outlinewidth": 0,
             "ticks": ""
            },
            "colorscale": [
             [
              0,
              "#0d0887"
             ],
             [
              0.1111111111111111,
              "#46039f"
             ],
             [
              0.2222222222222222,
              "#7201a8"
             ],
             [
              0.3333333333333333,
              "#9c179e"
             ],
             [
              0.4444444444444444,
              "#bd3786"
             ],
             [
              0.5555555555555556,
              "#d8576b"
             ],
             [
              0.6666666666666666,
              "#ed7953"
             ],
             [
              0.7777777777777778,
              "#fb9f3a"
             ],
             [
              0.8888888888888888,
              "#fdca26"
             ],
             [
              1,
              "#f0f921"
             ]
            ],
            "type": "heatmapgl"
           }
          ],
          "histogram": [
           {
            "marker": {
             "pattern": {
              "fillmode": "overlay",
              "size": 10,
              "solidity": 0.2
             }
            },
            "type": "histogram"
           }
          ],
          "histogram2d": [
           {
            "colorbar": {
             "outlinewidth": 0,
             "ticks": ""
            },
            "colorscale": [
             [
              0,
              "#0d0887"
             ],
             [
              0.1111111111111111,
              "#46039f"
             ],
             [
              0.2222222222222222,
              "#7201a8"
             ],
             [
              0.3333333333333333,
              "#9c179e"
             ],
             [
              0.4444444444444444,
              "#bd3786"
             ],
             [
              0.5555555555555556,
              "#d8576b"
             ],
             [
              0.6666666666666666,
              "#ed7953"
             ],
             [
              0.7777777777777778,
              "#fb9f3a"
             ],
             [
              0.8888888888888888,
              "#fdca26"
             ],
             [
              1,
              "#f0f921"
             ]
            ],
            "type": "histogram2d"
           }
          ],
          "histogram2dcontour": [
           {
            "colorbar": {
             "outlinewidth": 0,
             "ticks": ""
            },
            "colorscale": [
             [
              0,
              "#0d0887"
             ],
             [
              0.1111111111111111,
              "#46039f"
             ],
             [
              0.2222222222222222,
              "#7201a8"
             ],
             [
              0.3333333333333333,
              "#9c179e"
             ],
             [
              0.4444444444444444,
              "#bd3786"
             ],
             [
              0.5555555555555556,
              "#d8576b"
             ],
             [
              0.6666666666666666,
              "#ed7953"
             ],
             [
              0.7777777777777778,
              "#fb9f3a"
             ],
             [
              0.8888888888888888,
              "#fdca26"
             ],
             [
              1,
              "#f0f921"
             ]
            ],
            "type": "histogram2dcontour"
           }
          ],
          "mesh3d": [
           {
            "colorbar": {
             "outlinewidth": 0,
             "ticks": ""
            },
            "type": "mesh3d"
           }
          ],
          "parcoords": [
           {
            "line": {
             "colorbar": {
              "outlinewidth": 0,
              "ticks": ""
             }
            },
            "type": "parcoords"
           }
          ],
          "pie": [
           {
            "automargin": true,
            "type": "pie"
           }
          ],
          "scatter": [
           {
            "fillpattern": {
             "fillmode": "overlay",
             "size": 10,
             "solidity": 0.2
            },
            "type": "scatter"
           }
          ],
          "scatter3d": [
           {
            "line": {
             "colorbar": {
              "outlinewidth": 0,
              "ticks": ""
             }
            },
            "marker": {
             "colorbar": {
              "outlinewidth": 0,
              "ticks": ""
             }
            },
            "type": "scatter3d"
           }
          ],
          "scattercarpet": [
           {
            "marker": {
             "colorbar": {
              "outlinewidth": 0,
              "ticks": ""
             }
            },
            "type": "scattercarpet"
           }
          ],
          "scattergeo": [
           {
            "marker": {
             "colorbar": {
              "outlinewidth": 0,
              "ticks": ""
             }
            },
            "type": "scattergeo"
           }
          ],
          "scattergl": [
           {
            "marker": {
             "colorbar": {
              "outlinewidth": 0,
              "ticks": ""
             }
            },
            "type": "scattergl"
           }
          ],
          "scattermapbox": [
           {
            "marker": {
             "colorbar": {
              "outlinewidth": 0,
              "ticks": ""
             }
            },
            "type": "scattermapbox"
           }
          ],
          "scatterpolar": [
           {
            "marker": {
             "colorbar": {
              "outlinewidth": 0,
              "ticks": ""
             }
            },
            "type": "scatterpolar"
           }
          ],
          "scatterpolargl": [
           {
            "marker": {
             "colorbar": {
              "outlinewidth": 0,
              "ticks": ""
             }
            },
            "type": "scatterpolargl"
           }
          ],
          "scatterternary": [
           {
            "marker": {
             "colorbar": {
              "outlinewidth": 0,
              "ticks": ""
             }
            },
            "type": "scatterternary"
           }
          ],
          "surface": [
           {
            "colorbar": {
             "outlinewidth": 0,
             "ticks": ""
            },
            "colorscale": [
             [
              0,
              "#0d0887"
             ],
             [
              0.1111111111111111,
              "#46039f"
             ],
             [
              0.2222222222222222,
              "#7201a8"
             ],
             [
              0.3333333333333333,
              "#9c179e"
             ],
             [
              0.4444444444444444,
              "#bd3786"
             ],
             [
              0.5555555555555556,
              "#d8576b"
             ],
             [
              0.6666666666666666,
              "#ed7953"
             ],
             [
              0.7777777777777778,
              "#fb9f3a"
             ],
             [
              0.8888888888888888,
              "#fdca26"
             ],
             [
              1,
              "#f0f921"
             ]
            ],
            "type": "surface"
           }
          ],
          "table": [
           {
            "cells": {
             "fill": {
              "color": "#EBF0F8"
             },
             "line": {
              "color": "white"
             }
            },
            "header": {
             "fill": {
              "color": "#C8D4E3"
             },
             "line": {
              "color": "white"
             }
            },
            "type": "table"
           }
          ]
         },
         "layout": {
          "annotationdefaults": {
           "arrowcolor": "#2a3f5f",
           "arrowhead": 0,
           "arrowwidth": 1
          },
          "autotypenumbers": "strict",
          "coloraxis": {
           "colorbar": {
            "outlinewidth": 0,
            "ticks": ""
           }
          },
          "colorscale": {
           "diverging": [
            [
             0,
             "#8e0152"
            ],
            [
             0.1,
             "#c51b7d"
            ],
            [
             0.2,
             "#de77ae"
            ],
            [
             0.3,
             "#f1b6da"
            ],
            [
             0.4,
             "#fde0ef"
            ],
            [
             0.5,
             "#f7f7f7"
            ],
            [
             0.6,
             "#e6f5d0"
            ],
            [
             0.7,
             "#b8e186"
            ],
            [
             0.8,
             "#7fbc41"
            ],
            [
             0.9,
             "#4d9221"
            ],
            [
             1,
             "#276419"
            ]
           ],
           "sequential": [
            [
             0,
             "#0d0887"
            ],
            [
             0.1111111111111111,
             "#46039f"
            ],
            [
             0.2222222222222222,
             "#7201a8"
            ],
            [
             0.3333333333333333,
             "#9c179e"
            ],
            [
             0.4444444444444444,
             "#bd3786"
            ],
            [
             0.5555555555555556,
             "#d8576b"
            ],
            [
             0.6666666666666666,
             "#ed7953"
            ],
            [
             0.7777777777777778,
             "#fb9f3a"
            ],
            [
             0.8888888888888888,
             "#fdca26"
            ],
            [
             1,
             "#f0f921"
            ]
           ],
           "sequentialminus": [
            [
             0,
             "#0d0887"
            ],
            [
             0.1111111111111111,
             "#46039f"
            ],
            [
             0.2222222222222222,
             "#7201a8"
            ],
            [
             0.3333333333333333,
             "#9c179e"
            ],
            [
             0.4444444444444444,
             "#bd3786"
            ],
            [
             0.5555555555555556,
             "#d8576b"
            ],
            [
             0.6666666666666666,
             "#ed7953"
            ],
            [
             0.7777777777777778,
             "#fb9f3a"
            ],
            [
             0.8888888888888888,
             "#fdca26"
            ],
            [
             1,
             "#f0f921"
            ]
           ]
          },
          "colorway": [
           "#636efa",
           "#EF553B",
           "#00cc96",
           "#ab63fa",
           "#FFA15A",
           "#19d3f3",
           "#FF6692",
           "#B6E880",
           "#FF97FF",
           "#FECB52"
          ],
          "font": {
           "color": "#2a3f5f"
          },
          "geo": {
           "bgcolor": "white",
           "lakecolor": "white",
           "landcolor": "#E5ECF6",
           "showlakes": true,
           "showland": true,
           "subunitcolor": "white"
          },
          "hoverlabel": {
           "align": "left"
          },
          "hovermode": "closest",
          "mapbox": {
           "style": "light"
          },
          "paper_bgcolor": "white",
          "plot_bgcolor": "#E5ECF6",
          "polar": {
           "angularaxis": {
            "gridcolor": "white",
            "linecolor": "white",
            "ticks": ""
           },
           "bgcolor": "#E5ECF6",
           "radialaxis": {
            "gridcolor": "white",
            "linecolor": "white",
            "ticks": ""
           }
          },
          "scene": {
           "xaxis": {
            "backgroundcolor": "#E5ECF6",
            "gridcolor": "white",
            "gridwidth": 2,
            "linecolor": "white",
            "showbackground": true,
            "ticks": "",
            "zerolinecolor": "white"
           },
           "yaxis": {
            "backgroundcolor": "#E5ECF6",
            "gridcolor": "white",
            "gridwidth": 2,
            "linecolor": "white",
            "showbackground": true,
            "ticks": "",
            "zerolinecolor": "white"
           },
           "zaxis": {
            "backgroundcolor": "#E5ECF6",
            "gridcolor": "white",
            "gridwidth": 2,
            "linecolor": "white",
            "showbackground": true,
            "ticks": "",
            "zerolinecolor": "white"
           }
          },
          "shapedefaults": {
           "line": {
            "color": "#2a3f5f"
           }
          },
          "ternary": {
           "aaxis": {
            "gridcolor": "white",
            "linecolor": "white",
            "ticks": ""
           },
           "baxis": {
            "gridcolor": "white",
            "linecolor": "white",
            "ticks": ""
           },
           "bgcolor": "#E5ECF6",
           "caxis": {
            "gridcolor": "white",
            "linecolor": "white",
            "ticks": ""
           }
          },
          "title": {
           "x": 0.05
          },
          "xaxis": {
           "automargin": true,
           "gridcolor": "white",
           "linecolor": "white",
           "ticks": "",
           "title": {
            "standoff": 15
           },
           "zerolinecolor": "white",
           "zerolinewidth": 2
          },
          "yaxis": {
           "automargin": true,
           "gridcolor": "white",
           "linecolor": "white",
           "ticks": "",
           "title": {
            "standoff": 15
           },
           "zerolinecolor": "white",
           "zerolinewidth": 2
          }
         }
        },
        "title": {
         "font": {
          "color": "#4D5663"
         }
        },
        "xaxis": {
         "gridcolor": "#E1E5ED",
         "showgrid": true,
         "tickfont": {
          "color": "#4D5663"
         },
         "title": {
          "font": {
           "color": "#4D5663"
          },
          "text": ""
         },
         "zerolinecolor": "#E1E5ED"
        },
        "yaxis": {
         "gridcolor": "#E1E5ED",
         "showgrid": true,
         "tickfont": {
          "color": "#4D5663"
         },
         "title": {
          "font": {
           "color": "#4D5663"
          },
          "text": ""
         },
         "zerolinecolor": "#E1E5ED"
        }
       }
      },
      "text/html": [
       "<div>                            <div id=\"f31eac21-1300-4d72-bd0b-472c62cf3979\" class=\"plotly-graph-div\" style=\"height:525px; width:100%;\"></div>            <script type=\"text/javascript\">                require([\"plotly\"], function(Plotly) {                    window.PLOTLYENV=window.PLOTLYENV || {};\n",
       "                    window.PLOTLYENV.BASE_URL='https://plot.ly';                                    if (document.getElementById(\"f31eac21-1300-4d72-bd0b-472c62cf3979\")) {                    Plotly.newPlot(                        \"f31eac21-1300-4d72-bd0b-472c62cf3979\",                        [{\"marker\":{\"color\":[\"rgb(255, 153, 51)\",\"rgb(55, 128, 191)\",\"rgb(50, 171, 96)\",\"rgb(128, 0, 128)\",\"rgb(219, 64, 82)\",\"rgb(0, 128, 128)\",\"rgb(255, 255, 51)\",\"rgb(128, 128, 0)\",\"rgb(251, 128, 114)\",\"rgb(128, 177, 211)\"],\"line\":{\"width\":1.3},\"size\":[73,94,12,87,68,83,62,39,55,55,69,59,77,66,61,71,56,71,82,63,100,37,66,66,92,55,65,51,53,66,67,76,79,71,69,67,76,64,99,30,88,57,74,72,99,29,66,63,91,46,74,40,91,91,78,86,84,43,70,75,81,67,104,81,47,87,52,62,58,71,58,110,60,104,63,92,64,49,90,49,67,60,49,86,42,62,98,112,62,46,43,63,62,72,41,70,72,64,66,61],\"symbol\":\"circle\"},\"mode\":\"markers\",\"text\":\"\",\"x\":[0.9114742326787507,0.7578989467691609,-0.9874361968395297,0.22016382884816021,0.6077927569514273,0.7778834736810324,2.1131546813030457,-2.4490055660620578,-1.264753726599821,-1.113114717122689,0.7074598991253688,0.3011365498644992,1.3797717647512153,1.5678709953685082,-0.03622282412839025,1.2667918863642251,0.8749252774931616,-2.197805732647536,-1.0240395875458463,-2.142707972857464,-0.0736101364574777,-1.259255676470749,1.6015375948381252,1.112229978501615,-1.5622053971911025,1.8572790226404727,-0.4209177347085691,-0.912160726081105,-0.3037386021712285,0.8579623354976309,0.3565208302820152,0.6841429396840425,-0.7523937277325553,1.375620044215106,-1.2948947618372475,0.7226409299521954,-1.1545687528768627,0.4176384992573318,-0.0059278543542167945,-0.22869332071406231,-1.6746987522308645,0.9663733925438459,1.0763862190031617,-1.225551651184113,-0.7535643384107886,0.8096955120069954,-0.8670064279036938,-0.9680677241848497,1.1292477205253124,0.46947556948741576,-0.09447969379657634,0.5565096888594847,1.8403079260220252,0.3376051227254956,-0.9379486899192527,0.46813068099759814,0.09257732214048982,-1.6309760263885982,-0.11937821507956069,0.8475001411207256,-0.7150944067883627,1.1448948639850358,-1.0744821048971902,0.3924196833219243,0.9272154179010863,0.5026276413448757,0.8212503499671454,-0.8233919536733769,-0.2502667292808195,0.7236673354783757,0.18632609274324735,-1.9348967416153815,-0.3771390803791452,-0.9591907442850565,0.8657796666189373,0.28402206877817504,-0.23103203676238043,-1.6954591216753985,0.948904930684949,1.3203011128906776,1.3454169153034552,-0.2450999941893388,1.4276505694773265,0.9916419977998683,-0.46044944463704407,0.44416392997387194,0.24525133842413147,-0.09927401569069812,1.9148941613315424,0.8864805636561247,0.46370607184899737,-2.224352308256751,-1.0654022942267856,-0.2607577292767755,1.2242612562912998,-0.30021774043427785,-0.021938802648024933,0.038053496199222846,-0.08528024315010026,-1.5801736763077543],\"y\":[0.23541819233456246,0.5482224871344553,-0.6762289676794175,-0.29753389009341696,-1.6537645838455806,0.8304428942574472,-0.4408669209013495,-0.27435782294007777,-2.173375085890643,0.20695320388106786,-1.0993754893406398,-1.2579231680566736,-1.4442829489057019,0.11632297708104956,0.6225013721856922,0.4944394057517207,-0.549574433268328,-1.2070224915495484,1.1077365446492404,0.3767494463443737,-0.048808423374183826,0.00400584390178196,0.7597092760009614,-0.34791100636292516,0.23580016658069564,-1.050013416154085,0.39421190996753597,0.035283337196053005,0.494369633848719,-1.4410894003445818,-0.34759793246896226,0.31297072926656766,0.883043623213389,-1.309452016254821,-0.494268560748715,1.051270007897888,-0.9400845241081949,1.0062190989079038,-0.2299281540729599,1.1205820384556222,0.3401911629876612,0.37978093151711045,-1.612791942328893,1.099243459502892,-1.8305676394507513,0.3570138753485757,0.31951510178702425,0.25094716578977916,1.228620982901242,-0.6601164535624199,0.12442024935454234,-0.7786844570120308,-0.7945273805880833,-1.5218876699649064,-0.9973007205172868,0.942982191799194,-0.5481870611417685,-1.711267025816037,0.6863576806719326,-0.2728391456421554,-0.6960216221354287,1.083291241894601,-0.23410333746971343,0.14876058960735514,-0.9504526268294847,-1.2684548505074855,-0.970167356029588,0.16555895612980628,0.7982318400260477,0.3502567389757603,0.5106487860872726,1.7167365629146856,-0.17515656694386475,0.2510405169637239,1.067048180128776,0.08249294970519207,1.8817184628314625,-0.2925444339019961,0.4982443469520614,0.7579274298666225,0.4513504840483056,0.18293533511137006,0.2074313555949219,1.0830362728623577,-1.3640558765781092,0.6695669304242179,-0.7917332091991889,0.9611564033860209,-0.6748198117284865,-0.4294317859327062,-0.44003438666389727,-0.7834587412866575,-0.6052898884146282,-0.5273756713097408,0.036473522701766556,-1.0318261997633305,0.4874952484513759,0.2303280257982348,-1.4352230408514677,0.8365986862717942],\"type\":\"scatter\"}],                        {\"legend\":{\"bgcolor\":\"#F5F6F9\",\"font\":{\"color\":\"#4D5663\"}},\"paper_bgcolor\":\"#F5F6F9\",\"plot_bgcolor\":\"#F5F6F9\",\"template\":{\"data\":{\"barpolar\":[{\"marker\":{\"line\":{\"color\":\"#E5ECF6\",\"width\":0.5},\"pattern\":{\"fillmode\":\"overlay\",\"size\":10,\"solidity\":0.2}},\"type\":\"barpolar\"}],\"bar\":[{\"error_x\":{\"color\":\"#2a3f5f\"},\"error_y\":{\"color\":\"#2a3f5f\"},\"marker\":{\"line\":{\"color\":\"#E5ECF6\",\"width\":0.5},\"pattern\":{\"fillmode\":\"overlay\",\"size\":10,\"solidity\":0.2}},\"type\":\"bar\"}],\"carpet\":[{\"aaxis\":{\"endlinecolor\":\"#2a3f5f\",\"gridcolor\":\"white\",\"linecolor\":\"white\",\"minorgridcolor\":\"white\",\"startlinecolor\":\"#2a3f5f\"},\"baxis\":{\"endlinecolor\":\"#2a3f5f\",\"gridcolor\":\"white\",\"linecolor\":\"white\",\"minorgridcolor\":\"white\",\"startlinecolor\":\"#2a3f5f\"},\"type\":\"carpet\"}],\"choropleth\":[{\"colorbar\":{\"outlinewidth\":0,\"ticks\":\"\"},\"type\":\"choropleth\"}],\"contourcarpet\":[{\"colorbar\":{\"outlinewidth\":0,\"ticks\":\"\"},\"type\":\"contourcarpet\"}],\"contour\":[{\"colorbar\":{\"outlinewidth\":0,\"ticks\":\"\"},\"colorscale\":[[0.0,\"#0d0887\"],[0.1111111111111111,\"#46039f\"],[0.2222222222222222,\"#7201a8\"],[0.3333333333333333,\"#9c179e\"],[0.4444444444444444,\"#bd3786\"],[0.5555555555555556,\"#d8576b\"],[0.6666666666666666,\"#ed7953\"],[0.7777777777777778,\"#fb9f3a\"],[0.8888888888888888,\"#fdca26\"],[1.0,\"#f0f921\"]],\"type\":\"contour\"}],\"heatmapgl\":[{\"colorbar\":{\"outlinewidth\":0,\"ticks\":\"\"},\"colorscale\":[[0.0,\"#0d0887\"],[0.1111111111111111,\"#46039f\"],[0.2222222222222222,\"#7201a8\"],[0.3333333333333333,\"#9c179e\"],[0.4444444444444444,\"#bd3786\"],[0.5555555555555556,\"#d8576b\"],[0.6666666666666666,\"#ed7953\"],[0.7777777777777778,\"#fb9f3a\"],[0.8888888888888888,\"#fdca26\"],[1.0,\"#f0f921\"]],\"type\":\"heatmapgl\"}],\"heatmap\":[{\"colorbar\":{\"outlinewidth\":0,\"ticks\":\"\"},\"colorscale\":[[0.0,\"#0d0887\"],[0.1111111111111111,\"#46039f\"],[0.2222222222222222,\"#7201a8\"],[0.3333333333333333,\"#9c179e\"],[0.4444444444444444,\"#bd3786\"],[0.5555555555555556,\"#d8576b\"],[0.6666666666666666,\"#ed7953\"],[0.7777777777777778,\"#fb9f3a\"],[0.8888888888888888,\"#fdca26\"],[1.0,\"#f0f921\"]],\"type\":\"heatmap\"}],\"histogram2dcontour\":[{\"colorbar\":{\"outlinewidth\":0,\"ticks\":\"\"},\"colorscale\":[[0.0,\"#0d0887\"],[0.1111111111111111,\"#46039f\"],[0.2222222222222222,\"#7201a8\"],[0.3333333333333333,\"#9c179e\"],[0.4444444444444444,\"#bd3786\"],[0.5555555555555556,\"#d8576b\"],[0.6666666666666666,\"#ed7953\"],[0.7777777777777778,\"#fb9f3a\"],[0.8888888888888888,\"#fdca26\"],[1.0,\"#f0f921\"]],\"type\":\"histogram2dcontour\"}],\"histogram2d\":[{\"colorbar\":{\"outlinewidth\":0,\"ticks\":\"\"},\"colorscale\":[[0.0,\"#0d0887\"],[0.1111111111111111,\"#46039f\"],[0.2222222222222222,\"#7201a8\"],[0.3333333333333333,\"#9c179e\"],[0.4444444444444444,\"#bd3786\"],[0.5555555555555556,\"#d8576b\"],[0.6666666666666666,\"#ed7953\"],[0.7777777777777778,\"#fb9f3a\"],[0.8888888888888888,\"#fdca26\"],[1.0,\"#f0f921\"]],\"type\":\"histogram2d\"}],\"histogram\":[{\"marker\":{\"pattern\":{\"fillmode\":\"overlay\",\"size\":10,\"solidity\":0.2}},\"type\":\"histogram\"}],\"mesh3d\":[{\"colorbar\":{\"outlinewidth\":0,\"ticks\":\"\"},\"type\":\"mesh3d\"}],\"parcoords\":[{\"line\":{\"colorbar\":{\"outlinewidth\":0,\"ticks\":\"\"}},\"type\":\"parcoords\"}],\"pie\":[{\"automargin\":true,\"type\":\"pie\"}],\"scatter3d\":[{\"line\":{\"colorbar\":{\"outlinewidth\":0,\"ticks\":\"\"}},\"marker\":{\"colorbar\":{\"outlinewidth\":0,\"ticks\":\"\"}},\"type\":\"scatter3d\"}],\"scattercarpet\":[{\"marker\":{\"colorbar\":{\"outlinewidth\":0,\"ticks\":\"\"}},\"type\":\"scattercarpet\"}],\"scattergeo\":[{\"marker\":{\"colorbar\":{\"outlinewidth\":0,\"ticks\":\"\"}},\"type\":\"scattergeo\"}],\"scattergl\":[{\"marker\":{\"colorbar\":{\"outlinewidth\":0,\"ticks\":\"\"}},\"type\":\"scattergl\"}],\"scattermapbox\":[{\"marker\":{\"colorbar\":{\"outlinewidth\":0,\"ticks\":\"\"}},\"type\":\"scattermapbox\"}],\"scatterpolargl\":[{\"marker\":{\"colorbar\":{\"outlinewidth\":0,\"ticks\":\"\"}},\"type\":\"scatterpolargl\"}],\"scatterpolar\":[{\"marker\":{\"colorbar\":{\"outlinewidth\":0,\"ticks\":\"\"}},\"type\":\"scatterpolar\"}],\"scatter\":[{\"fillpattern\":{\"fillmode\":\"overlay\",\"size\":10,\"solidity\":0.2},\"type\":\"scatter\"}],\"scatterternary\":[{\"marker\":{\"colorbar\":{\"outlinewidth\":0,\"ticks\":\"\"}},\"type\":\"scatterternary\"}],\"surface\":[{\"colorbar\":{\"outlinewidth\":0,\"ticks\":\"\"},\"colorscale\":[[0.0,\"#0d0887\"],[0.1111111111111111,\"#46039f\"],[0.2222222222222222,\"#7201a8\"],[0.3333333333333333,\"#9c179e\"],[0.4444444444444444,\"#bd3786\"],[0.5555555555555556,\"#d8576b\"],[0.6666666666666666,\"#ed7953\"],[0.7777777777777778,\"#fb9f3a\"],[0.8888888888888888,\"#fdca26\"],[1.0,\"#f0f921\"]],\"type\":\"surface\"}],\"table\":[{\"cells\":{\"fill\":{\"color\":\"#EBF0F8\"},\"line\":{\"color\":\"white\"}},\"header\":{\"fill\":{\"color\":\"#C8D4E3\"},\"line\":{\"color\":\"white\"}},\"type\":\"table\"}]},\"layout\":{\"annotationdefaults\":{\"arrowcolor\":\"#2a3f5f\",\"arrowhead\":0,\"arrowwidth\":1},\"autotypenumbers\":\"strict\",\"coloraxis\":{\"colorbar\":{\"outlinewidth\":0,\"ticks\":\"\"}},\"colorscale\":{\"diverging\":[[0,\"#8e0152\"],[0.1,\"#c51b7d\"],[0.2,\"#de77ae\"],[0.3,\"#f1b6da\"],[0.4,\"#fde0ef\"],[0.5,\"#f7f7f7\"],[0.6,\"#e6f5d0\"],[0.7,\"#b8e186\"],[0.8,\"#7fbc41\"],[0.9,\"#4d9221\"],[1,\"#276419\"]],\"sequential\":[[0.0,\"#0d0887\"],[0.1111111111111111,\"#46039f\"],[0.2222222222222222,\"#7201a8\"],[0.3333333333333333,\"#9c179e\"],[0.4444444444444444,\"#bd3786\"],[0.5555555555555556,\"#d8576b\"],[0.6666666666666666,\"#ed7953\"],[0.7777777777777778,\"#fb9f3a\"],[0.8888888888888888,\"#fdca26\"],[1.0,\"#f0f921\"]],\"sequentialminus\":[[0.0,\"#0d0887\"],[0.1111111111111111,\"#46039f\"],[0.2222222222222222,\"#7201a8\"],[0.3333333333333333,\"#9c179e\"],[0.4444444444444444,\"#bd3786\"],[0.5555555555555556,\"#d8576b\"],[0.6666666666666666,\"#ed7953\"],[0.7777777777777778,\"#fb9f3a\"],[0.8888888888888888,\"#fdca26\"],[1.0,\"#f0f921\"]]},\"colorway\":[\"#636efa\",\"#EF553B\",\"#00cc96\",\"#ab63fa\",\"#FFA15A\",\"#19d3f3\",\"#FF6692\",\"#B6E880\",\"#FF97FF\",\"#FECB52\"],\"font\":{\"color\":\"#2a3f5f\"},\"geo\":{\"bgcolor\":\"white\",\"lakecolor\":\"white\",\"landcolor\":\"#E5ECF6\",\"showlakes\":true,\"showland\":true,\"subunitcolor\":\"white\"},\"hoverlabel\":{\"align\":\"left\"},\"hovermode\":\"closest\",\"mapbox\":{\"style\":\"light\"},\"paper_bgcolor\":\"white\",\"plot_bgcolor\":\"#E5ECF6\",\"polar\":{\"angularaxis\":{\"gridcolor\":\"white\",\"linecolor\":\"white\",\"ticks\":\"\"},\"bgcolor\":\"#E5ECF6\",\"radialaxis\":{\"gridcolor\":\"white\",\"linecolor\":\"white\",\"ticks\":\"\"}},\"scene\":{\"xaxis\":{\"backgroundcolor\":\"#E5ECF6\",\"gridcolor\":\"white\",\"gridwidth\":2,\"linecolor\":\"white\",\"showbackground\":true,\"ticks\":\"\",\"zerolinecolor\":\"white\"},\"yaxis\":{\"backgroundcolor\":\"#E5ECF6\",\"gridcolor\":\"white\",\"gridwidth\":2,\"linecolor\":\"white\",\"showbackground\":true,\"ticks\":\"\",\"zerolinecolor\":\"white\"},\"zaxis\":{\"backgroundcolor\":\"#E5ECF6\",\"gridcolor\":\"white\",\"gridwidth\":2,\"linecolor\":\"white\",\"showbackground\":true,\"ticks\":\"\",\"zerolinecolor\":\"white\"}},\"shapedefaults\":{\"line\":{\"color\":\"#2a3f5f\"}},\"ternary\":{\"aaxis\":{\"gridcolor\":\"white\",\"linecolor\":\"white\",\"ticks\":\"\"},\"baxis\":{\"gridcolor\":\"white\",\"linecolor\":\"white\",\"ticks\":\"\"},\"bgcolor\":\"#E5ECF6\",\"caxis\":{\"gridcolor\":\"white\",\"linecolor\":\"white\",\"ticks\":\"\"}},\"title\":{\"x\":0.05},\"xaxis\":{\"automargin\":true,\"gridcolor\":\"white\",\"linecolor\":\"white\",\"ticks\":\"\",\"title\":{\"standoff\":15},\"zerolinecolor\":\"white\",\"zerolinewidth\":2},\"yaxis\":{\"automargin\":true,\"gridcolor\":\"white\",\"linecolor\":\"white\",\"ticks\":\"\",\"title\":{\"standoff\":15},\"zerolinecolor\":\"white\",\"zerolinewidth\":2}}},\"title\":{\"font\":{\"color\":\"#4D5663\"}},\"xaxis\":{\"gridcolor\":\"#E1E5ED\",\"showgrid\":true,\"tickfont\":{\"color\":\"#4D5663\"},\"title\":{\"font\":{\"color\":\"#4D5663\"},\"text\":\"\"},\"zerolinecolor\":\"#E1E5ED\"},\"yaxis\":{\"gridcolor\":\"#E1E5ED\",\"showgrid\":true,\"tickfont\":{\"color\":\"#4D5663\"},\"title\":{\"font\":{\"color\":\"#4D5663\"},\"text\":\"\"},\"zerolinecolor\":\"#E1E5ED\"}},                        {\"showLink\": true, \"linkText\": \"Export to plot.ly\", \"plotlyServerURL\": \"https://plot.ly\", \"responsive\": true}                    ).then(function(){\n",
       "                            \n",
       "var gd = document.getElementById('f31eac21-1300-4d72-bd0b-472c62cf3979');\n",
       "var x = new MutationObserver(function (mutations, observer) {{\n",
       "        var display = window.getComputedStyle(gd).display;\n",
       "        if (!display || display === 'none') {{\n",
       "            console.log([gd, 'removed!']);\n",
       "            Plotly.purge(gd);\n",
       "            observer.disconnect();\n",
       "        }}\n",
       "}});\n",
       "\n",
       "// Listen for the removal of the full notebook cells\n",
       "var notebookContainer = gd.closest('#notebook-container');\n",
       "if (notebookContainer) {{\n",
       "    x.observe(notebookContainer, {childList: true});\n",
       "}}\n",
       "\n",
       "// Listen for the clearing of the current output cell\n",
       "var outputEl = gd.closest('.output');\n",
       "if (outputEl) {{\n",
       "    x.observe(outputEl, {childList: true});\n",
       "}}\n",
       "\n",
       "                        })                };                });            </script>        </div>"
      ]
     },
     "metadata": {},
     "output_type": "display_data"
    }
   ],
   "source": [
    "df.iplot(kind='bubble',x='A',y='B',size='C')"
   ]
  },
  {
   "cell_type": "markdown",
   "metadata": {},
   "source": [
    "## scatter_matrix()\n",
    "\n",
    "Similar to sns.pairplot()"
   ]
  },
  {
   "cell_type": "code",
   "execution_count": 18,
   "metadata": {
    "collapsed": false
   },
   "outputs": [
    {
     "data": {
      "application/vnd.plotly.v1+json": {
       "config": {
        "linkText": "Export to plot.ly",
        "plotlyServerURL": "https://plot.ly",
        "showLink": true
       },
       "data": [
        {
         "histfunc": "count",
         "histnorm": "",
         "marker": {
          "color": "rgba(255, 153, 51, 1.0)",
          "line": {
           "color": "#4D5663",
           "width": 1.3
          }
         },
         "name": "A",
         "nbinsx": 10,
         "opacity": 0.8,
         "orientation": "v",
         "type": "histogram",
         "x": [
          0.9114742326787507,
          0.7578989467691609,
          -0.9874361968395297,
          0.22016382884816021,
          0.6077927569514273,
          0.7778834736810324,
          2.1131546813030457,
          -2.4490055660620578,
          -1.264753726599821,
          -1.113114717122689,
          0.7074598991253688,
          0.3011365498644992,
          1.3797717647512153,
          1.5678709953685082,
          -0.03622282412839025,
          1.2667918863642251,
          0.8749252774931616,
          -2.197805732647536,
          -1.0240395875458463,
          -2.142707972857464,
          -0.0736101364574777,
          -1.259255676470749,
          1.6015375948381252,
          1.112229978501615,
          -1.5622053971911025,
          1.8572790226404727,
          -0.4209177347085691,
          -0.912160726081105,
          -0.3037386021712285,
          0.8579623354976309,
          0.3565208302820152,
          0.6841429396840425,
          -0.7523937277325553,
          1.375620044215106,
          -1.2948947618372475,
          0.7226409299521954,
          -1.1545687528768627,
          0.4176384992573318,
          -0.0059278543542167945,
          -0.22869332071406231,
          -1.6746987522308645,
          0.9663733925438459,
          1.0763862190031617,
          -1.225551651184113,
          -0.7535643384107886,
          0.8096955120069954,
          -0.8670064279036938,
          -0.9680677241848497,
          1.1292477205253124,
          0.46947556948741576,
          -0.09447969379657634,
          0.5565096888594847,
          1.8403079260220252,
          0.3376051227254956,
          -0.9379486899192527,
          0.46813068099759814,
          0.09257732214048982,
          -1.6309760263885982,
          -0.11937821507956069,
          0.8475001411207256,
          -0.7150944067883627,
          1.1448948639850358,
          -1.0744821048971902,
          0.3924196833219243,
          0.9272154179010863,
          0.5026276413448757,
          0.8212503499671454,
          -0.8233919536733769,
          -0.2502667292808195,
          0.7236673354783757,
          0.18632609274324735,
          -1.9348967416153815,
          -0.3771390803791452,
          -0.9591907442850565,
          0.8657796666189373,
          0.28402206877817504,
          -0.23103203676238043,
          -1.6954591216753985,
          0.948904930684949,
          1.3203011128906776,
          1.3454169153034552,
          -0.2450999941893388,
          1.4276505694773265,
          0.9916419977998683,
          -0.46044944463704407,
          0.44416392997387194,
          0.24525133842413147,
          -0.09927401569069812,
          1.9148941613315424,
          0.8864805636561247,
          0.46370607184899737,
          -2.224352308256751,
          -1.0654022942267856,
          -0.2607577292767755,
          1.2242612562912998,
          -0.30021774043427785,
          -0.021938802648024933,
          0.038053496199222846,
          -0.08528024315010026,
          -1.5801736763077543
         ],
         "xaxis": "x",
         "yaxis": "y"
        },
        {
         "line": {
          "color": "rgba(128, 128, 128, 1.0)",
          "dash": "solid",
          "shape": "linear",
          "width": 1.3
         },
         "marker": {
          "size": 2,
          "symbol": "circle"
         },
         "mode": "markers",
         "name": "A",
         "text": "",
         "type": "scatter",
         "x": [
          0.23541819233456246,
          0.5482224871344553,
          -0.6762289676794175,
          -0.29753389009341696,
          -1.6537645838455806,
          0.8304428942574472,
          -0.4408669209013495,
          -0.27435782294007777,
          -2.173375085890643,
          0.20695320388106786,
          -1.0993754893406398,
          -1.2579231680566736,
          -1.4442829489057019,
          0.11632297708104956,
          0.6225013721856922,
          0.4944394057517207,
          -0.549574433268328,
          -1.2070224915495484,
          1.1077365446492404,
          0.3767494463443737,
          -0.048808423374183826,
          0.00400584390178196,
          0.7597092760009614,
          -0.34791100636292516,
          0.23580016658069564,
          -1.050013416154085,
          0.39421190996753597,
          0.035283337196053005,
          0.494369633848719,
          -1.4410894003445818,
          -0.34759793246896226,
          0.31297072926656766,
          0.883043623213389,
          -1.309452016254821,
          -0.494268560748715,
          1.051270007897888,
          -0.9400845241081949,
          1.0062190989079038,
          -0.2299281540729599,
          1.1205820384556222,
          0.3401911629876612,
          0.37978093151711045,
          -1.612791942328893,
          1.099243459502892,
          -1.8305676394507513,
          0.3570138753485757,
          0.31951510178702425,
          0.25094716578977916,
          1.228620982901242,
          -0.6601164535624199,
          0.12442024935454234,
          -0.7786844570120308,
          -0.7945273805880833,
          -1.5218876699649064,
          -0.9973007205172868,
          0.942982191799194,
          -0.5481870611417685,
          -1.711267025816037,
          0.6863576806719326,
          -0.2728391456421554,
          -0.6960216221354287,
          1.083291241894601,
          -0.23410333746971343,
          0.14876058960735514,
          -0.9504526268294847,
          -1.2684548505074855,
          -0.970167356029588,
          0.16555895612980628,
          0.7982318400260477,
          0.3502567389757603,
          0.5106487860872726,
          1.7167365629146856,
          -0.17515656694386475,
          0.2510405169637239,
          1.067048180128776,
          0.08249294970519207,
          1.8817184628314625,
          -0.2925444339019961,
          0.4982443469520614,
          0.7579274298666225,
          0.4513504840483056,
          0.18293533511137006,
          0.2074313555949219,
          1.0830362728623577,
          -1.3640558765781092,
          0.6695669304242179,
          -0.7917332091991889,
          0.9611564033860209,
          -0.6748198117284865,
          -0.4294317859327062,
          -0.44003438666389727,
          -0.7834587412866575,
          -0.6052898884146282,
          -0.5273756713097408,
          0.036473522701766556,
          -1.0318261997633305,
          0.4874952484513759,
          0.2303280257982348,
          -1.4352230408514677,
          0.8365986862717942
         ],
         "xaxis": "x2",
         "y": [
          0.9114742326787507,
          0.7578989467691609,
          -0.9874361968395297,
          0.22016382884816021,
          0.6077927569514273,
          0.7778834736810324,
          2.1131546813030457,
          -2.4490055660620578,
          -1.264753726599821,
          -1.113114717122689,
          0.7074598991253688,
          0.3011365498644992,
          1.3797717647512153,
          1.5678709953685082,
          -0.03622282412839025,
          1.2667918863642251,
          0.8749252774931616,
          -2.197805732647536,
          -1.0240395875458463,
          -2.142707972857464,
          -0.0736101364574777,
          -1.259255676470749,
          1.6015375948381252,
          1.112229978501615,
          -1.5622053971911025,
          1.8572790226404727,
          -0.4209177347085691,
          -0.912160726081105,
          -0.3037386021712285,
          0.8579623354976309,
          0.3565208302820152,
          0.6841429396840425,
          -0.7523937277325553,
          1.375620044215106,
          -1.2948947618372475,
          0.7226409299521954,
          -1.1545687528768627,
          0.4176384992573318,
          -0.0059278543542167945,
          -0.22869332071406231,
          -1.6746987522308645,
          0.9663733925438459,
          1.0763862190031617,
          -1.225551651184113,
          -0.7535643384107886,
          0.8096955120069954,
          -0.8670064279036938,
          -0.9680677241848497,
          1.1292477205253124,
          0.46947556948741576,
          -0.09447969379657634,
          0.5565096888594847,
          1.8403079260220252,
          0.3376051227254956,
          -0.9379486899192527,
          0.46813068099759814,
          0.09257732214048982,
          -1.6309760263885982,
          -0.11937821507956069,
          0.8475001411207256,
          -0.7150944067883627,
          1.1448948639850358,
          -1.0744821048971902,
          0.3924196833219243,
          0.9272154179010863,
          0.5026276413448757,
          0.8212503499671454,
          -0.8233919536733769,
          -0.2502667292808195,
          0.7236673354783757,
          0.18632609274324735,
          -1.9348967416153815,
          -0.3771390803791452,
          -0.9591907442850565,
          0.8657796666189373,
          0.28402206877817504,
          -0.23103203676238043,
          -1.6954591216753985,
          0.948904930684949,
          1.3203011128906776,
          1.3454169153034552,
          -0.2450999941893388,
          1.4276505694773265,
          0.9916419977998683,
          -0.46044944463704407,
          0.44416392997387194,
          0.24525133842413147,
          -0.09927401569069812,
          1.9148941613315424,
          0.8864805636561247,
          0.46370607184899737,
          -2.224352308256751,
          -1.0654022942267856,
          -0.2607577292767755,
          1.2242612562912998,
          -0.30021774043427785,
          -0.021938802648024933,
          0.038053496199222846,
          -0.08528024315010026,
          -1.5801736763077543
         ],
         "yaxis": "y2"
        },
        {
         "line": {
          "color": "rgba(128, 128, 128, 1.0)",
          "dash": "solid",
          "shape": "linear",
          "width": 1.3
         },
         "marker": {
          "size": 2,
          "symbol": "circle"
         },
         "mode": "markers",
         "name": "A",
         "text": "",
         "type": "scatter",
         "x": [
          0.33159382889093897,
          1.447809361647789,
          -3.057898021481233,
          1.0721535539537346,
          0.044687667947729375,
          0.872972883800426,
          -0.28506900464728674,
          -1.5575867934574539,
          -0.69560542074055,
          -0.6464136285248375,
          0.09906795842602548,
          -0.4246994047366325,
          0.5118438087752405,
          -0.057517181648641814,
          -0.3377287526595544,
          0.2083218886629037,
          -0.6255277778326924,
          0.18270356033481291,
          0.7991523515569429,
          -0.22647420888358555,
          1.8049577991080799,
          -1.6788760976975368,
          -0.06424651071240646,
          -0.09103778121669379,
          1.3536598066408292,
          -0.6809437310425657,
          -0.11440252930192768,
          -0.8638653534763195,
          -0.766833989069785,
          -0.06065156140434344,
          -0.008689816537314935,
          0.46563925822759356,
          0.6311286876651727,
          0.18719082476252455,
          0.12524589874444228,
          -0.0020753413838818704,
          0.4824630932676719,
          -0.16204935490952657,
          1.7484565548649158,
          -2.0333777805855067,
          1.1442666922277265,
          -0.583660765983921,
          0.40006385089083524,
          0.2554936902204025,
          1.7632240516919286,
          -2.1105043746106364,
          -0.05472540842398133,
          -0.25654169455846243,
          1.2906969126041137,
          -1.1727916447892612,
          0.37511910233539225,
          -1.4765301904352583,
          1.3266600403869049,
          1.3091281328318431,
          0.5770517273263297,
          1.0102152886048745,
          0.9271616463077071,
          -1.3121053160858236,
          0.15430064383878492,
          0.4343646787486703,
          0.7648295337520874,
          0.0010279979113985804,
          2.0122074908525374,
          0.7371601726429114,
          -1.0982660302641305,
          1.1060467225218433,
          -0.8123496961323617,
          -0.3020873044531328,
          -0.4822687382358651,
          0.19834620731840744,
          -0.5051779206498165,
          2.3267912224123037,
          -0.3837545472329332,
          2.00039780076727,
          -0.21015476119341628,
          1.3695563344236863,
          -0.18356274447819448,
          -0.9869414037115862,
          1.2573939484840138,
          -0.9974680767904183,
          -0.03016531623685427,
          -0.37227167499205605,
          -0.9834660095241162,
          1.0463771501486643,
          -1.3886348130374762,
          -0.2840452775493542,
          1.684020079045663,
          2.431507322750734,
          -0.29468379557602725,
          -1.1828305148219531,
          -1.3406672432698592,
          -0.24842197641566804,
          -0.28615636704573805,
          0.2881254044242977,
          -1.4138058212029754,
          0.13279188123861654,
          0.2839494887397639,
          -0.15060777856568913,
          -0.07227228266801128,
          -0.32000990600863505
         ],
         "xaxis": "x3",
         "y": [
          0.9114742326787507,
          0.7578989467691609,
          -0.9874361968395297,
          0.22016382884816021,
          0.6077927569514273,
          0.7778834736810324,
          2.1131546813030457,
          -2.4490055660620578,
          -1.264753726599821,
          -1.113114717122689,
          0.7074598991253688,
          0.3011365498644992,
          1.3797717647512153,
          1.5678709953685082,
          -0.03622282412839025,
          1.2667918863642251,
          0.8749252774931616,
          -2.197805732647536,
          -1.0240395875458463,
          -2.142707972857464,
          -0.0736101364574777,
          -1.259255676470749,
          1.6015375948381252,
          1.112229978501615,
          -1.5622053971911025,
          1.8572790226404727,
          -0.4209177347085691,
          -0.912160726081105,
          -0.3037386021712285,
          0.8579623354976309,
          0.3565208302820152,
          0.6841429396840425,
          -0.7523937277325553,
          1.375620044215106,
          -1.2948947618372475,
          0.7226409299521954,
          -1.1545687528768627,
          0.4176384992573318,
          -0.0059278543542167945,
          -0.22869332071406231,
          -1.6746987522308645,
          0.9663733925438459,
          1.0763862190031617,
          -1.225551651184113,
          -0.7535643384107886,
          0.8096955120069954,
          -0.8670064279036938,
          -0.9680677241848497,
          1.1292477205253124,
          0.46947556948741576,
          -0.09447969379657634,
          0.5565096888594847,
          1.8403079260220252,
          0.3376051227254956,
          -0.9379486899192527,
          0.46813068099759814,
          0.09257732214048982,
          -1.6309760263885982,
          -0.11937821507956069,
          0.8475001411207256,
          -0.7150944067883627,
          1.1448948639850358,
          -1.0744821048971902,
          0.3924196833219243,
          0.9272154179010863,
          0.5026276413448757,
          0.8212503499671454,
          -0.8233919536733769,
          -0.2502667292808195,
          0.7236673354783757,
          0.18632609274324735,
          -1.9348967416153815,
          -0.3771390803791452,
          -0.9591907442850565,
          0.8657796666189373,
          0.28402206877817504,
          -0.23103203676238043,
          -1.6954591216753985,
          0.948904930684949,
          1.3203011128906776,
          1.3454169153034552,
          -0.2450999941893388,
          1.4276505694773265,
          0.9916419977998683,
          -0.46044944463704407,
          0.44416392997387194,
          0.24525133842413147,
          -0.09927401569069812,
          1.9148941613315424,
          0.8864805636561247,
          0.46370607184899737,
          -2.224352308256751,
          -1.0654022942267856,
          -0.2607577292767755,
          1.2242612562912998,
          -0.30021774043427785,
          -0.021938802648024933,
          0.038053496199222846,
          -0.08528024315010026,
          -1.5801736763077543
         ],
         "yaxis": "y3"
        },
        {
         "line": {
          "color": "rgba(128, 128, 128, 1.0)",
          "dash": "solid",
          "shape": "linear",
          "width": 1.3
         },
         "marker": {
          "size": 2,
          "symbol": "circle"
         },
         "mode": "markers",
         "name": "A",
         "text": "",
         "type": "scatter",
         "x": [
          0.3953236963605586,
          0.26555633432236486,
          0.2097775525625949,
          1.4690921462695166,
          -0.14708148336191335,
          -0.7155676639501172,
          0.8627275028784384,
          0.23435207686359824,
          0.10614701099097222,
          -0.6852101996613775,
          0.8932174271594331,
          -1.3654914333716544,
          -0.8223678964925764,
          1.8178755957856105,
          -1.0342982291053993,
          -1.5335500335630794,
          -0.43170413919432066,
          0.14846561179549114,
          -0.5821020801096143,
          0.5817186033403611,
          -1.4521574415585974,
          0.6086652957710648,
          0.7234440621490581,
          0.5088865641055051,
          0.5254611488546999,
          0.3863312377462917,
          0.9879135131200036,
          -0.07995439149274455,
          1.277288697916219,
          1.1568760932951998,
          1.3193530229625707,
          0.0011542210109643466,
          -0.9500364323321739,
          0.046677435612805816,
          0.36869335442624446,
          -1.588544987820071,
          -0.009253870486863321,
          0.1991922944543913,
          0.7549806144934953,
          1.272570401466503,
          0.7722948928218335,
          0.1411436899941937,
          -1.0899345184067535,
          -1.4179000416771987,
          -0.7076439536593965,
          0.4855721524751803,
          0.7127007529470571,
          1.1287392986360651,
          -0.3355870543232249,
          -0.315997322540617,
          -0.9408806721014545,
          0.1044642196318428,
          -1.332296238309656,
          0.8015132405924561,
          -0.2247122221073949,
          -1.1860301507973456,
          -1.2745945875111375,
          0.7899177033411156,
          -0.14858819487646693,
          0.24797528446350714,
          -0.1222456635245913,
          -0.2673001561129547,
          1.0653755229872934,
          -0.7679546514699183,
          0.6293299104429344,
          0.5133379367005246,
          0.7057705294592451,
          -0.7229258052960552,
          -0.09723657198252915,
          0.45606463801579067,
          -1.475479511073014,
          -1.3189562289885057,
          -0.26660994520495584,
          -0.7976024307340472,
          1.4797448361865924,
          -1.2442847418516547,
          -1.4042107615711705,
          -0.6655216766310934,
          -0.5546622354439035,
          0.5775549793924971,
          -0.5107150567854909,
          0.9387535700602244,
          -0.5807507557800171,
          1.4484253006029395,
          -0.9876021102336194,
          2.636248017311349,
          1.8405929907881782,
          3.466446551789191,
          1.3037005259908636,
          0.15165060142879644,
          0.6250704202789166,
          -0.24722003521289038,
          0.4444529300966973,
          -1.0778833446048044,
          -0.6529347672061518,
          -0.47810765804077615,
          -0.0578030958212901,
          0.6938324757859928,
          1.2439769121817552,
          -0.117912855409765
         ],
         "xaxis": "x4",
         "y": [
          0.9114742326787507,
          0.7578989467691609,
          -0.9874361968395297,
          0.22016382884816021,
          0.6077927569514273,
          0.7778834736810324,
          2.1131546813030457,
          -2.4490055660620578,
          -1.264753726599821,
          -1.113114717122689,
          0.7074598991253688,
          0.3011365498644992,
          1.3797717647512153,
          1.5678709953685082,
          -0.03622282412839025,
          1.2667918863642251,
          0.8749252774931616,
          -2.197805732647536,
          -1.0240395875458463,
          -2.142707972857464,
          -0.0736101364574777,
          -1.259255676470749,
          1.6015375948381252,
          1.112229978501615,
          -1.5622053971911025,
          1.8572790226404727,
          -0.4209177347085691,
          -0.912160726081105,
          -0.3037386021712285,
          0.8579623354976309,
          0.3565208302820152,
          0.6841429396840425,
          -0.7523937277325553,
          1.375620044215106,
          -1.2948947618372475,
          0.7226409299521954,
          -1.1545687528768627,
          0.4176384992573318,
          -0.0059278543542167945,
          -0.22869332071406231,
          -1.6746987522308645,
          0.9663733925438459,
          1.0763862190031617,
          -1.225551651184113,
          -0.7535643384107886,
          0.8096955120069954,
          -0.8670064279036938,
          -0.9680677241848497,
          1.1292477205253124,
          0.46947556948741576,
          -0.09447969379657634,
          0.5565096888594847,
          1.8403079260220252,
          0.3376051227254956,
          -0.9379486899192527,
          0.46813068099759814,
          0.09257732214048982,
          -1.6309760263885982,
          -0.11937821507956069,
          0.8475001411207256,
          -0.7150944067883627,
          1.1448948639850358,
          -1.0744821048971902,
          0.3924196833219243,
          0.9272154179010863,
          0.5026276413448757,
          0.8212503499671454,
          -0.8233919536733769,
          -0.2502667292808195,
          0.7236673354783757,
          0.18632609274324735,
          -1.9348967416153815,
          -0.3771390803791452,
          -0.9591907442850565,
          0.8657796666189373,
          0.28402206877817504,
          -0.23103203676238043,
          -1.6954591216753985,
          0.948904930684949,
          1.3203011128906776,
          1.3454169153034552,
          -0.2450999941893388,
          1.4276505694773265,
          0.9916419977998683,
          -0.46044944463704407,
          0.44416392997387194,
          0.24525133842413147,
          -0.09927401569069812,
          1.9148941613315424,
          0.8864805636561247,
          0.46370607184899737,
          -2.224352308256751,
          -1.0654022942267856,
          -0.2607577292767755,
          1.2242612562912998,
          -0.30021774043427785,
          -0.021938802648024933,
          0.038053496199222846,
          -0.08528024315010026,
          -1.5801736763077543
         ],
         "yaxis": "y4"
        },
        {
         "line": {
          "color": "rgba(128, 128, 128, 1.0)",
          "dash": "solid",
          "shape": "linear",
          "width": 1.3
         },
         "marker": {
          "size": 2,
          "symbol": "circle"
         },
         "mode": "markers",
         "name": "B",
         "text": "",
         "type": "scatter",
         "x": [
          0.9114742326787507,
          0.7578989467691609,
          -0.9874361968395297,
          0.22016382884816021,
          0.6077927569514273,
          0.7778834736810324,
          2.1131546813030457,
          -2.4490055660620578,
          -1.264753726599821,
          -1.113114717122689,
          0.7074598991253688,
          0.3011365498644992,
          1.3797717647512153,
          1.5678709953685082,
          -0.03622282412839025,
          1.2667918863642251,
          0.8749252774931616,
          -2.197805732647536,
          -1.0240395875458463,
          -2.142707972857464,
          -0.0736101364574777,
          -1.259255676470749,
          1.6015375948381252,
          1.112229978501615,
          -1.5622053971911025,
          1.8572790226404727,
          -0.4209177347085691,
          -0.912160726081105,
          -0.3037386021712285,
          0.8579623354976309,
          0.3565208302820152,
          0.6841429396840425,
          -0.7523937277325553,
          1.375620044215106,
          -1.2948947618372475,
          0.7226409299521954,
          -1.1545687528768627,
          0.4176384992573318,
          -0.0059278543542167945,
          -0.22869332071406231,
          -1.6746987522308645,
          0.9663733925438459,
          1.0763862190031617,
          -1.225551651184113,
          -0.7535643384107886,
          0.8096955120069954,
          -0.8670064279036938,
          -0.9680677241848497,
          1.1292477205253124,
          0.46947556948741576,
          -0.09447969379657634,
          0.5565096888594847,
          1.8403079260220252,
          0.3376051227254956,
          -0.9379486899192527,
          0.46813068099759814,
          0.09257732214048982,
          -1.6309760263885982,
          -0.11937821507956069,
          0.8475001411207256,
          -0.7150944067883627,
          1.1448948639850358,
          -1.0744821048971902,
          0.3924196833219243,
          0.9272154179010863,
          0.5026276413448757,
          0.8212503499671454,
          -0.8233919536733769,
          -0.2502667292808195,
          0.7236673354783757,
          0.18632609274324735,
          -1.9348967416153815,
          -0.3771390803791452,
          -0.9591907442850565,
          0.8657796666189373,
          0.28402206877817504,
          -0.23103203676238043,
          -1.6954591216753985,
          0.948904930684949,
          1.3203011128906776,
          1.3454169153034552,
          -0.2450999941893388,
          1.4276505694773265,
          0.9916419977998683,
          -0.46044944463704407,
          0.44416392997387194,
          0.24525133842413147,
          -0.09927401569069812,
          1.9148941613315424,
          0.8864805636561247,
          0.46370607184899737,
          -2.224352308256751,
          -1.0654022942267856,
          -0.2607577292767755,
          1.2242612562912998,
          -0.30021774043427785,
          -0.021938802648024933,
          0.038053496199222846,
          -0.08528024315010026,
          -1.5801736763077543
         ],
         "xaxis": "x5",
         "y": [
          0.23541819233456246,
          0.5482224871344553,
          -0.6762289676794175,
          -0.29753389009341696,
          -1.6537645838455806,
          0.8304428942574472,
          -0.4408669209013495,
          -0.27435782294007777,
          -2.173375085890643,
          0.20695320388106786,
          -1.0993754893406398,
          -1.2579231680566736,
          -1.4442829489057019,
          0.11632297708104956,
          0.6225013721856922,
          0.4944394057517207,
          -0.549574433268328,
          -1.2070224915495484,
          1.1077365446492404,
          0.3767494463443737,
          -0.048808423374183826,
          0.00400584390178196,
          0.7597092760009614,
          -0.34791100636292516,
          0.23580016658069564,
          -1.050013416154085,
          0.39421190996753597,
          0.035283337196053005,
          0.494369633848719,
          -1.4410894003445818,
          -0.34759793246896226,
          0.31297072926656766,
          0.883043623213389,
          -1.309452016254821,
          -0.494268560748715,
          1.051270007897888,
          -0.9400845241081949,
          1.0062190989079038,
          -0.2299281540729599,
          1.1205820384556222,
          0.3401911629876612,
          0.37978093151711045,
          -1.612791942328893,
          1.099243459502892,
          -1.8305676394507513,
          0.3570138753485757,
          0.31951510178702425,
          0.25094716578977916,
          1.228620982901242,
          -0.6601164535624199,
          0.12442024935454234,
          -0.7786844570120308,
          -0.7945273805880833,
          -1.5218876699649064,
          -0.9973007205172868,
          0.942982191799194,
          -0.5481870611417685,
          -1.711267025816037,
          0.6863576806719326,
          -0.2728391456421554,
          -0.6960216221354287,
          1.083291241894601,
          -0.23410333746971343,
          0.14876058960735514,
          -0.9504526268294847,
          -1.2684548505074855,
          -0.970167356029588,
          0.16555895612980628,
          0.7982318400260477,
          0.3502567389757603,
          0.5106487860872726,
          1.7167365629146856,
          -0.17515656694386475,
          0.2510405169637239,
          1.067048180128776,
          0.08249294970519207,
          1.8817184628314625,
          -0.2925444339019961,
          0.4982443469520614,
          0.7579274298666225,
          0.4513504840483056,
          0.18293533511137006,
          0.2074313555949219,
          1.0830362728623577,
          -1.3640558765781092,
          0.6695669304242179,
          -0.7917332091991889,
          0.9611564033860209,
          -0.6748198117284865,
          -0.4294317859327062,
          -0.44003438666389727,
          -0.7834587412866575,
          -0.6052898884146282,
          -0.5273756713097408,
          0.036473522701766556,
          -1.0318261997633305,
          0.4874952484513759,
          0.2303280257982348,
          -1.4352230408514677,
          0.8365986862717942
         ],
         "yaxis": "y5"
        },
        {
         "histfunc": "count",
         "histnorm": "",
         "marker": {
          "color": "rgba(55, 128, 191, 1.0)",
          "line": {
           "color": "#4D5663",
           "width": 1.3
          }
         },
         "name": "B",
         "nbinsx": 10,
         "opacity": 0.8,
         "orientation": "v",
         "type": "histogram",
         "x": [
          0.23541819233456246,
          0.5482224871344553,
          -0.6762289676794175,
          -0.29753389009341696,
          -1.6537645838455806,
          0.8304428942574472,
          -0.4408669209013495,
          -0.27435782294007777,
          -2.173375085890643,
          0.20695320388106786,
          -1.0993754893406398,
          -1.2579231680566736,
          -1.4442829489057019,
          0.11632297708104956,
          0.6225013721856922,
          0.4944394057517207,
          -0.549574433268328,
          -1.2070224915495484,
          1.1077365446492404,
          0.3767494463443737,
          -0.048808423374183826,
          0.00400584390178196,
          0.7597092760009614,
          -0.34791100636292516,
          0.23580016658069564,
          -1.050013416154085,
          0.39421190996753597,
          0.035283337196053005,
          0.494369633848719,
          -1.4410894003445818,
          -0.34759793246896226,
          0.31297072926656766,
          0.883043623213389,
          -1.309452016254821,
          -0.494268560748715,
          1.051270007897888,
          -0.9400845241081949,
          1.0062190989079038,
          -0.2299281540729599,
          1.1205820384556222,
          0.3401911629876612,
          0.37978093151711045,
          -1.612791942328893,
          1.099243459502892,
          -1.8305676394507513,
          0.3570138753485757,
          0.31951510178702425,
          0.25094716578977916,
          1.228620982901242,
          -0.6601164535624199,
          0.12442024935454234,
          -0.7786844570120308,
          -0.7945273805880833,
          -1.5218876699649064,
          -0.9973007205172868,
          0.942982191799194,
          -0.5481870611417685,
          -1.711267025816037,
          0.6863576806719326,
          -0.2728391456421554,
          -0.6960216221354287,
          1.083291241894601,
          -0.23410333746971343,
          0.14876058960735514,
          -0.9504526268294847,
          -1.2684548505074855,
          -0.970167356029588,
          0.16555895612980628,
          0.7982318400260477,
          0.3502567389757603,
          0.5106487860872726,
          1.7167365629146856,
          -0.17515656694386475,
          0.2510405169637239,
          1.067048180128776,
          0.08249294970519207,
          1.8817184628314625,
          -0.2925444339019961,
          0.4982443469520614,
          0.7579274298666225,
          0.4513504840483056,
          0.18293533511137006,
          0.2074313555949219,
          1.0830362728623577,
          -1.3640558765781092,
          0.6695669304242179,
          -0.7917332091991889,
          0.9611564033860209,
          -0.6748198117284865,
          -0.4294317859327062,
          -0.44003438666389727,
          -0.7834587412866575,
          -0.6052898884146282,
          -0.5273756713097408,
          0.036473522701766556,
          -1.0318261997633305,
          0.4874952484513759,
          0.2303280257982348,
          -1.4352230408514677,
          0.8365986862717942
         ],
         "xaxis": "x6",
         "yaxis": "y6"
        },
        {
         "line": {
          "color": "rgba(128, 128, 128, 1.0)",
          "dash": "solid",
          "shape": "linear",
          "width": 1.3
         },
         "marker": {
          "size": 2,
          "symbol": "circle"
         },
         "mode": "markers",
         "name": "B",
         "text": "",
         "type": "scatter",
         "x": [
          0.33159382889093897,
          1.447809361647789,
          -3.057898021481233,
          1.0721535539537346,
          0.044687667947729375,
          0.872972883800426,
          -0.28506900464728674,
          -1.5575867934574539,
          -0.69560542074055,
          -0.6464136285248375,
          0.09906795842602548,
          -0.4246994047366325,
          0.5118438087752405,
          -0.057517181648641814,
          -0.3377287526595544,
          0.2083218886629037,
          -0.6255277778326924,
          0.18270356033481291,
          0.7991523515569429,
          -0.22647420888358555,
          1.8049577991080799,
          -1.6788760976975368,
          -0.06424651071240646,
          -0.09103778121669379,
          1.3536598066408292,
          -0.6809437310425657,
          -0.11440252930192768,
          -0.8638653534763195,
          -0.766833989069785,
          -0.06065156140434344,
          -0.008689816537314935,
          0.46563925822759356,
          0.6311286876651727,
          0.18719082476252455,
          0.12524589874444228,
          -0.0020753413838818704,
          0.4824630932676719,
          -0.16204935490952657,
          1.7484565548649158,
          -2.0333777805855067,
          1.1442666922277265,
          -0.583660765983921,
          0.40006385089083524,
          0.2554936902204025,
          1.7632240516919286,
          -2.1105043746106364,
          -0.05472540842398133,
          -0.25654169455846243,
          1.2906969126041137,
          -1.1727916447892612,
          0.37511910233539225,
          -1.4765301904352583,
          1.3266600403869049,
          1.3091281328318431,
          0.5770517273263297,
          1.0102152886048745,
          0.9271616463077071,
          -1.3121053160858236,
          0.15430064383878492,
          0.4343646787486703,
          0.7648295337520874,
          0.0010279979113985804,
          2.0122074908525374,
          0.7371601726429114,
          -1.0982660302641305,
          1.1060467225218433,
          -0.8123496961323617,
          -0.3020873044531328,
          -0.4822687382358651,
          0.19834620731840744,
          -0.5051779206498165,
          2.3267912224123037,
          -0.3837545472329332,
          2.00039780076727,
          -0.21015476119341628,
          1.3695563344236863,
          -0.18356274447819448,
          -0.9869414037115862,
          1.2573939484840138,
          -0.9974680767904183,
          -0.03016531623685427,
          -0.37227167499205605,
          -0.9834660095241162,
          1.0463771501486643,
          -1.3886348130374762,
          -0.2840452775493542,
          1.684020079045663,
          2.431507322750734,
          -0.29468379557602725,
          -1.1828305148219531,
          -1.3406672432698592,
          -0.24842197641566804,
          -0.28615636704573805,
          0.2881254044242977,
          -1.4138058212029754,
          0.13279188123861654,
          0.2839494887397639,
          -0.15060777856568913,
          -0.07227228266801128,
          -0.32000990600863505
         ],
         "xaxis": "x7",
         "y": [
          0.23541819233456246,
          0.5482224871344553,
          -0.6762289676794175,
          -0.29753389009341696,
          -1.6537645838455806,
          0.8304428942574472,
          -0.4408669209013495,
          -0.27435782294007777,
          -2.173375085890643,
          0.20695320388106786,
          -1.0993754893406398,
          -1.2579231680566736,
          -1.4442829489057019,
          0.11632297708104956,
          0.6225013721856922,
          0.4944394057517207,
          -0.549574433268328,
          -1.2070224915495484,
          1.1077365446492404,
          0.3767494463443737,
          -0.048808423374183826,
          0.00400584390178196,
          0.7597092760009614,
          -0.34791100636292516,
          0.23580016658069564,
          -1.050013416154085,
          0.39421190996753597,
          0.035283337196053005,
          0.494369633848719,
          -1.4410894003445818,
          -0.34759793246896226,
          0.31297072926656766,
          0.883043623213389,
          -1.309452016254821,
          -0.494268560748715,
          1.051270007897888,
          -0.9400845241081949,
          1.0062190989079038,
          -0.2299281540729599,
          1.1205820384556222,
          0.3401911629876612,
          0.37978093151711045,
          -1.612791942328893,
          1.099243459502892,
          -1.8305676394507513,
          0.3570138753485757,
          0.31951510178702425,
          0.25094716578977916,
          1.228620982901242,
          -0.6601164535624199,
          0.12442024935454234,
          -0.7786844570120308,
          -0.7945273805880833,
          -1.5218876699649064,
          -0.9973007205172868,
          0.942982191799194,
          -0.5481870611417685,
          -1.711267025816037,
          0.6863576806719326,
          -0.2728391456421554,
          -0.6960216221354287,
          1.083291241894601,
          -0.23410333746971343,
          0.14876058960735514,
          -0.9504526268294847,
          -1.2684548505074855,
          -0.970167356029588,
          0.16555895612980628,
          0.7982318400260477,
          0.3502567389757603,
          0.5106487860872726,
          1.7167365629146856,
          -0.17515656694386475,
          0.2510405169637239,
          1.067048180128776,
          0.08249294970519207,
          1.8817184628314625,
          -0.2925444339019961,
          0.4982443469520614,
          0.7579274298666225,
          0.4513504840483056,
          0.18293533511137006,
          0.2074313555949219,
          1.0830362728623577,
          -1.3640558765781092,
          0.6695669304242179,
          -0.7917332091991889,
          0.9611564033860209,
          -0.6748198117284865,
          -0.4294317859327062,
          -0.44003438666389727,
          -0.7834587412866575,
          -0.6052898884146282,
          -0.5273756713097408,
          0.036473522701766556,
          -1.0318261997633305,
          0.4874952484513759,
          0.2303280257982348,
          -1.4352230408514677,
          0.8365986862717942
         ],
         "yaxis": "y7"
        },
        {
         "line": {
          "color": "rgba(128, 128, 128, 1.0)",
          "dash": "solid",
          "shape": "linear",
          "width": 1.3
         },
         "marker": {
          "size": 2,
          "symbol": "circle"
         },
         "mode": "markers",
         "name": "B",
         "text": "",
         "type": "scatter",
         "x": [
          0.3953236963605586,
          0.26555633432236486,
          0.2097775525625949,
          1.4690921462695166,
          -0.14708148336191335,
          -0.7155676639501172,
          0.8627275028784384,
          0.23435207686359824,
          0.10614701099097222,
          -0.6852101996613775,
          0.8932174271594331,
          -1.3654914333716544,
          -0.8223678964925764,
          1.8178755957856105,
          -1.0342982291053993,
          -1.5335500335630794,
          -0.43170413919432066,
          0.14846561179549114,
          -0.5821020801096143,
          0.5817186033403611,
          -1.4521574415585974,
          0.6086652957710648,
          0.7234440621490581,
          0.5088865641055051,
          0.5254611488546999,
          0.3863312377462917,
          0.9879135131200036,
          -0.07995439149274455,
          1.277288697916219,
          1.1568760932951998,
          1.3193530229625707,
          0.0011542210109643466,
          -0.9500364323321739,
          0.046677435612805816,
          0.36869335442624446,
          -1.588544987820071,
          -0.009253870486863321,
          0.1991922944543913,
          0.7549806144934953,
          1.272570401466503,
          0.7722948928218335,
          0.1411436899941937,
          -1.0899345184067535,
          -1.4179000416771987,
          -0.7076439536593965,
          0.4855721524751803,
          0.7127007529470571,
          1.1287392986360651,
          -0.3355870543232249,
          -0.315997322540617,
          -0.9408806721014545,
          0.1044642196318428,
          -1.332296238309656,
          0.8015132405924561,
          -0.2247122221073949,
          -1.1860301507973456,
          -1.2745945875111375,
          0.7899177033411156,
          -0.14858819487646693,
          0.24797528446350714,
          -0.1222456635245913,
          -0.2673001561129547,
          1.0653755229872934,
          -0.7679546514699183,
          0.6293299104429344,
          0.5133379367005246,
          0.7057705294592451,
          -0.7229258052960552,
          -0.09723657198252915,
          0.45606463801579067,
          -1.475479511073014,
          -1.3189562289885057,
          -0.26660994520495584,
          -0.7976024307340472,
          1.4797448361865924,
          -1.2442847418516547,
          -1.4042107615711705,
          -0.6655216766310934,
          -0.5546622354439035,
          0.5775549793924971,
          -0.5107150567854909,
          0.9387535700602244,
          -0.5807507557800171,
          1.4484253006029395,
          -0.9876021102336194,
          2.636248017311349,
          1.8405929907881782,
          3.466446551789191,
          1.3037005259908636,
          0.15165060142879644,
          0.6250704202789166,
          -0.24722003521289038,
          0.4444529300966973,
          -1.0778833446048044,
          -0.6529347672061518,
          -0.47810765804077615,
          -0.0578030958212901,
          0.6938324757859928,
          1.2439769121817552,
          -0.117912855409765
         ],
         "xaxis": "x8",
         "y": [
          0.23541819233456246,
          0.5482224871344553,
          -0.6762289676794175,
          -0.29753389009341696,
          -1.6537645838455806,
          0.8304428942574472,
          -0.4408669209013495,
          -0.27435782294007777,
          -2.173375085890643,
          0.20695320388106786,
          -1.0993754893406398,
          -1.2579231680566736,
          -1.4442829489057019,
          0.11632297708104956,
          0.6225013721856922,
          0.4944394057517207,
          -0.549574433268328,
          -1.2070224915495484,
          1.1077365446492404,
          0.3767494463443737,
          -0.048808423374183826,
          0.00400584390178196,
          0.7597092760009614,
          -0.34791100636292516,
          0.23580016658069564,
          -1.050013416154085,
          0.39421190996753597,
          0.035283337196053005,
          0.494369633848719,
          -1.4410894003445818,
          -0.34759793246896226,
          0.31297072926656766,
          0.883043623213389,
          -1.309452016254821,
          -0.494268560748715,
          1.051270007897888,
          -0.9400845241081949,
          1.0062190989079038,
          -0.2299281540729599,
          1.1205820384556222,
          0.3401911629876612,
          0.37978093151711045,
          -1.612791942328893,
          1.099243459502892,
          -1.8305676394507513,
          0.3570138753485757,
          0.31951510178702425,
          0.25094716578977916,
          1.228620982901242,
          -0.6601164535624199,
          0.12442024935454234,
          -0.7786844570120308,
          -0.7945273805880833,
          -1.5218876699649064,
          -0.9973007205172868,
          0.942982191799194,
          -0.5481870611417685,
          -1.711267025816037,
          0.6863576806719326,
          -0.2728391456421554,
          -0.6960216221354287,
          1.083291241894601,
          -0.23410333746971343,
          0.14876058960735514,
          -0.9504526268294847,
          -1.2684548505074855,
          -0.970167356029588,
          0.16555895612980628,
          0.7982318400260477,
          0.3502567389757603,
          0.5106487860872726,
          1.7167365629146856,
          -0.17515656694386475,
          0.2510405169637239,
          1.067048180128776,
          0.08249294970519207,
          1.8817184628314625,
          -0.2925444339019961,
          0.4982443469520614,
          0.7579274298666225,
          0.4513504840483056,
          0.18293533511137006,
          0.2074313555949219,
          1.0830362728623577,
          -1.3640558765781092,
          0.6695669304242179,
          -0.7917332091991889,
          0.9611564033860209,
          -0.6748198117284865,
          -0.4294317859327062,
          -0.44003438666389727,
          -0.7834587412866575,
          -0.6052898884146282,
          -0.5273756713097408,
          0.036473522701766556,
          -1.0318261997633305,
          0.4874952484513759,
          0.2303280257982348,
          -1.4352230408514677,
          0.8365986862717942
         ],
         "yaxis": "y8"
        },
        {
         "line": {
          "color": "rgba(128, 128, 128, 1.0)",
          "dash": "solid",
          "shape": "linear",
          "width": 1.3
         },
         "marker": {
          "size": 2,
          "symbol": "circle"
         },
         "mode": "markers",
         "name": "C",
         "text": "",
         "type": "scatter",
         "x": [
          0.9114742326787507,
          0.7578989467691609,
          -0.9874361968395297,
          0.22016382884816021,
          0.6077927569514273,
          0.7778834736810324,
          2.1131546813030457,
          -2.4490055660620578,
          -1.264753726599821,
          -1.113114717122689,
          0.7074598991253688,
          0.3011365498644992,
          1.3797717647512153,
          1.5678709953685082,
          -0.03622282412839025,
          1.2667918863642251,
          0.8749252774931616,
          -2.197805732647536,
          -1.0240395875458463,
          -2.142707972857464,
          -0.0736101364574777,
          -1.259255676470749,
          1.6015375948381252,
          1.112229978501615,
          -1.5622053971911025,
          1.8572790226404727,
          -0.4209177347085691,
          -0.912160726081105,
          -0.3037386021712285,
          0.8579623354976309,
          0.3565208302820152,
          0.6841429396840425,
          -0.7523937277325553,
          1.375620044215106,
          -1.2948947618372475,
          0.7226409299521954,
          -1.1545687528768627,
          0.4176384992573318,
          -0.0059278543542167945,
          -0.22869332071406231,
          -1.6746987522308645,
          0.9663733925438459,
          1.0763862190031617,
          -1.225551651184113,
          -0.7535643384107886,
          0.8096955120069954,
          -0.8670064279036938,
          -0.9680677241848497,
          1.1292477205253124,
          0.46947556948741576,
          -0.09447969379657634,
          0.5565096888594847,
          1.8403079260220252,
          0.3376051227254956,
          -0.9379486899192527,
          0.46813068099759814,
          0.09257732214048982,
          -1.6309760263885982,
          -0.11937821507956069,
          0.8475001411207256,
          -0.7150944067883627,
          1.1448948639850358,
          -1.0744821048971902,
          0.3924196833219243,
          0.9272154179010863,
          0.5026276413448757,
          0.8212503499671454,
          -0.8233919536733769,
          -0.2502667292808195,
          0.7236673354783757,
          0.18632609274324735,
          -1.9348967416153815,
          -0.3771390803791452,
          -0.9591907442850565,
          0.8657796666189373,
          0.28402206877817504,
          -0.23103203676238043,
          -1.6954591216753985,
          0.948904930684949,
          1.3203011128906776,
          1.3454169153034552,
          -0.2450999941893388,
          1.4276505694773265,
          0.9916419977998683,
          -0.46044944463704407,
          0.44416392997387194,
          0.24525133842413147,
          -0.09927401569069812,
          1.9148941613315424,
          0.8864805636561247,
          0.46370607184899737,
          -2.224352308256751,
          -1.0654022942267856,
          -0.2607577292767755,
          1.2242612562912998,
          -0.30021774043427785,
          -0.021938802648024933,
          0.038053496199222846,
          -0.08528024315010026,
          -1.5801736763077543
         ],
         "xaxis": "x9",
         "y": [
          0.33159382889093897,
          1.447809361647789,
          -3.057898021481233,
          1.0721535539537346,
          0.044687667947729375,
          0.872972883800426,
          -0.28506900464728674,
          -1.5575867934574539,
          -0.69560542074055,
          -0.6464136285248375,
          0.09906795842602548,
          -0.4246994047366325,
          0.5118438087752405,
          -0.057517181648641814,
          -0.3377287526595544,
          0.2083218886629037,
          -0.6255277778326924,
          0.18270356033481291,
          0.7991523515569429,
          -0.22647420888358555,
          1.8049577991080799,
          -1.6788760976975368,
          -0.06424651071240646,
          -0.09103778121669379,
          1.3536598066408292,
          -0.6809437310425657,
          -0.11440252930192768,
          -0.8638653534763195,
          -0.766833989069785,
          -0.06065156140434344,
          -0.008689816537314935,
          0.46563925822759356,
          0.6311286876651727,
          0.18719082476252455,
          0.12524589874444228,
          -0.0020753413838818704,
          0.4824630932676719,
          -0.16204935490952657,
          1.7484565548649158,
          -2.0333777805855067,
          1.1442666922277265,
          -0.583660765983921,
          0.40006385089083524,
          0.2554936902204025,
          1.7632240516919286,
          -2.1105043746106364,
          -0.05472540842398133,
          -0.25654169455846243,
          1.2906969126041137,
          -1.1727916447892612,
          0.37511910233539225,
          -1.4765301904352583,
          1.3266600403869049,
          1.3091281328318431,
          0.5770517273263297,
          1.0102152886048745,
          0.9271616463077071,
          -1.3121053160858236,
          0.15430064383878492,
          0.4343646787486703,
          0.7648295337520874,
          0.0010279979113985804,
          2.0122074908525374,
          0.7371601726429114,
          -1.0982660302641305,
          1.1060467225218433,
          -0.8123496961323617,
          -0.3020873044531328,
          -0.4822687382358651,
          0.19834620731840744,
          -0.5051779206498165,
          2.3267912224123037,
          -0.3837545472329332,
          2.00039780076727,
          -0.21015476119341628,
          1.3695563344236863,
          -0.18356274447819448,
          -0.9869414037115862,
          1.2573939484840138,
          -0.9974680767904183,
          -0.03016531623685427,
          -0.37227167499205605,
          -0.9834660095241162,
          1.0463771501486643,
          -1.3886348130374762,
          -0.2840452775493542,
          1.684020079045663,
          2.431507322750734,
          -0.29468379557602725,
          -1.1828305148219531,
          -1.3406672432698592,
          -0.24842197641566804,
          -0.28615636704573805,
          0.2881254044242977,
          -1.4138058212029754,
          0.13279188123861654,
          0.2839494887397639,
          -0.15060777856568913,
          -0.07227228266801128,
          -0.32000990600863505
         ],
         "yaxis": "y9"
        },
        {
         "line": {
          "color": "rgba(128, 128, 128, 1.0)",
          "dash": "solid",
          "shape": "linear",
          "width": 1.3
         },
         "marker": {
          "size": 2,
          "symbol": "circle"
         },
         "mode": "markers",
         "name": "C",
         "text": "",
         "type": "scatter",
         "x": [
          0.23541819233456246,
          0.5482224871344553,
          -0.6762289676794175,
          -0.29753389009341696,
          -1.6537645838455806,
          0.8304428942574472,
          -0.4408669209013495,
          -0.27435782294007777,
          -2.173375085890643,
          0.20695320388106786,
          -1.0993754893406398,
          -1.2579231680566736,
          -1.4442829489057019,
          0.11632297708104956,
          0.6225013721856922,
          0.4944394057517207,
          -0.549574433268328,
          -1.2070224915495484,
          1.1077365446492404,
          0.3767494463443737,
          -0.048808423374183826,
          0.00400584390178196,
          0.7597092760009614,
          -0.34791100636292516,
          0.23580016658069564,
          -1.050013416154085,
          0.39421190996753597,
          0.035283337196053005,
          0.494369633848719,
          -1.4410894003445818,
          -0.34759793246896226,
          0.31297072926656766,
          0.883043623213389,
          -1.309452016254821,
          -0.494268560748715,
          1.051270007897888,
          -0.9400845241081949,
          1.0062190989079038,
          -0.2299281540729599,
          1.1205820384556222,
          0.3401911629876612,
          0.37978093151711045,
          -1.612791942328893,
          1.099243459502892,
          -1.8305676394507513,
          0.3570138753485757,
          0.31951510178702425,
          0.25094716578977916,
          1.228620982901242,
          -0.6601164535624199,
          0.12442024935454234,
          -0.7786844570120308,
          -0.7945273805880833,
          -1.5218876699649064,
          -0.9973007205172868,
          0.942982191799194,
          -0.5481870611417685,
          -1.711267025816037,
          0.6863576806719326,
          -0.2728391456421554,
          -0.6960216221354287,
          1.083291241894601,
          -0.23410333746971343,
          0.14876058960735514,
          -0.9504526268294847,
          -1.2684548505074855,
          -0.970167356029588,
          0.16555895612980628,
          0.7982318400260477,
          0.3502567389757603,
          0.5106487860872726,
          1.7167365629146856,
          -0.17515656694386475,
          0.2510405169637239,
          1.067048180128776,
          0.08249294970519207,
          1.8817184628314625,
          -0.2925444339019961,
          0.4982443469520614,
          0.7579274298666225,
          0.4513504840483056,
          0.18293533511137006,
          0.2074313555949219,
          1.0830362728623577,
          -1.3640558765781092,
          0.6695669304242179,
          -0.7917332091991889,
          0.9611564033860209,
          -0.6748198117284865,
          -0.4294317859327062,
          -0.44003438666389727,
          -0.7834587412866575,
          -0.6052898884146282,
          -0.5273756713097408,
          0.036473522701766556,
          -1.0318261997633305,
          0.4874952484513759,
          0.2303280257982348,
          -1.4352230408514677,
          0.8365986862717942
         ],
         "xaxis": "x10",
         "y": [
          0.33159382889093897,
          1.447809361647789,
          -3.057898021481233,
          1.0721535539537346,
          0.044687667947729375,
          0.872972883800426,
          -0.28506900464728674,
          -1.5575867934574539,
          -0.69560542074055,
          -0.6464136285248375,
          0.09906795842602548,
          -0.4246994047366325,
          0.5118438087752405,
          -0.057517181648641814,
          -0.3377287526595544,
          0.2083218886629037,
          -0.6255277778326924,
          0.18270356033481291,
          0.7991523515569429,
          -0.22647420888358555,
          1.8049577991080799,
          -1.6788760976975368,
          -0.06424651071240646,
          -0.09103778121669379,
          1.3536598066408292,
          -0.6809437310425657,
          -0.11440252930192768,
          -0.8638653534763195,
          -0.766833989069785,
          -0.06065156140434344,
          -0.008689816537314935,
          0.46563925822759356,
          0.6311286876651727,
          0.18719082476252455,
          0.12524589874444228,
          -0.0020753413838818704,
          0.4824630932676719,
          -0.16204935490952657,
          1.7484565548649158,
          -2.0333777805855067,
          1.1442666922277265,
          -0.583660765983921,
          0.40006385089083524,
          0.2554936902204025,
          1.7632240516919286,
          -2.1105043746106364,
          -0.05472540842398133,
          -0.25654169455846243,
          1.2906969126041137,
          -1.1727916447892612,
          0.37511910233539225,
          -1.4765301904352583,
          1.3266600403869049,
          1.3091281328318431,
          0.5770517273263297,
          1.0102152886048745,
          0.9271616463077071,
          -1.3121053160858236,
          0.15430064383878492,
          0.4343646787486703,
          0.7648295337520874,
          0.0010279979113985804,
          2.0122074908525374,
          0.7371601726429114,
          -1.0982660302641305,
          1.1060467225218433,
          -0.8123496961323617,
          -0.3020873044531328,
          -0.4822687382358651,
          0.19834620731840744,
          -0.5051779206498165,
          2.3267912224123037,
          -0.3837545472329332,
          2.00039780076727,
          -0.21015476119341628,
          1.3695563344236863,
          -0.18356274447819448,
          -0.9869414037115862,
          1.2573939484840138,
          -0.9974680767904183,
          -0.03016531623685427,
          -0.37227167499205605,
          -0.9834660095241162,
          1.0463771501486643,
          -1.3886348130374762,
          -0.2840452775493542,
          1.684020079045663,
          2.431507322750734,
          -0.29468379557602725,
          -1.1828305148219531,
          -1.3406672432698592,
          -0.24842197641566804,
          -0.28615636704573805,
          0.2881254044242977,
          -1.4138058212029754,
          0.13279188123861654,
          0.2839494887397639,
          -0.15060777856568913,
          -0.07227228266801128,
          -0.32000990600863505
         ],
         "yaxis": "y10"
        },
        {
         "histfunc": "count",
         "histnorm": "",
         "marker": {
          "color": "rgba(50, 171, 96, 1.0)",
          "line": {
           "color": "#4D5663",
           "width": 1.3
          }
         },
         "name": "C",
         "nbinsx": 10,
         "opacity": 0.8,
         "orientation": "v",
         "type": "histogram",
         "x": [
          0.33159382889093897,
          1.447809361647789,
          -3.057898021481233,
          1.0721535539537346,
          0.044687667947729375,
          0.872972883800426,
          -0.28506900464728674,
          -1.5575867934574539,
          -0.69560542074055,
          -0.6464136285248375,
          0.09906795842602548,
          -0.4246994047366325,
          0.5118438087752405,
          -0.057517181648641814,
          -0.3377287526595544,
          0.2083218886629037,
          -0.6255277778326924,
          0.18270356033481291,
          0.7991523515569429,
          -0.22647420888358555,
          1.8049577991080799,
          -1.6788760976975368,
          -0.06424651071240646,
          -0.09103778121669379,
          1.3536598066408292,
          -0.6809437310425657,
          -0.11440252930192768,
          -0.8638653534763195,
          -0.766833989069785,
          -0.06065156140434344,
          -0.008689816537314935,
          0.46563925822759356,
          0.6311286876651727,
          0.18719082476252455,
          0.12524589874444228,
          -0.0020753413838818704,
          0.4824630932676719,
          -0.16204935490952657,
          1.7484565548649158,
          -2.0333777805855067,
          1.1442666922277265,
          -0.583660765983921,
          0.40006385089083524,
          0.2554936902204025,
          1.7632240516919286,
          -2.1105043746106364,
          -0.05472540842398133,
          -0.25654169455846243,
          1.2906969126041137,
          -1.1727916447892612,
          0.37511910233539225,
          -1.4765301904352583,
          1.3266600403869049,
          1.3091281328318431,
          0.5770517273263297,
          1.0102152886048745,
          0.9271616463077071,
          -1.3121053160858236,
          0.15430064383878492,
          0.4343646787486703,
          0.7648295337520874,
          0.0010279979113985804,
          2.0122074908525374,
          0.7371601726429114,
          -1.0982660302641305,
          1.1060467225218433,
          -0.8123496961323617,
          -0.3020873044531328,
          -0.4822687382358651,
          0.19834620731840744,
          -0.5051779206498165,
          2.3267912224123037,
          -0.3837545472329332,
          2.00039780076727,
          -0.21015476119341628,
          1.3695563344236863,
          -0.18356274447819448,
          -0.9869414037115862,
          1.2573939484840138,
          -0.9974680767904183,
          -0.03016531623685427,
          -0.37227167499205605,
          -0.9834660095241162,
          1.0463771501486643,
          -1.3886348130374762,
          -0.2840452775493542,
          1.684020079045663,
          2.431507322750734,
          -0.29468379557602725,
          -1.1828305148219531,
          -1.3406672432698592,
          -0.24842197641566804,
          -0.28615636704573805,
          0.2881254044242977,
          -1.4138058212029754,
          0.13279188123861654,
          0.2839494887397639,
          -0.15060777856568913,
          -0.07227228266801128,
          -0.32000990600863505
         ],
         "xaxis": "x11",
         "yaxis": "y11"
        },
        {
         "line": {
          "color": "rgba(128, 128, 128, 1.0)",
          "dash": "solid",
          "shape": "linear",
          "width": 1.3
         },
         "marker": {
          "size": 2,
          "symbol": "circle"
         },
         "mode": "markers",
         "name": "C",
         "text": "",
         "type": "scatter",
         "x": [
          0.3953236963605586,
          0.26555633432236486,
          0.2097775525625949,
          1.4690921462695166,
          -0.14708148336191335,
          -0.7155676639501172,
          0.8627275028784384,
          0.23435207686359824,
          0.10614701099097222,
          -0.6852101996613775,
          0.8932174271594331,
          -1.3654914333716544,
          -0.8223678964925764,
          1.8178755957856105,
          -1.0342982291053993,
          -1.5335500335630794,
          -0.43170413919432066,
          0.14846561179549114,
          -0.5821020801096143,
          0.5817186033403611,
          -1.4521574415585974,
          0.6086652957710648,
          0.7234440621490581,
          0.5088865641055051,
          0.5254611488546999,
          0.3863312377462917,
          0.9879135131200036,
          -0.07995439149274455,
          1.277288697916219,
          1.1568760932951998,
          1.3193530229625707,
          0.0011542210109643466,
          -0.9500364323321739,
          0.046677435612805816,
          0.36869335442624446,
          -1.588544987820071,
          -0.009253870486863321,
          0.1991922944543913,
          0.7549806144934953,
          1.272570401466503,
          0.7722948928218335,
          0.1411436899941937,
          -1.0899345184067535,
          -1.4179000416771987,
          -0.7076439536593965,
          0.4855721524751803,
          0.7127007529470571,
          1.1287392986360651,
          -0.3355870543232249,
          -0.315997322540617,
          -0.9408806721014545,
          0.1044642196318428,
          -1.332296238309656,
          0.8015132405924561,
          -0.2247122221073949,
          -1.1860301507973456,
          -1.2745945875111375,
          0.7899177033411156,
          -0.14858819487646693,
          0.24797528446350714,
          -0.1222456635245913,
          -0.2673001561129547,
          1.0653755229872934,
          -0.7679546514699183,
          0.6293299104429344,
          0.5133379367005246,
          0.7057705294592451,
          -0.7229258052960552,
          -0.09723657198252915,
          0.45606463801579067,
          -1.475479511073014,
          -1.3189562289885057,
          -0.26660994520495584,
          -0.7976024307340472,
          1.4797448361865924,
          -1.2442847418516547,
          -1.4042107615711705,
          -0.6655216766310934,
          -0.5546622354439035,
          0.5775549793924971,
          -0.5107150567854909,
          0.9387535700602244,
          -0.5807507557800171,
          1.4484253006029395,
          -0.9876021102336194,
          2.636248017311349,
          1.8405929907881782,
          3.466446551789191,
          1.3037005259908636,
          0.15165060142879644,
          0.6250704202789166,
          -0.24722003521289038,
          0.4444529300966973,
          -1.0778833446048044,
          -0.6529347672061518,
          -0.47810765804077615,
          -0.0578030958212901,
          0.6938324757859928,
          1.2439769121817552,
          -0.117912855409765
         ],
         "xaxis": "x12",
         "y": [
          0.33159382889093897,
          1.447809361647789,
          -3.057898021481233,
          1.0721535539537346,
          0.044687667947729375,
          0.872972883800426,
          -0.28506900464728674,
          -1.5575867934574539,
          -0.69560542074055,
          -0.6464136285248375,
          0.09906795842602548,
          -0.4246994047366325,
          0.5118438087752405,
          -0.057517181648641814,
          -0.3377287526595544,
          0.2083218886629037,
          -0.6255277778326924,
          0.18270356033481291,
          0.7991523515569429,
          -0.22647420888358555,
          1.8049577991080799,
          -1.6788760976975368,
          -0.06424651071240646,
          -0.09103778121669379,
          1.3536598066408292,
          -0.6809437310425657,
          -0.11440252930192768,
          -0.8638653534763195,
          -0.766833989069785,
          -0.06065156140434344,
          -0.008689816537314935,
          0.46563925822759356,
          0.6311286876651727,
          0.18719082476252455,
          0.12524589874444228,
          -0.0020753413838818704,
          0.4824630932676719,
          -0.16204935490952657,
          1.7484565548649158,
          -2.0333777805855067,
          1.1442666922277265,
          -0.583660765983921,
          0.40006385089083524,
          0.2554936902204025,
          1.7632240516919286,
          -2.1105043746106364,
          -0.05472540842398133,
          -0.25654169455846243,
          1.2906969126041137,
          -1.1727916447892612,
          0.37511910233539225,
          -1.4765301904352583,
          1.3266600403869049,
          1.3091281328318431,
          0.5770517273263297,
          1.0102152886048745,
          0.9271616463077071,
          -1.3121053160858236,
          0.15430064383878492,
          0.4343646787486703,
          0.7648295337520874,
          0.0010279979113985804,
          2.0122074908525374,
          0.7371601726429114,
          -1.0982660302641305,
          1.1060467225218433,
          -0.8123496961323617,
          -0.3020873044531328,
          -0.4822687382358651,
          0.19834620731840744,
          -0.5051779206498165,
          2.3267912224123037,
          -0.3837545472329332,
          2.00039780076727,
          -0.21015476119341628,
          1.3695563344236863,
          -0.18356274447819448,
          -0.9869414037115862,
          1.2573939484840138,
          -0.9974680767904183,
          -0.03016531623685427,
          -0.37227167499205605,
          -0.9834660095241162,
          1.0463771501486643,
          -1.3886348130374762,
          -0.2840452775493542,
          1.684020079045663,
          2.431507322750734,
          -0.29468379557602725,
          -1.1828305148219531,
          -1.3406672432698592,
          -0.24842197641566804,
          -0.28615636704573805,
          0.2881254044242977,
          -1.4138058212029754,
          0.13279188123861654,
          0.2839494887397639,
          -0.15060777856568913,
          -0.07227228266801128,
          -0.32000990600863505
         ],
         "yaxis": "y12"
        },
        {
         "line": {
          "color": "rgba(128, 128, 128, 1.0)",
          "dash": "solid",
          "shape": "linear",
          "width": 1.3
         },
         "marker": {
          "size": 2,
          "symbol": "circle"
         },
         "mode": "markers",
         "name": "D",
         "text": "",
         "type": "scatter",
         "x": [
          0.9114742326787507,
          0.7578989467691609,
          -0.9874361968395297,
          0.22016382884816021,
          0.6077927569514273,
          0.7778834736810324,
          2.1131546813030457,
          -2.4490055660620578,
          -1.264753726599821,
          -1.113114717122689,
          0.7074598991253688,
          0.3011365498644992,
          1.3797717647512153,
          1.5678709953685082,
          -0.03622282412839025,
          1.2667918863642251,
          0.8749252774931616,
          -2.197805732647536,
          -1.0240395875458463,
          -2.142707972857464,
          -0.0736101364574777,
          -1.259255676470749,
          1.6015375948381252,
          1.112229978501615,
          -1.5622053971911025,
          1.8572790226404727,
          -0.4209177347085691,
          -0.912160726081105,
          -0.3037386021712285,
          0.8579623354976309,
          0.3565208302820152,
          0.6841429396840425,
          -0.7523937277325553,
          1.375620044215106,
          -1.2948947618372475,
          0.7226409299521954,
          -1.1545687528768627,
          0.4176384992573318,
          -0.0059278543542167945,
          -0.22869332071406231,
          -1.6746987522308645,
          0.9663733925438459,
          1.0763862190031617,
          -1.225551651184113,
          -0.7535643384107886,
          0.8096955120069954,
          -0.8670064279036938,
          -0.9680677241848497,
          1.1292477205253124,
          0.46947556948741576,
          -0.09447969379657634,
          0.5565096888594847,
          1.8403079260220252,
          0.3376051227254956,
          -0.9379486899192527,
          0.46813068099759814,
          0.09257732214048982,
          -1.6309760263885982,
          -0.11937821507956069,
          0.8475001411207256,
          -0.7150944067883627,
          1.1448948639850358,
          -1.0744821048971902,
          0.3924196833219243,
          0.9272154179010863,
          0.5026276413448757,
          0.8212503499671454,
          -0.8233919536733769,
          -0.2502667292808195,
          0.7236673354783757,
          0.18632609274324735,
          -1.9348967416153815,
          -0.3771390803791452,
          -0.9591907442850565,
          0.8657796666189373,
          0.28402206877817504,
          -0.23103203676238043,
          -1.6954591216753985,
          0.948904930684949,
          1.3203011128906776,
          1.3454169153034552,
          -0.2450999941893388,
          1.4276505694773265,
          0.9916419977998683,
          -0.46044944463704407,
          0.44416392997387194,
          0.24525133842413147,
          -0.09927401569069812,
          1.9148941613315424,
          0.8864805636561247,
          0.46370607184899737,
          -2.224352308256751,
          -1.0654022942267856,
          -0.2607577292767755,
          1.2242612562912998,
          -0.30021774043427785,
          -0.021938802648024933,
          0.038053496199222846,
          -0.08528024315010026,
          -1.5801736763077543
         ],
         "xaxis": "x13",
         "y": [
          0.3953236963605586,
          0.26555633432236486,
          0.2097775525625949,
          1.4690921462695166,
          -0.14708148336191335,
          -0.7155676639501172,
          0.8627275028784384,
          0.23435207686359824,
          0.10614701099097222,
          -0.6852101996613775,
          0.8932174271594331,
          -1.3654914333716544,
          -0.8223678964925764,
          1.8178755957856105,
          -1.0342982291053993,
          -1.5335500335630794,
          -0.43170413919432066,
          0.14846561179549114,
          -0.5821020801096143,
          0.5817186033403611,
          -1.4521574415585974,
          0.6086652957710648,
          0.7234440621490581,
          0.5088865641055051,
          0.5254611488546999,
          0.3863312377462917,
          0.9879135131200036,
          -0.07995439149274455,
          1.277288697916219,
          1.1568760932951998,
          1.3193530229625707,
          0.0011542210109643466,
          -0.9500364323321739,
          0.046677435612805816,
          0.36869335442624446,
          -1.588544987820071,
          -0.009253870486863321,
          0.1991922944543913,
          0.7549806144934953,
          1.272570401466503,
          0.7722948928218335,
          0.1411436899941937,
          -1.0899345184067535,
          -1.4179000416771987,
          -0.7076439536593965,
          0.4855721524751803,
          0.7127007529470571,
          1.1287392986360651,
          -0.3355870543232249,
          -0.315997322540617,
          -0.9408806721014545,
          0.1044642196318428,
          -1.332296238309656,
          0.8015132405924561,
          -0.2247122221073949,
          -1.1860301507973456,
          -1.2745945875111375,
          0.7899177033411156,
          -0.14858819487646693,
          0.24797528446350714,
          -0.1222456635245913,
          -0.2673001561129547,
          1.0653755229872934,
          -0.7679546514699183,
          0.6293299104429344,
          0.5133379367005246,
          0.7057705294592451,
          -0.7229258052960552,
          -0.09723657198252915,
          0.45606463801579067,
          -1.475479511073014,
          -1.3189562289885057,
          -0.26660994520495584,
          -0.7976024307340472,
          1.4797448361865924,
          -1.2442847418516547,
          -1.4042107615711705,
          -0.6655216766310934,
          -0.5546622354439035,
          0.5775549793924971,
          -0.5107150567854909,
          0.9387535700602244,
          -0.5807507557800171,
          1.4484253006029395,
          -0.9876021102336194,
          2.636248017311349,
          1.8405929907881782,
          3.466446551789191,
          1.3037005259908636,
          0.15165060142879644,
          0.6250704202789166,
          -0.24722003521289038,
          0.4444529300966973,
          -1.0778833446048044,
          -0.6529347672061518,
          -0.47810765804077615,
          -0.0578030958212901,
          0.6938324757859928,
          1.2439769121817552,
          -0.117912855409765
         ],
         "yaxis": "y13"
        },
        {
         "line": {
          "color": "rgba(128, 128, 128, 1.0)",
          "dash": "solid",
          "shape": "linear",
          "width": 1.3
         },
         "marker": {
          "size": 2,
          "symbol": "circle"
         },
         "mode": "markers",
         "name": "D",
         "text": "",
         "type": "scatter",
         "x": [
          0.23541819233456246,
          0.5482224871344553,
          -0.6762289676794175,
          -0.29753389009341696,
          -1.6537645838455806,
          0.8304428942574472,
          -0.4408669209013495,
          -0.27435782294007777,
          -2.173375085890643,
          0.20695320388106786,
          -1.0993754893406398,
          -1.2579231680566736,
          -1.4442829489057019,
          0.11632297708104956,
          0.6225013721856922,
          0.4944394057517207,
          -0.549574433268328,
          -1.2070224915495484,
          1.1077365446492404,
          0.3767494463443737,
          -0.048808423374183826,
          0.00400584390178196,
          0.7597092760009614,
          -0.34791100636292516,
          0.23580016658069564,
          -1.050013416154085,
          0.39421190996753597,
          0.035283337196053005,
          0.494369633848719,
          -1.4410894003445818,
          -0.34759793246896226,
          0.31297072926656766,
          0.883043623213389,
          -1.309452016254821,
          -0.494268560748715,
          1.051270007897888,
          -0.9400845241081949,
          1.0062190989079038,
          -0.2299281540729599,
          1.1205820384556222,
          0.3401911629876612,
          0.37978093151711045,
          -1.612791942328893,
          1.099243459502892,
          -1.8305676394507513,
          0.3570138753485757,
          0.31951510178702425,
          0.25094716578977916,
          1.228620982901242,
          -0.6601164535624199,
          0.12442024935454234,
          -0.7786844570120308,
          -0.7945273805880833,
          -1.5218876699649064,
          -0.9973007205172868,
          0.942982191799194,
          -0.5481870611417685,
          -1.711267025816037,
          0.6863576806719326,
          -0.2728391456421554,
          -0.6960216221354287,
          1.083291241894601,
          -0.23410333746971343,
          0.14876058960735514,
          -0.9504526268294847,
          -1.2684548505074855,
          -0.970167356029588,
          0.16555895612980628,
          0.7982318400260477,
          0.3502567389757603,
          0.5106487860872726,
          1.7167365629146856,
          -0.17515656694386475,
          0.2510405169637239,
          1.067048180128776,
          0.08249294970519207,
          1.8817184628314625,
          -0.2925444339019961,
          0.4982443469520614,
          0.7579274298666225,
          0.4513504840483056,
          0.18293533511137006,
          0.2074313555949219,
          1.0830362728623577,
          -1.3640558765781092,
          0.6695669304242179,
          -0.7917332091991889,
          0.9611564033860209,
          -0.6748198117284865,
          -0.4294317859327062,
          -0.44003438666389727,
          -0.7834587412866575,
          -0.6052898884146282,
          -0.5273756713097408,
          0.036473522701766556,
          -1.0318261997633305,
          0.4874952484513759,
          0.2303280257982348,
          -1.4352230408514677,
          0.8365986862717942
         ],
         "xaxis": "x14",
         "y": [
          0.3953236963605586,
          0.26555633432236486,
          0.2097775525625949,
          1.4690921462695166,
          -0.14708148336191335,
          -0.7155676639501172,
          0.8627275028784384,
          0.23435207686359824,
          0.10614701099097222,
          -0.6852101996613775,
          0.8932174271594331,
          -1.3654914333716544,
          -0.8223678964925764,
          1.8178755957856105,
          -1.0342982291053993,
          -1.5335500335630794,
          -0.43170413919432066,
          0.14846561179549114,
          -0.5821020801096143,
          0.5817186033403611,
          -1.4521574415585974,
          0.6086652957710648,
          0.7234440621490581,
          0.5088865641055051,
          0.5254611488546999,
          0.3863312377462917,
          0.9879135131200036,
          -0.07995439149274455,
          1.277288697916219,
          1.1568760932951998,
          1.3193530229625707,
          0.0011542210109643466,
          -0.9500364323321739,
          0.046677435612805816,
          0.36869335442624446,
          -1.588544987820071,
          -0.009253870486863321,
          0.1991922944543913,
          0.7549806144934953,
          1.272570401466503,
          0.7722948928218335,
          0.1411436899941937,
          -1.0899345184067535,
          -1.4179000416771987,
          -0.7076439536593965,
          0.4855721524751803,
          0.7127007529470571,
          1.1287392986360651,
          -0.3355870543232249,
          -0.315997322540617,
          -0.9408806721014545,
          0.1044642196318428,
          -1.332296238309656,
          0.8015132405924561,
          -0.2247122221073949,
          -1.1860301507973456,
          -1.2745945875111375,
          0.7899177033411156,
          -0.14858819487646693,
          0.24797528446350714,
          -0.1222456635245913,
          -0.2673001561129547,
          1.0653755229872934,
          -0.7679546514699183,
          0.6293299104429344,
          0.5133379367005246,
          0.7057705294592451,
          -0.7229258052960552,
          -0.09723657198252915,
          0.45606463801579067,
          -1.475479511073014,
          -1.3189562289885057,
          -0.26660994520495584,
          -0.7976024307340472,
          1.4797448361865924,
          -1.2442847418516547,
          -1.4042107615711705,
          -0.6655216766310934,
          -0.5546622354439035,
          0.5775549793924971,
          -0.5107150567854909,
          0.9387535700602244,
          -0.5807507557800171,
          1.4484253006029395,
          -0.9876021102336194,
          2.636248017311349,
          1.8405929907881782,
          3.466446551789191,
          1.3037005259908636,
          0.15165060142879644,
          0.6250704202789166,
          -0.24722003521289038,
          0.4444529300966973,
          -1.0778833446048044,
          -0.6529347672061518,
          -0.47810765804077615,
          -0.0578030958212901,
          0.6938324757859928,
          1.2439769121817552,
          -0.117912855409765
         ],
         "yaxis": "y14"
        },
        {
         "line": {
          "color": "rgba(128, 128, 128, 1.0)",
          "dash": "solid",
          "shape": "linear",
          "width": 1.3
         },
         "marker": {
          "size": 2,
          "symbol": "circle"
         },
         "mode": "markers",
         "name": "D",
         "text": "",
         "type": "scatter",
         "x": [
          0.33159382889093897,
          1.447809361647789,
          -3.057898021481233,
          1.0721535539537346,
          0.044687667947729375,
          0.872972883800426,
          -0.28506900464728674,
          -1.5575867934574539,
          -0.69560542074055,
          -0.6464136285248375,
          0.09906795842602548,
          -0.4246994047366325,
          0.5118438087752405,
          -0.057517181648641814,
          -0.3377287526595544,
          0.2083218886629037,
          -0.6255277778326924,
          0.18270356033481291,
          0.7991523515569429,
          -0.22647420888358555,
          1.8049577991080799,
          -1.6788760976975368,
          -0.06424651071240646,
          -0.09103778121669379,
          1.3536598066408292,
          -0.6809437310425657,
          -0.11440252930192768,
          -0.8638653534763195,
          -0.766833989069785,
          -0.06065156140434344,
          -0.008689816537314935,
          0.46563925822759356,
          0.6311286876651727,
          0.18719082476252455,
          0.12524589874444228,
          -0.0020753413838818704,
          0.4824630932676719,
          -0.16204935490952657,
          1.7484565548649158,
          -2.0333777805855067,
          1.1442666922277265,
          -0.583660765983921,
          0.40006385089083524,
          0.2554936902204025,
          1.7632240516919286,
          -2.1105043746106364,
          -0.05472540842398133,
          -0.25654169455846243,
          1.2906969126041137,
          -1.1727916447892612,
          0.37511910233539225,
          -1.4765301904352583,
          1.3266600403869049,
          1.3091281328318431,
          0.5770517273263297,
          1.0102152886048745,
          0.9271616463077071,
          -1.3121053160858236,
          0.15430064383878492,
          0.4343646787486703,
          0.7648295337520874,
          0.0010279979113985804,
          2.0122074908525374,
          0.7371601726429114,
          -1.0982660302641305,
          1.1060467225218433,
          -0.8123496961323617,
          -0.3020873044531328,
          -0.4822687382358651,
          0.19834620731840744,
          -0.5051779206498165,
          2.3267912224123037,
          -0.3837545472329332,
          2.00039780076727,
          -0.21015476119341628,
          1.3695563344236863,
          -0.18356274447819448,
          -0.9869414037115862,
          1.2573939484840138,
          -0.9974680767904183,
          -0.03016531623685427,
          -0.37227167499205605,
          -0.9834660095241162,
          1.0463771501486643,
          -1.3886348130374762,
          -0.2840452775493542,
          1.684020079045663,
          2.431507322750734,
          -0.29468379557602725,
          -1.1828305148219531,
          -1.3406672432698592,
          -0.24842197641566804,
          -0.28615636704573805,
          0.2881254044242977,
          -1.4138058212029754,
          0.13279188123861654,
          0.2839494887397639,
          -0.15060777856568913,
          -0.07227228266801128,
          -0.32000990600863505
         ],
         "xaxis": "x15",
         "y": [
          0.3953236963605586,
          0.26555633432236486,
          0.2097775525625949,
          1.4690921462695166,
          -0.14708148336191335,
          -0.7155676639501172,
          0.8627275028784384,
          0.23435207686359824,
          0.10614701099097222,
          -0.6852101996613775,
          0.8932174271594331,
          -1.3654914333716544,
          -0.8223678964925764,
          1.8178755957856105,
          -1.0342982291053993,
          -1.5335500335630794,
          -0.43170413919432066,
          0.14846561179549114,
          -0.5821020801096143,
          0.5817186033403611,
          -1.4521574415585974,
          0.6086652957710648,
          0.7234440621490581,
          0.5088865641055051,
          0.5254611488546999,
          0.3863312377462917,
          0.9879135131200036,
          -0.07995439149274455,
          1.277288697916219,
          1.1568760932951998,
          1.3193530229625707,
          0.0011542210109643466,
          -0.9500364323321739,
          0.046677435612805816,
          0.36869335442624446,
          -1.588544987820071,
          -0.009253870486863321,
          0.1991922944543913,
          0.7549806144934953,
          1.272570401466503,
          0.7722948928218335,
          0.1411436899941937,
          -1.0899345184067535,
          -1.4179000416771987,
          -0.7076439536593965,
          0.4855721524751803,
          0.7127007529470571,
          1.1287392986360651,
          -0.3355870543232249,
          -0.315997322540617,
          -0.9408806721014545,
          0.1044642196318428,
          -1.332296238309656,
          0.8015132405924561,
          -0.2247122221073949,
          -1.1860301507973456,
          -1.2745945875111375,
          0.7899177033411156,
          -0.14858819487646693,
          0.24797528446350714,
          -0.1222456635245913,
          -0.2673001561129547,
          1.0653755229872934,
          -0.7679546514699183,
          0.6293299104429344,
          0.5133379367005246,
          0.7057705294592451,
          -0.7229258052960552,
          -0.09723657198252915,
          0.45606463801579067,
          -1.475479511073014,
          -1.3189562289885057,
          -0.26660994520495584,
          -0.7976024307340472,
          1.4797448361865924,
          -1.2442847418516547,
          -1.4042107615711705,
          -0.6655216766310934,
          -0.5546622354439035,
          0.5775549793924971,
          -0.5107150567854909,
          0.9387535700602244,
          -0.5807507557800171,
          1.4484253006029395,
          -0.9876021102336194,
          2.636248017311349,
          1.8405929907881782,
          3.466446551789191,
          1.3037005259908636,
          0.15165060142879644,
          0.6250704202789166,
          -0.24722003521289038,
          0.4444529300966973,
          -1.0778833446048044,
          -0.6529347672061518,
          -0.47810765804077615,
          -0.0578030958212901,
          0.6938324757859928,
          1.2439769121817552,
          -0.117912855409765
         ],
         "yaxis": "y15"
        },
        {
         "histfunc": "count",
         "histnorm": "",
         "marker": {
          "color": "rgba(128, 0, 128, 1.0)",
          "line": {
           "color": "#4D5663",
           "width": 1.3
          }
         },
         "name": "D",
         "nbinsx": 10,
         "opacity": 0.8,
         "orientation": "v",
         "type": "histogram",
         "x": [
          0.3953236963605586,
          0.26555633432236486,
          0.2097775525625949,
          1.4690921462695166,
          -0.14708148336191335,
          -0.7155676639501172,
          0.8627275028784384,
          0.23435207686359824,
          0.10614701099097222,
          -0.6852101996613775,
          0.8932174271594331,
          -1.3654914333716544,
          -0.8223678964925764,
          1.8178755957856105,
          -1.0342982291053993,
          -1.5335500335630794,
          -0.43170413919432066,
          0.14846561179549114,
          -0.5821020801096143,
          0.5817186033403611,
          -1.4521574415585974,
          0.6086652957710648,
          0.7234440621490581,
          0.5088865641055051,
          0.5254611488546999,
          0.3863312377462917,
          0.9879135131200036,
          -0.07995439149274455,
          1.277288697916219,
          1.1568760932951998,
          1.3193530229625707,
          0.0011542210109643466,
          -0.9500364323321739,
          0.046677435612805816,
          0.36869335442624446,
          -1.588544987820071,
          -0.009253870486863321,
          0.1991922944543913,
          0.7549806144934953,
          1.272570401466503,
          0.7722948928218335,
          0.1411436899941937,
          -1.0899345184067535,
          -1.4179000416771987,
          -0.7076439536593965,
          0.4855721524751803,
          0.7127007529470571,
          1.1287392986360651,
          -0.3355870543232249,
          -0.315997322540617,
          -0.9408806721014545,
          0.1044642196318428,
          -1.332296238309656,
          0.8015132405924561,
          -0.2247122221073949,
          -1.1860301507973456,
          -1.2745945875111375,
          0.7899177033411156,
          -0.14858819487646693,
          0.24797528446350714,
          -0.1222456635245913,
          -0.2673001561129547,
          1.0653755229872934,
          -0.7679546514699183,
          0.6293299104429344,
          0.5133379367005246,
          0.7057705294592451,
          -0.7229258052960552,
          -0.09723657198252915,
          0.45606463801579067,
          -1.475479511073014,
          -1.3189562289885057,
          -0.26660994520495584,
          -0.7976024307340472,
          1.4797448361865924,
          -1.2442847418516547,
          -1.4042107615711705,
          -0.6655216766310934,
          -0.5546622354439035,
          0.5775549793924971,
          -0.5107150567854909,
          0.9387535700602244,
          -0.5807507557800171,
          1.4484253006029395,
          -0.9876021102336194,
          2.636248017311349,
          1.8405929907881782,
          3.466446551789191,
          1.3037005259908636,
          0.15165060142879644,
          0.6250704202789166,
          -0.24722003521289038,
          0.4444529300966973,
          -1.0778833446048044,
          -0.6529347672061518,
          -0.47810765804077615,
          -0.0578030958212901,
          0.6938324757859928,
          1.2439769121817552,
          -0.117912855409765
         ],
         "xaxis": "x16",
         "yaxis": "y16"
        }
       ],
       "layout": {
        "bargap": 0.02,
        "legend": {
         "bgcolor": "#F5F6F9",
         "font": {
          "color": "#4D5663"
         }
        },
        "paper_bgcolor": "#F5F6F9",
        "plot_bgcolor": "#F5F6F9",
        "showlegend": false,
        "template": {
         "data": {
          "bar": [
           {
            "error_x": {
             "color": "#2a3f5f"
            },
            "error_y": {
             "color": "#2a3f5f"
            },
            "marker": {
             "line": {
              "color": "#E5ECF6",
              "width": 0.5
             },
             "pattern": {
              "fillmode": "overlay",
              "size": 10,
              "solidity": 0.2
             }
            },
            "type": "bar"
           }
          ],
          "barpolar": [
           {
            "marker": {
             "line": {
              "color": "#E5ECF6",
              "width": 0.5
             },
             "pattern": {
              "fillmode": "overlay",
              "size": 10,
              "solidity": 0.2
             }
            },
            "type": "barpolar"
           }
          ],
          "carpet": [
           {
            "aaxis": {
             "endlinecolor": "#2a3f5f",
             "gridcolor": "white",
             "linecolor": "white",
             "minorgridcolor": "white",
             "startlinecolor": "#2a3f5f"
            },
            "baxis": {
             "endlinecolor": "#2a3f5f",
             "gridcolor": "white",
             "linecolor": "white",
             "minorgridcolor": "white",
             "startlinecolor": "#2a3f5f"
            },
            "type": "carpet"
           }
          ],
          "choropleth": [
           {
            "colorbar": {
             "outlinewidth": 0,
             "ticks": ""
            },
            "type": "choropleth"
           }
          ],
          "contour": [
           {
            "colorbar": {
             "outlinewidth": 0,
             "ticks": ""
            },
            "colorscale": [
             [
              0,
              "#0d0887"
             ],
             [
              0.1111111111111111,
              "#46039f"
             ],
             [
              0.2222222222222222,
              "#7201a8"
             ],
             [
              0.3333333333333333,
              "#9c179e"
             ],
             [
              0.4444444444444444,
              "#bd3786"
             ],
             [
              0.5555555555555556,
              "#d8576b"
             ],
             [
              0.6666666666666666,
              "#ed7953"
             ],
             [
              0.7777777777777778,
              "#fb9f3a"
             ],
             [
              0.8888888888888888,
              "#fdca26"
             ],
             [
              1,
              "#f0f921"
             ]
            ],
            "type": "contour"
           }
          ],
          "contourcarpet": [
           {
            "colorbar": {
             "outlinewidth": 0,
             "ticks": ""
            },
            "type": "contourcarpet"
           }
          ],
          "heatmap": [
           {
            "colorbar": {
             "outlinewidth": 0,
             "ticks": ""
            },
            "colorscale": [
             [
              0,
              "#0d0887"
             ],
             [
              0.1111111111111111,
              "#46039f"
             ],
             [
              0.2222222222222222,
              "#7201a8"
             ],
             [
              0.3333333333333333,
              "#9c179e"
             ],
             [
              0.4444444444444444,
              "#bd3786"
             ],
             [
              0.5555555555555556,
              "#d8576b"
             ],
             [
              0.6666666666666666,
              "#ed7953"
             ],
             [
              0.7777777777777778,
              "#fb9f3a"
             ],
             [
              0.8888888888888888,
              "#fdca26"
             ],
             [
              1,
              "#f0f921"
             ]
            ],
            "type": "heatmap"
           }
          ],
          "heatmapgl": [
           {
            "colorbar": {
             "outlinewidth": 0,
             "ticks": ""
            },
            "colorscale": [
             [
              0,
              "#0d0887"
             ],
             [
              0.1111111111111111,
              "#46039f"
             ],
             [
              0.2222222222222222,
              "#7201a8"
             ],
             [
              0.3333333333333333,
              "#9c179e"
             ],
             [
              0.4444444444444444,
              "#bd3786"
             ],
             [
              0.5555555555555556,
              "#d8576b"
             ],
             [
              0.6666666666666666,
              "#ed7953"
             ],
             [
              0.7777777777777778,
              "#fb9f3a"
             ],
             [
              0.8888888888888888,
              "#fdca26"
             ],
             [
              1,
              "#f0f921"
             ]
            ],
            "type": "heatmapgl"
           }
          ],
          "histogram": [
           {
            "marker": {
             "pattern": {
              "fillmode": "overlay",
              "size": 10,
              "solidity": 0.2
             }
            },
            "type": "histogram"
           }
          ],
          "histogram2d": [
           {
            "colorbar": {
             "outlinewidth": 0,
             "ticks": ""
            },
            "colorscale": [
             [
              0,
              "#0d0887"
             ],
             [
              0.1111111111111111,
              "#46039f"
             ],
             [
              0.2222222222222222,
              "#7201a8"
             ],
             [
              0.3333333333333333,
              "#9c179e"
             ],
             [
              0.4444444444444444,
              "#bd3786"
             ],
             [
              0.5555555555555556,
              "#d8576b"
             ],
             [
              0.6666666666666666,
              "#ed7953"
             ],
             [
              0.7777777777777778,
              "#fb9f3a"
             ],
             [
              0.8888888888888888,
              "#fdca26"
             ],
             [
              1,
              "#f0f921"
             ]
            ],
            "type": "histogram2d"
           }
          ],
          "histogram2dcontour": [
           {
            "colorbar": {
             "outlinewidth": 0,
             "ticks": ""
            },
            "colorscale": [
             [
              0,
              "#0d0887"
             ],
             [
              0.1111111111111111,
              "#46039f"
             ],
             [
              0.2222222222222222,
              "#7201a8"
             ],
             [
              0.3333333333333333,
              "#9c179e"
             ],
             [
              0.4444444444444444,
              "#bd3786"
             ],
             [
              0.5555555555555556,
              "#d8576b"
             ],
             [
              0.6666666666666666,
              "#ed7953"
             ],
             [
              0.7777777777777778,
              "#fb9f3a"
             ],
             [
              0.8888888888888888,
              "#fdca26"
             ],
             [
              1,
              "#f0f921"
             ]
            ],
            "type": "histogram2dcontour"
           }
          ],
          "mesh3d": [
           {
            "colorbar": {
             "outlinewidth": 0,
             "ticks": ""
            },
            "type": "mesh3d"
           }
          ],
          "parcoords": [
           {
            "line": {
             "colorbar": {
              "outlinewidth": 0,
              "ticks": ""
             }
            },
            "type": "parcoords"
           }
          ],
          "pie": [
           {
            "automargin": true,
            "type": "pie"
           }
          ],
          "scatter": [
           {
            "fillpattern": {
             "fillmode": "overlay",
             "size": 10,
             "solidity": 0.2
            },
            "type": "scatter"
           }
          ],
          "scatter3d": [
           {
            "line": {
             "colorbar": {
              "outlinewidth": 0,
              "ticks": ""
             }
            },
            "marker": {
             "colorbar": {
              "outlinewidth": 0,
              "ticks": ""
             }
            },
            "type": "scatter3d"
           }
          ],
          "scattercarpet": [
           {
            "marker": {
             "colorbar": {
              "outlinewidth": 0,
              "ticks": ""
             }
            },
            "type": "scattercarpet"
           }
          ],
          "scattergeo": [
           {
            "marker": {
             "colorbar": {
              "outlinewidth": 0,
              "ticks": ""
             }
            },
            "type": "scattergeo"
           }
          ],
          "scattergl": [
           {
            "marker": {
             "colorbar": {
              "outlinewidth": 0,
              "ticks": ""
             }
            },
            "type": "scattergl"
           }
          ],
          "scattermapbox": [
           {
            "marker": {
             "colorbar": {
              "outlinewidth": 0,
              "ticks": ""
             }
            },
            "type": "scattermapbox"
           }
          ],
          "scatterpolar": [
           {
            "marker": {
             "colorbar": {
              "outlinewidth": 0,
              "ticks": ""
             }
            },
            "type": "scatterpolar"
           }
          ],
          "scatterpolargl": [
           {
            "marker": {
             "colorbar": {
              "outlinewidth": 0,
              "ticks": ""
             }
            },
            "type": "scatterpolargl"
           }
          ],
          "scatterternary": [
           {
            "marker": {
             "colorbar": {
              "outlinewidth": 0,
              "ticks": ""
             }
            },
            "type": "scatterternary"
           }
          ],
          "surface": [
           {
            "colorbar": {
             "outlinewidth": 0,
             "ticks": ""
            },
            "colorscale": [
             [
              0,
              "#0d0887"
             ],
             [
              0.1111111111111111,
              "#46039f"
             ],
             [
              0.2222222222222222,
              "#7201a8"
             ],
             [
              0.3333333333333333,
              "#9c179e"
             ],
             [
              0.4444444444444444,
              "#bd3786"
             ],
             [
              0.5555555555555556,
              "#d8576b"
             ],
             [
              0.6666666666666666,
              "#ed7953"
             ],
             [
              0.7777777777777778,
              "#fb9f3a"
             ],
             [
              0.8888888888888888,
              "#fdca26"
             ],
             [
              1,
              "#f0f921"
             ]
            ],
            "type": "surface"
           }
          ],
          "table": [
           {
            "cells": {
             "fill": {
              "color": "#EBF0F8"
             },
             "line": {
              "color": "white"
             }
            },
            "header": {
             "fill": {
              "color": "#C8D4E3"
             },
             "line": {
              "color": "white"
             }
            },
            "type": "table"
           }
          ]
         },
         "layout": {
          "annotationdefaults": {
           "arrowcolor": "#2a3f5f",
           "arrowhead": 0,
           "arrowwidth": 1
          },
          "autotypenumbers": "strict",
          "coloraxis": {
           "colorbar": {
            "outlinewidth": 0,
            "ticks": ""
           }
          },
          "colorscale": {
           "diverging": [
            [
             0,
             "#8e0152"
            ],
            [
             0.1,
             "#c51b7d"
            ],
            [
             0.2,
             "#de77ae"
            ],
            [
             0.3,
             "#f1b6da"
            ],
            [
             0.4,
             "#fde0ef"
            ],
            [
             0.5,
             "#f7f7f7"
            ],
            [
             0.6,
             "#e6f5d0"
            ],
            [
             0.7,
             "#b8e186"
            ],
            [
             0.8,
             "#7fbc41"
            ],
            [
             0.9,
             "#4d9221"
            ],
            [
             1,
             "#276419"
            ]
           ],
           "sequential": [
            [
             0,
             "#0d0887"
            ],
            [
             0.1111111111111111,
             "#46039f"
            ],
            [
             0.2222222222222222,
             "#7201a8"
            ],
            [
             0.3333333333333333,
             "#9c179e"
            ],
            [
             0.4444444444444444,
             "#bd3786"
            ],
            [
             0.5555555555555556,
             "#d8576b"
            ],
            [
             0.6666666666666666,
             "#ed7953"
            ],
            [
             0.7777777777777778,
             "#fb9f3a"
            ],
            [
             0.8888888888888888,
             "#fdca26"
            ],
            [
             1,
             "#f0f921"
            ]
           ],
           "sequentialminus": [
            [
             0,
             "#0d0887"
            ],
            [
             0.1111111111111111,
             "#46039f"
            ],
            [
             0.2222222222222222,
             "#7201a8"
            ],
            [
             0.3333333333333333,
             "#9c179e"
            ],
            [
             0.4444444444444444,
             "#bd3786"
            ],
            [
             0.5555555555555556,
             "#d8576b"
            ],
            [
             0.6666666666666666,
             "#ed7953"
            ],
            [
             0.7777777777777778,
             "#fb9f3a"
            ],
            [
             0.8888888888888888,
             "#fdca26"
            ],
            [
             1,
             "#f0f921"
            ]
           ]
          },
          "colorway": [
           "#636efa",
           "#EF553B",
           "#00cc96",
           "#ab63fa",
           "#FFA15A",
           "#19d3f3",
           "#FF6692",
           "#B6E880",
           "#FF97FF",
           "#FECB52"
          ],
          "font": {
           "color": "#2a3f5f"
          },
          "geo": {
           "bgcolor": "white",
           "lakecolor": "white",
           "landcolor": "#E5ECF6",
           "showlakes": true,
           "showland": true,
           "subunitcolor": "white"
          },
          "hoverlabel": {
           "align": "left"
          },
          "hovermode": "closest",
          "mapbox": {
           "style": "light"
          },
          "paper_bgcolor": "white",
          "plot_bgcolor": "#E5ECF6",
          "polar": {
           "angularaxis": {
            "gridcolor": "white",
            "linecolor": "white",
            "ticks": ""
           },
           "bgcolor": "#E5ECF6",
           "radialaxis": {
            "gridcolor": "white",
            "linecolor": "white",
            "ticks": ""
           }
          },
          "scene": {
           "xaxis": {
            "backgroundcolor": "#E5ECF6",
            "gridcolor": "white",
            "gridwidth": 2,
            "linecolor": "white",
            "showbackground": true,
            "ticks": "",
            "zerolinecolor": "white"
           },
           "yaxis": {
            "backgroundcolor": "#E5ECF6",
            "gridcolor": "white",
            "gridwidth": 2,
            "linecolor": "white",
            "showbackground": true,
            "ticks": "",
            "zerolinecolor": "white"
           },
           "zaxis": {
            "backgroundcolor": "#E5ECF6",
            "gridcolor": "white",
            "gridwidth": 2,
            "linecolor": "white",
            "showbackground": true,
            "ticks": "",
            "zerolinecolor": "white"
           }
          },
          "shapedefaults": {
           "line": {
            "color": "#2a3f5f"
           }
          },
          "ternary": {
           "aaxis": {
            "gridcolor": "white",
            "linecolor": "white",
            "ticks": ""
           },
           "baxis": {
            "gridcolor": "white",
            "linecolor": "white",
            "ticks": ""
           },
           "bgcolor": "#E5ECF6",
           "caxis": {
            "gridcolor": "white",
            "linecolor": "white",
            "ticks": ""
           }
          },
          "title": {
           "x": 0.05
          },
          "xaxis": {
           "automargin": true,
           "gridcolor": "white",
           "linecolor": "white",
           "ticks": "",
           "title": {
            "standoff": 15
           },
           "zerolinecolor": "white",
           "zerolinewidth": 2
          },
          "yaxis": {
           "automargin": true,
           "gridcolor": "white",
           "linecolor": "white",
           "ticks": "",
           "title": {
            "standoff": 15
           },
           "zerolinecolor": "white",
           "zerolinewidth": 2
          }
         }
        },
        "title": {
         "font": {
          "color": "#4D5663"
         }
        },
        "xaxis": {
         "anchor": "y",
         "domain": [
          0,
          0.2125
         ],
         "gridcolor": "#E1E5ED",
         "showgrid": false,
         "tickfont": {
          "color": "#4D5663"
         },
         "title": {
          "font": {
           "color": "#4D5663"
          },
          "text": ""
         },
         "zerolinecolor": "#E1E5ED"
        },
        "xaxis10": {
         "anchor": "y10",
         "domain": [
          0.2625,
          0.475
         ],
         "gridcolor": "#E1E5ED",
         "showgrid": false,
         "tickfont": {
          "color": "#4D5663"
         },
         "title": {
          "font": {
           "color": "#4D5663"
          },
          "text": ""
         },
         "zerolinecolor": "#E1E5ED"
        },
        "xaxis11": {
         "anchor": "y11",
         "domain": [
          0.525,
          0.7375
         ],
         "gridcolor": "#E1E5ED",
         "showgrid": false,
         "tickfont": {
          "color": "#4D5663"
         },
         "title": {
          "font": {
           "color": "#4D5663"
          },
          "text": ""
         },
         "zerolinecolor": "#E1E5ED"
        },
        "xaxis12": {
         "anchor": "y12",
         "domain": [
          0.7875,
          1
         ],
         "gridcolor": "#E1E5ED",
         "showgrid": false,
         "tickfont": {
          "color": "#4D5663"
         },
         "title": {
          "font": {
           "color": "#4D5663"
          },
          "text": ""
         },
         "zerolinecolor": "#E1E5ED"
        },
        "xaxis13": {
         "anchor": "y13",
         "domain": [
          0,
          0.2125
         ],
         "gridcolor": "#E1E5ED",
         "showgrid": false,
         "tickfont": {
          "color": "#4D5663"
         },
         "title": {
          "font": {
           "color": "#4D5663"
          },
          "text": ""
         },
         "zerolinecolor": "#E1E5ED"
        },
        "xaxis14": {
         "anchor": "y14",
         "domain": [
          0.2625,
          0.475
         ],
         "gridcolor": "#E1E5ED",
         "showgrid": false,
         "tickfont": {
          "color": "#4D5663"
         },
         "title": {
          "font": {
           "color": "#4D5663"
          },
          "text": ""
         },
         "zerolinecolor": "#E1E5ED"
        },
        "xaxis15": {
         "anchor": "y15",
         "domain": [
          0.525,
          0.7375
         ],
         "gridcolor": "#E1E5ED",
         "showgrid": false,
         "tickfont": {
          "color": "#4D5663"
         },
         "title": {
          "font": {
           "color": "#4D5663"
          },
          "text": ""
         },
         "zerolinecolor": "#E1E5ED"
        },
        "xaxis16": {
         "anchor": "y16",
         "domain": [
          0.7875,
          1
         ],
         "gridcolor": "#E1E5ED",
         "showgrid": false,
         "tickfont": {
          "color": "#4D5663"
         },
         "title": {
          "font": {
           "color": "#4D5663"
          },
          "text": ""
         },
         "zerolinecolor": "#E1E5ED"
        },
        "xaxis2": {
         "anchor": "y2",
         "domain": [
          0.2625,
          0.475
         ],
         "gridcolor": "#E1E5ED",
         "showgrid": false,
         "tickfont": {
          "color": "#4D5663"
         },
         "title": {
          "font": {
           "color": "#4D5663"
          },
          "text": ""
         },
         "zerolinecolor": "#E1E5ED"
        },
        "xaxis3": {
         "anchor": "y3",
         "domain": [
          0.525,
          0.7375
         ],
         "gridcolor": "#E1E5ED",
         "showgrid": false,
         "tickfont": {
          "color": "#4D5663"
         },
         "title": {
          "font": {
           "color": "#4D5663"
          },
          "text": ""
         },
         "zerolinecolor": "#E1E5ED"
        },
        "xaxis4": {
         "anchor": "y4",
         "domain": [
          0.7875,
          1
         ],
         "gridcolor": "#E1E5ED",
         "showgrid": false,
         "tickfont": {
          "color": "#4D5663"
         },
         "title": {
          "font": {
           "color": "#4D5663"
          },
          "text": ""
         },
         "zerolinecolor": "#E1E5ED"
        },
        "xaxis5": {
         "anchor": "y5",
         "domain": [
          0,
          0.2125
         ],
         "gridcolor": "#E1E5ED",
         "showgrid": false,
         "tickfont": {
          "color": "#4D5663"
         },
         "title": {
          "font": {
           "color": "#4D5663"
          },
          "text": ""
         },
         "zerolinecolor": "#E1E5ED"
        },
        "xaxis6": {
         "anchor": "y6",
         "domain": [
          0.2625,
          0.475
         ],
         "gridcolor": "#E1E5ED",
         "showgrid": false,
         "tickfont": {
          "color": "#4D5663"
         },
         "title": {
          "font": {
           "color": "#4D5663"
          },
          "text": ""
         },
         "zerolinecolor": "#E1E5ED"
        },
        "xaxis7": {
         "anchor": "y7",
         "domain": [
          0.525,
          0.7375
         ],
         "gridcolor": "#E1E5ED",
         "showgrid": false,
         "tickfont": {
          "color": "#4D5663"
         },
         "title": {
          "font": {
           "color": "#4D5663"
          },
          "text": ""
         },
         "zerolinecolor": "#E1E5ED"
        },
        "xaxis8": {
         "anchor": "y8",
         "domain": [
          0.7875,
          1
         ],
         "gridcolor": "#E1E5ED",
         "showgrid": false,
         "tickfont": {
          "color": "#4D5663"
         },
         "title": {
          "font": {
           "color": "#4D5663"
          },
          "text": ""
         },
         "zerolinecolor": "#E1E5ED"
        },
        "xaxis9": {
         "anchor": "y9",
         "domain": [
          0,
          0.2125
         ],
         "gridcolor": "#E1E5ED",
         "showgrid": false,
         "tickfont": {
          "color": "#4D5663"
         },
         "title": {
          "font": {
           "color": "#4D5663"
          },
          "text": ""
         },
         "zerolinecolor": "#E1E5ED"
        },
        "yaxis": {
         "anchor": "x",
         "domain": [
          0.8025,
          1
         ],
         "gridcolor": "#E1E5ED",
         "showgrid": false,
         "tickfont": {
          "color": "#4D5663"
         },
         "title": {
          "font": {
           "color": "#4D5663"
          },
          "text": ""
         },
         "zerolinecolor": "#E1E5ED"
        },
        "yaxis10": {
         "anchor": "x10",
         "domain": [
          0.2675,
          0.465
         ],
         "gridcolor": "#E1E5ED",
         "showgrid": false,
         "tickfont": {
          "color": "#4D5663"
         },
         "title": {
          "font": {
           "color": "#4D5663"
          },
          "text": ""
         },
         "zerolinecolor": "#E1E5ED"
        },
        "yaxis11": {
         "anchor": "x11",
         "domain": [
          0.2675,
          0.465
         ],
         "gridcolor": "#E1E5ED",
         "showgrid": false,
         "tickfont": {
          "color": "#4D5663"
         },
         "title": {
          "font": {
           "color": "#4D5663"
          },
          "text": ""
         },
         "zerolinecolor": "#E1E5ED"
        },
        "yaxis12": {
         "anchor": "x12",
         "domain": [
          0.2675,
          0.465
         ],
         "gridcolor": "#E1E5ED",
         "showgrid": false,
         "tickfont": {
          "color": "#4D5663"
         },
         "title": {
          "font": {
           "color": "#4D5663"
          },
          "text": ""
         },
         "zerolinecolor": "#E1E5ED"
        },
        "yaxis13": {
         "anchor": "x13",
         "domain": [
          0,
          0.1975
         ],
         "gridcolor": "#E1E5ED",
         "showgrid": false,
         "tickfont": {
          "color": "#4D5663"
         },
         "title": {
          "font": {
           "color": "#4D5663"
          },
          "text": ""
         },
         "zerolinecolor": "#E1E5ED"
        },
        "yaxis14": {
         "anchor": "x14",
         "domain": [
          0,
          0.1975
         ],
         "gridcolor": "#E1E5ED",
         "showgrid": false,
         "tickfont": {
          "color": "#4D5663"
         },
         "title": {
          "font": {
           "color": "#4D5663"
          },
          "text": ""
         },
         "zerolinecolor": "#E1E5ED"
        },
        "yaxis15": {
         "anchor": "x15",
         "domain": [
          0,
          0.1975
         ],
         "gridcolor": "#E1E5ED",
         "showgrid": false,
         "tickfont": {
          "color": "#4D5663"
         },
         "title": {
          "font": {
           "color": "#4D5663"
          },
          "text": ""
         },
         "zerolinecolor": "#E1E5ED"
        },
        "yaxis16": {
         "anchor": "x16",
         "domain": [
          0,
          0.1975
         ],
         "gridcolor": "#E1E5ED",
         "showgrid": false,
         "tickfont": {
          "color": "#4D5663"
         },
         "title": {
          "font": {
           "color": "#4D5663"
          },
          "text": ""
         },
         "zerolinecolor": "#E1E5ED"
        },
        "yaxis2": {
         "anchor": "x2",
         "domain": [
          0.8025,
          1
         ],
         "gridcolor": "#E1E5ED",
         "showgrid": false,
         "tickfont": {
          "color": "#4D5663"
         },
         "title": {
          "font": {
           "color": "#4D5663"
          },
          "text": ""
         },
         "zerolinecolor": "#E1E5ED"
        },
        "yaxis3": {
         "anchor": "x3",
         "domain": [
          0.8025,
          1
         ],
         "gridcolor": "#E1E5ED",
         "showgrid": false,
         "tickfont": {
          "color": "#4D5663"
         },
         "title": {
          "font": {
           "color": "#4D5663"
          },
          "text": ""
         },
         "zerolinecolor": "#E1E5ED"
        },
        "yaxis4": {
         "anchor": "x4",
         "domain": [
          0.8025,
          1
         ],
         "gridcolor": "#E1E5ED",
         "showgrid": false,
         "tickfont": {
          "color": "#4D5663"
         },
         "title": {
          "font": {
           "color": "#4D5663"
          },
          "text": ""
         },
         "zerolinecolor": "#E1E5ED"
        },
        "yaxis5": {
         "anchor": "x5",
         "domain": [
          0.535,
          0.7325
         ],
         "gridcolor": "#E1E5ED",
         "showgrid": false,
         "tickfont": {
          "color": "#4D5663"
         },
         "title": {
          "font": {
           "color": "#4D5663"
          },
          "text": ""
         },
         "zerolinecolor": "#E1E5ED"
        },
        "yaxis6": {
         "anchor": "x6",
         "domain": [
          0.535,
          0.7325
         ],
         "gridcolor": "#E1E5ED",
         "showgrid": false,
         "tickfont": {
          "color": "#4D5663"
         },
         "title": {
          "font": {
           "color": "#4D5663"
          },
          "text": ""
         },
         "zerolinecolor": "#E1E5ED"
        },
        "yaxis7": {
         "anchor": "x7",
         "domain": [
          0.535,
          0.7325
         ],
         "gridcolor": "#E1E5ED",
         "showgrid": false,
         "tickfont": {
          "color": "#4D5663"
         },
         "title": {
          "font": {
           "color": "#4D5663"
          },
          "text": ""
         },
         "zerolinecolor": "#E1E5ED"
        },
        "yaxis8": {
         "anchor": "x8",
         "domain": [
          0.535,
          0.7325
         ],
         "gridcolor": "#E1E5ED",
         "showgrid": false,
         "tickfont": {
          "color": "#4D5663"
         },
         "title": {
          "font": {
           "color": "#4D5663"
          },
          "text": ""
         },
         "zerolinecolor": "#E1E5ED"
        },
        "yaxis9": {
         "anchor": "x9",
         "domain": [
          0.2675,
          0.465
         ],
         "gridcolor": "#E1E5ED",
         "showgrid": false,
         "tickfont": {
          "color": "#4D5663"
         },
         "title": {
          "font": {
           "color": "#4D5663"
          },
          "text": ""
         },
         "zerolinecolor": "#E1E5ED"
        }
       }
      },
      "text/html": [
       "<div>                            <div id=\"4314fdce-ca5f-4ae9-abe6-4fca237c9c72\" class=\"plotly-graph-div\" style=\"height:525px; width:100%;\"></div>            <script type=\"text/javascript\">                require([\"plotly\"], function(Plotly) {                    window.PLOTLYENV=window.PLOTLYENV || {};\n",
       "                    window.PLOTLYENV.BASE_URL='https://plot.ly';                                    if (document.getElementById(\"4314fdce-ca5f-4ae9-abe6-4fca237c9c72\")) {                    Plotly.newPlot(                        \"4314fdce-ca5f-4ae9-abe6-4fca237c9c72\",                        [{\"histfunc\":\"count\",\"histnorm\":\"\",\"marker\":{\"color\":\"rgba(255, 153, 51, 1.0)\",\"line\":{\"color\":\"#4D5663\",\"width\":1.3}},\"name\":\"A\",\"nbinsx\":10,\"opacity\":0.8,\"orientation\":\"v\",\"x\":[0.9114742326787507,0.7578989467691609,-0.9874361968395297,0.22016382884816021,0.6077927569514273,0.7778834736810324,2.1131546813030457,-2.4490055660620578,-1.264753726599821,-1.113114717122689,0.7074598991253688,0.3011365498644992,1.3797717647512153,1.5678709953685082,-0.03622282412839025,1.2667918863642251,0.8749252774931616,-2.197805732647536,-1.0240395875458463,-2.142707972857464,-0.0736101364574777,-1.259255676470749,1.6015375948381252,1.112229978501615,-1.5622053971911025,1.8572790226404727,-0.4209177347085691,-0.912160726081105,-0.3037386021712285,0.8579623354976309,0.3565208302820152,0.6841429396840425,-0.7523937277325553,1.375620044215106,-1.2948947618372475,0.7226409299521954,-1.1545687528768627,0.4176384992573318,-0.0059278543542167945,-0.22869332071406231,-1.6746987522308645,0.9663733925438459,1.0763862190031617,-1.225551651184113,-0.7535643384107886,0.8096955120069954,-0.8670064279036938,-0.9680677241848497,1.1292477205253124,0.46947556948741576,-0.09447969379657634,0.5565096888594847,1.8403079260220252,0.3376051227254956,-0.9379486899192527,0.46813068099759814,0.09257732214048982,-1.6309760263885982,-0.11937821507956069,0.8475001411207256,-0.7150944067883627,1.1448948639850358,-1.0744821048971902,0.3924196833219243,0.9272154179010863,0.5026276413448757,0.8212503499671454,-0.8233919536733769,-0.2502667292808195,0.7236673354783757,0.18632609274324735,-1.9348967416153815,-0.3771390803791452,-0.9591907442850565,0.8657796666189373,0.28402206877817504,-0.23103203676238043,-1.6954591216753985,0.948904930684949,1.3203011128906776,1.3454169153034552,-0.2450999941893388,1.4276505694773265,0.9916419977998683,-0.46044944463704407,0.44416392997387194,0.24525133842413147,-0.09927401569069812,1.9148941613315424,0.8864805636561247,0.46370607184899737,-2.224352308256751,-1.0654022942267856,-0.2607577292767755,1.2242612562912998,-0.30021774043427785,-0.021938802648024933,0.038053496199222846,-0.08528024315010026,-1.5801736763077543],\"xaxis\":\"x\",\"yaxis\":\"y\",\"type\":\"histogram\"},{\"line\":{\"color\":\"rgba(128, 128, 128, 1.0)\",\"dash\":\"solid\",\"shape\":\"linear\",\"width\":1.3},\"marker\":{\"size\":2,\"symbol\":\"circle\"},\"mode\":\"markers\",\"name\":\"A\",\"text\":\"\",\"x\":[0.23541819233456246,0.5482224871344553,-0.6762289676794175,-0.29753389009341696,-1.6537645838455806,0.8304428942574472,-0.4408669209013495,-0.27435782294007777,-2.173375085890643,0.20695320388106786,-1.0993754893406398,-1.2579231680566736,-1.4442829489057019,0.11632297708104956,0.6225013721856922,0.4944394057517207,-0.549574433268328,-1.2070224915495484,1.1077365446492404,0.3767494463443737,-0.048808423374183826,0.00400584390178196,0.7597092760009614,-0.34791100636292516,0.23580016658069564,-1.050013416154085,0.39421190996753597,0.035283337196053005,0.494369633848719,-1.4410894003445818,-0.34759793246896226,0.31297072926656766,0.883043623213389,-1.309452016254821,-0.494268560748715,1.051270007897888,-0.9400845241081949,1.0062190989079038,-0.2299281540729599,1.1205820384556222,0.3401911629876612,0.37978093151711045,-1.612791942328893,1.099243459502892,-1.8305676394507513,0.3570138753485757,0.31951510178702425,0.25094716578977916,1.228620982901242,-0.6601164535624199,0.12442024935454234,-0.7786844570120308,-0.7945273805880833,-1.5218876699649064,-0.9973007205172868,0.942982191799194,-0.5481870611417685,-1.711267025816037,0.6863576806719326,-0.2728391456421554,-0.6960216221354287,1.083291241894601,-0.23410333746971343,0.14876058960735514,-0.9504526268294847,-1.2684548505074855,-0.970167356029588,0.16555895612980628,0.7982318400260477,0.3502567389757603,0.5106487860872726,1.7167365629146856,-0.17515656694386475,0.2510405169637239,1.067048180128776,0.08249294970519207,1.8817184628314625,-0.2925444339019961,0.4982443469520614,0.7579274298666225,0.4513504840483056,0.18293533511137006,0.2074313555949219,1.0830362728623577,-1.3640558765781092,0.6695669304242179,-0.7917332091991889,0.9611564033860209,-0.6748198117284865,-0.4294317859327062,-0.44003438666389727,-0.7834587412866575,-0.6052898884146282,-0.5273756713097408,0.036473522701766556,-1.0318261997633305,0.4874952484513759,0.2303280257982348,-1.4352230408514677,0.8365986862717942],\"xaxis\":\"x2\",\"y\":[0.9114742326787507,0.7578989467691609,-0.9874361968395297,0.22016382884816021,0.6077927569514273,0.7778834736810324,2.1131546813030457,-2.4490055660620578,-1.264753726599821,-1.113114717122689,0.7074598991253688,0.3011365498644992,1.3797717647512153,1.5678709953685082,-0.03622282412839025,1.2667918863642251,0.8749252774931616,-2.197805732647536,-1.0240395875458463,-2.142707972857464,-0.0736101364574777,-1.259255676470749,1.6015375948381252,1.112229978501615,-1.5622053971911025,1.8572790226404727,-0.4209177347085691,-0.912160726081105,-0.3037386021712285,0.8579623354976309,0.3565208302820152,0.6841429396840425,-0.7523937277325553,1.375620044215106,-1.2948947618372475,0.7226409299521954,-1.1545687528768627,0.4176384992573318,-0.0059278543542167945,-0.22869332071406231,-1.6746987522308645,0.9663733925438459,1.0763862190031617,-1.225551651184113,-0.7535643384107886,0.8096955120069954,-0.8670064279036938,-0.9680677241848497,1.1292477205253124,0.46947556948741576,-0.09447969379657634,0.5565096888594847,1.8403079260220252,0.3376051227254956,-0.9379486899192527,0.46813068099759814,0.09257732214048982,-1.6309760263885982,-0.11937821507956069,0.8475001411207256,-0.7150944067883627,1.1448948639850358,-1.0744821048971902,0.3924196833219243,0.9272154179010863,0.5026276413448757,0.8212503499671454,-0.8233919536733769,-0.2502667292808195,0.7236673354783757,0.18632609274324735,-1.9348967416153815,-0.3771390803791452,-0.9591907442850565,0.8657796666189373,0.28402206877817504,-0.23103203676238043,-1.6954591216753985,0.948904930684949,1.3203011128906776,1.3454169153034552,-0.2450999941893388,1.4276505694773265,0.9916419977998683,-0.46044944463704407,0.44416392997387194,0.24525133842413147,-0.09927401569069812,1.9148941613315424,0.8864805636561247,0.46370607184899737,-2.224352308256751,-1.0654022942267856,-0.2607577292767755,1.2242612562912998,-0.30021774043427785,-0.021938802648024933,0.038053496199222846,-0.08528024315010026,-1.5801736763077543],\"yaxis\":\"y2\",\"type\":\"scatter\"},{\"line\":{\"color\":\"rgba(128, 128, 128, 1.0)\",\"dash\":\"solid\",\"shape\":\"linear\",\"width\":1.3},\"marker\":{\"size\":2,\"symbol\":\"circle\"},\"mode\":\"markers\",\"name\":\"A\",\"text\":\"\",\"x\":[0.33159382889093897,1.447809361647789,-3.057898021481233,1.0721535539537346,0.044687667947729375,0.872972883800426,-0.28506900464728674,-1.5575867934574539,-0.69560542074055,-0.6464136285248375,0.09906795842602548,-0.4246994047366325,0.5118438087752405,-0.057517181648641814,-0.3377287526595544,0.2083218886629037,-0.6255277778326924,0.18270356033481291,0.7991523515569429,-0.22647420888358555,1.8049577991080799,-1.6788760976975368,-0.06424651071240646,-0.09103778121669379,1.3536598066408292,-0.6809437310425657,-0.11440252930192768,-0.8638653534763195,-0.766833989069785,-0.06065156140434344,-0.008689816537314935,0.46563925822759356,0.6311286876651727,0.18719082476252455,0.12524589874444228,-0.0020753413838818704,0.4824630932676719,-0.16204935490952657,1.7484565548649158,-2.0333777805855067,1.1442666922277265,-0.583660765983921,0.40006385089083524,0.2554936902204025,1.7632240516919286,-2.1105043746106364,-0.05472540842398133,-0.25654169455846243,1.2906969126041137,-1.1727916447892612,0.37511910233539225,-1.4765301904352583,1.3266600403869049,1.3091281328318431,0.5770517273263297,1.0102152886048745,0.9271616463077071,-1.3121053160858236,0.15430064383878492,0.4343646787486703,0.7648295337520874,0.0010279979113985804,2.0122074908525374,0.7371601726429114,-1.0982660302641305,1.1060467225218433,-0.8123496961323617,-0.3020873044531328,-0.4822687382358651,0.19834620731840744,-0.5051779206498165,2.3267912224123037,-0.3837545472329332,2.00039780076727,-0.21015476119341628,1.3695563344236863,-0.18356274447819448,-0.9869414037115862,1.2573939484840138,-0.9974680767904183,-0.03016531623685427,-0.37227167499205605,-0.9834660095241162,1.0463771501486643,-1.3886348130374762,-0.2840452775493542,1.684020079045663,2.431507322750734,-0.29468379557602725,-1.1828305148219531,-1.3406672432698592,-0.24842197641566804,-0.28615636704573805,0.2881254044242977,-1.4138058212029754,0.13279188123861654,0.2839494887397639,-0.15060777856568913,-0.07227228266801128,-0.32000990600863505],\"xaxis\":\"x3\",\"y\":[0.9114742326787507,0.7578989467691609,-0.9874361968395297,0.22016382884816021,0.6077927569514273,0.7778834736810324,2.1131546813030457,-2.4490055660620578,-1.264753726599821,-1.113114717122689,0.7074598991253688,0.3011365498644992,1.3797717647512153,1.5678709953685082,-0.03622282412839025,1.2667918863642251,0.8749252774931616,-2.197805732647536,-1.0240395875458463,-2.142707972857464,-0.0736101364574777,-1.259255676470749,1.6015375948381252,1.112229978501615,-1.5622053971911025,1.8572790226404727,-0.4209177347085691,-0.912160726081105,-0.3037386021712285,0.8579623354976309,0.3565208302820152,0.6841429396840425,-0.7523937277325553,1.375620044215106,-1.2948947618372475,0.7226409299521954,-1.1545687528768627,0.4176384992573318,-0.0059278543542167945,-0.22869332071406231,-1.6746987522308645,0.9663733925438459,1.0763862190031617,-1.225551651184113,-0.7535643384107886,0.8096955120069954,-0.8670064279036938,-0.9680677241848497,1.1292477205253124,0.46947556948741576,-0.09447969379657634,0.5565096888594847,1.8403079260220252,0.3376051227254956,-0.9379486899192527,0.46813068099759814,0.09257732214048982,-1.6309760263885982,-0.11937821507956069,0.8475001411207256,-0.7150944067883627,1.1448948639850358,-1.0744821048971902,0.3924196833219243,0.9272154179010863,0.5026276413448757,0.8212503499671454,-0.8233919536733769,-0.2502667292808195,0.7236673354783757,0.18632609274324735,-1.9348967416153815,-0.3771390803791452,-0.9591907442850565,0.8657796666189373,0.28402206877817504,-0.23103203676238043,-1.6954591216753985,0.948904930684949,1.3203011128906776,1.3454169153034552,-0.2450999941893388,1.4276505694773265,0.9916419977998683,-0.46044944463704407,0.44416392997387194,0.24525133842413147,-0.09927401569069812,1.9148941613315424,0.8864805636561247,0.46370607184899737,-2.224352308256751,-1.0654022942267856,-0.2607577292767755,1.2242612562912998,-0.30021774043427785,-0.021938802648024933,0.038053496199222846,-0.08528024315010026,-1.5801736763077543],\"yaxis\":\"y3\",\"type\":\"scatter\"},{\"line\":{\"color\":\"rgba(128, 128, 128, 1.0)\",\"dash\":\"solid\",\"shape\":\"linear\",\"width\":1.3},\"marker\":{\"size\":2,\"symbol\":\"circle\"},\"mode\":\"markers\",\"name\":\"A\",\"text\":\"\",\"x\":[0.3953236963605586,0.26555633432236486,0.2097775525625949,1.4690921462695166,-0.14708148336191335,-0.7155676639501172,0.8627275028784384,0.23435207686359824,0.10614701099097222,-0.6852101996613775,0.8932174271594331,-1.3654914333716544,-0.8223678964925764,1.8178755957856105,-1.0342982291053993,-1.5335500335630794,-0.43170413919432066,0.14846561179549114,-0.5821020801096143,0.5817186033403611,-1.4521574415585974,0.6086652957710648,0.7234440621490581,0.5088865641055051,0.5254611488546999,0.3863312377462917,0.9879135131200036,-0.07995439149274455,1.277288697916219,1.1568760932951998,1.3193530229625707,0.0011542210109643466,-0.9500364323321739,0.046677435612805816,0.36869335442624446,-1.588544987820071,-0.009253870486863321,0.1991922944543913,0.7549806144934953,1.272570401466503,0.7722948928218335,0.1411436899941937,-1.0899345184067535,-1.4179000416771987,-0.7076439536593965,0.4855721524751803,0.7127007529470571,1.1287392986360651,-0.3355870543232249,-0.315997322540617,-0.9408806721014545,0.1044642196318428,-1.332296238309656,0.8015132405924561,-0.2247122221073949,-1.1860301507973456,-1.2745945875111375,0.7899177033411156,-0.14858819487646693,0.24797528446350714,-0.1222456635245913,-0.2673001561129547,1.0653755229872934,-0.7679546514699183,0.6293299104429344,0.5133379367005246,0.7057705294592451,-0.7229258052960552,-0.09723657198252915,0.45606463801579067,-1.475479511073014,-1.3189562289885057,-0.26660994520495584,-0.7976024307340472,1.4797448361865924,-1.2442847418516547,-1.4042107615711705,-0.6655216766310934,-0.5546622354439035,0.5775549793924971,-0.5107150567854909,0.9387535700602244,-0.5807507557800171,1.4484253006029395,-0.9876021102336194,2.636248017311349,1.8405929907881782,3.466446551789191,1.3037005259908636,0.15165060142879644,0.6250704202789166,-0.24722003521289038,0.4444529300966973,-1.0778833446048044,-0.6529347672061518,-0.47810765804077615,-0.0578030958212901,0.6938324757859928,1.2439769121817552,-0.117912855409765],\"xaxis\":\"x4\",\"y\":[0.9114742326787507,0.7578989467691609,-0.9874361968395297,0.22016382884816021,0.6077927569514273,0.7778834736810324,2.1131546813030457,-2.4490055660620578,-1.264753726599821,-1.113114717122689,0.7074598991253688,0.3011365498644992,1.3797717647512153,1.5678709953685082,-0.03622282412839025,1.2667918863642251,0.8749252774931616,-2.197805732647536,-1.0240395875458463,-2.142707972857464,-0.0736101364574777,-1.259255676470749,1.6015375948381252,1.112229978501615,-1.5622053971911025,1.8572790226404727,-0.4209177347085691,-0.912160726081105,-0.3037386021712285,0.8579623354976309,0.3565208302820152,0.6841429396840425,-0.7523937277325553,1.375620044215106,-1.2948947618372475,0.7226409299521954,-1.1545687528768627,0.4176384992573318,-0.0059278543542167945,-0.22869332071406231,-1.6746987522308645,0.9663733925438459,1.0763862190031617,-1.225551651184113,-0.7535643384107886,0.8096955120069954,-0.8670064279036938,-0.9680677241848497,1.1292477205253124,0.46947556948741576,-0.09447969379657634,0.5565096888594847,1.8403079260220252,0.3376051227254956,-0.9379486899192527,0.46813068099759814,0.09257732214048982,-1.6309760263885982,-0.11937821507956069,0.8475001411207256,-0.7150944067883627,1.1448948639850358,-1.0744821048971902,0.3924196833219243,0.9272154179010863,0.5026276413448757,0.8212503499671454,-0.8233919536733769,-0.2502667292808195,0.7236673354783757,0.18632609274324735,-1.9348967416153815,-0.3771390803791452,-0.9591907442850565,0.8657796666189373,0.28402206877817504,-0.23103203676238043,-1.6954591216753985,0.948904930684949,1.3203011128906776,1.3454169153034552,-0.2450999941893388,1.4276505694773265,0.9916419977998683,-0.46044944463704407,0.44416392997387194,0.24525133842413147,-0.09927401569069812,1.9148941613315424,0.8864805636561247,0.46370607184899737,-2.224352308256751,-1.0654022942267856,-0.2607577292767755,1.2242612562912998,-0.30021774043427785,-0.021938802648024933,0.038053496199222846,-0.08528024315010026,-1.5801736763077543],\"yaxis\":\"y4\",\"type\":\"scatter\"},{\"line\":{\"color\":\"rgba(128, 128, 128, 1.0)\",\"dash\":\"solid\",\"shape\":\"linear\",\"width\":1.3},\"marker\":{\"size\":2,\"symbol\":\"circle\"},\"mode\":\"markers\",\"name\":\"B\",\"text\":\"\",\"x\":[0.9114742326787507,0.7578989467691609,-0.9874361968395297,0.22016382884816021,0.6077927569514273,0.7778834736810324,2.1131546813030457,-2.4490055660620578,-1.264753726599821,-1.113114717122689,0.7074598991253688,0.3011365498644992,1.3797717647512153,1.5678709953685082,-0.03622282412839025,1.2667918863642251,0.8749252774931616,-2.197805732647536,-1.0240395875458463,-2.142707972857464,-0.0736101364574777,-1.259255676470749,1.6015375948381252,1.112229978501615,-1.5622053971911025,1.8572790226404727,-0.4209177347085691,-0.912160726081105,-0.3037386021712285,0.8579623354976309,0.3565208302820152,0.6841429396840425,-0.7523937277325553,1.375620044215106,-1.2948947618372475,0.7226409299521954,-1.1545687528768627,0.4176384992573318,-0.0059278543542167945,-0.22869332071406231,-1.6746987522308645,0.9663733925438459,1.0763862190031617,-1.225551651184113,-0.7535643384107886,0.8096955120069954,-0.8670064279036938,-0.9680677241848497,1.1292477205253124,0.46947556948741576,-0.09447969379657634,0.5565096888594847,1.8403079260220252,0.3376051227254956,-0.9379486899192527,0.46813068099759814,0.09257732214048982,-1.6309760263885982,-0.11937821507956069,0.8475001411207256,-0.7150944067883627,1.1448948639850358,-1.0744821048971902,0.3924196833219243,0.9272154179010863,0.5026276413448757,0.8212503499671454,-0.8233919536733769,-0.2502667292808195,0.7236673354783757,0.18632609274324735,-1.9348967416153815,-0.3771390803791452,-0.9591907442850565,0.8657796666189373,0.28402206877817504,-0.23103203676238043,-1.6954591216753985,0.948904930684949,1.3203011128906776,1.3454169153034552,-0.2450999941893388,1.4276505694773265,0.9916419977998683,-0.46044944463704407,0.44416392997387194,0.24525133842413147,-0.09927401569069812,1.9148941613315424,0.8864805636561247,0.46370607184899737,-2.224352308256751,-1.0654022942267856,-0.2607577292767755,1.2242612562912998,-0.30021774043427785,-0.021938802648024933,0.038053496199222846,-0.08528024315010026,-1.5801736763077543],\"xaxis\":\"x5\",\"y\":[0.23541819233456246,0.5482224871344553,-0.6762289676794175,-0.29753389009341696,-1.6537645838455806,0.8304428942574472,-0.4408669209013495,-0.27435782294007777,-2.173375085890643,0.20695320388106786,-1.0993754893406398,-1.2579231680566736,-1.4442829489057019,0.11632297708104956,0.6225013721856922,0.4944394057517207,-0.549574433268328,-1.2070224915495484,1.1077365446492404,0.3767494463443737,-0.048808423374183826,0.00400584390178196,0.7597092760009614,-0.34791100636292516,0.23580016658069564,-1.050013416154085,0.39421190996753597,0.035283337196053005,0.494369633848719,-1.4410894003445818,-0.34759793246896226,0.31297072926656766,0.883043623213389,-1.309452016254821,-0.494268560748715,1.051270007897888,-0.9400845241081949,1.0062190989079038,-0.2299281540729599,1.1205820384556222,0.3401911629876612,0.37978093151711045,-1.612791942328893,1.099243459502892,-1.8305676394507513,0.3570138753485757,0.31951510178702425,0.25094716578977916,1.228620982901242,-0.6601164535624199,0.12442024935454234,-0.7786844570120308,-0.7945273805880833,-1.5218876699649064,-0.9973007205172868,0.942982191799194,-0.5481870611417685,-1.711267025816037,0.6863576806719326,-0.2728391456421554,-0.6960216221354287,1.083291241894601,-0.23410333746971343,0.14876058960735514,-0.9504526268294847,-1.2684548505074855,-0.970167356029588,0.16555895612980628,0.7982318400260477,0.3502567389757603,0.5106487860872726,1.7167365629146856,-0.17515656694386475,0.2510405169637239,1.067048180128776,0.08249294970519207,1.8817184628314625,-0.2925444339019961,0.4982443469520614,0.7579274298666225,0.4513504840483056,0.18293533511137006,0.2074313555949219,1.0830362728623577,-1.3640558765781092,0.6695669304242179,-0.7917332091991889,0.9611564033860209,-0.6748198117284865,-0.4294317859327062,-0.44003438666389727,-0.7834587412866575,-0.6052898884146282,-0.5273756713097408,0.036473522701766556,-1.0318261997633305,0.4874952484513759,0.2303280257982348,-1.4352230408514677,0.8365986862717942],\"yaxis\":\"y5\",\"type\":\"scatter\"},{\"histfunc\":\"count\",\"histnorm\":\"\",\"marker\":{\"color\":\"rgba(55, 128, 191, 1.0)\",\"line\":{\"color\":\"#4D5663\",\"width\":1.3}},\"name\":\"B\",\"nbinsx\":10,\"opacity\":0.8,\"orientation\":\"v\",\"x\":[0.23541819233456246,0.5482224871344553,-0.6762289676794175,-0.29753389009341696,-1.6537645838455806,0.8304428942574472,-0.4408669209013495,-0.27435782294007777,-2.173375085890643,0.20695320388106786,-1.0993754893406398,-1.2579231680566736,-1.4442829489057019,0.11632297708104956,0.6225013721856922,0.4944394057517207,-0.549574433268328,-1.2070224915495484,1.1077365446492404,0.3767494463443737,-0.048808423374183826,0.00400584390178196,0.7597092760009614,-0.34791100636292516,0.23580016658069564,-1.050013416154085,0.39421190996753597,0.035283337196053005,0.494369633848719,-1.4410894003445818,-0.34759793246896226,0.31297072926656766,0.883043623213389,-1.309452016254821,-0.494268560748715,1.051270007897888,-0.9400845241081949,1.0062190989079038,-0.2299281540729599,1.1205820384556222,0.3401911629876612,0.37978093151711045,-1.612791942328893,1.099243459502892,-1.8305676394507513,0.3570138753485757,0.31951510178702425,0.25094716578977916,1.228620982901242,-0.6601164535624199,0.12442024935454234,-0.7786844570120308,-0.7945273805880833,-1.5218876699649064,-0.9973007205172868,0.942982191799194,-0.5481870611417685,-1.711267025816037,0.6863576806719326,-0.2728391456421554,-0.6960216221354287,1.083291241894601,-0.23410333746971343,0.14876058960735514,-0.9504526268294847,-1.2684548505074855,-0.970167356029588,0.16555895612980628,0.7982318400260477,0.3502567389757603,0.5106487860872726,1.7167365629146856,-0.17515656694386475,0.2510405169637239,1.067048180128776,0.08249294970519207,1.8817184628314625,-0.2925444339019961,0.4982443469520614,0.7579274298666225,0.4513504840483056,0.18293533511137006,0.2074313555949219,1.0830362728623577,-1.3640558765781092,0.6695669304242179,-0.7917332091991889,0.9611564033860209,-0.6748198117284865,-0.4294317859327062,-0.44003438666389727,-0.7834587412866575,-0.6052898884146282,-0.5273756713097408,0.036473522701766556,-1.0318261997633305,0.4874952484513759,0.2303280257982348,-1.4352230408514677,0.8365986862717942],\"xaxis\":\"x6\",\"yaxis\":\"y6\",\"type\":\"histogram\"},{\"line\":{\"color\":\"rgba(128, 128, 128, 1.0)\",\"dash\":\"solid\",\"shape\":\"linear\",\"width\":1.3},\"marker\":{\"size\":2,\"symbol\":\"circle\"},\"mode\":\"markers\",\"name\":\"B\",\"text\":\"\",\"x\":[0.33159382889093897,1.447809361647789,-3.057898021481233,1.0721535539537346,0.044687667947729375,0.872972883800426,-0.28506900464728674,-1.5575867934574539,-0.69560542074055,-0.6464136285248375,0.09906795842602548,-0.4246994047366325,0.5118438087752405,-0.057517181648641814,-0.3377287526595544,0.2083218886629037,-0.6255277778326924,0.18270356033481291,0.7991523515569429,-0.22647420888358555,1.8049577991080799,-1.6788760976975368,-0.06424651071240646,-0.09103778121669379,1.3536598066408292,-0.6809437310425657,-0.11440252930192768,-0.8638653534763195,-0.766833989069785,-0.06065156140434344,-0.008689816537314935,0.46563925822759356,0.6311286876651727,0.18719082476252455,0.12524589874444228,-0.0020753413838818704,0.4824630932676719,-0.16204935490952657,1.7484565548649158,-2.0333777805855067,1.1442666922277265,-0.583660765983921,0.40006385089083524,0.2554936902204025,1.7632240516919286,-2.1105043746106364,-0.05472540842398133,-0.25654169455846243,1.2906969126041137,-1.1727916447892612,0.37511910233539225,-1.4765301904352583,1.3266600403869049,1.3091281328318431,0.5770517273263297,1.0102152886048745,0.9271616463077071,-1.3121053160858236,0.15430064383878492,0.4343646787486703,0.7648295337520874,0.0010279979113985804,2.0122074908525374,0.7371601726429114,-1.0982660302641305,1.1060467225218433,-0.8123496961323617,-0.3020873044531328,-0.4822687382358651,0.19834620731840744,-0.5051779206498165,2.3267912224123037,-0.3837545472329332,2.00039780076727,-0.21015476119341628,1.3695563344236863,-0.18356274447819448,-0.9869414037115862,1.2573939484840138,-0.9974680767904183,-0.03016531623685427,-0.37227167499205605,-0.9834660095241162,1.0463771501486643,-1.3886348130374762,-0.2840452775493542,1.684020079045663,2.431507322750734,-0.29468379557602725,-1.1828305148219531,-1.3406672432698592,-0.24842197641566804,-0.28615636704573805,0.2881254044242977,-1.4138058212029754,0.13279188123861654,0.2839494887397639,-0.15060777856568913,-0.07227228266801128,-0.32000990600863505],\"xaxis\":\"x7\",\"y\":[0.23541819233456246,0.5482224871344553,-0.6762289676794175,-0.29753389009341696,-1.6537645838455806,0.8304428942574472,-0.4408669209013495,-0.27435782294007777,-2.173375085890643,0.20695320388106786,-1.0993754893406398,-1.2579231680566736,-1.4442829489057019,0.11632297708104956,0.6225013721856922,0.4944394057517207,-0.549574433268328,-1.2070224915495484,1.1077365446492404,0.3767494463443737,-0.048808423374183826,0.00400584390178196,0.7597092760009614,-0.34791100636292516,0.23580016658069564,-1.050013416154085,0.39421190996753597,0.035283337196053005,0.494369633848719,-1.4410894003445818,-0.34759793246896226,0.31297072926656766,0.883043623213389,-1.309452016254821,-0.494268560748715,1.051270007897888,-0.9400845241081949,1.0062190989079038,-0.2299281540729599,1.1205820384556222,0.3401911629876612,0.37978093151711045,-1.612791942328893,1.099243459502892,-1.8305676394507513,0.3570138753485757,0.31951510178702425,0.25094716578977916,1.228620982901242,-0.6601164535624199,0.12442024935454234,-0.7786844570120308,-0.7945273805880833,-1.5218876699649064,-0.9973007205172868,0.942982191799194,-0.5481870611417685,-1.711267025816037,0.6863576806719326,-0.2728391456421554,-0.6960216221354287,1.083291241894601,-0.23410333746971343,0.14876058960735514,-0.9504526268294847,-1.2684548505074855,-0.970167356029588,0.16555895612980628,0.7982318400260477,0.3502567389757603,0.5106487860872726,1.7167365629146856,-0.17515656694386475,0.2510405169637239,1.067048180128776,0.08249294970519207,1.8817184628314625,-0.2925444339019961,0.4982443469520614,0.7579274298666225,0.4513504840483056,0.18293533511137006,0.2074313555949219,1.0830362728623577,-1.3640558765781092,0.6695669304242179,-0.7917332091991889,0.9611564033860209,-0.6748198117284865,-0.4294317859327062,-0.44003438666389727,-0.7834587412866575,-0.6052898884146282,-0.5273756713097408,0.036473522701766556,-1.0318261997633305,0.4874952484513759,0.2303280257982348,-1.4352230408514677,0.8365986862717942],\"yaxis\":\"y7\",\"type\":\"scatter\"},{\"line\":{\"color\":\"rgba(128, 128, 128, 1.0)\",\"dash\":\"solid\",\"shape\":\"linear\",\"width\":1.3},\"marker\":{\"size\":2,\"symbol\":\"circle\"},\"mode\":\"markers\",\"name\":\"B\",\"text\":\"\",\"x\":[0.3953236963605586,0.26555633432236486,0.2097775525625949,1.4690921462695166,-0.14708148336191335,-0.7155676639501172,0.8627275028784384,0.23435207686359824,0.10614701099097222,-0.6852101996613775,0.8932174271594331,-1.3654914333716544,-0.8223678964925764,1.8178755957856105,-1.0342982291053993,-1.5335500335630794,-0.43170413919432066,0.14846561179549114,-0.5821020801096143,0.5817186033403611,-1.4521574415585974,0.6086652957710648,0.7234440621490581,0.5088865641055051,0.5254611488546999,0.3863312377462917,0.9879135131200036,-0.07995439149274455,1.277288697916219,1.1568760932951998,1.3193530229625707,0.0011542210109643466,-0.9500364323321739,0.046677435612805816,0.36869335442624446,-1.588544987820071,-0.009253870486863321,0.1991922944543913,0.7549806144934953,1.272570401466503,0.7722948928218335,0.1411436899941937,-1.0899345184067535,-1.4179000416771987,-0.7076439536593965,0.4855721524751803,0.7127007529470571,1.1287392986360651,-0.3355870543232249,-0.315997322540617,-0.9408806721014545,0.1044642196318428,-1.332296238309656,0.8015132405924561,-0.2247122221073949,-1.1860301507973456,-1.2745945875111375,0.7899177033411156,-0.14858819487646693,0.24797528446350714,-0.1222456635245913,-0.2673001561129547,1.0653755229872934,-0.7679546514699183,0.6293299104429344,0.5133379367005246,0.7057705294592451,-0.7229258052960552,-0.09723657198252915,0.45606463801579067,-1.475479511073014,-1.3189562289885057,-0.26660994520495584,-0.7976024307340472,1.4797448361865924,-1.2442847418516547,-1.4042107615711705,-0.6655216766310934,-0.5546622354439035,0.5775549793924971,-0.5107150567854909,0.9387535700602244,-0.5807507557800171,1.4484253006029395,-0.9876021102336194,2.636248017311349,1.8405929907881782,3.466446551789191,1.3037005259908636,0.15165060142879644,0.6250704202789166,-0.24722003521289038,0.4444529300966973,-1.0778833446048044,-0.6529347672061518,-0.47810765804077615,-0.0578030958212901,0.6938324757859928,1.2439769121817552,-0.117912855409765],\"xaxis\":\"x8\",\"y\":[0.23541819233456246,0.5482224871344553,-0.6762289676794175,-0.29753389009341696,-1.6537645838455806,0.8304428942574472,-0.4408669209013495,-0.27435782294007777,-2.173375085890643,0.20695320388106786,-1.0993754893406398,-1.2579231680566736,-1.4442829489057019,0.11632297708104956,0.6225013721856922,0.4944394057517207,-0.549574433268328,-1.2070224915495484,1.1077365446492404,0.3767494463443737,-0.048808423374183826,0.00400584390178196,0.7597092760009614,-0.34791100636292516,0.23580016658069564,-1.050013416154085,0.39421190996753597,0.035283337196053005,0.494369633848719,-1.4410894003445818,-0.34759793246896226,0.31297072926656766,0.883043623213389,-1.309452016254821,-0.494268560748715,1.051270007897888,-0.9400845241081949,1.0062190989079038,-0.2299281540729599,1.1205820384556222,0.3401911629876612,0.37978093151711045,-1.612791942328893,1.099243459502892,-1.8305676394507513,0.3570138753485757,0.31951510178702425,0.25094716578977916,1.228620982901242,-0.6601164535624199,0.12442024935454234,-0.7786844570120308,-0.7945273805880833,-1.5218876699649064,-0.9973007205172868,0.942982191799194,-0.5481870611417685,-1.711267025816037,0.6863576806719326,-0.2728391456421554,-0.6960216221354287,1.083291241894601,-0.23410333746971343,0.14876058960735514,-0.9504526268294847,-1.2684548505074855,-0.970167356029588,0.16555895612980628,0.7982318400260477,0.3502567389757603,0.5106487860872726,1.7167365629146856,-0.17515656694386475,0.2510405169637239,1.067048180128776,0.08249294970519207,1.8817184628314625,-0.2925444339019961,0.4982443469520614,0.7579274298666225,0.4513504840483056,0.18293533511137006,0.2074313555949219,1.0830362728623577,-1.3640558765781092,0.6695669304242179,-0.7917332091991889,0.9611564033860209,-0.6748198117284865,-0.4294317859327062,-0.44003438666389727,-0.7834587412866575,-0.6052898884146282,-0.5273756713097408,0.036473522701766556,-1.0318261997633305,0.4874952484513759,0.2303280257982348,-1.4352230408514677,0.8365986862717942],\"yaxis\":\"y8\",\"type\":\"scatter\"},{\"line\":{\"color\":\"rgba(128, 128, 128, 1.0)\",\"dash\":\"solid\",\"shape\":\"linear\",\"width\":1.3},\"marker\":{\"size\":2,\"symbol\":\"circle\"},\"mode\":\"markers\",\"name\":\"C\",\"text\":\"\",\"x\":[0.9114742326787507,0.7578989467691609,-0.9874361968395297,0.22016382884816021,0.6077927569514273,0.7778834736810324,2.1131546813030457,-2.4490055660620578,-1.264753726599821,-1.113114717122689,0.7074598991253688,0.3011365498644992,1.3797717647512153,1.5678709953685082,-0.03622282412839025,1.2667918863642251,0.8749252774931616,-2.197805732647536,-1.0240395875458463,-2.142707972857464,-0.0736101364574777,-1.259255676470749,1.6015375948381252,1.112229978501615,-1.5622053971911025,1.8572790226404727,-0.4209177347085691,-0.912160726081105,-0.3037386021712285,0.8579623354976309,0.3565208302820152,0.6841429396840425,-0.7523937277325553,1.375620044215106,-1.2948947618372475,0.7226409299521954,-1.1545687528768627,0.4176384992573318,-0.0059278543542167945,-0.22869332071406231,-1.6746987522308645,0.9663733925438459,1.0763862190031617,-1.225551651184113,-0.7535643384107886,0.8096955120069954,-0.8670064279036938,-0.9680677241848497,1.1292477205253124,0.46947556948741576,-0.09447969379657634,0.5565096888594847,1.8403079260220252,0.3376051227254956,-0.9379486899192527,0.46813068099759814,0.09257732214048982,-1.6309760263885982,-0.11937821507956069,0.8475001411207256,-0.7150944067883627,1.1448948639850358,-1.0744821048971902,0.3924196833219243,0.9272154179010863,0.5026276413448757,0.8212503499671454,-0.8233919536733769,-0.2502667292808195,0.7236673354783757,0.18632609274324735,-1.9348967416153815,-0.3771390803791452,-0.9591907442850565,0.8657796666189373,0.28402206877817504,-0.23103203676238043,-1.6954591216753985,0.948904930684949,1.3203011128906776,1.3454169153034552,-0.2450999941893388,1.4276505694773265,0.9916419977998683,-0.46044944463704407,0.44416392997387194,0.24525133842413147,-0.09927401569069812,1.9148941613315424,0.8864805636561247,0.46370607184899737,-2.224352308256751,-1.0654022942267856,-0.2607577292767755,1.2242612562912998,-0.30021774043427785,-0.021938802648024933,0.038053496199222846,-0.08528024315010026,-1.5801736763077543],\"xaxis\":\"x9\",\"y\":[0.33159382889093897,1.447809361647789,-3.057898021481233,1.0721535539537346,0.044687667947729375,0.872972883800426,-0.28506900464728674,-1.5575867934574539,-0.69560542074055,-0.6464136285248375,0.09906795842602548,-0.4246994047366325,0.5118438087752405,-0.057517181648641814,-0.3377287526595544,0.2083218886629037,-0.6255277778326924,0.18270356033481291,0.7991523515569429,-0.22647420888358555,1.8049577991080799,-1.6788760976975368,-0.06424651071240646,-0.09103778121669379,1.3536598066408292,-0.6809437310425657,-0.11440252930192768,-0.8638653534763195,-0.766833989069785,-0.06065156140434344,-0.008689816537314935,0.46563925822759356,0.6311286876651727,0.18719082476252455,0.12524589874444228,-0.0020753413838818704,0.4824630932676719,-0.16204935490952657,1.7484565548649158,-2.0333777805855067,1.1442666922277265,-0.583660765983921,0.40006385089083524,0.2554936902204025,1.7632240516919286,-2.1105043746106364,-0.05472540842398133,-0.25654169455846243,1.2906969126041137,-1.1727916447892612,0.37511910233539225,-1.4765301904352583,1.3266600403869049,1.3091281328318431,0.5770517273263297,1.0102152886048745,0.9271616463077071,-1.3121053160858236,0.15430064383878492,0.4343646787486703,0.7648295337520874,0.0010279979113985804,2.0122074908525374,0.7371601726429114,-1.0982660302641305,1.1060467225218433,-0.8123496961323617,-0.3020873044531328,-0.4822687382358651,0.19834620731840744,-0.5051779206498165,2.3267912224123037,-0.3837545472329332,2.00039780076727,-0.21015476119341628,1.3695563344236863,-0.18356274447819448,-0.9869414037115862,1.2573939484840138,-0.9974680767904183,-0.03016531623685427,-0.37227167499205605,-0.9834660095241162,1.0463771501486643,-1.3886348130374762,-0.2840452775493542,1.684020079045663,2.431507322750734,-0.29468379557602725,-1.1828305148219531,-1.3406672432698592,-0.24842197641566804,-0.28615636704573805,0.2881254044242977,-1.4138058212029754,0.13279188123861654,0.2839494887397639,-0.15060777856568913,-0.07227228266801128,-0.32000990600863505],\"yaxis\":\"y9\",\"type\":\"scatter\"},{\"line\":{\"color\":\"rgba(128, 128, 128, 1.0)\",\"dash\":\"solid\",\"shape\":\"linear\",\"width\":1.3},\"marker\":{\"size\":2,\"symbol\":\"circle\"},\"mode\":\"markers\",\"name\":\"C\",\"text\":\"\",\"x\":[0.23541819233456246,0.5482224871344553,-0.6762289676794175,-0.29753389009341696,-1.6537645838455806,0.8304428942574472,-0.4408669209013495,-0.27435782294007777,-2.173375085890643,0.20695320388106786,-1.0993754893406398,-1.2579231680566736,-1.4442829489057019,0.11632297708104956,0.6225013721856922,0.4944394057517207,-0.549574433268328,-1.2070224915495484,1.1077365446492404,0.3767494463443737,-0.048808423374183826,0.00400584390178196,0.7597092760009614,-0.34791100636292516,0.23580016658069564,-1.050013416154085,0.39421190996753597,0.035283337196053005,0.494369633848719,-1.4410894003445818,-0.34759793246896226,0.31297072926656766,0.883043623213389,-1.309452016254821,-0.494268560748715,1.051270007897888,-0.9400845241081949,1.0062190989079038,-0.2299281540729599,1.1205820384556222,0.3401911629876612,0.37978093151711045,-1.612791942328893,1.099243459502892,-1.8305676394507513,0.3570138753485757,0.31951510178702425,0.25094716578977916,1.228620982901242,-0.6601164535624199,0.12442024935454234,-0.7786844570120308,-0.7945273805880833,-1.5218876699649064,-0.9973007205172868,0.942982191799194,-0.5481870611417685,-1.711267025816037,0.6863576806719326,-0.2728391456421554,-0.6960216221354287,1.083291241894601,-0.23410333746971343,0.14876058960735514,-0.9504526268294847,-1.2684548505074855,-0.970167356029588,0.16555895612980628,0.7982318400260477,0.3502567389757603,0.5106487860872726,1.7167365629146856,-0.17515656694386475,0.2510405169637239,1.067048180128776,0.08249294970519207,1.8817184628314625,-0.2925444339019961,0.4982443469520614,0.7579274298666225,0.4513504840483056,0.18293533511137006,0.2074313555949219,1.0830362728623577,-1.3640558765781092,0.6695669304242179,-0.7917332091991889,0.9611564033860209,-0.6748198117284865,-0.4294317859327062,-0.44003438666389727,-0.7834587412866575,-0.6052898884146282,-0.5273756713097408,0.036473522701766556,-1.0318261997633305,0.4874952484513759,0.2303280257982348,-1.4352230408514677,0.8365986862717942],\"xaxis\":\"x10\",\"y\":[0.33159382889093897,1.447809361647789,-3.057898021481233,1.0721535539537346,0.044687667947729375,0.872972883800426,-0.28506900464728674,-1.5575867934574539,-0.69560542074055,-0.6464136285248375,0.09906795842602548,-0.4246994047366325,0.5118438087752405,-0.057517181648641814,-0.3377287526595544,0.2083218886629037,-0.6255277778326924,0.18270356033481291,0.7991523515569429,-0.22647420888358555,1.8049577991080799,-1.6788760976975368,-0.06424651071240646,-0.09103778121669379,1.3536598066408292,-0.6809437310425657,-0.11440252930192768,-0.8638653534763195,-0.766833989069785,-0.06065156140434344,-0.008689816537314935,0.46563925822759356,0.6311286876651727,0.18719082476252455,0.12524589874444228,-0.0020753413838818704,0.4824630932676719,-0.16204935490952657,1.7484565548649158,-2.0333777805855067,1.1442666922277265,-0.583660765983921,0.40006385089083524,0.2554936902204025,1.7632240516919286,-2.1105043746106364,-0.05472540842398133,-0.25654169455846243,1.2906969126041137,-1.1727916447892612,0.37511910233539225,-1.4765301904352583,1.3266600403869049,1.3091281328318431,0.5770517273263297,1.0102152886048745,0.9271616463077071,-1.3121053160858236,0.15430064383878492,0.4343646787486703,0.7648295337520874,0.0010279979113985804,2.0122074908525374,0.7371601726429114,-1.0982660302641305,1.1060467225218433,-0.8123496961323617,-0.3020873044531328,-0.4822687382358651,0.19834620731840744,-0.5051779206498165,2.3267912224123037,-0.3837545472329332,2.00039780076727,-0.21015476119341628,1.3695563344236863,-0.18356274447819448,-0.9869414037115862,1.2573939484840138,-0.9974680767904183,-0.03016531623685427,-0.37227167499205605,-0.9834660095241162,1.0463771501486643,-1.3886348130374762,-0.2840452775493542,1.684020079045663,2.431507322750734,-0.29468379557602725,-1.1828305148219531,-1.3406672432698592,-0.24842197641566804,-0.28615636704573805,0.2881254044242977,-1.4138058212029754,0.13279188123861654,0.2839494887397639,-0.15060777856568913,-0.07227228266801128,-0.32000990600863505],\"yaxis\":\"y10\",\"type\":\"scatter\"},{\"histfunc\":\"count\",\"histnorm\":\"\",\"marker\":{\"color\":\"rgba(50, 171, 96, 1.0)\",\"line\":{\"color\":\"#4D5663\",\"width\":1.3}},\"name\":\"C\",\"nbinsx\":10,\"opacity\":0.8,\"orientation\":\"v\",\"x\":[0.33159382889093897,1.447809361647789,-3.057898021481233,1.0721535539537346,0.044687667947729375,0.872972883800426,-0.28506900464728674,-1.5575867934574539,-0.69560542074055,-0.6464136285248375,0.09906795842602548,-0.4246994047366325,0.5118438087752405,-0.057517181648641814,-0.3377287526595544,0.2083218886629037,-0.6255277778326924,0.18270356033481291,0.7991523515569429,-0.22647420888358555,1.8049577991080799,-1.6788760976975368,-0.06424651071240646,-0.09103778121669379,1.3536598066408292,-0.6809437310425657,-0.11440252930192768,-0.8638653534763195,-0.766833989069785,-0.06065156140434344,-0.008689816537314935,0.46563925822759356,0.6311286876651727,0.18719082476252455,0.12524589874444228,-0.0020753413838818704,0.4824630932676719,-0.16204935490952657,1.7484565548649158,-2.0333777805855067,1.1442666922277265,-0.583660765983921,0.40006385089083524,0.2554936902204025,1.7632240516919286,-2.1105043746106364,-0.05472540842398133,-0.25654169455846243,1.2906969126041137,-1.1727916447892612,0.37511910233539225,-1.4765301904352583,1.3266600403869049,1.3091281328318431,0.5770517273263297,1.0102152886048745,0.9271616463077071,-1.3121053160858236,0.15430064383878492,0.4343646787486703,0.7648295337520874,0.0010279979113985804,2.0122074908525374,0.7371601726429114,-1.0982660302641305,1.1060467225218433,-0.8123496961323617,-0.3020873044531328,-0.4822687382358651,0.19834620731840744,-0.5051779206498165,2.3267912224123037,-0.3837545472329332,2.00039780076727,-0.21015476119341628,1.3695563344236863,-0.18356274447819448,-0.9869414037115862,1.2573939484840138,-0.9974680767904183,-0.03016531623685427,-0.37227167499205605,-0.9834660095241162,1.0463771501486643,-1.3886348130374762,-0.2840452775493542,1.684020079045663,2.431507322750734,-0.29468379557602725,-1.1828305148219531,-1.3406672432698592,-0.24842197641566804,-0.28615636704573805,0.2881254044242977,-1.4138058212029754,0.13279188123861654,0.2839494887397639,-0.15060777856568913,-0.07227228266801128,-0.32000990600863505],\"xaxis\":\"x11\",\"yaxis\":\"y11\",\"type\":\"histogram\"},{\"line\":{\"color\":\"rgba(128, 128, 128, 1.0)\",\"dash\":\"solid\",\"shape\":\"linear\",\"width\":1.3},\"marker\":{\"size\":2,\"symbol\":\"circle\"},\"mode\":\"markers\",\"name\":\"C\",\"text\":\"\",\"x\":[0.3953236963605586,0.26555633432236486,0.2097775525625949,1.4690921462695166,-0.14708148336191335,-0.7155676639501172,0.8627275028784384,0.23435207686359824,0.10614701099097222,-0.6852101996613775,0.8932174271594331,-1.3654914333716544,-0.8223678964925764,1.8178755957856105,-1.0342982291053993,-1.5335500335630794,-0.43170413919432066,0.14846561179549114,-0.5821020801096143,0.5817186033403611,-1.4521574415585974,0.6086652957710648,0.7234440621490581,0.5088865641055051,0.5254611488546999,0.3863312377462917,0.9879135131200036,-0.07995439149274455,1.277288697916219,1.1568760932951998,1.3193530229625707,0.0011542210109643466,-0.9500364323321739,0.046677435612805816,0.36869335442624446,-1.588544987820071,-0.009253870486863321,0.1991922944543913,0.7549806144934953,1.272570401466503,0.7722948928218335,0.1411436899941937,-1.0899345184067535,-1.4179000416771987,-0.7076439536593965,0.4855721524751803,0.7127007529470571,1.1287392986360651,-0.3355870543232249,-0.315997322540617,-0.9408806721014545,0.1044642196318428,-1.332296238309656,0.8015132405924561,-0.2247122221073949,-1.1860301507973456,-1.2745945875111375,0.7899177033411156,-0.14858819487646693,0.24797528446350714,-0.1222456635245913,-0.2673001561129547,1.0653755229872934,-0.7679546514699183,0.6293299104429344,0.5133379367005246,0.7057705294592451,-0.7229258052960552,-0.09723657198252915,0.45606463801579067,-1.475479511073014,-1.3189562289885057,-0.26660994520495584,-0.7976024307340472,1.4797448361865924,-1.2442847418516547,-1.4042107615711705,-0.6655216766310934,-0.5546622354439035,0.5775549793924971,-0.5107150567854909,0.9387535700602244,-0.5807507557800171,1.4484253006029395,-0.9876021102336194,2.636248017311349,1.8405929907881782,3.466446551789191,1.3037005259908636,0.15165060142879644,0.6250704202789166,-0.24722003521289038,0.4444529300966973,-1.0778833446048044,-0.6529347672061518,-0.47810765804077615,-0.0578030958212901,0.6938324757859928,1.2439769121817552,-0.117912855409765],\"xaxis\":\"x12\",\"y\":[0.33159382889093897,1.447809361647789,-3.057898021481233,1.0721535539537346,0.044687667947729375,0.872972883800426,-0.28506900464728674,-1.5575867934574539,-0.69560542074055,-0.6464136285248375,0.09906795842602548,-0.4246994047366325,0.5118438087752405,-0.057517181648641814,-0.3377287526595544,0.2083218886629037,-0.6255277778326924,0.18270356033481291,0.7991523515569429,-0.22647420888358555,1.8049577991080799,-1.6788760976975368,-0.06424651071240646,-0.09103778121669379,1.3536598066408292,-0.6809437310425657,-0.11440252930192768,-0.8638653534763195,-0.766833989069785,-0.06065156140434344,-0.008689816537314935,0.46563925822759356,0.6311286876651727,0.18719082476252455,0.12524589874444228,-0.0020753413838818704,0.4824630932676719,-0.16204935490952657,1.7484565548649158,-2.0333777805855067,1.1442666922277265,-0.583660765983921,0.40006385089083524,0.2554936902204025,1.7632240516919286,-2.1105043746106364,-0.05472540842398133,-0.25654169455846243,1.2906969126041137,-1.1727916447892612,0.37511910233539225,-1.4765301904352583,1.3266600403869049,1.3091281328318431,0.5770517273263297,1.0102152886048745,0.9271616463077071,-1.3121053160858236,0.15430064383878492,0.4343646787486703,0.7648295337520874,0.0010279979113985804,2.0122074908525374,0.7371601726429114,-1.0982660302641305,1.1060467225218433,-0.8123496961323617,-0.3020873044531328,-0.4822687382358651,0.19834620731840744,-0.5051779206498165,2.3267912224123037,-0.3837545472329332,2.00039780076727,-0.21015476119341628,1.3695563344236863,-0.18356274447819448,-0.9869414037115862,1.2573939484840138,-0.9974680767904183,-0.03016531623685427,-0.37227167499205605,-0.9834660095241162,1.0463771501486643,-1.3886348130374762,-0.2840452775493542,1.684020079045663,2.431507322750734,-0.29468379557602725,-1.1828305148219531,-1.3406672432698592,-0.24842197641566804,-0.28615636704573805,0.2881254044242977,-1.4138058212029754,0.13279188123861654,0.2839494887397639,-0.15060777856568913,-0.07227228266801128,-0.32000990600863505],\"yaxis\":\"y12\",\"type\":\"scatter\"},{\"line\":{\"color\":\"rgba(128, 128, 128, 1.0)\",\"dash\":\"solid\",\"shape\":\"linear\",\"width\":1.3},\"marker\":{\"size\":2,\"symbol\":\"circle\"},\"mode\":\"markers\",\"name\":\"D\",\"text\":\"\",\"x\":[0.9114742326787507,0.7578989467691609,-0.9874361968395297,0.22016382884816021,0.6077927569514273,0.7778834736810324,2.1131546813030457,-2.4490055660620578,-1.264753726599821,-1.113114717122689,0.7074598991253688,0.3011365498644992,1.3797717647512153,1.5678709953685082,-0.03622282412839025,1.2667918863642251,0.8749252774931616,-2.197805732647536,-1.0240395875458463,-2.142707972857464,-0.0736101364574777,-1.259255676470749,1.6015375948381252,1.112229978501615,-1.5622053971911025,1.8572790226404727,-0.4209177347085691,-0.912160726081105,-0.3037386021712285,0.8579623354976309,0.3565208302820152,0.6841429396840425,-0.7523937277325553,1.375620044215106,-1.2948947618372475,0.7226409299521954,-1.1545687528768627,0.4176384992573318,-0.0059278543542167945,-0.22869332071406231,-1.6746987522308645,0.9663733925438459,1.0763862190031617,-1.225551651184113,-0.7535643384107886,0.8096955120069954,-0.8670064279036938,-0.9680677241848497,1.1292477205253124,0.46947556948741576,-0.09447969379657634,0.5565096888594847,1.8403079260220252,0.3376051227254956,-0.9379486899192527,0.46813068099759814,0.09257732214048982,-1.6309760263885982,-0.11937821507956069,0.8475001411207256,-0.7150944067883627,1.1448948639850358,-1.0744821048971902,0.3924196833219243,0.9272154179010863,0.5026276413448757,0.8212503499671454,-0.8233919536733769,-0.2502667292808195,0.7236673354783757,0.18632609274324735,-1.9348967416153815,-0.3771390803791452,-0.9591907442850565,0.8657796666189373,0.28402206877817504,-0.23103203676238043,-1.6954591216753985,0.948904930684949,1.3203011128906776,1.3454169153034552,-0.2450999941893388,1.4276505694773265,0.9916419977998683,-0.46044944463704407,0.44416392997387194,0.24525133842413147,-0.09927401569069812,1.9148941613315424,0.8864805636561247,0.46370607184899737,-2.224352308256751,-1.0654022942267856,-0.2607577292767755,1.2242612562912998,-0.30021774043427785,-0.021938802648024933,0.038053496199222846,-0.08528024315010026,-1.5801736763077543],\"xaxis\":\"x13\",\"y\":[0.3953236963605586,0.26555633432236486,0.2097775525625949,1.4690921462695166,-0.14708148336191335,-0.7155676639501172,0.8627275028784384,0.23435207686359824,0.10614701099097222,-0.6852101996613775,0.8932174271594331,-1.3654914333716544,-0.8223678964925764,1.8178755957856105,-1.0342982291053993,-1.5335500335630794,-0.43170413919432066,0.14846561179549114,-0.5821020801096143,0.5817186033403611,-1.4521574415585974,0.6086652957710648,0.7234440621490581,0.5088865641055051,0.5254611488546999,0.3863312377462917,0.9879135131200036,-0.07995439149274455,1.277288697916219,1.1568760932951998,1.3193530229625707,0.0011542210109643466,-0.9500364323321739,0.046677435612805816,0.36869335442624446,-1.588544987820071,-0.009253870486863321,0.1991922944543913,0.7549806144934953,1.272570401466503,0.7722948928218335,0.1411436899941937,-1.0899345184067535,-1.4179000416771987,-0.7076439536593965,0.4855721524751803,0.7127007529470571,1.1287392986360651,-0.3355870543232249,-0.315997322540617,-0.9408806721014545,0.1044642196318428,-1.332296238309656,0.8015132405924561,-0.2247122221073949,-1.1860301507973456,-1.2745945875111375,0.7899177033411156,-0.14858819487646693,0.24797528446350714,-0.1222456635245913,-0.2673001561129547,1.0653755229872934,-0.7679546514699183,0.6293299104429344,0.5133379367005246,0.7057705294592451,-0.7229258052960552,-0.09723657198252915,0.45606463801579067,-1.475479511073014,-1.3189562289885057,-0.26660994520495584,-0.7976024307340472,1.4797448361865924,-1.2442847418516547,-1.4042107615711705,-0.6655216766310934,-0.5546622354439035,0.5775549793924971,-0.5107150567854909,0.9387535700602244,-0.5807507557800171,1.4484253006029395,-0.9876021102336194,2.636248017311349,1.8405929907881782,3.466446551789191,1.3037005259908636,0.15165060142879644,0.6250704202789166,-0.24722003521289038,0.4444529300966973,-1.0778833446048044,-0.6529347672061518,-0.47810765804077615,-0.0578030958212901,0.6938324757859928,1.2439769121817552,-0.117912855409765],\"yaxis\":\"y13\",\"type\":\"scatter\"},{\"line\":{\"color\":\"rgba(128, 128, 128, 1.0)\",\"dash\":\"solid\",\"shape\":\"linear\",\"width\":1.3},\"marker\":{\"size\":2,\"symbol\":\"circle\"},\"mode\":\"markers\",\"name\":\"D\",\"text\":\"\",\"x\":[0.23541819233456246,0.5482224871344553,-0.6762289676794175,-0.29753389009341696,-1.6537645838455806,0.8304428942574472,-0.4408669209013495,-0.27435782294007777,-2.173375085890643,0.20695320388106786,-1.0993754893406398,-1.2579231680566736,-1.4442829489057019,0.11632297708104956,0.6225013721856922,0.4944394057517207,-0.549574433268328,-1.2070224915495484,1.1077365446492404,0.3767494463443737,-0.048808423374183826,0.00400584390178196,0.7597092760009614,-0.34791100636292516,0.23580016658069564,-1.050013416154085,0.39421190996753597,0.035283337196053005,0.494369633848719,-1.4410894003445818,-0.34759793246896226,0.31297072926656766,0.883043623213389,-1.309452016254821,-0.494268560748715,1.051270007897888,-0.9400845241081949,1.0062190989079038,-0.2299281540729599,1.1205820384556222,0.3401911629876612,0.37978093151711045,-1.612791942328893,1.099243459502892,-1.8305676394507513,0.3570138753485757,0.31951510178702425,0.25094716578977916,1.228620982901242,-0.6601164535624199,0.12442024935454234,-0.7786844570120308,-0.7945273805880833,-1.5218876699649064,-0.9973007205172868,0.942982191799194,-0.5481870611417685,-1.711267025816037,0.6863576806719326,-0.2728391456421554,-0.6960216221354287,1.083291241894601,-0.23410333746971343,0.14876058960735514,-0.9504526268294847,-1.2684548505074855,-0.970167356029588,0.16555895612980628,0.7982318400260477,0.3502567389757603,0.5106487860872726,1.7167365629146856,-0.17515656694386475,0.2510405169637239,1.067048180128776,0.08249294970519207,1.8817184628314625,-0.2925444339019961,0.4982443469520614,0.7579274298666225,0.4513504840483056,0.18293533511137006,0.2074313555949219,1.0830362728623577,-1.3640558765781092,0.6695669304242179,-0.7917332091991889,0.9611564033860209,-0.6748198117284865,-0.4294317859327062,-0.44003438666389727,-0.7834587412866575,-0.6052898884146282,-0.5273756713097408,0.036473522701766556,-1.0318261997633305,0.4874952484513759,0.2303280257982348,-1.4352230408514677,0.8365986862717942],\"xaxis\":\"x14\",\"y\":[0.3953236963605586,0.26555633432236486,0.2097775525625949,1.4690921462695166,-0.14708148336191335,-0.7155676639501172,0.8627275028784384,0.23435207686359824,0.10614701099097222,-0.6852101996613775,0.8932174271594331,-1.3654914333716544,-0.8223678964925764,1.8178755957856105,-1.0342982291053993,-1.5335500335630794,-0.43170413919432066,0.14846561179549114,-0.5821020801096143,0.5817186033403611,-1.4521574415585974,0.6086652957710648,0.7234440621490581,0.5088865641055051,0.5254611488546999,0.3863312377462917,0.9879135131200036,-0.07995439149274455,1.277288697916219,1.1568760932951998,1.3193530229625707,0.0011542210109643466,-0.9500364323321739,0.046677435612805816,0.36869335442624446,-1.588544987820071,-0.009253870486863321,0.1991922944543913,0.7549806144934953,1.272570401466503,0.7722948928218335,0.1411436899941937,-1.0899345184067535,-1.4179000416771987,-0.7076439536593965,0.4855721524751803,0.7127007529470571,1.1287392986360651,-0.3355870543232249,-0.315997322540617,-0.9408806721014545,0.1044642196318428,-1.332296238309656,0.8015132405924561,-0.2247122221073949,-1.1860301507973456,-1.2745945875111375,0.7899177033411156,-0.14858819487646693,0.24797528446350714,-0.1222456635245913,-0.2673001561129547,1.0653755229872934,-0.7679546514699183,0.6293299104429344,0.5133379367005246,0.7057705294592451,-0.7229258052960552,-0.09723657198252915,0.45606463801579067,-1.475479511073014,-1.3189562289885057,-0.26660994520495584,-0.7976024307340472,1.4797448361865924,-1.2442847418516547,-1.4042107615711705,-0.6655216766310934,-0.5546622354439035,0.5775549793924971,-0.5107150567854909,0.9387535700602244,-0.5807507557800171,1.4484253006029395,-0.9876021102336194,2.636248017311349,1.8405929907881782,3.466446551789191,1.3037005259908636,0.15165060142879644,0.6250704202789166,-0.24722003521289038,0.4444529300966973,-1.0778833446048044,-0.6529347672061518,-0.47810765804077615,-0.0578030958212901,0.6938324757859928,1.2439769121817552,-0.117912855409765],\"yaxis\":\"y14\",\"type\":\"scatter\"},{\"line\":{\"color\":\"rgba(128, 128, 128, 1.0)\",\"dash\":\"solid\",\"shape\":\"linear\",\"width\":1.3},\"marker\":{\"size\":2,\"symbol\":\"circle\"},\"mode\":\"markers\",\"name\":\"D\",\"text\":\"\",\"x\":[0.33159382889093897,1.447809361647789,-3.057898021481233,1.0721535539537346,0.044687667947729375,0.872972883800426,-0.28506900464728674,-1.5575867934574539,-0.69560542074055,-0.6464136285248375,0.09906795842602548,-0.4246994047366325,0.5118438087752405,-0.057517181648641814,-0.3377287526595544,0.2083218886629037,-0.6255277778326924,0.18270356033481291,0.7991523515569429,-0.22647420888358555,1.8049577991080799,-1.6788760976975368,-0.06424651071240646,-0.09103778121669379,1.3536598066408292,-0.6809437310425657,-0.11440252930192768,-0.8638653534763195,-0.766833989069785,-0.06065156140434344,-0.008689816537314935,0.46563925822759356,0.6311286876651727,0.18719082476252455,0.12524589874444228,-0.0020753413838818704,0.4824630932676719,-0.16204935490952657,1.7484565548649158,-2.0333777805855067,1.1442666922277265,-0.583660765983921,0.40006385089083524,0.2554936902204025,1.7632240516919286,-2.1105043746106364,-0.05472540842398133,-0.25654169455846243,1.2906969126041137,-1.1727916447892612,0.37511910233539225,-1.4765301904352583,1.3266600403869049,1.3091281328318431,0.5770517273263297,1.0102152886048745,0.9271616463077071,-1.3121053160858236,0.15430064383878492,0.4343646787486703,0.7648295337520874,0.0010279979113985804,2.0122074908525374,0.7371601726429114,-1.0982660302641305,1.1060467225218433,-0.8123496961323617,-0.3020873044531328,-0.4822687382358651,0.19834620731840744,-0.5051779206498165,2.3267912224123037,-0.3837545472329332,2.00039780076727,-0.21015476119341628,1.3695563344236863,-0.18356274447819448,-0.9869414037115862,1.2573939484840138,-0.9974680767904183,-0.03016531623685427,-0.37227167499205605,-0.9834660095241162,1.0463771501486643,-1.3886348130374762,-0.2840452775493542,1.684020079045663,2.431507322750734,-0.29468379557602725,-1.1828305148219531,-1.3406672432698592,-0.24842197641566804,-0.28615636704573805,0.2881254044242977,-1.4138058212029754,0.13279188123861654,0.2839494887397639,-0.15060777856568913,-0.07227228266801128,-0.32000990600863505],\"xaxis\":\"x15\",\"y\":[0.3953236963605586,0.26555633432236486,0.2097775525625949,1.4690921462695166,-0.14708148336191335,-0.7155676639501172,0.8627275028784384,0.23435207686359824,0.10614701099097222,-0.6852101996613775,0.8932174271594331,-1.3654914333716544,-0.8223678964925764,1.8178755957856105,-1.0342982291053993,-1.5335500335630794,-0.43170413919432066,0.14846561179549114,-0.5821020801096143,0.5817186033403611,-1.4521574415585974,0.6086652957710648,0.7234440621490581,0.5088865641055051,0.5254611488546999,0.3863312377462917,0.9879135131200036,-0.07995439149274455,1.277288697916219,1.1568760932951998,1.3193530229625707,0.0011542210109643466,-0.9500364323321739,0.046677435612805816,0.36869335442624446,-1.588544987820071,-0.009253870486863321,0.1991922944543913,0.7549806144934953,1.272570401466503,0.7722948928218335,0.1411436899941937,-1.0899345184067535,-1.4179000416771987,-0.7076439536593965,0.4855721524751803,0.7127007529470571,1.1287392986360651,-0.3355870543232249,-0.315997322540617,-0.9408806721014545,0.1044642196318428,-1.332296238309656,0.8015132405924561,-0.2247122221073949,-1.1860301507973456,-1.2745945875111375,0.7899177033411156,-0.14858819487646693,0.24797528446350714,-0.1222456635245913,-0.2673001561129547,1.0653755229872934,-0.7679546514699183,0.6293299104429344,0.5133379367005246,0.7057705294592451,-0.7229258052960552,-0.09723657198252915,0.45606463801579067,-1.475479511073014,-1.3189562289885057,-0.26660994520495584,-0.7976024307340472,1.4797448361865924,-1.2442847418516547,-1.4042107615711705,-0.6655216766310934,-0.5546622354439035,0.5775549793924971,-0.5107150567854909,0.9387535700602244,-0.5807507557800171,1.4484253006029395,-0.9876021102336194,2.636248017311349,1.8405929907881782,3.466446551789191,1.3037005259908636,0.15165060142879644,0.6250704202789166,-0.24722003521289038,0.4444529300966973,-1.0778833446048044,-0.6529347672061518,-0.47810765804077615,-0.0578030958212901,0.6938324757859928,1.2439769121817552,-0.117912855409765],\"yaxis\":\"y15\",\"type\":\"scatter\"},{\"histfunc\":\"count\",\"histnorm\":\"\",\"marker\":{\"color\":\"rgba(128, 0, 128, 1.0)\",\"line\":{\"color\":\"#4D5663\",\"width\":1.3}},\"name\":\"D\",\"nbinsx\":10,\"opacity\":0.8,\"orientation\":\"v\",\"x\":[0.3953236963605586,0.26555633432236486,0.2097775525625949,1.4690921462695166,-0.14708148336191335,-0.7155676639501172,0.8627275028784384,0.23435207686359824,0.10614701099097222,-0.6852101996613775,0.8932174271594331,-1.3654914333716544,-0.8223678964925764,1.8178755957856105,-1.0342982291053993,-1.5335500335630794,-0.43170413919432066,0.14846561179549114,-0.5821020801096143,0.5817186033403611,-1.4521574415585974,0.6086652957710648,0.7234440621490581,0.5088865641055051,0.5254611488546999,0.3863312377462917,0.9879135131200036,-0.07995439149274455,1.277288697916219,1.1568760932951998,1.3193530229625707,0.0011542210109643466,-0.9500364323321739,0.046677435612805816,0.36869335442624446,-1.588544987820071,-0.009253870486863321,0.1991922944543913,0.7549806144934953,1.272570401466503,0.7722948928218335,0.1411436899941937,-1.0899345184067535,-1.4179000416771987,-0.7076439536593965,0.4855721524751803,0.7127007529470571,1.1287392986360651,-0.3355870543232249,-0.315997322540617,-0.9408806721014545,0.1044642196318428,-1.332296238309656,0.8015132405924561,-0.2247122221073949,-1.1860301507973456,-1.2745945875111375,0.7899177033411156,-0.14858819487646693,0.24797528446350714,-0.1222456635245913,-0.2673001561129547,1.0653755229872934,-0.7679546514699183,0.6293299104429344,0.5133379367005246,0.7057705294592451,-0.7229258052960552,-0.09723657198252915,0.45606463801579067,-1.475479511073014,-1.3189562289885057,-0.26660994520495584,-0.7976024307340472,1.4797448361865924,-1.2442847418516547,-1.4042107615711705,-0.6655216766310934,-0.5546622354439035,0.5775549793924971,-0.5107150567854909,0.9387535700602244,-0.5807507557800171,1.4484253006029395,-0.9876021102336194,2.636248017311349,1.8405929907881782,3.466446551789191,1.3037005259908636,0.15165060142879644,0.6250704202789166,-0.24722003521289038,0.4444529300966973,-1.0778833446048044,-0.6529347672061518,-0.47810765804077615,-0.0578030958212901,0.6938324757859928,1.2439769121817552,-0.117912855409765],\"xaxis\":\"x16\",\"yaxis\":\"y16\",\"type\":\"histogram\"}],                        {\"bargap\":0.02,\"legend\":{\"bgcolor\":\"#F5F6F9\",\"font\":{\"color\":\"#4D5663\"}},\"paper_bgcolor\":\"#F5F6F9\",\"plot_bgcolor\":\"#F5F6F9\",\"showlegend\":false,\"template\":{\"data\":{\"barpolar\":[{\"marker\":{\"line\":{\"color\":\"#E5ECF6\",\"width\":0.5},\"pattern\":{\"fillmode\":\"overlay\",\"size\":10,\"solidity\":0.2}},\"type\":\"barpolar\"}],\"bar\":[{\"error_x\":{\"color\":\"#2a3f5f\"},\"error_y\":{\"color\":\"#2a3f5f\"},\"marker\":{\"line\":{\"color\":\"#E5ECF6\",\"width\":0.5},\"pattern\":{\"fillmode\":\"overlay\",\"size\":10,\"solidity\":0.2}},\"type\":\"bar\"}],\"carpet\":[{\"aaxis\":{\"endlinecolor\":\"#2a3f5f\",\"gridcolor\":\"white\",\"linecolor\":\"white\",\"minorgridcolor\":\"white\",\"startlinecolor\":\"#2a3f5f\"},\"baxis\":{\"endlinecolor\":\"#2a3f5f\",\"gridcolor\":\"white\",\"linecolor\":\"white\",\"minorgridcolor\":\"white\",\"startlinecolor\":\"#2a3f5f\"},\"type\":\"carpet\"}],\"choropleth\":[{\"colorbar\":{\"outlinewidth\":0,\"ticks\":\"\"},\"type\":\"choropleth\"}],\"contourcarpet\":[{\"colorbar\":{\"outlinewidth\":0,\"ticks\":\"\"},\"type\":\"contourcarpet\"}],\"contour\":[{\"colorbar\":{\"outlinewidth\":0,\"ticks\":\"\"},\"colorscale\":[[0.0,\"#0d0887\"],[0.1111111111111111,\"#46039f\"],[0.2222222222222222,\"#7201a8\"],[0.3333333333333333,\"#9c179e\"],[0.4444444444444444,\"#bd3786\"],[0.5555555555555556,\"#d8576b\"],[0.6666666666666666,\"#ed7953\"],[0.7777777777777778,\"#fb9f3a\"],[0.8888888888888888,\"#fdca26\"],[1.0,\"#f0f921\"]],\"type\":\"contour\"}],\"heatmapgl\":[{\"colorbar\":{\"outlinewidth\":0,\"ticks\":\"\"},\"colorscale\":[[0.0,\"#0d0887\"],[0.1111111111111111,\"#46039f\"],[0.2222222222222222,\"#7201a8\"],[0.3333333333333333,\"#9c179e\"],[0.4444444444444444,\"#bd3786\"],[0.5555555555555556,\"#d8576b\"],[0.6666666666666666,\"#ed7953\"],[0.7777777777777778,\"#fb9f3a\"],[0.8888888888888888,\"#fdca26\"],[1.0,\"#f0f921\"]],\"type\":\"heatmapgl\"}],\"heatmap\":[{\"colorbar\":{\"outlinewidth\":0,\"ticks\":\"\"},\"colorscale\":[[0.0,\"#0d0887\"],[0.1111111111111111,\"#46039f\"],[0.2222222222222222,\"#7201a8\"],[0.3333333333333333,\"#9c179e\"],[0.4444444444444444,\"#bd3786\"],[0.5555555555555556,\"#d8576b\"],[0.6666666666666666,\"#ed7953\"],[0.7777777777777778,\"#fb9f3a\"],[0.8888888888888888,\"#fdca26\"],[1.0,\"#f0f921\"]],\"type\":\"heatmap\"}],\"histogram2dcontour\":[{\"colorbar\":{\"outlinewidth\":0,\"ticks\":\"\"},\"colorscale\":[[0.0,\"#0d0887\"],[0.1111111111111111,\"#46039f\"],[0.2222222222222222,\"#7201a8\"],[0.3333333333333333,\"#9c179e\"],[0.4444444444444444,\"#bd3786\"],[0.5555555555555556,\"#d8576b\"],[0.6666666666666666,\"#ed7953\"],[0.7777777777777778,\"#fb9f3a\"],[0.8888888888888888,\"#fdca26\"],[1.0,\"#f0f921\"]],\"type\":\"histogram2dcontour\"}],\"histogram2d\":[{\"colorbar\":{\"outlinewidth\":0,\"ticks\":\"\"},\"colorscale\":[[0.0,\"#0d0887\"],[0.1111111111111111,\"#46039f\"],[0.2222222222222222,\"#7201a8\"],[0.3333333333333333,\"#9c179e\"],[0.4444444444444444,\"#bd3786\"],[0.5555555555555556,\"#d8576b\"],[0.6666666666666666,\"#ed7953\"],[0.7777777777777778,\"#fb9f3a\"],[0.8888888888888888,\"#fdca26\"],[1.0,\"#f0f921\"]],\"type\":\"histogram2d\"}],\"histogram\":[{\"marker\":{\"pattern\":{\"fillmode\":\"overlay\",\"size\":10,\"solidity\":0.2}},\"type\":\"histogram\"}],\"mesh3d\":[{\"colorbar\":{\"outlinewidth\":0,\"ticks\":\"\"},\"type\":\"mesh3d\"}],\"parcoords\":[{\"line\":{\"colorbar\":{\"outlinewidth\":0,\"ticks\":\"\"}},\"type\":\"parcoords\"}],\"pie\":[{\"automargin\":true,\"type\":\"pie\"}],\"scatter3d\":[{\"line\":{\"colorbar\":{\"outlinewidth\":0,\"ticks\":\"\"}},\"marker\":{\"colorbar\":{\"outlinewidth\":0,\"ticks\":\"\"}},\"type\":\"scatter3d\"}],\"scattercarpet\":[{\"marker\":{\"colorbar\":{\"outlinewidth\":0,\"ticks\":\"\"}},\"type\":\"scattercarpet\"}],\"scattergeo\":[{\"marker\":{\"colorbar\":{\"outlinewidth\":0,\"ticks\":\"\"}},\"type\":\"scattergeo\"}],\"scattergl\":[{\"marker\":{\"colorbar\":{\"outlinewidth\":0,\"ticks\":\"\"}},\"type\":\"scattergl\"}],\"scattermapbox\":[{\"marker\":{\"colorbar\":{\"outlinewidth\":0,\"ticks\":\"\"}},\"type\":\"scattermapbox\"}],\"scatterpolargl\":[{\"marker\":{\"colorbar\":{\"outlinewidth\":0,\"ticks\":\"\"}},\"type\":\"scatterpolargl\"}],\"scatterpolar\":[{\"marker\":{\"colorbar\":{\"outlinewidth\":0,\"ticks\":\"\"}},\"type\":\"scatterpolar\"}],\"scatter\":[{\"fillpattern\":{\"fillmode\":\"overlay\",\"size\":10,\"solidity\":0.2},\"type\":\"scatter\"}],\"scatterternary\":[{\"marker\":{\"colorbar\":{\"outlinewidth\":0,\"ticks\":\"\"}},\"type\":\"scatterternary\"}],\"surface\":[{\"colorbar\":{\"outlinewidth\":0,\"ticks\":\"\"},\"colorscale\":[[0.0,\"#0d0887\"],[0.1111111111111111,\"#46039f\"],[0.2222222222222222,\"#7201a8\"],[0.3333333333333333,\"#9c179e\"],[0.4444444444444444,\"#bd3786\"],[0.5555555555555556,\"#d8576b\"],[0.6666666666666666,\"#ed7953\"],[0.7777777777777778,\"#fb9f3a\"],[0.8888888888888888,\"#fdca26\"],[1.0,\"#f0f921\"]],\"type\":\"surface\"}],\"table\":[{\"cells\":{\"fill\":{\"color\":\"#EBF0F8\"},\"line\":{\"color\":\"white\"}},\"header\":{\"fill\":{\"color\":\"#C8D4E3\"},\"line\":{\"color\":\"white\"}},\"type\":\"table\"}]},\"layout\":{\"annotationdefaults\":{\"arrowcolor\":\"#2a3f5f\",\"arrowhead\":0,\"arrowwidth\":1},\"autotypenumbers\":\"strict\",\"coloraxis\":{\"colorbar\":{\"outlinewidth\":0,\"ticks\":\"\"}},\"colorscale\":{\"diverging\":[[0,\"#8e0152\"],[0.1,\"#c51b7d\"],[0.2,\"#de77ae\"],[0.3,\"#f1b6da\"],[0.4,\"#fde0ef\"],[0.5,\"#f7f7f7\"],[0.6,\"#e6f5d0\"],[0.7,\"#b8e186\"],[0.8,\"#7fbc41\"],[0.9,\"#4d9221\"],[1,\"#276419\"]],\"sequential\":[[0.0,\"#0d0887\"],[0.1111111111111111,\"#46039f\"],[0.2222222222222222,\"#7201a8\"],[0.3333333333333333,\"#9c179e\"],[0.4444444444444444,\"#bd3786\"],[0.5555555555555556,\"#d8576b\"],[0.6666666666666666,\"#ed7953\"],[0.7777777777777778,\"#fb9f3a\"],[0.8888888888888888,\"#fdca26\"],[1.0,\"#f0f921\"]],\"sequentialminus\":[[0.0,\"#0d0887\"],[0.1111111111111111,\"#46039f\"],[0.2222222222222222,\"#7201a8\"],[0.3333333333333333,\"#9c179e\"],[0.4444444444444444,\"#bd3786\"],[0.5555555555555556,\"#d8576b\"],[0.6666666666666666,\"#ed7953\"],[0.7777777777777778,\"#fb9f3a\"],[0.8888888888888888,\"#fdca26\"],[1.0,\"#f0f921\"]]},\"colorway\":[\"#636efa\",\"#EF553B\",\"#00cc96\",\"#ab63fa\",\"#FFA15A\",\"#19d3f3\",\"#FF6692\",\"#B6E880\",\"#FF97FF\",\"#FECB52\"],\"font\":{\"color\":\"#2a3f5f\"},\"geo\":{\"bgcolor\":\"white\",\"lakecolor\":\"white\",\"landcolor\":\"#E5ECF6\",\"showlakes\":true,\"showland\":true,\"subunitcolor\":\"white\"},\"hoverlabel\":{\"align\":\"left\"},\"hovermode\":\"closest\",\"mapbox\":{\"style\":\"light\"},\"paper_bgcolor\":\"white\",\"plot_bgcolor\":\"#E5ECF6\",\"polar\":{\"angularaxis\":{\"gridcolor\":\"white\",\"linecolor\":\"white\",\"ticks\":\"\"},\"bgcolor\":\"#E5ECF6\",\"radialaxis\":{\"gridcolor\":\"white\",\"linecolor\":\"white\",\"ticks\":\"\"}},\"scene\":{\"xaxis\":{\"backgroundcolor\":\"#E5ECF6\",\"gridcolor\":\"white\",\"gridwidth\":2,\"linecolor\":\"white\",\"showbackground\":true,\"ticks\":\"\",\"zerolinecolor\":\"white\"},\"yaxis\":{\"backgroundcolor\":\"#E5ECF6\",\"gridcolor\":\"white\",\"gridwidth\":2,\"linecolor\":\"white\",\"showbackground\":true,\"ticks\":\"\",\"zerolinecolor\":\"white\"},\"zaxis\":{\"backgroundcolor\":\"#E5ECF6\",\"gridcolor\":\"white\",\"gridwidth\":2,\"linecolor\":\"white\",\"showbackground\":true,\"ticks\":\"\",\"zerolinecolor\":\"white\"}},\"shapedefaults\":{\"line\":{\"color\":\"#2a3f5f\"}},\"ternary\":{\"aaxis\":{\"gridcolor\":\"white\",\"linecolor\":\"white\",\"ticks\":\"\"},\"baxis\":{\"gridcolor\":\"white\",\"linecolor\":\"white\",\"ticks\":\"\"},\"bgcolor\":\"#E5ECF6\",\"caxis\":{\"gridcolor\":\"white\",\"linecolor\":\"white\",\"ticks\":\"\"}},\"title\":{\"x\":0.05},\"xaxis\":{\"automargin\":true,\"gridcolor\":\"white\",\"linecolor\":\"white\",\"ticks\":\"\",\"title\":{\"standoff\":15},\"zerolinecolor\":\"white\",\"zerolinewidth\":2},\"yaxis\":{\"automargin\":true,\"gridcolor\":\"white\",\"linecolor\":\"white\",\"ticks\":\"\",\"title\":{\"standoff\":15},\"zerolinecolor\":\"white\",\"zerolinewidth\":2}}},\"title\":{\"font\":{\"color\":\"#4D5663\"}},\"xaxis\":{\"anchor\":\"y\",\"domain\":[0.0,0.2125],\"gridcolor\":\"#E1E5ED\",\"showgrid\":false,\"tickfont\":{\"color\":\"#4D5663\"},\"title\":{\"font\":{\"color\":\"#4D5663\"},\"text\":\"\"},\"zerolinecolor\":\"#E1E5ED\"},\"yaxis\":{\"anchor\":\"x\",\"domain\":[0.8025,1.0],\"gridcolor\":\"#E1E5ED\",\"showgrid\":false,\"tickfont\":{\"color\":\"#4D5663\"},\"title\":{\"font\":{\"color\":\"#4D5663\"},\"text\":\"\"},\"zerolinecolor\":\"#E1E5ED\"},\"xaxis2\":{\"anchor\":\"y2\",\"domain\":[0.2625,0.475],\"gridcolor\":\"#E1E5ED\",\"showgrid\":false,\"tickfont\":{\"color\":\"#4D5663\"},\"title\":{\"font\":{\"color\":\"#4D5663\"},\"text\":\"\"},\"zerolinecolor\":\"#E1E5ED\"},\"yaxis2\":{\"anchor\":\"x2\",\"domain\":[0.8025,1.0],\"gridcolor\":\"#E1E5ED\",\"showgrid\":false,\"tickfont\":{\"color\":\"#4D5663\"},\"title\":{\"font\":{\"color\":\"#4D5663\"},\"text\":\"\"},\"zerolinecolor\":\"#E1E5ED\"},\"xaxis3\":{\"anchor\":\"y3\",\"domain\":[0.525,0.7375],\"gridcolor\":\"#E1E5ED\",\"showgrid\":false,\"tickfont\":{\"color\":\"#4D5663\"},\"title\":{\"font\":{\"color\":\"#4D5663\"},\"text\":\"\"},\"zerolinecolor\":\"#E1E5ED\"},\"yaxis3\":{\"anchor\":\"x3\",\"domain\":[0.8025,1.0],\"gridcolor\":\"#E1E5ED\",\"showgrid\":false,\"tickfont\":{\"color\":\"#4D5663\"},\"title\":{\"font\":{\"color\":\"#4D5663\"},\"text\":\"\"},\"zerolinecolor\":\"#E1E5ED\"},\"xaxis4\":{\"anchor\":\"y4\",\"domain\":[0.7875,1.0],\"gridcolor\":\"#E1E5ED\",\"showgrid\":false,\"tickfont\":{\"color\":\"#4D5663\"},\"title\":{\"font\":{\"color\":\"#4D5663\"},\"text\":\"\"},\"zerolinecolor\":\"#E1E5ED\"},\"yaxis4\":{\"anchor\":\"x4\",\"domain\":[0.8025,1.0],\"gridcolor\":\"#E1E5ED\",\"showgrid\":false,\"tickfont\":{\"color\":\"#4D5663\"},\"title\":{\"font\":{\"color\":\"#4D5663\"},\"text\":\"\"},\"zerolinecolor\":\"#E1E5ED\"},\"xaxis5\":{\"anchor\":\"y5\",\"domain\":[0.0,0.2125],\"gridcolor\":\"#E1E5ED\",\"showgrid\":false,\"tickfont\":{\"color\":\"#4D5663\"},\"title\":{\"font\":{\"color\":\"#4D5663\"},\"text\":\"\"},\"zerolinecolor\":\"#E1E5ED\"},\"yaxis5\":{\"anchor\":\"x5\",\"domain\":[0.535,0.7325],\"gridcolor\":\"#E1E5ED\",\"showgrid\":false,\"tickfont\":{\"color\":\"#4D5663\"},\"title\":{\"font\":{\"color\":\"#4D5663\"},\"text\":\"\"},\"zerolinecolor\":\"#E1E5ED\"},\"xaxis6\":{\"anchor\":\"y6\",\"domain\":[0.2625,0.475],\"gridcolor\":\"#E1E5ED\",\"showgrid\":false,\"tickfont\":{\"color\":\"#4D5663\"},\"title\":{\"font\":{\"color\":\"#4D5663\"},\"text\":\"\"},\"zerolinecolor\":\"#E1E5ED\"},\"yaxis6\":{\"anchor\":\"x6\",\"domain\":[0.535,0.7325],\"gridcolor\":\"#E1E5ED\",\"showgrid\":false,\"tickfont\":{\"color\":\"#4D5663\"},\"title\":{\"font\":{\"color\":\"#4D5663\"},\"text\":\"\"},\"zerolinecolor\":\"#E1E5ED\"},\"xaxis7\":{\"anchor\":\"y7\",\"domain\":[0.525,0.7375],\"gridcolor\":\"#E1E5ED\",\"showgrid\":false,\"tickfont\":{\"color\":\"#4D5663\"},\"title\":{\"font\":{\"color\":\"#4D5663\"},\"text\":\"\"},\"zerolinecolor\":\"#E1E5ED\"},\"yaxis7\":{\"anchor\":\"x7\",\"domain\":[0.535,0.7325],\"gridcolor\":\"#E1E5ED\",\"showgrid\":false,\"tickfont\":{\"color\":\"#4D5663\"},\"title\":{\"font\":{\"color\":\"#4D5663\"},\"text\":\"\"},\"zerolinecolor\":\"#E1E5ED\"},\"xaxis8\":{\"anchor\":\"y8\",\"domain\":[0.7875,1.0],\"gridcolor\":\"#E1E5ED\",\"showgrid\":false,\"tickfont\":{\"color\":\"#4D5663\"},\"title\":{\"font\":{\"color\":\"#4D5663\"},\"text\":\"\"},\"zerolinecolor\":\"#E1E5ED\"},\"yaxis8\":{\"anchor\":\"x8\",\"domain\":[0.535,0.7325],\"gridcolor\":\"#E1E5ED\",\"showgrid\":false,\"tickfont\":{\"color\":\"#4D5663\"},\"title\":{\"font\":{\"color\":\"#4D5663\"},\"text\":\"\"},\"zerolinecolor\":\"#E1E5ED\"},\"xaxis9\":{\"anchor\":\"y9\",\"domain\":[0.0,0.2125],\"gridcolor\":\"#E1E5ED\",\"showgrid\":false,\"tickfont\":{\"color\":\"#4D5663\"},\"title\":{\"font\":{\"color\":\"#4D5663\"},\"text\":\"\"},\"zerolinecolor\":\"#E1E5ED\"},\"yaxis9\":{\"anchor\":\"x9\",\"domain\":[0.2675,0.465],\"gridcolor\":\"#E1E5ED\",\"showgrid\":false,\"tickfont\":{\"color\":\"#4D5663\"},\"title\":{\"font\":{\"color\":\"#4D5663\"},\"text\":\"\"},\"zerolinecolor\":\"#E1E5ED\"},\"xaxis10\":{\"anchor\":\"y10\",\"domain\":[0.2625,0.475],\"gridcolor\":\"#E1E5ED\",\"showgrid\":false,\"tickfont\":{\"color\":\"#4D5663\"},\"title\":{\"font\":{\"color\":\"#4D5663\"},\"text\":\"\"},\"zerolinecolor\":\"#E1E5ED\"},\"yaxis10\":{\"anchor\":\"x10\",\"domain\":[0.2675,0.465],\"gridcolor\":\"#E1E5ED\",\"showgrid\":false,\"tickfont\":{\"color\":\"#4D5663\"},\"title\":{\"font\":{\"color\":\"#4D5663\"},\"text\":\"\"},\"zerolinecolor\":\"#E1E5ED\"},\"xaxis11\":{\"anchor\":\"y11\",\"domain\":[0.525,0.7375],\"gridcolor\":\"#E1E5ED\",\"showgrid\":false,\"tickfont\":{\"color\":\"#4D5663\"},\"title\":{\"font\":{\"color\":\"#4D5663\"},\"text\":\"\"},\"zerolinecolor\":\"#E1E5ED\"},\"yaxis11\":{\"anchor\":\"x11\",\"domain\":[0.2675,0.465],\"gridcolor\":\"#E1E5ED\",\"showgrid\":false,\"tickfont\":{\"color\":\"#4D5663\"},\"title\":{\"font\":{\"color\":\"#4D5663\"},\"text\":\"\"},\"zerolinecolor\":\"#E1E5ED\"},\"xaxis12\":{\"anchor\":\"y12\",\"domain\":[0.7875,1.0],\"gridcolor\":\"#E1E5ED\",\"showgrid\":false,\"tickfont\":{\"color\":\"#4D5663\"},\"title\":{\"font\":{\"color\":\"#4D5663\"},\"text\":\"\"},\"zerolinecolor\":\"#E1E5ED\"},\"yaxis12\":{\"anchor\":\"x12\",\"domain\":[0.2675,0.465],\"gridcolor\":\"#E1E5ED\",\"showgrid\":false,\"tickfont\":{\"color\":\"#4D5663\"},\"title\":{\"font\":{\"color\":\"#4D5663\"},\"text\":\"\"},\"zerolinecolor\":\"#E1E5ED\"},\"xaxis13\":{\"anchor\":\"y13\",\"domain\":[0.0,0.2125],\"gridcolor\":\"#E1E5ED\",\"showgrid\":false,\"tickfont\":{\"color\":\"#4D5663\"},\"title\":{\"font\":{\"color\":\"#4D5663\"},\"text\":\"\"},\"zerolinecolor\":\"#E1E5ED\"},\"yaxis13\":{\"anchor\":\"x13\",\"domain\":[0.0,0.1975],\"gridcolor\":\"#E1E5ED\",\"showgrid\":false,\"tickfont\":{\"color\":\"#4D5663\"},\"title\":{\"font\":{\"color\":\"#4D5663\"},\"text\":\"\"},\"zerolinecolor\":\"#E1E5ED\"},\"xaxis14\":{\"anchor\":\"y14\",\"domain\":[0.2625,0.475],\"gridcolor\":\"#E1E5ED\",\"showgrid\":false,\"tickfont\":{\"color\":\"#4D5663\"},\"title\":{\"font\":{\"color\":\"#4D5663\"},\"text\":\"\"},\"zerolinecolor\":\"#E1E5ED\"},\"yaxis14\":{\"anchor\":\"x14\",\"domain\":[0.0,0.1975],\"gridcolor\":\"#E1E5ED\",\"showgrid\":false,\"tickfont\":{\"color\":\"#4D5663\"},\"title\":{\"font\":{\"color\":\"#4D5663\"},\"text\":\"\"},\"zerolinecolor\":\"#E1E5ED\"},\"xaxis15\":{\"anchor\":\"y15\",\"domain\":[0.525,0.7375],\"gridcolor\":\"#E1E5ED\",\"showgrid\":false,\"tickfont\":{\"color\":\"#4D5663\"},\"title\":{\"font\":{\"color\":\"#4D5663\"},\"text\":\"\"},\"zerolinecolor\":\"#E1E5ED\"},\"yaxis15\":{\"anchor\":\"x15\",\"domain\":[0.0,0.1975],\"gridcolor\":\"#E1E5ED\",\"showgrid\":false,\"tickfont\":{\"color\":\"#4D5663\"},\"title\":{\"font\":{\"color\":\"#4D5663\"},\"text\":\"\"},\"zerolinecolor\":\"#E1E5ED\"},\"xaxis16\":{\"anchor\":\"y16\",\"domain\":[0.7875,1.0],\"gridcolor\":\"#E1E5ED\",\"showgrid\":false,\"tickfont\":{\"color\":\"#4D5663\"},\"title\":{\"font\":{\"color\":\"#4D5663\"},\"text\":\"\"},\"zerolinecolor\":\"#E1E5ED\"},\"yaxis16\":{\"anchor\":\"x16\",\"domain\":[0.0,0.1975],\"gridcolor\":\"#E1E5ED\",\"showgrid\":false,\"tickfont\":{\"color\":\"#4D5663\"},\"title\":{\"font\":{\"color\":\"#4D5663\"},\"text\":\"\"},\"zerolinecolor\":\"#E1E5ED\"}},                        {\"showLink\": true, \"linkText\": \"Export to plot.ly\", \"plotlyServerURL\": \"https://plot.ly\", \"responsive\": true}                    ).then(function(){\n",
       "                            \n",
       "var gd = document.getElementById('4314fdce-ca5f-4ae9-abe6-4fca237c9c72');\n",
       "var x = new MutationObserver(function (mutations, observer) {{\n",
       "        var display = window.getComputedStyle(gd).display;\n",
       "        if (!display || display === 'none') {{\n",
       "            console.log([gd, 'removed!']);\n",
       "            Plotly.purge(gd);\n",
       "            observer.disconnect();\n",
       "        }}\n",
       "}});\n",
       "\n",
       "// Listen for the removal of the full notebook cells\n",
       "var notebookContainer = gd.closest('#notebook-container');\n",
       "if (notebookContainer) {{\n",
       "    x.observe(notebookContainer, {childList: true});\n",
       "}}\n",
       "\n",
       "// Listen for the clearing of the current output cell\n",
       "var outputEl = gd.closest('.output');\n",
       "if (outputEl) {{\n",
       "    x.observe(outputEl, {childList: true});\n",
       "}}\n",
       "\n",
       "                        })                };                });            </script>        </div>"
      ]
     },
     "metadata": {},
     "output_type": "display_data"
    }
   ],
   "source": [
    "df.scatter_matrix()"
   ]
  },
  {
   "cell_type": "markdown",
   "metadata": {
    "collapsed": true
   },
   "source": [
    "# Great Job!"
   ]
  }
 ],
 "metadata": {
  "kernelspec": {
   "display_name": "Python 3.7.13 64-bit",
   "language": "python",
   "name": "python3"
  },
  "language_info": {
   "codemirror_mode": {
    "name": "ipython",
    "version": 3
   },
   "file_extension": ".py",
   "mimetype": "text/x-python",
   "name": "python",
   "nbconvert_exporter": "python",
   "pygments_lexer": "ipython3",
   "version": "3.7.13"
  },
  "vscode": {
   "interpreter": {
    "hash": "a51141ed5c587bf29495f88d021d87d9acfe91f69c1c10e15b501de0c8b8352d"
   }
  }
 },
 "nbformat": 4,
 "nbformat_minor": 0
}
